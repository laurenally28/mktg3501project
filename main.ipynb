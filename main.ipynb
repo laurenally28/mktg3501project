{
 "cells": [
  {
   "cell_type": "markdown",
   "metadata": {},
   "source": [
    "# Group Project\n",
    "## NAMES"
   ]
  },
  {
   "cell_type": "code",
   "execution_count": 1,
   "metadata": {},
   "outputs": [],
   "source": [
    "import polars as pl\n",
    "import plotly.express as px\n",
    "import pandas as pd\n",
    "import numpy as np\n",
    "from sklearn.pipeline import Pipeline\n",
    "from sklearn.preprocessing import StandardScaler\n",
    "from sklearn.cluster import KMeans\n",
    "from sklearn.model_selection import train_test_split\n",
    "from sklearn.preprocessing import LabelEncoder, OneHotEncoder\n",
    "from sklearn.compose import ColumnTransformer\n",
    "from sklearn.pipeline import Pipeline\n",
    "from sklearn.linear_model import LogisticRegression\n",
    "from sklearn.ensemble import RandomForestClassifier\n",
    "from sklearn.discriminant_analysis import LinearDiscriminantAnalysis\n",
    "from sklearn.metrics import confusion_matrix, accuracy_score, ConfusionMatrixDisplay\n",
    "import pyarrow\n",
    "from sklearn.metrics import classification_report\n",
    "import matplotlib.pyplot as plt"
   ]
  },
  {
   "cell_type": "markdown",
   "metadata": {},
   "source": [
    "## Data Prep"
   ]
  },
  {
   "cell_type": "code",
   "execution_count": 2,
   "metadata": {},
   "outputs": [],
   "source": [
    "#reading in restaurant specific data\n",
    "restaurant_accepts = pl.read_csv('chefmozaccepts.csv')\n",
    "restaurant_cuisine = pl.read_csv('chefmozcuisine.csv')\n",
    "restaurant_hours = pl.read_csv('chefmozhours4.csv')\n",
    "restaurant_parking = pl.read_csv('chefmozparking.csv')\n",
    "restaurant_geo = pl.read_csv('geoplaces2.csv')\n",
    "\n",
    "#reading in user specific data\n",
    "user_cuisine = pl.read_csv('usercuisine.csv')\n",
    "user_payment = pl.read_csv('userpayment.csv')\n",
    "user_profile = pl.read_csv('userprofile.csv')\n",
    "\n",
    "#reading in rating data\n",
    "ratings = pl.read_csv('rating_final.csv')"
   ]
  },
  {
   "cell_type": "code",
   "execution_count": 3,
   "metadata": {},
   "outputs": [
    {
     "name": "stdout",
     "output_type": "stream",
     "text": [
      "shape: (901, 26)\n",
      "┌─────────┬───────────┬────────────┬────────────┬───┬──────────┬───────────┬───────────┬───────────┐\n",
      "│ placeID ┆ latitude  ┆ longitude  ┆ the_geom_m ┆ … ┆ Rcuisine ┆ hours     ┆ days      ┆ parking_l │\n",
      "│ ---     ┆ ---       ┆ ---        ┆ eter       ┆   ┆ ---      ┆ ---       ┆ ---       ┆ ot        │\n",
      "│ i64     ┆ f64       ┆ f64        ┆ ---        ┆   ┆ str      ┆ str       ┆ str       ┆ ---       │\n",
      "│         ┆           ┆            ┆ str        ┆   ┆          ┆           ┆           ┆ str       │\n",
      "╞═════════╪═══════════╪════════════╪════════════╪═══╪══════════╪═══════════╪═══════════╪═══════════╡\n",
      "│ 134999  ┆ 18.915421 ┆ -99.184871 ┆ 0101000020 ┆ … ┆ Japanese ┆ 11:00-21: ┆ Mon;Tue;W ┆ none      │\n",
      "│         ┆           ┆            ┆ 957F000088 ┆   ┆          ┆ 00;       ┆ ed;Thu;Fr ┆           │\n",
      "│         ┆           ┆            ┆ 568DE35671 ┆   ┆          ┆           ┆ i;        ┆           │\n",
      "│         ┆           ┆            ┆ …          ┆   ┆          ┆           ┆           ┆           │\n",
      "│ 134999  ┆ 18.915421 ┆ -99.184871 ┆ 0101000020 ┆ … ┆ Japanese ┆ 11:00-21: ┆ Sat;      ┆ none      │\n",
      "│         ┆           ┆            ┆ 957F000088 ┆   ┆          ┆ 00;       ┆           ┆           │\n",
      "│         ┆           ┆            ┆ 568DE35671 ┆   ┆          ┆           ┆           ┆           │\n",
      "│         ┆           ┆            ┆ …          ┆   ┆          ┆           ┆           ┆           │\n",
      "│ 134999  ┆ 18.915421 ┆ -99.184871 ┆ 0101000020 ┆ … ┆ Japanese ┆ 11:00-21: ┆ Sun;      ┆ none      │\n",
      "│         ┆           ┆            ┆ 957F000088 ┆   ┆          ┆ 00;       ┆           ┆           │\n",
      "│         ┆           ┆            ┆ 568DE35671 ┆   ┆          ┆           ┆           ┆           │\n",
      "│         ┆           ┆            ┆ …          ┆   ┆          ┆           ┆           ┆           │\n",
      "│ 132825  ┆ 22.147392 ┆ -100.98309 ┆ 0101000020 ┆ … ┆ Mexican  ┆ 09:00-12: ┆ Mon;Tue;W ┆ none      │\n",
      "│         ┆           ┆ 2          ┆ 957F00001A ┆   ┆          ┆ 00;       ┆ ed;Thu;Fr ┆           │\n",
      "│         ┆           ┆            ┆ D016568C48 ┆   ┆          ┆           ┆ i;        ┆           │\n",
      "│         ┆           ┆            ┆ …          ┆   ┆          ┆           ┆           ┆           │\n",
      "│ 132825  ┆ 22.147392 ┆ -100.98309 ┆ 0101000020 ┆ … ┆ Mexican  ┆ 09:00-12: ┆ Sat;      ┆ none      │\n",
      "│         ┆           ┆ 2          ┆ 957F00001A ┆   ┆          ┆ 00;       ┆           ┆           │\n",
      "│         ┆           ┆            ┆ D016568C48 ┆   ┆          ┆           ┆           ┆           │\n",
      "│         ┆           ┆            ┆ …          ┆   ┆          ┆           ┆           ┆           │\n",
      "│ …       ┆ …         ┆ …          ┆ …          ┆ … ┆ …        ┆ …         ┆ …         ┆ …         │\n",
      "│ 135019  ┆ 18.875011 ┆ -99.159422 ┆ 0101000020 ┆ … ┆ Bar      ┆ 00:00-00: ┆ Sat;      ┆ none      │\n",
      "│         ┆           ┆            ┆ 957F0000B4 ┆   ┆          ┆ 00;       ┆           ┆           │\n",
      "│         ┆           ┆            ┆ 9B2E5C6E78 ┆   ┆          ┆           ┆           ┆           │\n",
      "│         ┆           ┆            ┆ …          ┆   ┆          ┆           ┆           ┆           │\n",
      "│ 135019  ┆ 18.875011 ┆ -99.159422 ┆ 0101000020 ┆ … ┆ Bar      ┆ 00:00-00: ┆ Sun;      ┆ none      │\n",
      "│         ┆           ┆            ┆ 957F0000B4 ┆   ┆          ┆ 00;       ┆           ┆           │\n",
      "│         ┆           ┆            ┆ 9B2E5C6E78 ┆   ┆          ┆           ┆           ┆           │\n",
      "│         ┆           ┆            ┆ …          ┆   ┆          ┆           ┆           ┆           │\n",
      "│ 132877  ┆ 22.135364 ┆ -100.93494 ┆ 0101000020 ┆ … ┆ null     ┆ 00:00-23: ┆ Mon;Tue;W ┆ none      │\n",
      "│         ┆           ┆ 8          ┆ 957F000090 ┆   ┆          ┆ 30;       ┆ ed;Thu;Fr ┆           │\n",
      "│         ┆           ┆            ┆ 735015B84B ┆   ┆          ┆           ┆ i;        ┆           │\n",
      "│         ┆           ┆            ┆ …          ┆   ┆          ┆           ┆           ┆           │\n",
      "│ 132877  ┆ 22.135364 ┆ -100.93494 ┆ 0101000020 ┆ … ┆ null     ┆ 00:00-23: ┆ Sat;      ┆ none      │\n",
      "│         ┆           ┆ 8          ┆ 957F000090 ┆   ┆          ┆ 30;       ┆           ┆           │\n",
      "│         ┆           ┆            ┆ 735015B84B ┆   ┆          ┆           ┆           ┆           │\n",
      "│         ┆           ┆            ┆ …          ┆   ┆          ┆           ┆           ┆           │\n",
      "│ 132877  ┆ 22.135364 ┆ -100.93494 ┆ 0101000020 ┆ … ┆ null     ┆ 00:00-23: ┆ Sun;      ┆ none      │\n",
      "│         ┆           ┆ 8          ┆ 957F000090 ┆   ┆          ┆ 30;       ┆           ┆           │\n",
      "│         ┆           ┆            ┆ 735015B84B ┆   ┆          ┆           ┆           ┆           │\n",
      "│         ┆           ┆            ┆ …          ┆   ┆          ┆           ┆           ┆           │\n",
      "└─────────┴───────────┴────────────┴────────────┴───┴──────────┴───────────┴───────────┴───────────┘\n",
      "shape: (416, 21)\n",
      "┌────────┬───────────┬─────────────┬────────┬───┬────────┬────────┬────────────────┬───────────────┐\n",
      "│ userID ┆ latitude  ┆ longitude   ┆ smoker ┆ … ┆ budget ┆ height ┆ Rcuisine       ┆ Upayment      │\n",
      "│ ---    ┆ ---       ┆ ---         ┆ ---    ┆   ┆ ---    ┆ ---    ┆ ---            ┆ ---           │\n",
      "│ str    ┆ f64       ┆ f64         ┆ str    ┆   ┆ str    ┆ f64    ┆ str            ┆ str           │\n",
      "╞════════╪═══════════╪═════════════╪════════╪═══╪════════╪════════╪════════════════╪═══════════════╡\n",
      "│ U1001  ┆ 22.139997 ┆ -100.978803 ┆ false  ┆ … ┆ medium ┆ 1.77   ┆ American       ┆ cash          │\n",
      "│ U1002  ┆ 22.150087 ┆ -100.983325 ┆ false  ┆ … ┆ low    ┆ 1.87   ┆ Mexican        ┆ cash          │\n",
      "│ U1003  ┆ 22.119847 ┆ -100.946527 ┆ false  ┆ … ┆ low    ┆ 1.69   ┆ Mexican        ┆ cash          │\n",
      "│ U1004  ┆ 18.867    ┆ -99.183     ┆ false  ┆ … ┆ medium ┆ 1.53   ┆ Bakery         ┆ cash          │\n",
      "│ U1004  ┆ 18.867    ┆ -99.183     ┆ false  ┆ … ┆ medium ┆ 1.53   ┆ Bakery         ┆ bank_debit_ca │\n",
      "│        ┆           ┆             ┆        ┆   ┆        ┆        ┆                ┆ rds           │\n",
      "│ …      ┆ …         ┆ …           ┆ …      ┆ … ┆ …      ┆ …      ┆ …              ┆ …             │\n",
      "│ U1135  ┆ 22.170396 ┆ -100.949936 ┆ false  ┆ … ┆ low    ┆ 1.54   ┆ Southern       ┆ cash          │\n",
      "│ U1135  ┆ 22.170396 ┆ -100.949936 ┆ false  ┆ … ┆ low    ┆ 1.54   ┆ Dessert-Ice_Cr ┆ cash          │\n",
      "│        ┆           ┆             ┆        ┆   ┆        ┆        ┆ eam            ┆               │\n",
      "│ U1136  ┆ 22.149607 ┆ -100.997235 ┆ true   ┆ … ┆ low    ┆ 1.6    ┆ Mexican        ┆ cash          │\n",
      "│ U1137  ┆ 22.144803 ┆ -100.944623 ┆ false  ┆ … ┆ low    ┆ 1.78   ┆ Mexican        ┆ cash          │\n",
      "│ U1138  ┆ 22.152884 ┆ -100.939663 ┆ false  ┆ … ┆ medium ┆ 1.55   ┆ Pizzeria       ┆ cash          │\n",
      "└────────┴───────────┴─────────────┴────────┴───┴────────┴────────┴────────────────┴───────────────┘\n"
     ]
    }
   ],
   "source": [
    "#joining all restaurant data frames by 'placeID'\n",
    "restaurant_df = (\n",
    "    restaurant_geo\n",
    "    .join(restaurant_accepts, on=\"placeID\", how=\"left\")\n",
    "    .join(restaurant_cuisine, on=\"placeID\", how=\"left\")\n",
    "    .join(restaurant_hours, on=\"placeID\", how=\"left\")\n",
    "    .join(restaurant_parking, on=\"placeID\", how=\"left\")\n",
    ")\n",
    "print(restaurant_df)\n",
    "\n",
    "#joining all user data frames by 'userID'\n",
    "user_df = (\n",
    "    user_profile\n",
    "    .join(user_cuisine, on=\"userID\", how=\"left\")\n",
    "    .join(user_payment, on=\"userID\", how=\"left\")\n",
    ")\n",
    "print(user_df)"
   ]
  },
  {
   "cell_type": "code",
   "execution_count": 4,
   "metadata": {},
   "outputs": [
    {
     "name": "stdout",
     "output_type": "stream",
     "text": [
      "shape: (901, 26)\n",
      "┌─────────┬───────────┬────────────┬────────────┬───┬──────────┬───────────┬───────────┬───────────┐\n",
      "│ placeID ┆ latitude  ┆ longitude  ┆ the_geom_m ┆ … ┆ Rcuisine ┆ hours     ┆ days      ┆ parking_l │\n",
      "│ ---     ┆ ---       ┆ ---        ┆ eter       ┆   ┆ ---      ┆ ---       ┆ ---       ┆ ot        │\n",
      "│ i64     ┆ f64       ┆ f64        ┆ ---        ┆   ┆ str      ┆ str       ┆ str       ┆ ---       │\n",
      "│         ┆           ┆            ┆ str        ┆   ┆          ┆           ┆           ┆ str       │\n",
      "╞═════════╪═══════════╪════════════╪════════════╪═══╪══════════╪═══════════╪═══════════╪═══════════╡\n",
      "│ 134999  ┆ 18.915421 ┆ -99.184871 ┆ 0101000020 ┆ … ┆ Japanese ┆ 11:00-21: ┆ Mon;Tue;W ┆ none      │\n",
      "│         ┆           ┆            ┆ 957F000088 ┆   ┆          ┆ 00;       ┆ ed;Thu;Fr ┆           │\n",
      "│         ┆           ┆            ┆ 568DE35671 ┆   ┆          ┆           ┆ i;        ┆           │\n",
      "│         ┆           ┆            ┆ …          ┆   ┆          ┆           ┆           ┆           │\n",
      "│ 134999  ┆ 18.915421 ┆ -99.184871 ┆ 0101000020 ┆ … ┆ Japanese ┆ 11:00-21: ┆ Sat;      ┆ none      │\n",
      "│         ┆           ┆            ┆ 957F000088 ┆   ┆          ┆ 00;       ┆           ┆           │\n",
      "│         ┆           ┆            ┆ 568DE35671 ┆   ┆          ┆           ┆           ┆           │\n",
      "│         ┆           ┆            ┆ …          ┆   ┆          ┆           ┆           ┆           │\n",
      "│ 134999  ┆ 18.915421 ┆ -99.184871 ┆ 0101000020 ┆ … ┆ Japanese ┆ 11:00-21: ┆ Sun;      ┆ none      │\n",
      "│         ┆           ┆            ┆ 957F000088 ┆   ┆          ┆ 00;       ┆           ┆           │\n",
      "│         ┆           ┆            ┆ 568DE35671 ┆   ┆          ┆           ┆           ┆           │\n",
      "│         ┆           ┆            ┆ …          ┆   ┆          ┆           ┆           ┆           │\n",
      "│ 132825  ┆ 22.147392 ┆ -100.98309 ┆ 0101000020 ┆ … ┆ Mexican  ┆ 09:00-12: ┆ Mon;Tue;W ┆ none      │\n",
      "│         ┆           ┆ 2          ┆ 957F00001A ┆   ┆          ┆ 00;       ┆ ed;Thu;Fr ┆           │\n",
      "│         ┆           ┆            ┆ D016568C48 ┆   ┆          ┆           ┆ i;        ┆           │\n",
      "│         ┆           ┆            ┆ …          ┆   ┆          ┆           ┆           ┆           │\n",
      "│ 132825  ┆ 22.147392 ┆ -100.98309 ┆ 0101000020 ┆ … ┆ Mexican  ┆ 09:00-12: ┆ Sat;      ┆ none      │\n",
      "│         ┆           ┆ 2          ┆ 957F00001A ┆   ┆          ┆ 00;       ┆           ┆           │\n",
      "│         ┆           ┆            ┆ D016568C48 ┆   ┆          ┆           ┆           ┆           │\n",
      "│         ┆           ┆            ┆ …          ┆   ┆          ┆           ┆           ┆           │\n",
      "│ …       ┆ …         ┆ …          ┆ …          ┆ … ┆ …        ┆ …         ┆ …         ┆ …         │\n",
      "│ 135019  ┆ 18.875011 ┆ -99.159422 ┆ 0101000020 ┆ … ┆ Bar      ┆ 00:00-00: ┆ Sat;      ┆ none      │\n",
      "│         ┆           ┆            ┆ 957F0000B4 ┆   ┆          ┆ 00;       ┆           ┆           │\n",
      "│         ┆           ┆            ┆ 9B2E5C6E78 ┆   ┆          ┆           ┆           ┆           │\n",
      "│         ┆           ┆            ┆ …          ┆   ┆          ┆           ┆           ┆           │\n",
      "│ 135019  ┆ 18.875011 ┆ -99.159422 ┆ 0101000020 ┆ … ┆ Bar      ┆ 00:00-00: ┆ Sun;      ┆ none      │\n",
      "│         ┆           ┆            ┆ 957F0000B4 ┆   ┆          ┆ 00;       ┆           ┆           │\n",
      "│         ┆           ┆            ┆ 9B2E5C6E78 ┆   ┆          ┆           ┆           ┆           │\n",
      "│         ┆           ┆            ┆ …          ┆   ┆          ┆           ┆           ┆           │\n",
      "│ 132877  ┆ 22.135364 ┆ -100.93494 ┆ 0101000020 ┆ … ┆ null     ┆ 00:00-23: ┆ Mon;Tue;W ┆ none      │\n",
      "│         ┆           ┆ 8          ┆ 957F000090 ┆   ┆          ┆ 30;       ┆ ed;Thu;Fr ┆           │\n",
      "│         ┆           ┆            ┆ 735015B84B ┆   ┆          ┆           ┆ i;        ┆           │\n",
      "│         ┆           ┆            ┆ …          ┆   ┆          ┆           ┆           ┆           │\n",
      "│ 132877  ┆ 22.135364 ┆ -100.93494 ┆ 0101000020 ┆ … ┆ null     ┆ 00:00-23: ┆ Sat;      ┆ none      │\n",
      "│         ┆           ┆ 8          ┆ 957F000090 ┆   ┆          ┆ 30;       ┆           ┆           │\n",
      "│         ┆           ┆            ┆ 735015B84B ┆   ┆          ┆           ┆           ┆           │\n",
      "│         ┆           ┆            ┆ …          ┆   ┆          ┆           ┆           ┆           │\n",
      "│ 132877  ┆ 22.135364 ┆ -100.93494 ┆ 0101000020 ┆ … ┆ null     ┆ 00:00-23: ┆ Sun;      ┆ none      │\n",
      "│         ┆           ┆ 8          ┆ 957F000090 ┆   ┆          ┆ 30;       ┆           ┆           │\n",
      "│         ┆           ┆            ┆ 735015B84B ┆   ┆          ┆           ┆           ┆           │\n",
      "│         ┆           ┆            ┆ …          ┆   ┆          ┆           ┆           ┆           │\n",
      "└─────────┴───────────┴────────────┴────────────┴───┴──────────┴───────────┴───────────┴───────────┘\n",
      "['placeID', 'latitude', 'longitude', 'the_geom_meter', 'name', 'address', 'city', 'state', 'country', 'fax', 'zip', 'alcohol', 'smoking_area', 'dress_code', 'accessibility', 'price', 'url', 'Rambience', 'franchise', 'area', 'other_services', 'Rpayment', 'Rcuisine', 'hours', 'days', 'parking_lot']\n"
     ]
    }
   ],
   "source": [
    "\n",
    "print(restaurant_df)\n",
    "print(restaurant_df.columns)"
   ]
  },
  {
   "cell_type": "code",
   "execution_count": 5,
   "metadata": {},
   "outputs": [
    {
     "name": "stdout",
     "output_type": "stream",
     "text": [
      "shape: (416, 21)\n",
      "┌────────┬───────────┬─────────────┬────────┬───┬────────┬────────┬────────────────┬───────────────┐\n",
      "│ userID ┆ latitude  ┆ longitude   ┆ smoker ┆ … ┆ budget ┆ height ┆ Rcuisine       ┆ Upayment      │\n",
      "│ ---    ┆ ---       ┆ ---         ┆ ---    ┆   ┆ ---    ┆ ---    ┆ ---            ┆ ---           │\n",
      "│ str    ┆ f64       ┆ f64         ┆ str    ┆   ┆ str    ┆ f64    ┆ str            ┆ str           │\n",
      "╞════════╪═══════════╪═════════════╪════════╪═══╪════════╪════════╪════════════════╪═══════════════╡\n",
      "│ U1001  ┆ 22.139997 ┆ -100.978803 ┆ false  ┆ … ┆ medium ┆ 1.77   ┆ American       ┆ cash          │\n",
      "│ U1002  ┆ 22.150087 ┆ -100.983325 ┆ false  ┆ … ┆ low    ┆ 1.87   ┆ Mexican        ┆ cash          │\n",
      "│ U1003  ┆ 22.119847 ┆ -100.946527 ┆ false  ┆ … ┆ low    ┆ 1.69   ┆ Mexican        ┆ cash          │\n",
      "│ U1004  ┆ 18.867    ┆ -99.183     ┆ false  ┆ … ┆ medium ┆ 1.53   ┆ Bakery         ┆ cash          │\n",
      "│ U1004  ┆ 18.867    ┆ -99.183     ┆ false  ┆ … ┆ medium ┆ 1.53   ┆ Bakery         ┆ bank_debit_ca │\n",
      "│        ┆           ┆             ┆        ┆   ┆        ┆        ┆                ┆ rds           │\n",
      "│ …      ┆ …         ┆ …           ┆ …      ┆ … ┆ …      ┆ …      ┆ …              ┆ …             │\n",
      "│ U1135  ┆ 22.170396 ┆ -100.949936 ┆ false  ┆ … ┆ low    ┆ 1.54   ┆ Southern       ┆ cash          │\n",
      "│ U1135  ┆ 22.170396 ┆ -100.949936 ┆ false  ┆ … ┆ low    ┆ 1.54   ┆ Dessert-Ice_Cr ┆ cash          │\n",
      "│        ┆           ┆             ┆        ┆   ┆        ┆        ┆ eam            ┆               │\n",
      "│ U1136  ┆ 22.149607 ┆ -100.997235 ┆ true   ┆ … ┆ low    ┆ 1.6    ┆ Mexican        ┆ cash          │\n",
      "│ U1137  ┆ 22.144803 ┆ -100.944623 ┆ false  ┆ … ┆ low    ┆ 1.78   ┆ Mexican        ┆ cash          │\n",
      "│ U1138  ┆ 22.152884 ┆ -100.939663 ┆ false  ┆ … ┆ medium ┆ 1.55   ┆ Pizzeria       ┆ cash          │\n",
      "└────────┴───────────┴─────────────┴────────┴───┴────────┴────────┴────────────────┴───────────────┘\n",
      "['userID', 'latitude', 'longitude', 'smoker', 'drink_level', 'dress_preference', 'ambience', 'transport', 'marital_status', 'hijos', 'birth_year', 'interest', 'personality', 'religion', 'activity', 'color', 'weight', 'budget', 'height', 'Rcuisine', 'Upayment']\n"
     ]
    }
   ],
   "source": [
    "print(user_df)\n",
    "print(user_df.columns)"
   ]
  },
  {
   "cell_type": "code",
   "execution_count": 6,
   "metadata": {},
   "outputs": [
    {
     "data": {
      "text/html": [
       "<div><style>\n",
       ".dataframe > thead > tr,\n",
       ".dataframe > tbody > tr {\n",
       "  text-align: right;\n",
       "  white-space: pre-wrap;\n",
       "}\n",
       "</style>\n",
       "<small>shape: (5, 21)</small><table border=\"1\" class=\"dataframe\"><thead><tr><th>userID</th><th>latitude</th><th>longitude</th><th>smoker</th><th>drink_level</th><th>dress_preference</th><th>ambience</th><th>transport</th><th>marital_status</th><th>hijos</th><th>birth_year</th><th>interest</th><th>personality</th><th>religion</th><th>activity</th><th>color</th><th>weight</th><th>budget</th><th>height</th><th>Rcuisine</th><th>Upayment</th></tr><tr><td>str</td><td>f64</td><td>f64</td><td>str</td><td>str</td><td>str</td><td>str</td><td>str</td><td>str</td><td>str</td><td>i64</td><td>str</td><td>str</td><td>str</td><td>str</td><td>str</td><td>i64</td><td>str</td><td>f64</td><td>str</td><td>str</td></tr></thead><tbody><tr><td>&quot;U1001&quot;</td><td>22.139997</td><td>-100.978803</td><td>&quot;false&quot;</td><td>&quot;abstemious&quot;</td><td>&quot;informal&quot;</td><td>&quot;family&quot;</td><td>&quot;on foot&quot;</td><td>&quot;single&quot;</td><td>&quot;independent&quot;</td><td>1989</td><td>&quot;variety&quot;</td><td>&quot;thrifty-protector&quot;</td><td>&quot;none&quot;</td><td>&quot;student&quot;</td><td>&quot;black&quot;</td><td>69</td><td>&quot;medium&quot;</td><td>1.77</td><td>&quot;American&quot;</td><td>&quot;cash&quot;</td></tr><tr><td>&quot;U1002&quot;</td><td>22.150087</td><td>-100.983325</td><td>&quot;false&quot;</td><td>&quot;abstemious&quot;</td><td>&quot;informal&quot;</td><td>&quot;family&quot;</td><td>&quot;public&quot;</td><td>&quot;single&quot;</td><td>&quot;independent&quot;</td><td>1990</td><td>&quot;technology&quot;</td><td>&quot;hunter-ostentatious&quot;</td><td>&quot;Catholic&quot;</td><td>&quot;student&quot;</td><td>&quot;red&quot;</td><td>40</td><td>&quot;low&quot;</td><td>1.87</td><td>&quot;Mexican&quot;</td><td>&quot;cash&quot;</td></tr><tr><td>&quot;U1003&quot;</td><td>22.119847</td><td>-100.946527</td><td>&quot;false&quot;</td><td>&quot;social drinker&quot;</td><td>&quot;formal&quot;</td><td>&quot;family&quot;</td><td>&quot;public&quot;</td><td>&quot;single&quot;</td><td>&quot;independent&quot;</td><td>1989</td><td>&quot;none&quot;</td><td>&quot;hard-worker&quot;</td><td>&quot;Catholic&quot;</td><td>&quot;student&quot;</td><td>&quot;blue&quot;</td><td>60</td><td>&quot;low&quot;</td><td>1.69</td><td>&quot;Mexican&quot;</td><td>&quot;cash&quot;</td></tr><tr><td>&quot;U1004&quot;</td><td>18.867</td><td>-99.183</td><td>&quot;false&quot;</td><td>&quot;abstemious&quot;</td><td>&quot;informal&quot;</td><td>&quot;family&quot;</td><td>&quot;public&quot;</td><td>&quot;single&quot;</td><td>&quot;independent&quot;</td><td>1940</td><td>&quot;variety&quot;</td><td>&quot;hard-worker&quot;</td><td>&quot;none&quot;</td><td>&quot;professional&quot;</td><td>&quot;green&quot;</td><td>44</td><td>&quot;medium&quot;</td><td>1.53</td><td>&quot;Bakery&quot;</td><td>&quot;cash&quot;</td></tr><tr><td>&quot;U1004&quot;</td><td>18.867</td><td>-99.183</td><td>&quot;false&quot;</td><td>&quot;abstemious&quot;</td><td>&quot;informal&quot;</td><td>&quot;family&quot;</td><td>&quot;public&quot;</td><td>&quot;single&quot;</td><td>&quot;independent&quot;</td><td>1940</td><td>&quot;variety&quot;</td><td>&quot;hard-worker&quot;</td><td>&quot;none&quot;</td><td>&quot;professional&quot;</td><td>&quot;green&quot;</td><td>44</td><td>&quot;medium&quot;</td><td>1.53</td><td>&quot;Bakery&quot;</td><td>&quot;bank_debit_cards&quot;</td></tr></tbody></table></div>"
      ],
      "text/plain": [
       "shape: (5, 21)\n",
       "┌────────┬───────────┬─────────────┬────────┬───┬────────┬────────┬──────────┬──────────────────┐\n",
       "│ userID ┆ latitude  ┆ longitude   ┆ smoker ┆ … ┆ budget ┆ height ┆ Rcuisine ┆ Upayment         │\n",
       "│ ---    ┆ ---       ┆ ---         ┆ ---    ┆   ┆ ---    ┆ ---    ┆ ---      ┆ ---              │\n",
       "│ str    ┆ f64       ┆ f64         ┆ str    ┆   ┆ str    ┆ f64    ┆ str      ┆ str              │\n",
       "╞════════╪═══════════╪═════════════╪════════╪═══╪════════╪════════╪══════════╪══════════════════╡\n",
       "│ U1001  ┆ 22.139997 ┆ -100.978803 ┆ false  ┆ … ┆ medium ┆ 1.77   ┆ American ┆ cash             │\n",
       "│ U1002  ┆ 22.150087 ┆ -100.983325 ┆ false  ┆ … ┆ low    ┆ 1.87   ┆ Mexican  ┆ cash             │\n",
       "│ U1003  ┆ 22.119847 ┆ -100.946527 ┆ false  ┆ … ┆ low    ┆ 1.69   ┆ Mexican  ┆ cash             │\n",
       "│ U1004  ┆ 18.867    ┆ -99.183     ┆ false  ┆ … ┆ medium ┆ 1.53   ┆ Bakery   ┆ cash             │\n",
       "│ U1004  ┆ 18.867    ┆ -99.183     ┆ false  ┆ … ┆ medium ┆ 1.53   ┆ Bakery   ┆ bank_debit_cards │\n",
       "└────────┴───────────┴─────────────┴────────┴───┴────────┴────────┴──────────┴──────────────────┘"
      ]
     },
     "execution_count": 6,
     "metadata": {},
     "output_type": "execute_result"
    }
   ],
   "source": [
    "user_df.head()"
   ]
  },
  {
   "cell_type": "code",
   "execution_count": 7,
   "metadata": {},
   "outputs": [
    {
     "data": {
      "text/html": [
       "<div><style>\n",
       ".dataframe > thead > tr,\n",
       ".dataframe > tbody > tr {\n",
       "  text-align: right;\n",
       "  white-space: pre-wrap;\n",
       "}\n",
       "</style>\n",
       "<small>shape: (5, 26)</small><table border=\"1\" class=\"dataframe\"><thead><tr><th>placeID</th><th>latitude</th><th>longitude</th><th>the_geom_meter</th><th>name</th><th>address</th><th>city</th><th>state</th><th>country</th><th>fax</th><th>zip</th><th>alcohol</th><th>smoking_area</th><th>dress_code</th><th>accessibility</th><th>price</th><th>url</th><th>Rambience</th><th>franchise</th><th>area</th><th>other_services</th><th>Rpayment</th><th>Rcuisine</th><th>hours</th><th>days</th><th>parking_lot</th></tr><tr><td>i64</td><td>f64</td><td>f64</td><td>str</td><td>str</td><td>str</td><td>str</td><td>str</td><td>str</td><td>str</td><td>str</td><td>str</td><td>str</td><td>str</td><td>str</td><td>str</td><td>str</td><td>str</td><td>str</td><td>str</td><td>str</td><td>str</td><td>str</td><td>str</td><td>str</td><td>str</td></tr></thead><tbody><tr><td>134999</td><td>18.915421</td><td>-99.184871</td><td>&quot;0101000020957F000088568DE35671…</td><td>&quot;Kiku Cuernavaca&quot;</td><td>&quot;Revolucion&quot;</td><td>&quot;Cuernavaca&quot;</td><td>&quot;Morelos&quot;</td><td>&quot;Mexico&quot;</td><td>&quot;?&quot;</td><td>&quot;?&quot;</td><td>&quot;No_Alcohol_Served&quot;</td><td>&quot;none&quot;</td><td>&quot;informal&quot;</td><td>&quot;no_accessibility&quot;</td><td>&quot;medium&quot;</td><td>&quot;kikucuernavaca.com.mx&quot;</td><td>&quot;familiar&quot;</td><td>&quot;f&quot;</td><td>&quot;closed&quot;</td><td>&quot;none&quot;</td><td>null</td><td>&quot;Japanese&quot;</td><td>&quot;11:00-21:00;&quot;</td><td>&quot;Mon;Tue;Wed;Thu;Fri;&quot;</td><td>&quot;none&quot;</td></tr><tr><td>134999</td><td>18.915421</td><td>-99.184871</td><td>&quot;0101000020957F000088568DE35671…</td><td>&quot;Kiku Cuernavaca&quot;</td><td>&quot;Revolucion&quot;</td><td>&quot;Cuernavaca&quot;</td><td>&quot;Morelos&quot;</td><td>&quot;Mexico&quot;</td><td>&quot;?&quot;</td><td>&quot;?&quot;</td><td>&quot;No_Alcohol_Served&quot;</td><td>&quot;none&quot;</td><td>&quot;informal&quot;</td><td>&quot;no_accessibility&quot;</td><td>&quot;medium&quot;</td><td>&quot;kikucuernavaca.com.mx&quot;</td><td>&quot;familiar&quot;</td><td>&quot;f&quot;</td><td>&quot;closed&quot;</td><td>&quot;none&quot;</td><td>null</td><td>&quot;Japanese&quot;</td><td>&quot;11:00-21:00;&quot;</td><td>&quot;Sat;&quot;</td><td>&quot;none&quot;</td></tr><tr><td>134999</td><td>18.915421</td><td>-99.184871</td><td>&quot;0101000020957F000088568DE35671…</td><td>&quot;Kiku Cuernavaca&quot;</td><td>&quot;Revolucion&quot;</td><td>&quot;Cuernavaca&quot;</td><td>&quot;Morelos&quot;</td><td>&quot;Mexico&quot;</td><td>&quot;?&quot;</td><td>&quot;?&quot;</td><td>&quot;No_Alcohol_Served&quot;</td><td>&quot;none&quot;</td><td>&quot;informal&quot;</td><td>&quot;no_accessibility&quot;</td><td>&quot;medium&quot;</td><td>&quot;kikucuernavaca.com.mx&quot;</td><td>&quot;familiar&quot;</td><td>&quot;f&quot;</td><td>&quot;closed&quot;</td><td>&quot;none&quot;</td><td>null</td><td>&quot;Japanese&quot;</td><td>&quot;11:00-21:00;&quot;</td><td>&quot;Sun;&quot;</td><td>&quot;none&quot;</td></tr><tr><td>132825</td><td>22.147392</td><td>-100.983092</td><td>&quot;0101000020957F00001AD016568C48…</td><td>&quot;puesto de tacos&quot;</td><td>&quot;esquina santos degollado y leo…</td><td>&quot;s.l.p.&quot;</td><td>&quot;s.l.p.&quot;</td><td>&quot;mexico&quot;</td><td>&quot;?&quot;</td><td>&quot;78280&quot;</td><td>&quot;No_Alcohol_Served&quot;</td><td>&quot;none&quot;</td><td>&quot;informal&quot;</td><td>&quot;completely&quot;</td><td>&quot;low&quot;</td><td>&quot;?&quot;</td><td>&quot;familiar&quot;</td><td>&quot;f&quot;</td><td>&quot;open&quot;</td><td>&quot;none&quot;</td><td>&quot;cash&quot;</td><td>&quot;Mexican&quot;</td><td>&quot;09:00-12:00;&quot;</td><td>&quot;Mon;Tue;Wed;Thu;Fri;&quot;</td><td>&quot;none&quot;</td></tr><tr><td>132825</td><td>22.147392</td><td>-100.983092</td><td>&quot;0101000020957F00001AD016568C48…</td><td>&quot;puesto de tacos&quot;</td><td>&quot;esquina santos degollado y leo…</td><td>&quot;s.l.p.&quot;</td><td>&quot;s.l.p.&quot;</td><td>&quot;mexico&quot;</td><td>&quot;?&quot;</td><td>&quot;78280&quot;</td><td>&quot;No_Alcohol_Served&quot;</td><td>&quot;none&quot;</td><td>&quot;informal&quot;</td><td>&quot;completely&quot;</td><td>&quot;low&quot;</td><td>&quot;?&quot;</td><td>&quot;familiar&quot;</td><td>&quot;f&quot;</td><td>&quot;open&quot;</td><td>&quot;none&quot;</td><td>&quot;cash&quot;</td><td>&quot;Mexican&quot;</td><td>&quot;09:00-12:00;&quot;</td><td>&quot;Sat;&quot;</td><td>&quot;none&quot;</td></tr></tbody></table></div>"
      ],
      "text/plain": [
       "shape: (5, 26)\n",
       "┌─────────┬───────────┬────────────┬────────────┬───┬──────────┬───────────┬───────────┬───────────┐\n",
       "│ placeID ┆ latitude  ┆ longitude  ┆ the_geom_m ┆ … ┆ Rcuisine ┆ hours     ┆ days      ┆ parking_l │\n",
       "│ ---     ┆ ---       ┆ ---        ┆ eter       ┆   ┆ ---      ┆ ---       ┆ ---       ┆ ot        │\n",
       "│ i64     ┆ f64       ┆ f64        ┆ ---        ┆   ┆ str      ┆ str       ┆ str       ┆ ---       │\n",
       "│         ┆           ┆            ┆ str        ┆   ┆          ┆           ┆           ┆ str       │\n",
       "╞═════════╪═══════════╪════════════╪════════════╪═══╪══════════╪═══════════╪═══════════╪═══════════╡\n",
       "│ 134999  ┆ 18.915421 ┆ -99.184871 ┆ 0101000020 ┆ … ┆ Japanese ┆ 11:00-21: ┆ Mon;Tue;W ┆ none      │\n",
       "│         ┆           ┆            ┆ 957F000088 ┆   ┆          ┆ 00;       ┆ ed;Thu;Fr ┆           │\n",
       "│         ┆           ┆            ┆ 568DE35671 ┆   ┆          ┆           ┆ i;        ┆           │\n",
       "│         ┆           ┆            ┆ …          ┆   ┆          ┆           ┆           ┆           │\n",
       "│ 134999  ┆ 18.915421 ┆ -99.184871 ┆ 0101000020 ┆ … ┆ Japanese ┆ 11:00-21: ┆ Sat;      ┆ none      │\n",
       "│         ┆           ┆            ┆ 957F000088 ┆   ┆          ┆ 00;       ┆           ┆           │\n",
       "│         ┆           ┆            ┆ 568DE35671 ┆   ┆          ┆           ┆           ┆           │\n",
       "│         ┆           ┆            ┆ …          ┆   ┆          ┆           ┆           ┆           │\n",
       "│ 134999  ┆ 18.915421 ┆ -99.184871 ┆ 0101000020 ┆ … ┆ Japanese ┆ 11:00-21: ┆ Sun;      ┆ none      │\n",
       "│         ┆           ┆            ┆ 957F000088 ┆   ┆          ┆ 00;       ┆           ┆           │\n",
       "│         ┆           ┆            ┆ 568DE35671 ┆   ┆          ┆           ┆           ┆           │\n",
       "│         ┆           ┆            ┆ …          ┆   ┆          ┆           ┆           ┆           │\n",
       "│ 132825  ┆ 22.147392 ┆ -100.98309 ┆ 0101000020 ┆ … ┆ Mexican  ┆ 09:00-12: ┆ Mon;Tue;W ┆ none      │\n",
       "│         ┆           ┆ 2          ┆ 957F00001A ┆   ┆          ┆ 00;       ┆ ed;Thu;Fr ┆           │\n",
       "│         ┆           ┆            ┆ D016568C48 ┆   ┆          ┆           ┆ i;        ┆           │\n",
       "│         ┆           ┆            ┆ …          ┆   ┆          ┆           ┆           ┆           │\n",
       "│ 132825  ┆ 22.147392 ┆ -100.98309 ┆ 0101000020 ┆ … ┆ Mexican  ┆ 09:00-12: ┆ Sat;      ┆ none      │\n",
       "│         ┆           ┆ 2          ┆ 957F00001A ┆   ┆          ┆ 00;       ┆           ┆           │\n",
       "│         ┆           ┆            ┆ D016568C48 ┆   ┆          ┆           ┆           ┆           │\n",
       "│         ┆           ┆            ┆ …          ┆   ┆          ┆           ┆           ┆           │\n",
       "└─────────┴───────────┴────────────┴────────────┴───┴──────────┴───────────┴───────────┴───────────┘"
      ]
     },
     "execution_count": 7,
     "metadata": {},
     "output_type": "execute_result"
    }
   ],
   "source": [
    "restaurant_df.head()"
   ]
  },
  {
   "cell_type": "markdown",
   "metadata": {},
   "source": [
    "## User Data Clustering"
   ]
  },
  {
   "cell_type": "code",
   "execution_count": 8,
   "metadata": {},
   "outputs": [
    {
     "name": "stdout",
     "output_type": "stream",
     "text": [
      "416\n"
     ]
    },
    {
     "data": {
      "text/html": [
       "<div><style>\n",
       ".dataframe > thead > tr,\n",
       ".dataframe > tbody > tr {\n",
       "  text-align: right;\n",
       "  white-space: pre-wrap;\n",
       "}\n",
       "</style>\n",
       "<small>shape: (1, 21)</small><table border=\"1\" class=\"dataframe\"><thead><tr><th>userID</th><th>latitude</th><th>longitude</th><th>smoker</th><th>drink_level</th><th>dress_preference</th><th>ambience</th><th>transport</th><th>marital_status</th><th>hijos</th><th>birth_year</th><th>interest</th><th>personality</th><th>religion</th><th>activity</th><th>color</th><th>weight</th><th>budget</th><th>height</th><th>Rcuisine</th><th>Upayment</th></tr><tr><td>u32</td><td>u32</td><td>u32</td><td>u32</td><td>u32</td><td>u32</td><td>u32</td><td>u32</td><td>u32</td><td>u32</td><td>u32</td><td>u32</td><td>u32</td><td>u32</td><td>u32</td><td>u32</td><td>u32</td><td>u32</td><td>u32</td><td>u32</td><td>u32</td></tr></thead><tbody><tr><td>0</td><td>0</td><td>0</td><td>3</td><td>0</td><td>6</td><td>6</td><td>8</td><td>4</td><td>13</td><td>0</td><td>38</td><td>0</td><td>53</td><td>8</td><td>0</td><td>0</td><td>7</td><td>0</td><td>0</td><td>5</td></tr></tbody></table></div>"
      ],
      "text/plain": [
       "shape: (1, 21)\n",
       "┌────────┬──────────┬───────────┬────────┬───┬────────┬────────┬──────────┬──────────┐\n",
       "│ userID ┆ latitude ┆ longitude ┆ smoker ┆ … ┆ budget ┆ height ┆ Rcuisine ┆ Upayment │\n",
       "│ ---    ┆ ---      ┆ ---       ┆ ---    ┆   ┆ ---    ┆ ---    ┆ ---      ┆ ---      │\n",
       "│ u32    ┆ u32      ┆ u32       ┆ u32    ┆   ┆ u32    ┆ u32    ┆ u32      ┆ u32      │\n",
       "╞════════╪══════════╪═══════════╪════════╪═══╪════════╪════════╪══════════╪══════════╡\n",
       "│ 0      ┆ 0        ┆ 0         ┆ 3      ┆ … ┆ 7      ┆ 0      ┆ 0        ┆ 5        │\n",
       "└────────┴──────────┴───────────┴────────┴───┴────────┴────────┴──────────┴──────────┘"
      ]
     },
     "execution_count": 8,
     "metadata": {},
     "output_type": "execute_result"
    }
   ],
   "source": [
    "user_df = user_df.with_columns([\n",
    "    pl.when(pl.col(col).cast(str).str.to_lowercase().is_in([\"?\", \"none\"]))\n",
    "    .then(None)\n",
    "    .otherwise(pl.col(col))\n",
    "    .alias(col)\n",
    "    for col in user_df.columns\n",
    "])\n",
    "print(len(user_df))\n",
    "user_df.null_count()"
   ]
  },
  {
   "cell_type": "code",
   "execution_count": 9,
   "metadata": {},
   "outputs": [
    {
     "data": {
      "text/html": [
       "<div><style>\n",
       ".dataframe > thead > tr,\n",
       ".dataframe > tbody > tr {\n",
       "  text-align: right;\n",
       "  white-space: pre-wrap;\n",
       "}\n",
       "</style>\n",
       "<small>shape: (5, 25)</small><table border=\"1\" class=\"dataframe\"><thead><tr><th>userID</th><th>placeID</th><th>rating</th><th>food_rating</th><th>service_rating</th><th>latitude</th><th>longitude</th><th>smoker</th><th>drink_level</th><th>dress_preference</th><th>ambience</th><th>transport</th><th>marital_status</th><th>hijos</th><th>birth_year</th><th>interest</th><th>personality</th><th>religion</th><th>activity</th><th>color</th><th>weight</th><th>budget</th><th>height</th><th>Rcuisine</th><th>Upayment</th></tr><tr><td>str</td><td>i64</td><td>i64</td><td>i64</td><td>i64</td><td>f64</td><td>f64</td><td>str</td><td>str</td><td>str</td><td>str</td><td>str</td><td>str</td><td>str</td><td>i64</td><td>str</td><td>str</td><td>str</td><td>str</td><td>str</td><td>i64</td><td>str</td><td>f64</td><td>str</td><td>str</td></tr></thead><tbody><tr><td>&quot;U1077&quot;</td><td>135085</td><td>2</td><td>2</td><td>2</td><td>22.156469</td><td>-100.98554</td><td>&quot;false&quot;</td><td>&quot;social drinker&quot;</td><td>&quot;elegant&quot;</td><td>&quot;family&quot;</td><td>&quot;public&quot;</td><td>&quot;married&quot;</td><td>&quot;kids&quot;</td><td>1987</td><td>&quot;technology&quot;</td><td>&quot;thrifty-protector&quot;</td><td>&quot;Catholic&quot;</td><td>&quot;student&quot;</td><td>&quot;blue&quot;</td><td>65</td><td>&quot;medium&quot;</td><td>1.71</td><td>&quot;Mexican&quot;</td><td>&quot;VISA&quot;</td></tr><tr><td>&quot;U1077&quot;</td><td>135085</td><td>2</td><td>2</td><td>2</td><td>22.156469</td><td>-100.98554</td><td>&quot;false&quot;</td><td>&quot;social drinker&quot;</td><td>&quot;elegant&quot;</td><td>&quot;family&quot;</td><td>&quot;public&quot;</td><td>&quot;married&quot;</td><td>&quot;kids&quot;</td><td>1987</td><td>&quot;technology&quot;</td><td>&quot;thrifty-protector&quot;</td><td>&quot;Catholic&quot;</td><td>&quot;student&quot;</td><td>&quot;blue&quot;</td><td>65</td><td>&quot;medium&quot;</td><td>1.71</td><td>&quot;Mexican&quot;</td><td>&quot;cash&quot;</td></tr><tr><td>&quot;U1077&quot;</td><td>135085</td><td>2</td><td>2</td><td>2</td><td>22.156469</td><td>-100.98554</td><td>&quot;false&quot;</td><td>&quot;social drinker&quot;</td><td>&quot;elegant&quot;</td><td>&quot;family&quot;</td><td>&quot;public&quot;</td><td>&quot;married&quot;</td><td>&quot;kids&quot;</td><td>1987</td><td>&quot;technology&quot;</td><td>&quot;thrifty-protector&quot;</td><td>&quot;Catholic&quot;</td><td>&quot;student&quot;</td><td>&quot;blue&quot;</td><td>65</td><td>&quot;medium&quot;</td><td>1.71</td><td>&quot;Mexican&quot;</td><td>&quot;bank_debit_cards&quot;</td></tr><tr><td>&quot;U1077&quot;</td><td>135038</td><td>2</td><td>2</td><td>1</td><td>22.156469</td><td>-100.98554</td><td>&quot;false&quot;</td><td>&quot;social drinker&quot;</td><td>&quot;elegant&quot;</td><td>&quot;family&quot;</td><td>&quot;public&quot;</td><td>&quot;married&quot;</td><td>&quot;kids&quot;</td><td>1987</td><td>&quot;technology&quot;</td><td>&quot;thrifty-protector&quot;</td><td>&quot;Catholic&quot;</td><td>&quot;student&quot;</td><td>&quot;blue&quot;</td><td>65</td><td>&quot;medium&quot;</td><td>1.71</td><td>&quot;Mexican&quot;</td><td>&quot;VISA&quot;</td></tr><tr><td>&quot;U1077&quot;</td><td>135038</td><td>2</td><td>2</td><td>1</td><td>22.156469</td><td>-100.98554</td><td>&quot;false&quot;</td><td>&quot;social drinker&quot;</td><td>&quot;elegant&quot;</td><td>&quot;family&quot;</td><td>&quot;public&quot;</td><td>&quot;married&quot;</td><td>&quot;kids&quot;</td><td>1987</td><td>&quot;technology&quot;</td><td>&quot;thrifty-protector&quot;</td><td>&quot;Catholic&quot;</td><td>&quot;student&quot;</td><td>&quot;blue&quot;</td><td>65</td><td>&quot;medium&quot;</td><td>1.71</td><td>&quot;Mexican&quot;</td><td>&quot;cash&quot;</td></tr></tbody></table></div>"
      ],
      "text/plain": [
       "shape: (5, 25)\n",
       "┌────────┬─────────┬────────┬─────────────┬───┬────────┬────────┬──────────┬──────────────────┐\n",
       "│ userID ┆ placeID ┆ rating ┆ food_rating ┆ … ┆ budget ┆ height ┆ Rcuisine ┆ Upayment         │\n",
       "│ ---    ┆ ---     ┆ ---    ┆ ---         ┆   ┆ ---    ┆ ---    ┆ ---      ┆ ---              │\n",
       "│ str    ┆ i64     ┆ i64    ┆ i64         ┆   ┆ str    ┆ f64    ┆ str      ┆ str              │\n",
       "╞════════╪═════════╪════════╪═════════════╪═══╪════════╪════════╪══════════╪══════════════════╡\n",
       "│ U1077  ┆ 135085  ┆ 2      ┆ 2           ┆ … ┆ medium ┆ 1.71   ┆ Mexican  ┆ VISA             │\n",
       "│ U1077  ┆ 135085  ┆ 2      ┆ 2           ┆ … ┆ medium ┆ 1.71   ┆ Mexican  ┆ cash             │\n",
       "│ U1077  ┆ 135085  ┆ 2      ┆ 2           ┆ … ┆ medium ┆ 1.71   ┆ Mexican  ┆ bank_debit_cards │\n",
       "│ U1077  ┆ 135038  ┆ 2      ┆ 2           ┆ … ┆ medium ┆ 1.71   ┆ Mexican  ┆ VISA             │\n",
       "│ U1077  ┆ 135038  ┆ 2      ┆ 2           ┆ … ┆ medium ┆ 1.71   ┆ Mexican  ┆ cash             │\n",
       "└────────┴─────────┴────────┴─────────────┴───┴────────┴────────┴──────────┴──────────────────┘"
      ]
     },
     "execution_count": 9,
     "metadata": {},
     "output_type": "execute_result"
    }
   ],
   "source": [
    "joined_user_df = ratings.join(user_df, on=\"userID\", how=\"inner\")\n",
    "joined_user_df.head()"
   ]
  },
  {
   "cell_type": "code",
   "execution_count": 10,
   "metadata": {},
   "outputs": [
    {
     "data": {
      "text/html": [
       "<div><style>\n",
       ".dataframe > thead > tr,\n",
       ".dataframe > tbody > tr {\n",
       "  text-align: right;\n",
       "  white-space: pre-wrap;\n",
       "}\n",
       "</style>\n",
       "<small>shape: (5, 19)</small><table border=\"1\" class=\"dataframe\"><thead><tr><th>userID</th><th>placeID</th><th>rating</th><th>food_rating</th><th>service_rating</th><th>smoker</th><th>drink_level</th><th>dress_preference</th><th>ambience</th><th>transport</th><th>marital_status</th><th>hijos</th><th>birth_year</th><th>interest</th><th>personality</th><th>activity</th><th>weight</th><th>budget</th><th>height</th></tr><tr><td>str</td><td>i64</td><td>i64</td><td>i64</td><td>i64</td><td>str</td><td>str</td><td>str</td><td>str</td><td>str</td><td>str</td><td>str</td><td>i64</td><td>str</td><td>str</td><td>str</td><td>i64</td><td>str</td><td>f64</td></tr></thead><tbody><tr><td>&quot;U1077&quot;</td><td>135085</td><td>2</td><td>2</td><td>2</td><td>&quot;false&quot;</td><td>&quot;social drinker&quot;</td><td>&quot;elegant&quot;</td><td>&quot;family&quot;</td><td>&quot;public&quot;</td><td>&quot;married&quot;</td><td>&quot;kids&quot;</td><td>1987</td><td>&quot;technology&quot;</td><td>&quot;thrifty-protector&quot;</td><td>&quot;student&quot;</td><td>65</td><td>&quot;medium&quot;</td><td>1.71</td></tr><tr><td>&quot;U1077&quot;</td><td>135085</td><td>2</td><td>2</td><td>2</td><td>&quot;false&quot;</td><td>&quot;social drinker&quot;</td><td>&quot;elegant&quot;</td><td>&quot;family&quot;</td><td>&quot;public&quot;</td><td>&quot;married&quot;</td><td>&quot;kids&quot;</td><td>1987</td><td>&quot;technology&quot;</td><td>&quot;thrifty-protector&quot;</td><td>&quot;student&quot;</td><td>65</td><td>&quot;medium&quot;</td><td>1.71</td></tr><tr><td>&quot;U1077&quot;</td><td>135085</td><td>2</td><td>2</td><td>2</td><td>&quot;false&quot;</td><td>&quot;social drinker&quot;</td><td>&quot;elegant&quot;</td><td>&quot;family&quot;</td><td>&quot;public&quot;</td><td>&quot;married&quot;</td><td>&quot;kids&quot;</td><td>1987</td><td>&quot;technology&quot;</td><td>&quot;thrifty-protector&quot;</td><td>&quot;student&quot;</td><td>65</td><td>&quot;medium&quot;</td><td>1.71</td></tr><tr><td>&quot;U1077&quot;</td><td>135038</td><td>2</td><td>2</td><td>1</td><td>&quot;false&quot;</td><td>&quot;social drinker&quot;</td><td>&quot;elegant&quot;</td><td>&quot;family&quot;</td><td>&quot;public&quot;</td><td>&quot;married&quot;</td><td>&quot;kids&quot;</td><td>1987</td><td>&quot;technology&quot;</td><td>&quot;thrifty-protector&quot;</td><td>&quot;student&quot;</td><td>65</td><td>&quot;medium&quot;</td><td>1.71</td></tr><tr><td>&quot;U1077&quot;</td><td>135038</td><td>2</td><td>2</td><td>1</td><td>&quot;false&quot;</td><td>&quot;social drinker&quot;</td><td>&quot;elegant&quot;</td><td>&quot;family&quot;</td><td>&quot;public&quot;</td><td>&quot;married&quot;</td><td>&quot;kids&quot;</td><td>1987</td><td>&quot;technology&quot;</td><td>&quot;thrifty-protector&quot;</td><td>&quot;student&quot;</td><td>65</td><td>&quot;medium&quot;</td><td>1.71</td></tr></tbody></table></div>"
      ],
      "text/plain": [
       "shape: (5, 19)\n",
       "┌────────┬─────────┬────────┬─────────────┬───┬──────────┬────────┬────────┬────────┐\n",
       "│ userID ┆ placeID ┆ rating ┆ food_rating ┆ … ┆ activity ┆ weight ┆ budget ┆ height │\n",
       "│ ---    ┆ ---     ┆ ---    ┆ ---         ┆   ┆ ---      ┆ ---    ┆ ---    ┆ ---    │\n",
       "│ str    ┆ i64     ┆ i64    ┆ i64         ┆   ┆ str      ┆ i64    ┆ str    ┆ f64    │\n",
       "╞════════╪═════════╪════════╪═════════════╪═══╪══════════╪════════╪════════╪════════╡\n",
       "│ U1077  ┆ 135085  ┆ 2      ┆ 2           ┆ … ┆ student  ┆ 65     ┆ medium ┆ 1.71   │\n",
       "│ U1077  ┆ 135085  ┆ 2      ┆ 2           ┆ … ┆ student  ┆ 65     ┆ medium ┆ 1.71   │\n",
       "│ U1077  ┆ 135085  ┆ 2      ┆ 2           ┆ … ┆ student  ┆ 65     ┆ medium ┆ 1.71   │\n",
       "│ U1077  ┆ 135038  ┆ 2      ┆ 2           ┆ … ┆ student  ┆ 65     ┆ medium ┆ 1.71   │\n",
       "│ U1077  ┆ 135038  ┆ 2      ┆ 2           ┆ … ┆ student  ┆ 65     ┆ medium ┆ 1.71   │\n",
       "└────────┴─────────┴────────┴─────────────┴───┴──────────┴────────┴────────┴────────┘"
      ]
     },
     "execution_count": 10,
     "metadata": {},
     "output_type": "execute_result"
    }
   ],
   "source": [
    "user_data = joined_user_df.drop([\"Rcuisine\", \"Upayment\", \"color\", \"religion\", \"longitude\", \"latitude\"])\n",
    "user_data.head()\n"
   ]
  },
  {
   "cell_type": "code",
   "execution_count": 11,
   "metadata": {},
   "outputs": [],
   "source": [
    "id_cols = user_data.select([\"userID\", \"placeID\"])\n",
    "categorical_cols = [\n",
    "    \"smoker\", \"drink_level\", \"dress_preference\", \"ambience\", \"transport\",\n",
    "    \"marital_status\", \"hijos\", \"interest\", \"personality\", \"activity\", \"budget\", \"rating\",\n",
    "    \"food_rating\", \"service_rating\"\n",
    "]\n",
    "\n",
    "# One-hot encode\n",
    "user_data_dummies = user_data.to_dummies(columns=categorical_cols)\n",
    "features_only = user_data_dummies.drop([\"userID\", \"placeID\"])  # drop any non-feature cols\n"
   ]
  },
  {
   "cell_type": "code",
   "execution_count": 12,
   "metadata": {},
   "outputs": [],
   "source": [
    "\n",
    "df_pd = features_only.to_pandas()\n",
    "scaler = StandardScaler()\n",
    "df_scaled = scaler.fit_transform(df_pd)"
   ]
  },
  {
   "cell_type": "code",
   "execution_count": 13,
   "metadata": {},
   "outputs": [
    {
     "data": {
      "application/vnd.plotly.v1+json": {
       "config": {
        "plotlyServerURL": "https://plot.ly"
       },
       "data": [
        {
         "hovertemplate": "Number of Clusters=%{x}<br>Inertia=%{y}<extra></extra>",
         "legendgroup": "",
         "line": {
          "color": "#636efa",
          "dash": "solid"
         },
         "marker": {
          "symbol": "circle"
         },
         "mode": "lines+markers",
         "name": "",
         "orientation": "v",
         "showlegend": false,
         "type": "scatter",
         "x": {
          "bdata": "AQIDBAUGBwgJCg==",
          "dtype": "i1"
         },
         "xaxis": "x",
         "y": {
          "bdata": "xpP9EOcpNEGhopNFdKsiQQjL6wAU1hZBm3MG7pSDCUHCctvv0PcFQRBH8vBr//tAEibHj5yP+ECKCtpxMI/0QHgPjuuLFvFANroFt06b7EA=",
          "dtype": "f8"
         },
         "yaxis": "y"
        }
       ],
       "layout": {
        "legend": {
         "tracegroupgap": 0
        },
        "template": {
         "data": {
          "bar": [
           {
            "error_x": {
             "color": "#2a3f5f"
            },
            "error_y": {
             "color": "#2a3f5f"
            },
            "marker": {
             "line": {
              "color": "white",
              "width": 0.5
             },
             "pattern": {
              "fillmode": "overlay",
              "size": 10,
              "solidity": 0.2
             }
            },
            "type": "bar"
           }
          ],
          "barpolar": [
           {
            "marker": {
             "line": {
              "color": "white",
              "width": 0.5
             },
             "pattern": {
              "fillmode": "overlay",
              "size": 10,
              "solidity": 0.2
             }
            },
            "type": "barpolar"
           }
          ],
          "carpet": [
           {
            "aaxis": {
             "endlinecolor": "#2a3f5f",
             "gridcolor": "#C8D4E3",
             "linecolor": "#C8D4E3",
             "minorgridcolor": "#C8D4E3",
             "startlinecolor": "#2a3f5f"
            },
            "baxis": {
             "endlinecolor": "#2a3f5f",
             "gridcolor": "#C8D4E3",
             "linecolor": "#C8D4E3",
             "minorgridcolor": "#C8D4E3",
             "startlinecolor": "#2a3f5f"
            },
            "type": "carpet"
           }
          ],
          "choropleth": [
           {
            "colorbar": {
             "outlinewidth": 0,
             "ticks": ""
            },
            "type": "choropleth"
           }
          ],
          "contour": [
           {
            "colorbar": {
             "outlinewidth": 0,
             "ticks": ""
            },
            "colorscale": [
             [
              0,
              "#0d0887"
             ],
             [
              0.1111111111111111,
              "#46039f"
             ],
             [
              0.2222222222222222,
              "#7201a8"
             ],
             [
              0.3333333333333333,
              "#9c179e"
             ],
             [
              0.4444444444444444,
              "#bd3786"
             ],
             [
              0.5555555555555556,
              "#d8576b"
             ],
             [
              0.6666666666666666,
              "#ed7953"
             ],
             [
              0.7777777777777778,
              "#fb9f3a"
             ],
             [
              0.8888888888888888,
              "#fdca26"
             ],
             [
              1,
              "#f0f921"
             ]
            ],
            "type": "contour"
           }
          ],
          "contourcarpet": [
           {
            "colorbar": {
             "outlinewidth": 0,
             "ticks": ""
            },
            "type": "contourcarpet"
           }
          ],
          "heatmap": [
           {
            "colorbar": {
             "outlinewidth": 0,
             "ticks": ""
            },
            "colorscale": [
             [
              0,
              "#0d0887"
             ],
             [
              0.1111111111111111,
              "#46039f"
             ],
             [
              0.2222222222222222,
              "#7201a8"
             ],
             [
              0.3333333333333333,
              "#9c179e"
             ],
             [
              0.4444444444444444,
              "#bd3786"
             ],
             [
              0.5555555555555556,
              "#d8576b"
             ],
             [
              0.6666666666666666,
              "#ed7953"
             ],
             [
              0.7777777777777778,
              "#fb9f3a"
             ],
             [
              0.8888888888888888,
              "#fdca26"
             ],
             [
              1,
              "#f0f921"
             ]
            ],
            "type": "heatmap"
           }
          ],
          "histogram": [
           {
            "marker": {
             "pattern": {
              "fillmode": "overlay",
              "size": 10,
              "solidity": 0.2
             }
            },
            "type": "histogram"
           }
          ],
          "histogram2d": [
           {
            "colorbar": {
             "outlinewidth": 0,
             "ticks": ""
            },
            "colorscale": [
             [
              0,
              "#0d0887"
             ],
             [
              0.1111111111111111,
              "#46039f"
             ],
             [
              0.2222222222222222,
              "#7201a8"
             ],
             [
              0.3333333333333333,
              "#9c179e"
             ],
             [
              0.4444444444444444,
              "#bd3786"
             ],
             [
              0.5555555555555556,
              "#d8576b"
             ],
             [
              0.6666666666666666,
              "#ed7953"
             ],
             [
              0.7777777777777778,
              "#fb9f3a"
             ],
             [
              0.8888888888888888,
              "#fdca26"
             ],
             [
              1,
              "#f0f921"
             ]
            ],
            "type": "histogram2d"
           }
          ],
          "histogram2dcontour": [
           {
            "colorbar": {
             "outlinewidth": 0,
             "ticks": ""
            },
            "colorscale": [
             [
              0,
              "#0d0887"
             ],
             [
              0.1111111111111111,
              "#46039f"
             ],
             [
              0.2222222222222222,
              "#7201a8"
             ],
             [
              0.3333333333333333,
              "#9c179e"
             ],
             [
              0.4444444444444444,
              "#bd3786"
             ],
             [
              0.5555555555555556,
              "#d8576b"
             ],
             [
              0.6666666666666666,
              "#ed7953"
             ],
             [
              0.7777777777777778,
              "#fb9f3a"
             ],
             [
              0.8888888888888888,
              "#fdca26"
             ],
             [
              1,
              "#f0f921"
             ]
            ],
            "type": "histogram2dcontour"
           }
          ],
          "mesh3d": [
           {
            "colorbar": {
             "outlinewidth": 0,
             "ticks": ""
            },
            "type": "mesh3d"
           }
          ],
          "parcoords": [
           {
            "line": {
             "colorbar": {
              "outlinewidth": 0,
              "ticks": ""
             }
            },
            "type": "parcoords"
           }
          ],
          "pie": [
           {
            "automargin": true,
            "type": "pie"
           }
          ],
          "scatter": [
           {
            "fillpattern": {
             "fillmode": "overlay",
             "size": 10,
             "solidity": 0.2
            },
            "type": "scatter"
           }
          ],
          "scatter3d": [
           {
            "line": {
             "colorbar": {
              "outlinewidth": 0,
              "ticks": ""
             }
            },
            "marker": {
             "colorbar": {
              "outlinewidth": 0,
              "ticks": ""
             }
            },
            "type": "scatter3d"
           }
          ],
          "scattercarpet": [
           {
            "marker": {
             "colorbar": {
              "outlinewidth": 0,
              "ticks": ""
             }
            },
            "type": "scattercarpet"
           }
          ],
          "scattergeo": [
           {
            "marker": {
             "colorbar": {
              "outlinewidth": 0,
              "ticks": ""
             }
            },
            "type": "scattergeo"
           }
          ],
          "scattergl": [
           {
            "marker": {
             "colorbar": {
              "outlinewidth": 0,
              "ticks": ""
             }
            },
            "type": "scattergl"
           }
          ],
          "scattermap": [
           {
            "marker": {
             "colorbar": {
              "outlinewidth": 0,
              "ticks": ""
             }
            },
            "type": "scattermap"
           }
          ],
          "scattermapbox": [
           {
            "marker": {
             "colorbar": {
              "outlinewidth": 0,
              "ticks": ""
             }
            },
            "type": "scattermapbox"
           }
          ],
          "scatterpolar": [
           {
            "marker": {
             "colorbar": {
              "outlinewidth": 0,
              "ticks": ""
             }
            },
            "type": "scatterpolar"
           }
          ],
          "scatterpolargl": [
           {
            "marker": {
             "colorbar": {
              "outlinewidth": 0,
              "ticks": ""
             }
            },
            "type": "scatterpolargl"
           }
          ],
          "scatterternary": [
           {
            "marker": {
             "colorbar": {
              "outlinewidth": 0,
              "ticks": ""
             }
            },
            "type": "scatterternary"
           }
          ],
          "surface": [
           {
            "colorbar": {
             "outlinewidth": 0,
             "ticks": ""
            },
            "colorscale": [
             [
              0,
              "#0d0887"
             ],
             [
              0.1111111111111111,
              "#46039f"
             ],
             [
              0.2222222222222222,
              "#7201a8"
             ],
             [
              0.3333333333333333,
              "#9c179e"
             ],
             [
              0.4444444444444444,
              "#bd3786"
             ],
             [
              0.5555555555555556,
              "#d8576b"
             ],
             [
              0.6666666666666666,
              "#ed7953"
             ],
             [
              0.7777777777777778,
              "#fb9f3a"
             ],
             [
              0.8888888888888888,
              "#fdca26"
             ],
             [
              1,
              "#f0f921"
             ]
            ],
            "type": "surface"
           }
          ],
          "table": [
           {
            "cells": {
             "fill": {
              "color": "#EBF0F8"
             },
             "line": {
              "color": "white"
             }
            },
            "header": {
             "fill": {
              "color": "#C8D4E3"
             },
             "line": {
              "color": "white"
             }
            },
            "type": "table"
           }
          ]
         },
         "layout": {
          "annotationdefaults": {
           "arrowcolor": "#2a3f5f",
           "arrowhead": 0,
           "arrowwidth": 1
          },
          "autotypenumbers": "strict",
          "coloraxis": {
           "colorbar": {
            "outlinewidth": 0,
            "ticks": ""
           }
          },
          "colorscale": {
           "diverging": [
            [
             0,
             "#8e0152"
            ],
            [
             0.1,
             "#c51b7d"
            ],
            [
             0.2,
             "#de77ae"
            ],
            [
             0.3,
             "#f1b6da"
            ],
            [
             0.4,
             "#fde0ef"
            ],
            [
             0.5,
             "#f7f7f7"
            ],
            [
             0.6,
             "#e6f5d0"
            ],
            [
             0.7,
             "#b8e186"
            ],
            [
             0.8,
             "#7fbc41"
            ],
            [
             0.9,
             "#4d9221"
            ],
            [
             1,
             "#276419"
            ]
           ],
           "sequential": [
            [
             0,
             "#0d0887"
            ],
            [
             0.1111111111111111,
             "#46039f"
            ],
            [
             0.2222222222222222,
             "#7201a8"
            ],
            [
             0.3333333333333333,
             "#9c179e"
            ],
            [
             0.4444444444444444,
             "#bd3786"
            ],
            [
             0.5555555555555556,
             "#d8576b"
            ],
            [
             0.6666666666666666,
             "#ed7953"
            ],
            [
             0.7777777777777778,
             "#fb9f3a"
            ],
            [
             0.8888888888888888,
             "#fdca26"
            ],
            [
             1,
             "#f0f921"
            ]
           ],
           "sequentialminus": [
            [
             0,
             "#0d0887"
            ],
            [
             0.1111111111111111,
             "#46039f"
            ],
            [
             0.2222222222222222,
             "#7201a8"
            ],
            [
             0.3333333333333333,
             "#9c179e"
            ],
            [
             0.4444444444444444,
             "#bd3786"
            ],
            [
             0.5555555555555556,
             "#d8576b"
            ],
            [
             0.6666666666666666,
             "#ed7953"
            ],
            [
             0.7777777777777778,
             "#fb9f3a"
            ],
            [
             0.8888888888888888,
             "#fdca26"
            ],
            [
             1,
             "#f0f921"
            ]
           ]
          },
          "colorway": [
           "#636efa",
           "#EF553B",
           "#00cc96",
           "#ab63fa",
           "#FFA15A",
           "#19d3f3",
           "#FF6692",
           "#B6E880",
           "#FF97FF",
           "#FECB52"
          ],
          "font": {
           "color": "#2a3f5f"
          },
          "geo": {
           "bgcolor": "white",
           "lakecolor": "white",
           "landcolor": "white",
           "showlakes": true,
           "showland": true,
           "subunitcolor": "#C8D4E3"
          },
          "hoverlabel": {
           "align": "left"
          },
          "hovermode": "closest",
          "mapbox": {
           "style": "light"
          },
          "paper_bgcolor": "white",
          "plot_bgcolor": "white",
          "polar": {
           "angularaxis": {
            "gridcolor": "#EBF0F8",
            "linecolor": "#EBF0F8",
            "ticks": ""
           },
           "bgcolor": "white",
           "radialaxis": {
            "gridcolor": "#EBF0F8",
            "linecolor": "#EBF0F8",
            "ticks": ""
           }
          },
          "scene": {
           "xaxis": {
            "backgroundcolor": "white",
            "gridcolor": "#DFE8F3",
            "gridwidth": 2,
            "linecolor": "#EBF0F8",
            "showbackground": true,
            "ticks": "",
            "zerolinecolor": "#EBF0F8"
           },
           "yaxis": {
            "backgroundcolor": "white",
            "gridcolor": "#DFE8F3",
            "gridwidth": 2,
            "linecolor": "#EBF0F8",
            "showbackground": true,
            "ticks": "",
            "zerolinecolor": "#EBF0F8"
           },
           "zaxis": {
            "backgroundcolor": "white",
            "gridcolor": "#DFE8F3",
            "gridwidth": 2,
            "linecolor": "#EBF0F8",
            "showbackground": true,
            "ticks": "",
            "zerolinecolor": "#EBF0F8"
           }
          },
          "shapedefaults": {
           "line": {
            "color": "#2a3f5f"
           }
          },
          "ternary": {
           "aaxis": {
            "gridcolor": "#DFE8F3",
            "linecolor": "#A2B1C6",
            "ticks": ""
           },
           "baxis": {
            "gridcolor": "#DFE8F3",
            "linecolor": "#A2B1C6",
            "ticks": ""
           },
           "bgcolor": "white",
           "caxis": {
            "gridcolor": "#DFE8F3",
            "linecolor": "#A2B1C6",
            "ticks": ""
           }
          },
          "title": {
           "x": 0.05
          },
          "xaxis": {
           "automargin": true,
           "gridcolor": "#EBF0F8",
           "linecolor": "#EBF0F8",
           "ticks": "",
           "title": {
            "standoff": 15
           },
           "zerolinecolor": "#EBF0F8",
           "zerolinewidth": 2
          },
          "yaxis": {
           "automargin": true,
           "gridcolor": "#EBF0F8",
           "linecolor": "#EBF0F8",
           "ticks": "",
           "title": {
            "standoff": 15
           },
           "zerolinecolor": "#EBF0F8",
           "zerolinewidth": 2
          }
         }
        },
        "title": {
         "text": "Elbow Method for Optimal k"
        },
        "xaxis": {
         "anchor": "y",
         "domain": [
          0,
          1
         ],
         "dtick": 1,
         "title": {
          "text": "Number of Clusters"
         }
        },
        "yaxis": {
         "anchor": "x",
         "domain": [
          0,
          1
         ],
         "title": {
          "text": "Inertia"
         }
        }
       }
      }
     },
     "metadata": {},
     "output_type": "display_data"
    }
   ],
   "source": [
    "# Calculate inertia for k from 1 to 10\n",
    "inertia = []\n",
    "k_range = range(1, 11)\n",
    "\n",
    "for k in k_range:\n",
    "    kmeans = KMeans(n_clusters=k, random_state=42)\n",
    "    kmeans.fit(df_pd)\n",
    "    inertia.append(kmeans.inertia_)\n",
    "\n",
    "# Create a DataFrame for Plotly\n",
    "elbow_df = pd.DataFrame({\n",
    "    \"k\": list(k_range),\n",
    "    \"inertia\": inertia\n",
    "})\n",
    "\n",
    "# Create interactive elbow plot\n",
    "fig = px.line(elbow_df, x=\"k\", y=\"inertia\", markers=True,\n",
    "              title=\"Elbow Method for Optimal k\",\n",
    "              labels={\"k\": \"Number of Clusters\", \"inertia\": \"Inertia\"})\n",
    "\n",
    "fig.update_layout(xaxis=dict(dtick=1), template=\"plotly_white\")\n",
    "fig.show()"
   ]
  },
  {
   "cell_type": "code",
   "execution_count": 14,
   "metadata": {},
   "outputs": [],
   "source": [
    "num_clusters = 4\n",
    "kmeans = KMeans(n_clusters=num_clusters, random_state=42)\n",
    "clusters = kmeans.fit_predict(df_scaled)\n",
    "\n",
    "# Add cluster labels to the original Polars DataFrame\n",
    "final_user_df = user_data.with_columns(pl.Series(\"cluster\", clusters))"
   ]
  },
  {
   "cell_type": "code",
   "execution_count": 15,
   "metadata": {},
   "outputs": [
    {
     "data": {
      "text/html": [
       "<div><style>\n",
       ".dataframe > thead > tr,\n",
       ".dataframe > tbody > tr {\n",
       "  text-align: right;\n",
       "  white-space: pre-wrap;\n",
       "}\n",
       "</style>\n",
       "<small>shape: (10, 20)</small><table border=\"1\" class=\"dataframe\"><thead><tr><th>userID</th><th>placeID</th><th>rating</th><th>food_rating</th><th>service_rating</th><th>smoker</th><th>drink_level</th><th>dress_preference</th><th>ambience</th><th>transport</th><th>marital_status</th><th>hijos</th><th>birth_year</th><th>interest</th><th>personality</th><th>activity</th><th>weight</th><th>budget</th><th>height</th><th>cluster</th></tr><tr><td>str</td><td>i64</td><td>i64</td><td>i64</td><td>i64</td><td>str</td><td>str</td><td>str</td><td>str</td><td>str</td><td>str</td><td>str</td><td>i64</td><td>str</td><td>str</td><td>str</td><td>i64</td><td>str</td><td>f64</td><td>i32</td></tr></thead><tbody><tr><td>&quot;U1077&quot;</td><td>135085</td><td>2</td><td>2</td><td>2</td><td>&quot;false&quot;</td><td>&quot;social drinker&quot;</td><td>&quot;elegant&quot;</td><td>&quot;family&quot;</td><td>&quot;public&quot;</td><td>&quot;married&quot;</td><td>&quot;kids&quot;</td><td>1987</td><td>&quot;technology&quot;</td><td>&quot;thrifty-protector&quot;</td><td>&quot;student&quot;</td><td>65</td><td>&quot;medium&quot;</td><td>1.71</td><td>3</td></tr><tr><td>&quot;U1077&quot;</td><td>135085</td><td>2</td><td>2</td><td>2</td><td>&quot;false&quot;</td><td>&quot;social drinker&quot;</td><td>&quot;elegant&quot;</td><td>&quot;family&quot;</td><td>&quot;public&quot;</td><td>&quot;married&quot;</td><td>&quot;kids&quot;</td><td>1987</td><td>&quot;technology&quot;</td><td>&quot;thrifty-protector&quot;</td><td>&quot;student&quot;</td><td>65</td><td>&quot;medium&quot;</td><td>1.71</td><td>3</td></tr><tr><td>&quot;U1077&quot;</td><td>135085</td><td>2</td><td>2</td><td>2</td><td>&quot;false&quot;</td><td>&quot;social drinker&quot;</td><td>&quot;elegant&quot;</td><td>&quot;family&quot;</td><td>&quot;public&quot;</td><td>&quot;married&quot;</td><td>&quot;kids&quot;</td><td>1987</td><td>&quot;technology&quot;</td><td>&quot;thrifty-protector&quot;</td><td>&quot;student&quot;</td><td>65</td><td>&quot;medium&quot;</td><td>1.71</td><td>3</td></tr><tr><td>&quot;U1077&quot;</td><td>135038</td><td>2</td><td>2</td><td>1</td><td>&quot;false&quot;</td><td>&quot;social drinker&quot;</td><td>&quot;elegant&quot;</td><td>&quot;family&quot;</td><td>&quot;public&quot;</td><td>&quot;married&quot;</td><td>&quot;kids&quot;</td><td>1987</td><td>&quot;technology&quot;</td><td>&quot;thrifty-protector&quot;</td><td>&quot;student&quot;</td><td>65</td><td>&quot;medium&quot;</td><td>1.71</td><td>3</td></tr><tr><td>&quot;U1077&quot;</td><td>135038</td><td>2</td><td>2</td><td>1</td><td>&quot;false&quot;</td><td>&quot;social drinker&quot;</td><td>&quot;elegant&quot;</td><td>&quot;family&quot;</td><td>&quot;public&quot;</td><td>&quot;married&quot;</td><td>&quot;kids&quot;</td><td>1987</td><td>&quot;technology&quot;</td><td>&quot;thrifty-protector&quot;</td><td>&quot;student&quot;</td><td>65</td><td>&quot;medium&quot;</td><td>1.71</td><td>3</td></tr><tr><td>&quot;U1077&quot;</td><td>135038</td><td>2</td><td>2</td><td>1</td><td>&quot;false&quot;</td><td>&quot;social drinker&quot;</td><td>&quot;elegant&quot;</td><td>&quot;family&quot;</td><td>&quot;public&quot;</td><td>&quot;married&quot;</td><td>&quot;kids&quot;</td><td>1987</td><td>&quot;technology&quot;</td><td>&quot;thrifty-protector&quot;</td><td>&quot;student&quot;</td><td>65</td><td>&quot;medium&quot;</td><td>1.71</td><td>3</td></tr><tr><td>&quot;U1077&quot;</td><td>132825</td><td>2</td><td>2</td><td>2</td><td>&quot;false&quot;</td><td>&quot;social drinker&quot;</td><td>&quot;elegant&quot;</td><td>&quot;family&quot;</td><td>&quot;public&quot;</td><td>&quot;married&quot;</td><td>&quot;kids&quot;</td><td>1987</td><td>&quot;technology&quot;</td><td>&quot;thrifty-protector&quot;</td><td>&quot;student&quot;</td><td>65</td><td>&quot;medium&quot;</td><td>1.71</td><td>3</td></tr><tr><td>&quot;U1077&quot;</td><td>132825</td><td>2</td><td>2</td><td>2</td><td>&quot;false&quot;</td><td>&quot;social drinker&quot;</td><td>&quot;elegant&quot;</td><td>&quot;family&quot;</td><td>&quot;public&quot;</td><td>&quot;married&quot;</td><td>&quot;kids&quot;</td><td>1987</td><td>&quot;technology&quot;</td><td>&quot;thrifty-protector&quot;</td><td>&quot;student&quot;</td><td>65</td><td>&quot;medium&quot;</td><td>1.71</td><td>3</td></tr><tr><td>&quot;U1077&quot;</td><td>132825</td><td>2</td><td>2</td><td>2</td><td>&quot;false&quot;</td><td>&quot;social drinker&quot;</td><td>&quot;elegant&quot;</td><td>&quot;family&quot;</td><td>&quot;public&quot;</td><td>&quot;married&quot;</td><td>&quot;kids&quot;</td><td>1987</td><td>&quot;technology&quot;</td><td>&quot;thrifty-protector&quot;</td><td>&quot;student&quot;</td><td>65</td><td>&quot;medium&quot;</td><td>1.71</td><td>3</td></tr><tr><td>&quot;U1077&quot;</td><td>135060</td><td>1</td><td>2</td><td>2</td><td>&quot;false&quot;</td><td>&quot;social drinker&quot;</td><td>&quot;elegant&quot;</td><td>&quot;family&quot;</td><td>&quot;public&quot;</td><td>&quot;married&quot;</td><td>&quot;kids&quot;</td><td>1987</td><td>&quot;technology&quot;</td><td>&quot;thrifty-protector&quot;</td><td>&quot;student&quot;</td><td>65</td><td>&quot;medium&quot;</td><td>1.71</td><td>3</td></tr></tbody></table></div>"
      ],
      "text/plain": [
       "shape: (10, 20)\n",
       "┌────────┬─────────┬────────┬─────────────┬───┬────────┬────────┬────────┬─────────┐\n",
       "│ userID ┆ placeID ┆ rating ┆ food_rating ┆ … ┆ weight ┆ budget ┆ height ┆ cluster │\n",
       "│ ---    ┆ ---     ┆ ---    ┆ ---         ┆   ┆ ---    ┆ ---    ┆ ---    ┆ ---     │\n",
       "│ str    ┆ i64     ┆ i64    ┆ i64         ┆   ┆ i64    ┆ str    ┆ f64    ┆ i32     │\n",
       "╞════════╪═════════╪════════╪═════════════╪═══╪════════╪════════╪════════╪═════════╡\n",
       "│ U1077  ┆ 135085  ┆ 2      ┆ 2           ┆ … ┆ 65     ┆ medium ┆ 1.71   ┆ 3       │\n",
       "│ U1077  ┆ 135085  ┆ 2      ┆ 2           ┆ … ┆ 65     ┆ medium ┆ 1.71   ┆ 3       │\n",
       "│ U1077  ┆ 135085  ┆ 2      ┆ 2           ┆ … ┆ 65     ┆ medium ┆ 1.71   ┆ 3       │\n",
       "│ U1077  ┆ 135038  ┆ 2      ┆ 2           ┆ … ┆ 65     ┆ medium ┆ 1.71   ┆ 3       │\n",
       "│ U1077  ┆ 135038  ┆ 2      ┆ 2           ┆ … ┆ 65     ┆ medium ┆ 1.71   ┆ 3       │\n",
       "│ U1077  ┆ 135038  ┆ 2      ┆ 2           ┆ … ┆ 65     ┆ medium ┆ 1.71   ┆ 3       │\n",
       "│ U1077  ┆ 132825  ┆ 2      ┆ 2           ┆ … ┆ 65     ┆ medium ┆ 1.71   ┆ 3       │\n",
       "│ U1077  ┆ 132825  ┆ 2      ┆ 2           ┆ … ┆ 65     ┆ medium ┆ 1.71   ┆ 3       │\n",
       "│ U1077  ┆ 132825  ┆ 2      ┆ 2           ┆ … ┆ 65     ┆ medium ┆ 1.71   ┆ 3       │\n",
       "│ U1077  ┆ 135060  ┆ 1      ┆ 2           ┆ … ┆ 65     ┆ medium ┆ 1.71   ┆ 3       │\n",
       "└────────┴─────────┴────────┴─────────────┴───┴────────┴────────┴────────┴─────────┘"
      ]
     },
     "execution_count": 15,
     "metadata": {},
     "output_type": "execute_result"
    }
   ],
   "source": [
    "\n",
    "final_user_df.head(10)"
   ]
  },
  {
   "cell_type": "code",
   "execution_count": 16,
   "metadata": {},
   "outputs": [
    {
     "data": {
      "application/vnd.plotly.v1+json": {
       "config": {
        "plotlyServerURL": "https://plot.ly"
       },
       "data": [
        {
         "bingroup": "x",
         "hovertemplate": "cluster=%{x}<br>count=%{y}<extra></extra>",
         "legendgroup": "",
         "marker": {
          "color": "#636efa",
          "pattern": {
           "shape": ""
          }
         },
         "name": "",
         "orientation": "v",
         "showlegend": false,
         "type": "histogram",
         "x": {
          "bdata": "AwAAAAMAAAADAAAAAwAAAAMAAAADAAAAAwAAAAMAAAADAAAAAwAAAAMAAAADAAAAAgAAAAAAAAACAAAAAAAAAAIAAAACAAAAAgAAAAIAAAACAAAAAgAAAAIAAAACAAAAAgAAAAIAAAACAAAAAgAAAAIAAAACAAAAAgAAAAIAAAACAAAAAgAAAAIAAAACAAAAAgAAAAIAAAACAAAAAAAAAAAAAAAAAAAAAAAAAAAAAAAAAAAAAwAAAAMAAAADAAAAAwAAAAMAAAADAAAAAwAAAAMAAAAAAAAAAAAAAAAAAAADAAAAAwAAAAMAAAADAAAAAwAAAAMAAAADAAAAAAAAAAAAAAADAAAAAwAAAAMAAAADAAAAAwAAAAMAAAACAAAAAgAAAAIAAAACAAAAAgAAAAIAAAACAAAAAgAAAAIAAAACAAAAAgAAAAIAAAACAAAAAgAAAAIAAAACAAAAAgAAAAIAAAACAAAAAgAAAAIAAAACAAAAAgAAAAIAAAACAAAAAgAAAAIAAAACAAAAAgAAAAIAAAACAAAAAgAAAAIAAAACAAAAAgAAAAIAAAACAAAAAgAAAAIAAAACAAAAAgAAAAIAAAACAAAAAgAAAAIAAAACAAAAAgAAAAIAAAACAAAAAgAAAAIAAAACAAAAAwAAAAIAAAACAAAAAgAAAAIAAAACAAAAAgAAAAIAAAACAAAAAwAAAAMAAAADAAAAAwAAAAIAAAACAAAAAwAAAAMAAAADAAAAAwAAAAMAAAADAAAAAwAAAAMAAAADAAAAAwAAAAMAAAADAAAAAwAAAAMAAAADAAAAAgAAAAIAAAACAAAAAgAAAAIAAAACAAAAAgAAAAIAAAACAAAAAgAAAAIAAAACAAAAAgAAAAIAAAACAAAAAgAAAAIAAAACAAAAAgAAAAIAAAACAAAAAgAAAAIAAAACAAAAAgAAAAIAAAACAAAAAgAAAAIAAAACAAAAAgAAAAIAAAACAAAAAgAAAAIAAAACAAAAAgAAAAIAAAACAAAAAgAAAAIAAAACAAAAAgAAAAIAAAACAAAAAgAAAAIAAAACAAAAAgAAAAIAAAACAAAAAgAAAAIAAAACAAAAAgAAAAIAAAACAAAAAgAAAAIAAAACAAAAAgAAAAIAAAACAAAAAgAAAAIAAAACAAAAAgAAAAIAAAACAAAAAgAAAAIAAAACAAAAAgAAAAIAAAACAAAAAgAAAAIAAAACAAAAAgAAAAIAAAACAAAAAgAAAAIAAAACAAAAAgAAAAIAAAACAAAAAgAAAAIAAAACAAAAAgAAAAIAAAACAAAAAgAAAAIAAAACAAAAAgAAAAIAAAACAAAAAgAAAAIAAAACAAAAAgAAAAIAAAACAAAAAgAAAAIAAAACAAAAAgAAAAIAAAACAAAAAgAAAAIAAAACAAAAAgAAAAIAAAACAAAAAgAAAAIAAAACAAAAAgAAAAIAAAACAAAAAgAAAAIAAAACAAAAAgAAAAIAAAACAAAAAgAAAAIAAAACAAAAAgAAAAIAAAACAAAAAgAAAAIAAAACAAAAAgAAAAIAAAACAAAAAgAAAAIAAAACAAAAAgAAAAIAAAACAAAAAgAAAAIAAAACAAAAAgAAAAIAAAACAAAAAgAAAAIAAAACAAAAAgAAAAIAAAACAAAAAgAAAAIAAAACAAAAAgAAAAIAAAACAAAAAgAAAAIAAAACAAAAAgAAAAIAAAACAAAAAgAAAAIAAAACAAAAAgAAAAIAAAACAAAAAgAAAAIAAAACAAAAAgAAAAIAAAACAAAAAgAAAAIAAAACAAAAAgAAAAIAAAACAAAAAgAAAAIAAAACAAAAAgAAAAIAAAACAAAAAgAAAAIAAAACAAAAAgAAAAIAAAACAAAAAgAAAAIAAAACAAAAAgAAAAIAAAACAAAAAgAAAAIAAAACAAAAAgAAAAIAAAACAAAAAgAAAAIAAAACAAAAAgAAAAIAAAACAAAAAgAAAAIAAAACAAAAAgAAAAIAAAACAAAAAgAAAAIAAAACAAAAAgAAAAIAAAACAAAAAgAAAAIAAAACAAAAAgAAAAIAAAACAAAAAgAAAAIAAAACAAAAAgAAAAIAAAACAAAAAgAAAAIAAAACAAAAAgAAAAIAAAACAAAAAgAAAAIAAAACAAAAAgAAAAIAAAACAAAAAgAAAAIAAAACAAAAAgAAAAIAAAACAAAAAgAAAAIAAAACAAAAAgAAAAIAAAACAAAAAgAAAAIAAAACAAAAAgAAAAIAAAACAAAAAgAAAAIAAAACAAAAAgAAAAIAAAACAAAAAgAAAAIAAAACAAAAAgAAAAIAAAACAAAAAgAAAAIAAAACAAAAAgAAAAIAAAACAAAAAgAAAAIAAAACAAAAAgAAAAIAAAACAAAAAgAAAAIAAAACAAAAAgAAAAIAAAACAAAAAgAAAAIAAAACAAAAAgAAAAIAAAACAAAAAgAAAAIAAAACAAAAAgAAAAIAAAACAAAAAgAAAAIAAAACAAAAAgAAAAIAAAACAAAAAgAAAAIAAAACAAAAAgAAAAIAAAACAAAAAgAAAAIAAAACAAAAAgAAAAIAAAACAAAAAgAAAAIAAAACAAAAAgAAAAIAAAACAAAAAgAAAAIAAAACAAAAAgAAAAIAAAACAAAAAgAAAAIAAAACAAAAAgAAAAIAAAACAAAAAgAAAAIAAAACAAAAAgAAAAIAAAACAAAAAgAAAAIAAAACAAAAAgAAAAIAAAACAAAAAgAAAAIAAAACAAAAAgAAAAIAAAACAAAAAgAAAAIAAAACAAAAAgAAAAIAAAACAAAAAgAAAAIAAAACAAAAAgAAAAIAAAACAAAAAgAAAAIAAAACAAAAAgAAAAIAAAACAAAAAgAAAAIAAAACAAAAAgAAAAIAAAACAAAAAgAAAAIAAAACAAAAAgAAAAIAAAACAAAAAgAAAAIAAAACAAAAAgAAAAIAAAACAAAAAgAAAAIAAAACAAAAAgAAAAIAAAACAAAAAgAAAAIAAAACAAAAAgAAAAIAAAACAAAAAgAAAAIAAAACAAAAAgAAAAIAAAACAAAAAgAAAAIAAAACAAAAAgAAAAIAAAACAAAAAgAAAAIAAAACAAAAAgAAAAIAAAACAAAAAgAAAAIAAAACAAAAAgAAAAIAAAACAAAAAgAAAAIAAAACAAAAAgAAAAIAAAACAAAAAgAAAAIAAAACAAAAAgAAAAIAAAACAAAAAgAAAAIAAAACAAAAAgAAAAIAAAACAAAAAgAAAAIAAAACAAAAAgAAAAIAAAACAAAAAgAAAAIAAAACAAAAAgAAAAIAAAACAAAAAgAAAAIAAAACAAAAAgAAAAIAAAACAAAAAgAAAAIAAAACAAAAAgAAAAIAAAACAAAAAgAAAAIAAAACAAAAAgAAAAIAAAACAAAAAgAAAAIAAAACAAAAAgAAAAIAAAACAAAAAgAAAAIAAAACAAAAAgAAAAIAAAACAAAAAgAAAAIAAAACAAAAAgAAAAIAAAACAAAAAgAAAAIAAAACAAAAAgAAAAIAAAACAAAAAgAAAAIAAAACAAAAAgAAAAIAAAACAAAAAgAAAAIAAAACAAAAAgAAAAIAAAACAAAAAgAAAAIAAAACAAAAAgAAAAIAAAACAAAAAgAAAAIAAAACAAAAAgAAAAIAAAACAAAAAgAAAAIAAAACAAAAAgAAAAIAAAACAAAAAgAAAAIAAAACAAAAAwAAAAMAAAADAAAAAwAAAAMAAAADAAAAAwAAAAMAAAADAAAAAwAAAAAAAAADAAAAAwAAAAAAAAACAAAAAgAAAAIAAAACAAAAAAAAAAMAAAADAAAAAAAAAAMAAAADAAAAAAAAAAAAAAAAAAAAAAAAAAIAAAACAAAAAgAAAAIAAAAAAAAAAgAAAAAAAAAAAAAAAwAAAAMAAAACAAAAAgAAAAMAAAADAAAAAwAAAAMAAAACAAAAAgAAAAAAAAAAAAAAAgAAAAIAAAAAAAAAAAAAAAAAAAAAAAAAAAAAAAAAAAAAAAAAAAAAAAAAAAAAAAAAAAAAAAAAAAAAAAAAAAAAAAAAAAAAAAAAAAAAAAAAAAAAAAAAAAAAAAAAAAAAAAAAAwAAAAAAAAAAAAAAAAAAAAAAAAAAAAAAAAAAAAIAAAACAAAAAgAAAAIAAAACAAAAAgAAAAIAAAACAAAAAAAAAAAAAAADAAAAAwAAAAMAAAADAAAAAAAAAAAAAAACAAAAAgAAAAIAAAADAAAAAwAAAAMAAAADAAAAAwAAAAMAAAADAAAAAwAAAAMAAAADAAAAAAAAAAAAAAAAAAAAAAAAAAAAAAAAAAAAAAAAAAAAAAAAAAAAAAAAAAAAAAAAAAAAAwAAAAMAAAADAAAAAwAAAAMAAAADAAAAAAAAAAAAAAAAAAAAAAAAAAAAAAAAAAAAAAAAAAAAAAAAAAAAAAAAAAAAAAAAAAAAAAAAAAAAAAADAAAAAwAAAAMAAAADAAAAAwAAAAMAAAADAAAAAwAAAAMAAAADAAAAAwAAAAMAAAADAAAAAwAAAAMAAAADAAAAAgAAAAAAAAAAAAAAAAAAAAMAAAADAAAAAwAAAAMAAAAAAAAAAAAAAAIAAAADAAAAAwAAAAAAAAAAAAAAAAAAAAAAAAAAAAAAAAAAAAIAAAAAAAAAAgAAAAAAAAAAAAAAAgAAAAEAAAACAAAAAgAAAAAAAAAAAAAAAAAAAAAAAAAAAAAAAAAAAAAAAAACAAAAAgAAAAAAAAAAAAAAAAAAAAAAAAAAAAAAAAAAAAAAAAAAAAAAAAAAAAAAAAAAAAAAAAAAAAAAAAAAAAAAAAAAAAAAAAAAAAAAAAAAAAAAAAAAAAAAAAAAAAAAAAAAAAAAAAAAAAAAAAAAAAAAAAAAAAAAAAAAAAAAAAAAAAAAAAAAAAAAAAAAAAAAAAAAAAAAAAAAAAAAAAAAAAAAAAAAAAAAAAAAAAAAAAAAAAAAAAAAAAAAAAAAAAAAAAAAAAAAAAAAAAAAAAAAAAAAAAAAAAAAAAAAAAAAAAAAAAAAAAAAAAAAAAAAAAAAAAAAAAAAAAAAAAAAAAAAAAAAAAAAAAAAAAAAAAAAAAAAAAAAAAAAAAAAAAAAAAAAAAAAAAAAAAAAAAAAAAAAAAAAAAAAAAAAAAADAAAAAwAAAAMAAAADAAAAAAAAAAMAAAADAAAAAwAAAAMAAAAAAAAAAAAAAAAAAAAAAAAAAAAAAAAAAAAAAAAAAAAAAAAAAAADAAAAAAAAAAAAAAACAAAAAwAAAAAAAAAAAAAAAAAAAAAAAAAAAAAAAAAAAAIAAAAAAAAAAAAAAAAAAAAAAAAAAAAAAAAAAAADAAAAAwAAAAMAAAADAAAAAwAAAAMAAAADAAAAAwAAAAMAAAADAAAAAwAAAAMAAAADAAAAAwAAAAMAAAADAAAAAwAAAAMAAAADAAAAAwAAAAAAAAADAAAAAwAAAAMAAAAAAAAAAAAAAAAAAAAAAAAAAAAAAAAAAAAAAAAAAAAAAAAAAAAAAAAAAAAAAAAAAAAAAAAAAAAAAAAAAAACAAAAAgAAAAIAAAACAAAAAgAAAAIAAAADAAAAAwAAAAMAAAADAAAAAwAAAAMAAAADAAAAAwAAAAMAAAADAAAAAwAAAAMAAAADAAAAAwAAAAMAAAADAAAAAwAAAAMAAAADAAAAAwAAAAMAAAADAAAAAwAAAAMAAAADAAAAAwAAAAMAAAADAAAAAwAAAAMAAAADAAAAAwAAAAMAAAAAAAAAAAAAAAAAAAAAAAAAAAAAAAAAAAAAAAAAAAAAAAIAAAAAAAAAAAAAAAIAAAAAAAAAAgAAAAIAAAACAAAAAgAAAAIAAAACAAAAAAAAAAIAAAACAAAAAwAAAAMAAAADAAAAAwAAAAMAAAADAAAAAwAAAAMAAAAAAAAAAAAAAAMAAAADAAAAAwAAAAMAAAADAAAAAwAAAAMAAAADAAAAAwAAAAMAAAADAAAAAwAAAAMAAAADAAAAAwAAAAMAAAADAAAAAwAAAAMAAAADAAAAAwAAAAMAAAADAAAAAwAAAAMAAAACAAAAAAAAAAIAAAACAAAAAgAAAAIAAAAAAAAAAAAAAAAAAAAAAAAAAAAAAAAAAAAAAAAAAAAAAAAAAAAAAAAAAAAAAAAAAAAAAAAAAAAAAAAAAAAAAAAAAAAAAAAAAAAAAAAAAAAAAAAAAAAAAAAAAAAAAAAAAAAAAAAAAAAAAAAAAAAAAAAAAAAAAAAAAAAAAAAAAAAAAAAAAAAAAAAAAAAAAAAAAAAAAAAAAAAAAAAAAAAAAAAAAAAAAAAAAAAAAAAAAAAAAAAAAAAAAAAAAAAAAAAAAAAAAAAAAAAAAAAAAAAAAAAAAAAAAAAAAAAAAAAAAAAAAAAAAAAAAAAAAAAAAAAAAAAAAAAAAAAAAAAAAAAAAAAAAAAAAAAAAAAAAAAAAAAAAAAAAAAAAAAAAAAAAAAAAAAAAAAAAAAAAAAAAAAAAAAAAAAAAAAAAAAAAAAAAAAAAAAAAAAAAAAAAAAAAAAAAAAAAAAAAAAAAAAAAAAAAAAAAAAAAAAAAAAAAAAAAAAAAAAAAAAAAAAAAAAAAAAAAAAAAAAAAAAAAAAAAAAAAAAAAAAAAAMAAAADAAAAAwAAAAAAAAAAAAAAAAAAAAAAAAAAAAAAAAAAAAAAAAAAAAAAAwAAAAMAAAADAAAAAwAAAAMAAAADAAAAAwAAAAAAAAAAAAAAAAAAAAAAAAAAAAAAAAAAAAAAAAAAAAAAAAAAAAAAAAAAAAAAAAAAAAMAAAADAAAAAwAAAAMAAAADAAAAAAAAAAAAAAAAAAAAAAAAAAAAAAAAAAAAAAAAAAAAAAAAAAAAAAAAAAAAAAAAAAAAAAAAAAAAAAADAAAAAwAAAAMAAAADAAAAAwAAAAMAAAADAAAAAwAAAAMAAAADAAAAAwAAAAMAAAAAAAAAAAAAAAAAAAAAAAAAAAAAAAAAAAAAAAAAAAAAAAAAAAAAAAAAAAAAAAAAAAAAAAAAAAAAAAAAAAAAAAAAAAAAAAAAAAAAAAAAAAAAAAAAAAAAAAAAAgAAAAIAAAACAAAAAgAAAAIAAAACAAAAAAAAAAAAAAACAAAAAgAAAAIAAAACAAAAAgAAAAIAAAAAAAAAAAAAAAMAAAADAAAAAwAAAAMAAAADAAAAAwAAAAMAAAADAAAAAwAAAAMAAAAAAAAAAAAAAAAAAAAAAAAAAwAAAAMAAAAAAAAAAAAAAAAAAAAAAAAAAwAAAAMAAAAAAAAAAAAAAAMAAAADAAAAAwAAAAMAAAAAAAAAAAAAAAMAAAADAAAAAAAAAAAAAAAAAAAAAAAAAAMAAAAAAAAAAAAAAAAAAAAAAAAAAwAAAAMAAAAAAAAAAAAAAAAAAAAAAAAAAAAAAAAAAAAAAAAAAAAAAAAAAAAAAAAAAwAAAAMAAAADAAAAAwAAAAIAAAACAAAAAgAAAAIAAAAAAAAAAAAAAAAAAAAAAAAAAAAAAAAAAAAAAAAAAAAAAAAAAAAAAAAAAAAAAAAAAAAAAAAAAAAAAAAAAAAAAAAAAAAAAAAAAAAAAAAAAAAAAAAAAAAAAAAAAAAAAAAAAAAAAAAAAAAAAAAAAAAAAAAAAAAAAAAAAAAAAAAAAAAAAAAAAAAAAAAAAAAAAAAAAAAAAAAAAAAAAAAAAAAAAAAAAgAAAAIAAAACAAAAAgAAAAIAAAACAAAAAgAAAAIAAAACAAAAAgAAAAIAAAACAAAAAgAAAAIAAAACAAAAAgAAAAIAAAACAAAAAgAAAAIAAAACAAAAAgAAAAIAAAACAAAAAgAAAAIAAAACAAAAAgAAAAIAAAACAAAAAgAAAAIAAAACAAAAAgAAAAIAAAACAAAAAgAAAAIAAAACAAAAAgAAAAIAAAACAAAAAgAAAAIAAAACAAAAAgAAAAIAAAACAAAAAgAAAAIAAAACAAAAAgAAAAIAAAACAAAAAgAAAAIAAAACAAAAAgAAAAIAAAACAAAAAgAAAAIAAAACAAAAAQAAAAEAAAABAAAAAQAAAAEAAAABAAAAAQAAAAIAAAACAAAAAgAAAAIAAAACAAAAAgAAAAIAAAAAAAAAAAAAAAAAAAAAAAAAAAAAAAAAAAAAAAAAAAAAAAAAAAAAAAAAAAAAAAAAAAAAAAAAAAAAAAAAAAAAAAAAAAAAAAAAAAAAAAAAAAAAAAAAAAAAAAAAAAAAAAAAAAAAAAAAAAAAAAAAAAAAAAAAAAAAAAAAAAAAAAAAAAAAAAAAAAAAAAAAAAAAAAAAAAAAAAAAAAAAAAAAAAAAAAAAAAAAAAAAAAAAAAAAAAAAAAAAAAAAAAAAAAAAAAAAAAAAAAAAAAAAAAAAAAAAAAAAAAAAAAAAAAAAAAAAAAAAAAAAAAAAAAAAAAAAAAAAAAAAAAAAAAAAAAAAAAAAAAAAAAAAAAAAAAAAAAAAAAAAAAAAAAAAAAAAAAAAAAAAAAAAAAAAAAAAAAAAAAAAAAAAAAAAAAAAAAAAAAAAAAAAAAAAAAAAAAAAAAAAAAAAAAAAAAAAAAAAAAAAAAAAAAAAAAAAAAAAAAAAAAAAAAAAAAAAAAAAAAAAAAAAAAAAAAAAAAAAAAAAAAAAAAAAAAAAAAAAAAAAAAAAAAAAAAAAAAAAAAAAAAAAAAAAAAAAAAAAAAAAAAAAAAAAAAAAAAAAAAAAAAAAAAAAAAAAAAAAAAAAAAAAAAAAAAAAAAAAAAAAAAAAAAAAAAAAAAAAAAAAAAAAAAAAAAAAAAAAAAAAAAAAAAAAAAAAAAAAAAAAAAAAAAAAAAAAAAAAAAAAAAAAAAAAAAAAAAAAAAAAAAAAAAAAAAAAAAAAAAAAAAAAAAAAAAAAAAAAAAAAAAAAAAAAAAAAAAAAAAAAAAAAAAAAAAAAAAAAAAAAAAAAAAAAAAAAAAAAAAAAAAAAAAAAAAAAAAAAAAAAAAAAAAAAAAAAAAAAAAAAAAAAAAAAAAAAAAAAAAAAAAAAAAAAAAAAAAAAAAAAAAAAAAAAAAAAAAAAAAAAAAAAAAAAAAAAAAAAAAAAAAAAAAAAAAAAAAAAAAAAAAAAAAMAAAADAAAAAwAAAAIAAAADAAAAAAAAAAIAAAADAAAAAwAAAAMAAAACAAAAAgAAAAMAAAADAAAAAwAAAAIAAAACAAAAAQAAAAIAAAACAAAAAwAAAAMAAAADAAAAAwAAAAMAAAADAAAAAwAAAAIAAAACAAAAAgAAAAIAAAACAAAAAgAAAAIAAAACAAAAAgAAAAIAAAACAAAAAgAAAAIAAAACAAAAAgAAAAIAAAACAAAAAgAAAAIAAAACAAAAAwAAAAMAAAADAAAAAwAAAAIAAAACAAAAAgAAAAIAAAACAAAAAgAAAAIAAAACAAAAAgAAAAIAAAADAAAAAwAAAAIAAAACAAAAAgAAAAIAAAACAAAAAgAAAAIAAAACAAAAAgAAAAIAAAACAAAAAgAAAAIAAAACAAAAAgAAAAIAAAACAAAAAgAAAAIAAAACAAAAAwAAAAMAAAACAAAAAgAAAAIAAAACAAAAAgAAAAIAAAACAAAAAgAAAAIAAAACAAAAAwAAAAMAAAACAAAAAgAAAAIAAAACAAAAAgAAAAIAAAACAAAAAgAAAAIAAAACAAAAAwAAAAMAAAADAAAAAwAAAAMAAAADAAAAAgAAAAIAAAACAAAAAgAAAAIAAAACAAAAAgAAAAIAAAACAAAAAgAAAAIAAAACAAAAAgAAAAIAAAACAAAAAgAAAAIAAAACAAAAAgAAAAIAAAADAAAAAwAAAAIAAAACAAAAAAAAAAIAAAADAAAAAwAAAAIAAAAAAAAAAAAAAAAAAAADAAAAAwAAAAMAAAADAAAAAwAAAAMAAAAAAAAAAAAAAAAAAAADAAAAAwAAAAMAAAADAAAAAwAAAAMAAAADAAAAAwAAAAIAAAACAAAAAgAAAAIAAAACAAAAAgAAAAIAAAACAAAAAgAAAAIAAAACAAAAAAAAAAAAAAADAAAAAwAAAAMAAAADAAAAAwAAAAAAAAADAAAAAwAAAAMAAAAAAAAAAwAAAAAAAAADAAAAAwAAAAAAAAADAAAAAwAAAAMAAAADAAAAAwAAAAMAAAADAAAAAAAAAAAAAAAAAAAAAAAAAAAAAAAAAAAAAAAAAAAAAAAAAAAAAAAAAAAAAAAAAAAAAAAAAAAAAAAAAAAAAAAAAAAAAAAAAAAAAAAAAAAAAAAAAAAAAAAAAAAAAAAAAAAAAAAAAAAAAAAAAAAAAAAAAAAAAAAAAAAAAAAAAAAAAAAAAAAAAAAAAAAAAAAAAAAAAAAAAAAAAAAAAAAAAAAAAAAAAAAAAAAAAAAAAAAAAAAAAAAAAAAAAAAAAAAAAAAAAAAAAAAAAAAAAAAAAAAAAAAAAAAAAAAAAAAAAAAAAAAAAAAAAAAAAAAAAAAAAAAAAAAAAAAAAAAAAAAAAAAAAAAAAAAAAAAAAAAAAAAAAAAAAAAAAAAAAAAAAAAAAAAAAAAAAAAAAAAAAAAAAAAAAAAAAAAAAAAAAAAAAAAAAAAAAAAAAAAAAAAAAAAAAAAAAAAAAAAAAAAAAAAAAAAAAAAAAAAAAAAAAAAAAAAAAAAAAAAAAAAAAAAAAAAAAAAAAAAAAAAAAAAAAAAAAAAAAAAAAAAAAAAAAAAAAAAAAAAAAAAAAAAAAAAAAAAAAAAAAAAAAAAAAAAAAAAAAAAAAAAAAAAAAAAAAAAAAAAAAAAAAAAAAAAAAAAAAAAAAAAAAAAAAAAAAAAAAAAAAAAAAAAAAAAAAAAAAAAAAAAAAAAAAAAAAAAAAAAAAAAAAAAAAAAAAAAAAAAAAAAAAAAAAAAAAAAAAAAAAAAAAAAAAAAAAAAAAAAAAAAAAAAAAAAAAAAAAAAAAAAAAAAAAAAAAAAAAAAAAAAAAAAAAAAAAAAAAAAAAAAAAAAAAAAAAAAAAgAAAAIAAAACAAAAAgAAAAIAAAAAAAAAAgAAAAEAAAABAAAAAQAAAAEAAAABAAAAAQAAAAEAAAABAAAAAQAAAAEAAAABAAAAAQAAAAEAAAABAAAAAQAAAAEAAAABAAAAAQAAAAEAAAABAAAAAQAAAAEAAAABAAAAAQAAAAEAAAABAAAAAQAAAAEAAAABAAAAAQAAAAEAAAABAAAAAQAAAAEAAAABAAAAAQAAAAEAAAABAAAAAQAAAAEAAAABAAAAAQAAAAEAAAABAAAAAQAAAAEAAAABAAAAAQAAAAEAAAABAAAAAQAAAAEAAAABAAAAAQAAAAEAAAABAAAAAQAAAAEAAAABAAAAAQAAAAEAAAABAAAAAQAAAAEAAAABAAAAAQAAAAEAAAABAAAAAQAAAAEAAAABAAAAAQAAAAEAAAABAAAAAQAAAAEAAAABAAAAAQAAAAEAAAABAAAAAQAAAAEAAAABAAAAAQAAAAEAAAABAAAAAQAAAAEAAAABAAAAAQAAAAEAAAABAAAAAQAAAAEAAAABAAAAAQAAAAEAAAABAAAAAQAAAAEAAAABAAAAAQAAAAEAAAABAAAAAQAAAAEAAAABAAAAAQAAAAEAAAABAAAAAQAAAAEAAAABAAAAAQAAAAEAAAABAAAAAQAAAAEAAAABAAAAAQAAAAEAAAABAAAAAQAAAAEAAAABAAAAAQAAAAEAAAABAAAAAQAAAAEAAAABAAAAAQAAAAEAAAABAAAAAQAAAAEAAAABAAAAAQAAAAEAAAABAAAAAQAAAAEAAAABAAAAAQAAAAEAAAABAAAAAQAAAAEAAAABAAAAAQAAAAEAAAABAAAAAQAAAAEAAAABAAAAAQAAAAEAAAABAAAAAQAAAAEAAAABAAAAAQAAAAEAAAABAAAAAQAAAAEAAAABAAAAAQAAAAEAAAABAAAAAQAAAAEAAAABAAAAAQAAAAEAAAABAAAAAQAAAAEAAAABAAAAAQAAAAEAAAABAAAAAQAAAAEAAAABAAAAAQAAAAEAAAABAAAAAQAAAAEAAAABAAAAAQAAAAEAAAABAAAAAQAAAAEAAAABAAAAAQAAAAEAAAABAAAAAQAAAAEAAAABAAAAAQAAAAEAAAABAAAAAQAAAAEAAAABAAAAAQAAAAEAAAABAAAAAQAAAAEAAAABAAAAAQAAAAEAAAABAAAAAQAAAAEAAAABAAAAAQAAAAEAAAABAAAAAQAAAAEAAAABAAAAAQAAAAEAAAABAAAAAQAAAAEAAAABAAAAAQAAAAEAAAABAAAAAQAAAAEAAAABAAAAAQAAAAEAAAABAAAAAQAAAAEAAAABAAAAAQAAAAEAAAABAAAAAQAAAAEAAAABAAAAAQAAAAEAAAABAAAAAQAAAAEAAAABAAAAAQAAAAEAAAABAAAAAQAAAAEAAAABAAAAAQAAAAEAAAABAAAAAQAAAAEAAAABAAAAAQAAAAEAAAABAAAAAQAAAAEAAAABAAAAAQAAAAEAAAABAAAAAQAAAAEAAAABAAAAAQAAAAEAAAABAAAAAQAAAAEAAAABAAAAAQAAAAEAAAABAAAAAQAAAAEAAAABAAAAAQAAAAEAAAABAAAAAQAAAAEAAAABAAAAAQAAAAEAAAABAAAAAQAAAAEAAAABAAAAAQAAAAEAAAABAAAAAQAAAAEAAAABAAAAAQAAAAEAAAABAAAAAQAAAAEAAAABAAAAAQAAAAEAAAABAAAAAQAAAAEAAAABAAAAAQAAAAEAAAABAAAAAQAAAAEAAAABAAAAAQAAAAEAAAABAAAAAQAAAAEAAAABAAAAAQAAAAEAAAABAAAAAQAAAAEAAAABAAAAAQAAAAEAAAABAAAAAQAAAAEAAAABAAAAAQAAAAEAAAABAAAAAQAAAAEAAAABAAAAAQAAAAEAAAABAAAAAQAAAAEAAAABAAAAAQAAAAEAAAABAAAAAQAAAAEAAAABAAAAAQAAAAEAAAABAAAAAQAAAAEAAAABAAAAAQAAAAEAAAABAAAAAQAAAAEAAAABAAAAAQAAAAEAAAABAAAAAQAAAAEAAAABAAAAAQAAAAEAAAABAAAAAQAAAAEAAAABAAAAAQAAAAEAAAABAAAAAQAAAAEAAAABAAAAAQAAAAEAAAABAAAAAQAAAAEAAAABAAAAAQAAAAEAAAABAAAAAQAAAAEAAAABAAAAAQAAAAEAAAABAAAAAQAAAAEAAAACAAAAAAAAAAAAAAACAAAAAAAAAAIAAAABAAAAAQAAAAEAAAABAAAAAQAAAAEAAAABAAAAAQAAAAEAAAABAAAAAQAAAAEAAAABAAAAAQAAAAEAAAABAAAAAQAAAAEAAAABAAAAAQAAAAEAAAABAAAAAQAAAAEAAAABAAAAAQAAAAEAAAABAAAAAQAAAAEAAAABAAAAAQAAAAEAAAABAAAAAQAAAAEAAAABAAAAAQAAAAEAAAABAAAAAQAAAAEAAAABAAAAAQAAAAEAAAABAAAAAQAAAAEAAAABAAAAAQAAAAEAAAABAAAAAQAAAAEAAAABAAAAAQAAAAEAAAABAAAAAQAAAAEAAAABAAAAAQAAAAEAAAABAAAAAQAAAAEAAAABAAAAAQAAAAEAAAABAAAAAQAAAAEAAAABAAAAAQAAAAEAAAABAAAAAQAAAAEAAAABAAAAAQAAAAEAAAABAAAAAQAAAAEAAAABAAAAAQAAAAEAAAABAAAAAQAAAAEAAAABAAAAAQAAAAEAAAABAAAAAQAAAAEAAAABAAAAAQAAAAEAAAABAAAAAQAAAAEAAAABAAAAAQAAAAEAAAABAAAAAQAAAAEAAAABAAAAAQAAAAEAAAABAAAAAQAAAAEAAAABAAAAAQAAAAEAAAABAAAAAQAAAAEAAAABAAAAAQAAAAEAAAABAAAAAQAAAAEAAAABAAAAAQAAAAEAAAABAAAAAQAAAAEAAAABAAAAAQAAAAEAAAABAAAAAQAAAAEAAAABAAAAAQAAAAEAAAABAAAAAQAAAAEAAAABAAAAAQAAAAEAAAABAAAAAQAAAAEAAAABAAAAAQAAAAEAAAABAAAAAQAAAAEAAAABAAAAAQAAAAEAAAABAAAAAQAAAAEAAAABAAAAAQAAAAEAAAABAAAAAQAAAAEAAAABAAAAAQAAAAEAAAABAAAAAQAAAAEAAAABAAAAAQAAAAEAAAABAAAAAQAAAAEAAAABAAAAAQAAAAEAAAABAAAAAQAAAAEAAAABAAAAAQAAAAEAAAABAAAAAQAAAAEAAAABAAAAAQAAAAEAAAABAAAAAQAAAAEAAAABAAAAAQAAAAEAAAABAAAAAQAAAAEAAAABAAAAAQAAAAIAAAACAAAAAgAAAAEAAAABAAAAAQAAAAEAAAABAAAAAQAAAAEAAAABAAAAAQAAAAEAAAABAAAAAQAAAAEAAAABAAAAAQAAAAEAAAABAAAAAQAAAAEAAAABAAAAAQAAAAEAAAABAAAAAQAAAAEAAAABAAAAAQAAAAEAAAABAAAAAQAAAAEAAAABAAAAAQAAAAEAAAABAAAAAQAAAAEAAAABAAAAAQAAAAEAAAABAAAAAQAAAAEAAAABAAAAAQAAAAEAAAABAAAAAQAAAAEAAAABAAAAAQAAAAEAAAABAAAAAQAAAAEAAAABAAAAAQAAAAEAAAABAAAAAQAAAAEAAAABAAAAAQAAAAEAAAABAAAAAQAAAAEAAAABAAAAAQAAAAEAAAABAAAAAQAAAAEAAAABAAAAAQAAAAEAAAABAAAAAQAAAAEAAAABAAAAAQAAAAEAAAABAAAAAQAAAAEAAAABAAAAAQAAAAEAAAABAAAAAQAAAAEAAAABAAAAAQAAAAEAAAABAAAAAQAAAAEAAAABAAAAAQAAAAEAAAABAAAAAQAAAAEAAAAAAAAAAQAAAAEAAAABAAAAAQAAAAEAAAABAAAAAQAAAAEAAAABAAAAAQAAAAEAAAABAAAAAQAAAAEAAAABAAAAAQAAAAEAAAABAAAAAQAAAAEAAAABAAAAAQAAAAEAAAABAAAAAQAAAAEAAAABAAAAAQAAAAEAAAABAAAAAQAAAAEAAAABAAAAAQAAAAEAAAABAAAAAQAAAAEAAAABAAAAAQAAAAEAAAABAAAAAQAAAAEAAAABAAAAAQAAAAEAAAABAAAAAQAAAAEAAAABAAAAAQAAAAEAAAABAAAAAQAAAAEAAAABAAAAAQAAAAEAAAABAAAAAQAAAAEAAAABAAAAAQAAAAEAAAABAAAAAQAAAAEAAAABAAAAAQAAAAEAAAABAAAAAQAAAAEAAAABAAAAAQAAAAEAAAABAAAAAQAAAAEAAAABAAAAAQAAAAEAAAABAAAAAQAAAAEAAAABAAAAAQAAAAEAAAABAAAAAQAAAAEAAAABAAAAAQAAAAEAAAABAAAAAQAAAAEAAAABAAAAAQAAAAEAAAABAAAAAQAAAAEAAAABAAAAAQAAAAEAAAABAAAAAQAAAAEAAAABAAAAAQAAAAEAAAABAAAAAQAAAAEAAAABAAAAAQAAAAEAAAABAAAAAQAAAAEAAAABAAAAAQAAAAEAAAABAAAAAQAAAAEAAAABAAAAAQAAAAEAAAABAAAAAQAAAAEAAAABAAAAAQAAAAEAAAABAAAAAQAAAAEAAAABAAAAAQAAAAEAAAABAAAAAQAAAAEAAAABAAAAAQAAAAEAAAABAAAAAQAAAAEAAAABAAAAAQAAAAEAAAABAAAAAQAAAAEAAAABAAAAAQAAAAEAAAABAAAAAQAAAAEAAAABAAAAAQAAAAEAAAABAAAAAQAAAAEAAAABAAAAAQAAAAEAAAABAAAAAQAAAAEAAAABAAAAAQAAAAEAAAABAAAAAQAAAAEAAAABAAAAAQAAAAEAAAABAAAAAQAAAAEAAAABAAAAAQAAAAEAAAABAAAAAQAAAAEAAAABAAAAAQAAAAEAAAABAAAAAQAAAAEAAAABAAAAAQAAAAEAAAABAAAAAQAAAAEAAAABAAAAAQAAAAEAAAABAAAAAQAAAAEAAAABAAAAAQAAAAEAAAABAAAAAQAAAAEAAAABAAAAAQAAAAEAAAABAAAAAQAAAAEAAAABAAAAAQAAAAEAAAABAAAAAQAAAAEAAAABAAAAAQAAAAEAAAABAAAAAQAAAAEAAAABAAAAAQAAAAEAAAABAAAAAQAAAAEAAAABAAAAAQAAAAEAAAABAAAAAQAAAAEAAAABAAAAAQAAAAEAAAABAAAAAQAAAAEAAAABAAAAAQAAAAEAAAABAAAAAQAAAAEAAAABAAAAAQAAAAEAAAABAAAAAQAAAAEAAAABAAAAAQAAAAEAAAABAAAAAQAAAAEAAAABAAAAAQAAAAEAAAABAAAAAQAAAAEAAAABAAAAAQAAAAEAAAABAAAAAQAAAAEAAAABAAAAAQAAAAEAAAABAAAAAQAAAAEAAAABAAAAAQAAAAEAAAABAAAAAQAAAAEAAAABAAAAAQAAAAEAAAABAAAAAQAAAAEAAAABAAAAAQAAAAEAAAABAAAAAQAAAAEAAAABAAAAAQAAAAEAAAABAAAAAQAAAAEAAAABAAAAAQAAAAEAAAABAAAAAQAAAAEAAAABAAAAAQAAAAEAAAABAAAAAQAAAAEAAAABAAAAAQAAAAEAAAABAAAAAQAAAAEAAAABAAAAAQAAAAEAAAABAAAAAQAAAAEAAAABAAAAAQAAAAEAAAABAAAAAQAAAAEAAAABAAAAAQAAAAEAAAABAAAAAQAAAAEAAAABAAAAAQAAAAEAAAABAAAAAQAAAAEAAAABAAAAAQAAAAEAAAABAAAAAQAAAAEAAAABAAAAAQAAAAEAAAABAAAAAQAAAAEAAAABAAAAAQAAAAEAAAABAAAAAQAAAAEAAAABAAAAAQAAAAEAAAABAAAAAQAAAAEAAAABAAAAAQAAAAEAAAABAAAAAQAAAAEAAAABAAAAAQAAAAEAAAABAAAAAQAAAAEAAAABAAAAAQAAAAEAAAABAAAAAQAAAAEAAAABAAAAAQAAAAEAAAABAAAAAQAAAAEAAAABAAAAAQAAAAEAAAABAAAAAQAAAAEAAAABAAAAAQAAAAEAAAABAAAAAQAAAAEAAAABAAAAAQAAAAEAAAABAAAAAQAAAAEAAAABAAAAAQAAAAEAAAABAAAAAQAAAAEAAAABAAAAAQAAAAEAAAABAAAAAQAAAAEAAAABAAAAAQAAAAEAAAABAAAAAQAAAAEAAAABAAAAAQAAAAEAAAABAAAAAQAAAAEAAAABAAAAAQAAAAEAAAABAAAAAQAAAAEAAAABAAAAAQAAAAEAAAABAAAAAQAAAAEAAAABAAAAAQAAAAEAAAABAAAAAQAAAAEAAAABAAAAAQAAAAEAAAABAAAAAQAAAAEAAAABAAAAAQAAAAEAAAABAAAAAQAAAAEAAAABAAAAAQAAAAEAAAABAAAAAQAAAAEAAAABAAAAAQAAAAEAAAABAAAAAQAAAAEAAAABAAAAAQAAAAEAAAABAAAAAQAAAAEAAAABAAAAAQAAAAEAAAABAAAAAQAAAAEAAAABAAAAAQAAAAEAAAABAAAAAQAAAAEAAAABAAAAAQAAAAEAAAABAAAAAQAAAAEAAAABAAAAAQAAAAEAAAABAAAAAQAAAAEAAAABAAAAAQAAAAEAAAABAAAAAQAAAAEAAAABAAAAAQAAAAEAAAABAAAAAQAAAAEAAAABAAAAAQAAAAEAAAABAAAAAQAAAAEAAAABAAAAAQAAAAEAAAABAAAAAQAAAAEAAAABAAAAAQAAAAEAAAABAAAAAQAAAAEAAAABAAAAAQAAAAEAAAABAAAAAQAAAAEAAAABAAAAAQAAAAEAAAABAAAAAQAAAAEAAAABAAAAAQAAAAEAAAABAAAAAQAAAAEAAAABAAAAAQAAAAEAAAABAAAAAQAAAAEAAAABAAAAAQAAAAEAAAABAAAAAQAAAAEAAAABAAAAAQAAAAEAAAABAAAAAQAAAAEAAAABAAAAAQAAAAEAAAABAAAAAQAAAAEAAAABAAAAAQAAAAEAAAABAAAAAQAAAAEAAAABAAAAAQAAAAEAAAABAAAAAQAAAAEAAAABAAAAAQAAAAEAAAABAAAAAQAAAAEAAAABAAAAAQAAAAEAAAABAAAAAQAAAAEAAAABAAAAAQAAAAEAAAABAAAAAQAAAAEAAAABAAAAAQAAAAEAAAABAAAAAQAAAAEAAAABAAAAAQAAAAEAAAABAAAAAQAAAAEAAAABAAAAAQAAAAEAAAABAAAAAQAAAAEAAAABAAAAAQAAAAEAAAABAAAAAQAAAAEAAAABAAAAAQAAAAEAAAABAAAAAQAAAAEAAAABAAAAAQAAAAEAAAABAAAAAQAAAAEAAAABAAAAAQAAAAEAAAABAAAAAQAAAAEAAAABAAAAAQAAAAEAAAABAAAAAQAAAAEAAAABAAAAAQAAAAEAAAABAAAAAQAAAAEAAAABAAAAAQAAAAEAAAABAAAAAQAAAAEAAAABAAAAAQAAAAEAAAABAAAAAQAAAAEAAAABAAAAAQAAAAEAAAABAAAAAQAAAAEAAAABAAAAAQAAAAEAAAABAAAAAQAAAAEAAAABAAAAAQAAAAEAAAABAAAAAQAAAAEAAAABAAAAAQAAAAEAAAABAAAAAQAAAAEAAAABAAAAAQAAAAEAAAABAAAAAQAAAAEAAAABAAAAAQAAAAEAAAABAAAAAQAAAAMAAAADAAAAAwAAAAMAAAADAAAAAwAAAAMAAAAAAAAAAAAAAAAAAAAAAAAAAgAAAAAAAAAAAAAAAgAAAAAAAAAAAAAAAgAAAAAAAAAAAAAAAgAAAAAAAAAAAAAAAAAAAAAAAAACAAAAAAAAAAAAAAACAAAAAAAAAAAAAAADAAAAAwAAAAIAAAACAAAAAgAAAAIAAAACAAAAAgAAAAIAAAACAAAAAgAAAAIAAAACAAAAAgAAAAIAAAACAAAAAgAAAAIAAAACAAAAAgAAAAIAAAACAAAAAwAAAAMAAAADAAAAAwAAAAMAAAADAAAAAwAAAAMAAAADAAAAAwAAAAMAAAADAAAAAwAAAAMAAAADAAAAAwAAAAMAAAADAAAAAAAAAAAAAAACAAAAAgAAAAIAAAAAAAAAAwAAAAMAAAADAAAAAwAAAAMAAAADAAAAAwAAAAMAAAADAAAAAwAAAAMAAAADAAAAAAAAAAAAAAAAAAAAAwAAAAMAAAACAAAAAgAAAAIAAAACAAAAAgAAAAIAAAACAAAAAgAAAAIAAAAAAAAAAAAAAAIAAAADAAAAAwAAAAAAAAADAAAAAwAAAAMAAAADAAAAAwAAAAMAAAADAAAAAwAAAAMAAAADAAAAAwAAAAMAAAAAAAAAAwAAAAAAAAADAAAAAAAAAAMAAAAAAAAAAwAAAAMAAAAAAAAAAwAAAAMAAAAAAAAAAwAAAAMAAAAAAAAAAAAAAAAAAAAAAAAAAAAAAAMAAAAAAAAAAAAAAAAAAAAAAAAAAAAAAAAAAAAAAAAAAAAAAAAAAAAAAAAAAwAAAAAAAAAAAAAAAwAAAAAAAAAAAAAAAwAAAAAAAAAAAAAAAAAAAAAAAAADAAAAAwAAAAMAAAADAAAAAwAAAAMAAAADAAAAAwAAAAMAAAADAAAAAwAAAAMAAAADAAAAAwAAAAMAAAADAAAAAwAAAAMAAAAAAAAAAAAAAAAAAAAAAAAAAAAAAAAAAAAAAAAAAAAAAAAAAAAAAAAAAAAAAAAAAAAAAAAAAAAAAAAAAAAAAAAAAAAAAAAAAAAAAAAAAAAAAAAAAAAAAAAAAAAAAAAAAAAAAAAAAAAAAAAAAAAAAAAAAAAAAAAAAAAAAAAAAAAAAAAAAAAAAAAAAAAAAAAAAAAAAAAAAAAAAAAAAAAAAAAAAAAAAAAAAAAAAAAAAAAAAAAAAAAAAAAAAAAAAAAAAAAAAAAAAAAAAAAAAAAAAAAAAAAAAAAAAAAAAAAAAAAAAAAAAAAAAAAAAAAAAAAAAAAAAAAAAAAAAAAAAAAAAAAAAAAAAAAAAAAAAAAAAAAAAAAAAAAAAAAAAAAAAAAAAAADAAAAAwAAAAMAAAADAAAAAAAAAAAAAAAAAAAAAAAAAAAAAAAAAAAAAAAAAAAAAAAAAAAAAAAAAAAAAAAAAAAAAAAAAAAAAAAAAAAAAAAAAAAAAAAAAAAAAAAAAAAAAAAAAAAAAAAAAAAAAAAAAAAAAAAAAAAAAAAAAAAAAAAAAAAAAAAAAAAAAAAAAAAAAAAAAAAAAAAAAAAAAAAAAAAAAAAAAAAAAAAAAAAAAAAAAAAAAAAAAAAAAAAAAAAAAAAAAAAAAAAAAAAAAAAAAAAAAAAAAAAAAAAAAAAAAAAAAAAAAAAAAAAAAAAAAAAAAAAAAAAAAAAAAAAAAAAAAAAAAAAAAAAAAAAAAAAAAAAAAAAAAAAAAAAAAAAAAAAAAAAAAAAAAAAAAAAAAAAAAAAAAAAAAAAAAAAAAAAAAAAAAAAAAAAAAAAAAAAAAAAAAAAAAAAAAAAAAAAAAAAAAAAAAAAAAAAAAAAAAAAAAAAAAAAAAAAAAAAAAAAAAAAAAAAAAAAAAgAAAAIAAAACAAAAAAAAAAAAAAAAAAAAAAAAAAAAAAAAAAAAAAAAAAAAAAAAAAAAAAAAAAMAAAADAAAAAwAAAAAAAAADAAAAAwAAAAMAAAADAAAAAwAAAAMAAAADAAAAAAAAAAAAAAADAAAAAwAAAAMAAAADAAAAAAAAAAAAAAADAAAAAAAAAAAAAAADAAAAAAAAAAMAAAAAAAAAAwAAAAMAAAADAAAAAwAAAAMAAAADAAAAAwAAAAAAAAAAAAAAAwAAAAMAAAADAAAAAwAAAAMAAAAAAAAAAAAAAAMAAAADAAAAAwAAAAMAAAADAAAAAwAAAAMAAAADAAAAAwAAAAMAAAADAAAAAwAAAAMAAAADAAAAAwAAAAMAAAADAAAAAAAAAAIAAAACAAAAAgAAAAIAAAACAAAAAgAAAAIAAAACAAAAAgAAAAAAAAAAAAAAAAAAAAAAAAACAAAAAgAAAAAAAAAAAAAAAAAAAAAAAAAAAAAAAAAAAAAAAAAAAAAAAAAAAAAAAAAAAAAAAAAAAAAAAAAAAAAAAAAAAAAAAAAAAAAAAAAAAAAAAAAAAAAAAAAAAAAAAAAAAAAAAAAAAAAAAAAAAAAAAAAAAAAAAAAAAAAAAAAAAAAAAAAAAAAAAAAAAAAAAAAAAAAAAAAAAAAAAAAAAAAAAgAAAAIAAAAAAAAAAwAAAAMAAAADAAAAAwAAAAMAAAADAAAAAwAAAAMAAAADAAAAAwAAAAMAAAADAAAAAwAAAAMAAAADAAAAAwAAAAMAAAADAAAAAwAAAAMAAAADAAAAAwAAAAMAAAADAAAAAwAAAAMAAAADAAAAAwAAAAMAAAADAAAAAwAAAAMAAAADAAAAAwAAAAMAAAAAAAAAAgAAAAAAAAACAAAAAgAAAAIAAAACAAAAAgAAAAIAAAACAAAAAgAAAAIAAAACAAAAAgAAAAAAAAACAAAAAgAAAAIAAAACAAAAAAAAAAAAAAAAAAAAAAAAAAAAAAADAAAAAAAAAAMAAAAAAAAAAwAAAAMAAAAAAAAAAwAAAAMAAAAAAAAAAAAAAAMAAAADAAAAAwAAAAMAAAAAAAAAAAAAAAAAAAAAAAAAAAAAAAMAAAADAAAAAwAAAAAAAAADAAAAAwAAAAMAAAAAAAAAAAAAAAMAAAAAAAAAAwAAAAAAAAADAAAAAwAAAAMAAAADAAAAAgAAAAIAAAAAAAAAAAAAAAAAAAAAAAAAAAAAAAAAAAAAAAAAAAAAAAIAAAAAAAAAAAAAAAAAAAAAAAAAAAAAAAIAAAACAAAAAgAAAAIAAAACAAAAAgAAAAIAAAACAAAAAgAAAAIAAAAAAAAAAgAAAAAAAAACAAAAAAAAAAMAAAACAAAAAwAAAAMAAAADAAAAAwAAAAMAAAACAAAAAgAAAAAAAAACAAAAAgAAAAIAAAACAAAAAAAAAAIAAAACAAAAAAAAAA==",
          "dtype": "i4"
         },
         "xaxis": "x",
         "yaxis": "y"
        }
       ],
       "layout": {
        "barmode": "relative",
        "legend": {
         "tracegroupgap": 0
        },
        "template": {
         "data": {
          "bar": [
           {
            "error_x": {
             "color": "#2a3f5f"
            },
            "error_y": {
             "color": "#2a3f5f"
            },
            "marker": {
             "line": {
              "color": "#E5ECF6",
              "width": 0.5
             },
             "pattern": {
              "fillmode": "overlay",
              "size": 10,
              "solidity": 0.2
             }
            },
            "type": "bar"
           }
          ],
          "barpolar": [
           {
            "marker": {
             "line": {
              "color": "#E5ECF6",
              "width": 0.5
             },
             "pattern": {
              "fillmode": "overlay",
              "size": 10,
              "solidity": 0.2
             }
            },
            "type": "barpolar"
           }
          ],
          "carpet": [
           {
            "aaxis": {
             "endlinecolor": "#2a3f5f",
             "gridcolor": "white",
             "linecolor": "white",
             "minorgridcolor": "white",
             "startlinecolor": "#2a3f5f"
            },
            "baxis": {
             "endlinecolor": "#2a3f5f",
             "gridcolor": "white",
             "linecolor": "white",
             "minorgridcolor": "white",
             "startlinecolor": "#2a3f5f"
            },
            "type": "carpet"
           }
          ],
          "choropleth": [
           {
            "colorbar": {
             "outlinewidth": 0,
             "ticks": ""
            },
            "type": "choropleth"
           }
          ],
          "contour": [
           {
            "colorbar": {
             "outlinewidth": 0,
             "ticks": ""
            },
            "colorscale": [
             [
              0,
              "#0d0887"
             ],
             [
              0.1111111111111111,
              "#46039f"
             ],
             [
              0.2222222222222222,
              "#7201a8"
             ],
             [
              0.3333333333333333,
              "#9c179e"
             ],
             [
              0.4444444444444444,
              "#bd3786"
             ],
             [
              0.5555555555555556,
              "#d8576b"
             ],
             [
              0.6666666666666666,
              "#ed7953"
             ],
             [
              0.7777777777777778,
              "#fb9f3a"
             ],
             [
              0.8888888888888888,
              "#fdca26"
             ],
             [
              1,
              "#f0f921"
             ]
            ],
            "type": "contour"
           }
          ],
          "contourcarpet": [
           {
            "colorbar": {
             "outlinewidth": 0,
             "ticks": ""
            },
            "type": "contourcarpet"
           }
          ],
          "heatmap": [
           {
            "colorbar": {
             "outlinewidth": 0,
             "ticks": ""
            },
            "colorscale": [
             [
              0,
              "#0d0887"
             ],
             [
              0.1111111111111111,
              "#46039f"
             ],
             [
              0.2222222222222222,
              "#7201a8"
             ],
             [
              0.3333333333333333,
              "#9c179e"
             ],
             [
              0.4444444444444444,
              "#bd3786"
             ],
             [
              0.5555555555555556,
              "#d8576b"
             ],
             [
              0.6666666666666666,
              "#ed7953"
             ],
             [
              0.7777777777777778,
              "#fb9f3a"
             ],
             [
              0.8888888888888888,
              "#fdca26"
             ],
             [
              1,
              "#f0f921"
             ]
            ],
            "type": "heatmap"
           }
          ],
          "histogram": [
           {
            "marker": {
             "pattern": {
              "fillmode": "overlay",
              "size": 10,
              "solidity": 0.2
             }
            },
            "type": "histogram"
           }
          ],
          "histogram2d": [
           {
            "colorbar": {
             "outlinewidth": 0,
             "ticks": ""
            },
            "colorscale": [
             [
              0,
              "#0d0887"
             ],
             [
              0.1111111111111111,
              "#46039f"
             ],
             [
              0.2222222222222222,
              "#7201a8"
             ],
             [
              0.3333333333333333,
              "#9c179e"
             ],
             [
              0.4444444444444444,
              "#bd3786"
             ],
             [
              0.5555555555555556,
              "#d8576b"
             ],
             [
              0.6666666666666666,
              "#ed7953"
             ],
             [
              0.7777777777777778,
              "#fb9f3a"
             ],
             [
              0.8888888888888888,
              "#fdca26"
             ],
             [
              1,
              "#f0f921"
             ]
            ],
            "type": "histogram2d"
           }
          ],
          "histogram2dcontour": [
           {
            "colorbar": {
             "outlinewidth": 0,
             "ticks": ""
            },
            "colorscale": [
             [
              0,
              "#0d0887"
             ],
             [
              0.1111111111111111,
              "#46039f"
             ],
             [
              0.2222222222222222,
              "#7201a8"
             ],
             [
              0.3333333333333333,
              "#9c179e"
             ],
             [
              0.4444444444444444,
              "#bd3786"
             ],
             [
              0.5555555555555556,
              "#d8576b"
             ],
             [
              0.6666666666666666,
              "#ed7953"
             ],
             [
              0.7777777777777778,
              "#fb9f3a"
             ],
             [
              0.8888888888888888,
              "#fdca26"
             ],
             [
              1,
              "#f0f921"
             ]
            ],
            "type": "histogram2dcontour"
           }
          ],
          "mesh3d": [
           {
            "colorbar": {
             "outlinewidth": 0,
             "ticks": ""
            },
            "type": "mesh3d"
           }
          ],
          "parcoords": [
           {
            "line": {
             "colorbar": {
              "outlinewidth": 0,
              "ticks": ""
             }
            },
            "type": "parcoords"
           }
          ],
          "pie": [
           {
            "automargin": true,
            "type": "pie"
           }
          ],
          "scatter": [
           {
            "fillpattern": {
             "fillmode": "overlay",
             "size": 10,
             "solidity": 0.2
            },
            "type": "scatter"
           }
          ],
          "scatter3d": [
           {
            "line": {
             "colorbar": {
              "outlinewidth": 0,
              "ticks": ""
             }
            },
            "marker": {
             "colorbar": {
              "outlinewidth": 0,
              "ticks": ""
             }
            },
            "type": "scatter3d"
           }
          ],
          "scattercarpet": [
           {
            "marker": {
             "colorbar": {
              "outlinewidth": 0,
              "ticks": ""
             }
            },
            "type": "scattercarpet"
           }
          ],
          "scattergeo": [
           {
            "marker": {
             "colorbar": {
              "outlinewidth": 0,
              "ticks": ""
             }
            },
            "type": "scattergeo"
           }
          ],
          "scattergl": [
           {
            "marker": {
             "colorbar": {
              "outlinewidth": 0,
              "ticks": ""
             }
            },
            "type": "scattergl"
           }
          ],
          "scattermap": [
           {
            "marker": {
             "colorbar": {
              "outlinewidth": 0,
              "ticks": ""
             }
            },
            "type": "scattermap"
           }
          ],
          "scattermapbox": [
           {
            "marker": {
             "colorbar": {
              "outlinewidth": 0,
              "ticks": ""
             }
            },
            "type": "scattermapbox"
           }
          ],
          "scatterpolar": [
           {
            "marker": {
             "colorbar": {
              "outlinewidth": 0,
              "ticks": ""
             }
            },
            "type": "scatterpolar"
           }
          ],
          "scatterpolargl": [
           {
            "marker": {
             "colorbar": {
              "outlinewidth": 0,
              "ticks": ""
             }
            },
            "type": "scatterpolargl"
           }
          ],
          "scatterternary": [
           {
            "marker": {
             "colorbar": {
              "outlinewidth": 0,
              "ticks": ""
             }
            },
            "type": "scatterternary"
           }
          ],
          "surface": [
           {
            "colorbar": {
             "outlinewidth": 0,
             "ticks": ""
            },
            "colorscale": [
             [
              0,
              "#0d0887"
             ],
             [
              0.1111111111111111,
              "#46039f"
             ],
             [
              0.2222222222222222,
              "#7201a8"
             ],
             [
              0.3333333333333333,
              "#9c179e"
             ],
             [
              0.4444444444444444,
              "#bd3786"
             ],
             [
              0.5555555555555556,
              "#d8576b"
             ],
             [
              0.6666666666666666,
              "#ed7953"
             ],
             [
              0.7777777777777778,
              "#fb9f3a"
             ],
             [
              0.8888888888888888,
              "#fdca26"
             ],
             [
              1,
              "#f0f921"
             ]
            ],
            "type": "surface"
           }
          ],
          "table": [
           {
            "cells": {
             "fill": {
              "color": "#EBF0F8"
             },
             "line": {
              "color": "white"
             }
            },
            "header": {
             "fill": {
              "color": "#C8D4E3"
             },
             "line": {
              "color": "white"
             }
            },
            "type": "table"
           }
          ]
         },
         "layout": {
          "annotationdefaults": {
           "arrowcolor": "#2a3f5f",
           "arrowhead": 0,
           "arrowwidth": 1
          },
          "autotypenumbers": "strict",
          "coloraxis": {
           "colorbar": {
            "outlinewidth": 0,
            "ticks": ""
           }
          },
          "colorscale": {
           "diverging": [
            [
             0,
             "#8e0152"
            ],
            [
             0.1,
             "#c51b7d"
            ],
            [
             0.2,
             "#de77ae"
            ],
            [
             0.3,
             "#f1b6da"
            ],
            [
             0.4,
             "#fde0ef"
            ],
            [
             0.5,
             "#f7f7f7"
            ],
            [
             0.6,
             "#e6f5d0"
            ],
            [
             0.7,
             "#b8e186"
            ],
            [
             0.8,
             "#7fbc41"
            ],
            [
             0.9,
             "#4d9221"
            ],
            [
             1,
             "#276419"
            ]
           ],
           "sequential": [
            [
             0,
             "#0d0887"
            ],
            [
             0.1111111111111111,
             "#46039f"
            ],
            [
             0.2222222222222222,
             "#7201a8"
            ],
            [
             0.3333333333333333,
             "#9c179e"
            ],
            [
             0.4444444444444444,
             "#bd3786"
            ],
            [
             0.5555555555555556,
             "#d8576b"
            ],
            [
             0.6666666666666666,
             "#ed7953"
            ],
            [
             0.7777777777777778,
             "#fb9f3a"
            ],
            [
             0.8888888888888888,
             "#fdca26"
            ],
            [
             1,
             "#f0f921"
            ]
           ],
           "sequentialminus": [
            [
             0,
             "#0d0887"
            ],
            [
             0.1111111111111111,
             "#46039f"
            ],
            [
             0.2222222222222222,
             "#7201a8"
            ],
            [
             0.3333333333333333,
             "#9c179e"
            ],
            [
             0.4444444444444444,
             "#bd3786"
            ],
            [
             0.5555555555555556,
             "#d8576b"
            ],
            [
             0.6666666666666666,
             "#ed7953"
            ],
            [
             0.7777777777777778,
             "#fb9f3a"
            ],
            [
             0.8888888888888888,
             "#fdca26"
            ],
            [
             1,
             "#f0f921"
            ]
           ]
          },
          "colorway": [
           "#636efa",
           "#EF553B",
           "#00cc96",
           "#ab63fa",
           "#FFA15A",
           "#19d3f3",
           "#FF6692",
           "#B6E880",
           "#FF97FF",
           "#FECB52"
          ],
          "font": {
           "color": "#2a3f5f"
          },
          "geo": {
           "bgcolor": "white",
           "lakecolor": "white",
           "landcolor": "#E5ECF6",
           "showlakes": true,
           "showland": true,
           "subunitcolor": "white"
          },
          "hoverlabel": {
           "align": "left"
          },
          "hovermode": "closest",
          "mapbox": {
           "style": "light"
          },
          "paper_bgcolor": "white",
          "plot_bgcolor": "#E5ECF6",
          "polar": {
           "angularaxis": {
            "gridcolor": "white",
            "linecolor": "white",
            "ticks": ""
           },
           "bgcolor": "#E5ECF6",
           "radialaxis": {
            "gridcolor": "white",
            "linecolor": "white",
            "ticks": ""
           }
          },
          "scene": {
           "xaxis": {
            "backgroundcolor": "#E5ECF6",
            "gridcolor": "white",
            "gridwidth": 2,
            "linecolor": "white",
            "showbackground": true,
            "ticks": "",
            "zerolinecolor": "white"
           },
           "yaxis": {
            "backgroundcolor": "#E5ECF6",
            "gridcolor": "white",
            "gridwidth": 2,
            "linecolor": "white",
            "showbackground": true,
            "ticks": "",
            "zerolinecolor": "white"
           },
           "zaxis": {
            "backgroundcolor": "#E5ECF6",
            "gridcolor": "white",
            "gridwidth": 2,
            "linecolor": "white",
            "showbackground": true,
            "ticks": "",
            "zerolinecolor": "white"
           }
          },
          "shapedefaults": {
           "line": {
            "color": "#2a3f5f"
           }
          },
          "ternary": {
           "aaxis": {
            "gridcolor": "white",
            "linecolor": "white",
            "ticks": ""
           },
           "baxis": {
            "gridcolor": "white",
            "linecolor": "white",
            "ticks": ""
           },
           "bgcolor": "#E5ECF6",
           "caxis": {
            "gridcolor": "white",
            "linecolor": "white",
            "ticks": ""
           }
          },
          "title": {
           "x": 0.05
          },
          "xaxis": {
           "automargin": true,
           "gridcolor": "white",
           "linecolor": "white",
           "ticks": "",
           "title": {
            "standoff": 15
           },
           "zerolinecolor": "white",
           "zerolinewidth": 2
          },
          "yaxis": {
           "automargin": true,
           "gridcolor": "white",
           "linecolor": "white",
           "ticks": "",
           "title": {
            "standoff": 15
           },
           "zerolinecolor": "white",
           "zerolinewidth": 2
          }
         }
        },
        "title": {
         "text": "User Count by Cluster Segment"
        },
        "xaxis": {
         "anchor": "y",
         "domain": [
          0,
          1
         ],
         "title": {
          "text": "cluster"
         }
        },
        "yaxis": {
         "anchor": "x",
         "domain": [
          0,
          1
         ],
         "title": {
          "text": "count"
         }
        }
       }
      }
     },
     "metadata": {},
     "output_type": "display_data"
    }
   ],
   "source": [
    "fig = px.histogram(final_user_df, x=\"cluster\", title=\"User Count by Cluster Segment\")\n",
    "fig.show()"
   ]
  },
  {
   "cell_type": "code",
   "execution_count": 17,
   "metadata": {},
   "outputs": [
    {
     "data": {
      "application/vnd.plotly.v1+json": {
       "config": {
        "plotlyServerURL": "https://plot.ly"
       },
       "data": [
        {
         "bingroup": "x",
         "hovertemplate": "dress_preference=elegant<br>cluster=%{x}<br>count=%{y}<extra></extra>",
         "legendgroup": "elegant",
         "marker": {
          "color": "#636efa",
          "pattern": {
           "shape": ""
          }
         },
         "name": "elegant",
         "orientation": "v",
         "showlegend": true,
         "type": "histogram",
         "x": {
          "bdata": "AwAAAAMAAAADAAAAAwAAAAMAAAADAAAAAwAAAAMAAAADAAAAAwAAAAMAAAADAAAAAwAAAAMAAAADAAAAAwAAAAMAAAADAAAAAwAAAAMAAAADAAAAAwAAAAMAAAADAAAAAwAAAAMAAAADAAAAAwAAAAMAAAADAAAAAwAAAAMAAAADAAAAAwAAAAMAAAADAAAAAwAAAAMAAAAAAAAAAAAAAAAAAAAAAAAAAAAAAAAAAAAAAAAAAAAAAAAAAAAAAAAAAAAAAAAAAAAAAAAAAAAAAAAAAAAAAAAAAAAAAAAAAAAAAAAAAAAAAAAAAAAAAAAAAAAAAAAAAAAAAAAAAAAAAAAAAAAAAAAAAAAAAAAAAAAAAAAAAAAAAAAAAAAAAAAAAAAAAAAAAAAAAAAAAAAAAAAAAAAAAAAA",
          "dtype": "i4"
         },
         "xaxis": "x",
         "yaxis": "y"
        },
        {
         "bingroup": "x",
         "hovertemplate": "dress_preference=informal<br>cluster=%{x}<br>count=%{y}<extra></extra>",
         "legendgroup": "informal",
         "marker": {
          "color": "#EF553B",
          "pattern": {
           "shape": ""
          }
         },
         "name": "informal",
         "orientation": "v",
         "showlegend": true,
         "type": "histogram",
         "x": {
          "bdata": "AgAAAAAAAAACAAAAAAAAAAIAAAADAAAAAwAAAAMAAAADAAAAAwAAAAMAAAADAAAAAwAAAAAAAAAAAAAAAAAAAAMAAAADAAAAAwAAAAMAAAADAAAAAwAAAAMAAAAAAAAAAAAAAAMAAAADAAAAAwAAAAMAAAADAAAAAwAAAAMAAAACAAAAAgAAAAIAAAACAAAAAgAAAAIAAAACAAAAAgAAAAMAAAADAAAAAwAAAAMAAAACAAAAAgAAAAIAAAACAAAAAgAAAAIAAAACAAAAAgAAAAIAAAACAAAAAgAAAAIAAAACAAAAAgAAAAIAAAACAAAAAgAAAAIAAAACAAAAAgAAAAIAAAACAAAAAgAAAAIAAAACAAAAAgAAAAIAAAACAAAAAgAAAAIAAAACAAAAAgAAAAIAAAACAAAAAgAAAAIAAAACAAAAAgAAAAIAAAACAAAAAgAAAAIAAAACAAAAAgAAAAIAAAACAAAAAgAAAAIAAAACAAAAAgAAAAIAAAACAAAAAgAAAAIAAAACAAAAAgAAAAIAAAACAAAAAgAAAAIAAAACAAAAAgAAAAIAAAACAAAAAgAAAAIAAAACAAAAAgAAAAIAAAACAAAAAgAAAAIAAAACAAAAAgAAAAIAAAACAAAAAgAAAAIAAAACAAAAAgAAAAIAAAACAAAAAgAAAAIAAAACAAAAAgAAAAIAAAACAAAAAgAAAAIAAAACAAAAAgAAAAIAAAACAAAAAgAAAAIAAAACAAAAAgAAAAIAAAACAAAAAgAAAAIAAAACAAAAAgAAAAIAAAACAAAAAgAAAAIAAAACAAAAAgAAAAIAAAACAAAAAgAAAAIAAAACAAAAAgAAAAIAAAACAAAAAgAAAAIAAAACAAAAAgAAAAIAAAACAAAAAgAAAAIAAAACAAAAAgAAAAIAAAACAAAAAgAAAAIAAAACAAAAAgAAAAIAAAACAAAAAgAAAAIAAAACAAAAAgAAAAIAAAACAAAAAgAAAAIAAAACAAAAAgAAAAIAAAACAAAAAgAAAAIAAAACAAAAAgAAAAIAAAACAAAAAgAAAAIAAAACAAAAAgAAAAIAAAACAAAAAgAAAAIAAAACAAAAAgAAAAIAAAACAAAAAgAAAAIAAAACAAAAAgAAAAIAAAACAAAAAgAAAAIAAAACAAAAAgAAAAIAAAACAAAAAgAAAAIAAAACAAAAAgAAAAIAAAACAAAAAgAAAAIAAAACAAAAAgAAAAIAAAACAAAAAgAAAAIAAAACAAAAAgAAAAIAAAACAAAAAgAAAAIAAAACAAAAAgAAAAIAAAACAAAAAgAAAAIAAAACAAAAAgAAAAIAAAACAAAAAgAAAAIAAAACAAAAAgAAAAIAAAACAAAAAgAAAAIAAAACAAAAAgAAAAIAAAACAAAAAgAAAAIAAAACAAAAAgAAAAIAAAACAAAAAgAAAAIAAAACAAAAAgAAAAIAAAACAAAAAgAAAAIAAAACAAAAAgAAAAIAAAACAAAAAgAAAAIAAAACAAAAAgAAAAIAAAACAAAAAgAAAAIAAAACAAAAAgAAAAIAAAACAAAAAgAAAAIAAAACAAAAAgAAAAIAAAACAAAAAgAAAAIAAAACAAAAAgAAAAIAAAACAAAAAgAAAAIAAAACAAAAAgAAAAIAAAACAAAAAgAAAAIAAAACAAAAAgAAAAIAAAACAAAAAgAAAAIAAAACAAAAAgAAAAIAAAACAAAAAgAAAAIAAAACAAAAAgAAAAIAAAACAAAAAgAAAAIAAAACAAAAAgAAAAIAAAACAAAAAgAAAAIAAAACAAAAAgAAAAIAAAACAAAAAgAAAAIAAAACAAAAAgAAAAIAAAACAAAAAgAAAAIAAAACAAAAAgAAAAIAAAACAAAAAgAAAAIAAAACAAAAAgAAAAIAAAACAAAAAgAAAAIAAAACAAAAAgAAAAIAAAACAAAAAgAAAAIAAAACAAAAAgAAAAIAAAACAAAAAgAAAAIAAAACAAAAAgAAAAIAAAACAAAAAgAAAAIAAAACAAAAAgAAAAIAAAACAAAAAgAAAAIAAAACAAAAAgAAAAIAAAACAAAAAgAAAAIAAAACAAAAAgAAAAIAAAACAAAAAgAAAAIAAAACAAAAAgAAAAIAAAACAAAAAgAAAAIAAAACAAAAAgAAAAIAAAACAAAAAgAAAAIAAAACAAAAAgAAAAIAAAACAAAAAgAAAAIAAAACAAAAAgAAAAIAAAACAAAAAgAAAAIAAAACAAAAAgAAAAIAAAACAAAAAgAAAAIAAAACAAAAAgAAAAIAAAACAAAAAgAAAAIAAAACAAAAAgAAAAIAAAACAAAAAgAAAAIAAAACAAAAAgAAAAIAAAACAAAAAgAAAAIAAAACAAAAAgAAAAIAAAACAAAAAgAAAAIAAAACAAAAAgAAAAIAAAACAAAAAgAAAAIAAAACAAAAAgAAAAIAAAACAAAAAgAAAAIAAAACAAAAAgAAAAIAAAACAAAAAgAAAAIAAAACAAAAAgAAAAIAAAACAAAAAgAAAAIAAAACAAAAAgAAAAIAAAACAAAAAgAAAAIAAAACAAAAAgAAAAIAAAACAAAAAgAAAAIAAAACAAAAAgAAAAIAAAACAAAAAgAAAAIAAAACAAAAAgAAAAIAAAACAAAAAgAAAAIAAAACAAAAAgAAAAIAAAACAAAAAgAAAAIAAAACAAAAAgAAAAIAAAACAAAAAgAAAAIAAAACAAAAAgAAAAIAAAACAAAAAgAAAAIAAAACAAAAAgAAAAIAAAACAAAAAgAAAAIAAAACAAAAAgAAAAIAAAACAAAAAgAAAAIAAAACAAAAAgAAAAIAAAACAAAAAgAAAAIAAAACAAAAAgAAAAIAAAACAAAAAgAAAAIAAAACAAAAAgAAAAIAAAACAAAAAgAAAAIAAAACAAAAAgAAAAIAAAACAAAAAgAAAAIAAAACAAAAAgAAAAIAAAACAAAAAgAAAAIAAAACAAAAAgAAAAIAAAACAAAAAgAAAAIAAAACAAAAAgAAAAIAAAACAAAAAgAAAAIAAAACAAAAAgAAAAIAAAACAAAAAgAAAAIAAAACAAAAAgAAAAIAAAACAAAAAgAAAAIAAAACAAAAAgAAAAIAAAACAAAAAgAAAAIAAAACAAAAAgAAAAIAAAACAAAAAwAAAAAAAAAAAAAAAwAAAAMAAAADAAAAAwAAAAMAAAADAAAAAwAAAAMAAAACAAAAAAAAAAAAAAAAAAAAAAAAAAAAAAACAAAAAAAAAAAAAAAAAAAAAAAAAAAAAAAAAAAAAAAAAAAAAAAAAAAAAQAAAAAAAAAAAAAAAAAAAAAAAAAAAAAAAAAAAAAAAAACAAAAAgAAAAAAAAAAAAAAAAAAAAAAAAAAAAAAAAAAAAAAAAAAAAAAAAAAAAAAAAAAAAAAAAAAAAAAAAAAAAAAAAAAAAAAAAAAAAAAAAAAAAAAAAAAAAAAAAAAAAAAAAAAAAAAAAAAAAAAAAAAAAAAAAAAAAAAAAADAAAAAwAAAAMAAAADAAAAAAAAAAMAAAADAAAAAwAAAAMAAAAAAAAAAAAAAAAAAAAAAAAAAAAAAAAAAAAAAAAAAAAAAAAAAAAAAAAAAAAAAAIAAAACAAAAAgAAAAIAAAACAAAAAgAAAAIAAAAAAAAAAAAAAAIAAAAAAAAAAgAAAAIAAAACAAAAAgAAAAIAAAACAAAAAAAAAAIAAAACAAAAAwAAAAMAAAADAAAAAwAAAAMAAAADAAAAAwAAAAMAAAADAAAAAwAAAAAAAAAAAAAAAAAAAAAAAAAAAAAAAAAAAAAAAAAAAAAAAAAAAAAAAAAAAAAAAAAAAAAAAAAAAAAAAAAAAAAAAAAAAAAAAAAAAAAAAAAAAAAAAAAAAAAAAAAAAAAAAAAAAAAAAAAAAAAAAAAAAAAAAAAAAAAAAAAAAAAAAAAAAAAAAAAAAAAAAAAAAAAAAAAAAAAAAAAAAAAAAAAAAAAAAAAAAAAAAAAAAAAAAAAAAAAAAAAAAAAAAAAAAAAAAAAAAAAAAAAAAAAAAAAAAAAAAAAAAAAAAAAAAAAAAAAAAAAAAAAAAAAAAAAAAAAAAAAAAAAAAAAAAAAAAAAAAAAAAAAAAAAAAAAAAAAAAAAAAAAAAAAAAAAAAAAAAAAAAAAAAAAAAAAAAAAAAAAAAAAAAAAAAAAAAAAAAAAAAAAAAAAAAAAAAAAAAAAAAAAAAAAAAAAAAAAAAAAAAAAAAAAAAAAAAAAAAAAAAAAAAAAAAAAAAAAAAAAAAAAAAAAAAAAAAAAAAAAAAAAAAAAAAAAAAAAAAAAAAAAAAAAAAAAAAAAAAAAAAAAAAAAAAAAAAAAAAAAAAAAAAAAAAAAAAAMAAAADAAAAAAAAAAAAAAAAAAAAAAAAAAAAAAAAAAAAAAAAAAAAAAAAAAAAAAAAAAAAAAAAAAAAAAAAAAAAAAAAAAAAAAAAAAAAAAAAAAAAAAAAAAAAAAAAAAAAAAAAAAAAAAAAAAAAAAAAAAAAAAAAAAAAAAAAAAAAAAAAAAAAAAAAAAAAAAAAAAAAAAAAAAAAAAAAAAAAAAAAAAAAAAAAAAAAAAAAAAAAAAAAAAAAAAAAAAAAAAAAAAAAAAAAAAAAAAAAAAAAAAAAAAAAAAAAAAAAAAAAAAAAAAAAAAAAAAAAAAAAAAAAAAAAAAAAAAAAAAAAAAAAAAAAAAAAAAAAAAAAAAAAAAAAAAAAAAAAAAAAAAAAAAAAAAAAAAAAAAAAAAAAAAAAAAAAAAAAAAAAAAAAAAAAAAAAAAAAAAAAAAAAAAAAAAAAAAAAAAAAAAAAAAAAAAAAAAAAAAAAAAAAAAAAAAAAAAAAAAAAAAAAAAAAAAAAAAAAAAAAAAAAAAAAAAAAAAAAAAAAAAAAAAAAAAAAAAAAAAAAAAAAAAAAAAAAAAAAAAAAAAAAAAAAAAAAAAAAAAAAAAAAAAAAAAAAAAAAAAAAAAAAAAAAAAAAAAAAAAAAAAAAAAAAAAAAAAAAAAAAAAAAAAAAAAAAAAAAAAAAAAAAAAAAAAAAAAAAAAAAAAAAAAAAAAAAAAAAAAAAAAAAAAAAAAAAAAAAAAAAAAAAAAAAAAAAAAAAAAAAAAAAAAAAAAAAAAAAAAAAAAAAAAAAAAAAAAAAAAAAAAAAAAAAAAAAAAAAAAAAAAAAAAAAAAAAAAAAAAAAAAAAAAAAAAAAAAAAAAAAAAAAAAAAAAAAAAAAAAAAAAAAAAAAAAAAAAAAAAAAAAAAAAAAAAAAAAAAAAAAAAAAAAAAAAAAAAAAAAAAAAAAAAAAAAAAAAAAAAAAAAAAAAAAAAAAAAAAAAAAAAAAAAAAAAAAAAAAAAAAAAAAAAAAAAAAAAAAAAAAAAAAAAAAAAAAAAAAAAAAAAAAAAAAAAAAAAAAAAAAAAAAAAAAAAAAAAAAAAAAAAAAAAAAAAAAAAAAAAAAAAAAAAAAAAAAAAAAAAAAAAAAAAAAAAAAAAAAAAAAAAAAAAAAAAAAAAACAAAAAAAAAAIAAAACAAAAAgAAAAIAAAACAAAAAQAAAAIAAAACAAAAAwAAAAMAAAADAAAAAwAAAAMAAAADAAAAAwAAAAMAAAADAAAAAwAAAAMAAAADAAAAAwAAAAMAAAADAAAAAwAAAAMAAAADAAAAAwAAAAMAAAADAAAAAwAAAAMAAAADAAAAAwAAAAMAAAADAAAAAwAAAAMAAAADAAAAAwAAAAMAAAAAAAAAAAAAAAIAAAACAAAAAgAAAAIAAAACAAAAAAAAAAIAAAABAAAAAQAAAAEAAAABAAAAAQAAAAEAAAABAAAAAQAAAAEAAAABAAAAAQAAAAEAAAABAAAAAQAAAAEAAAABAAAAAQAAAAEAAAABAAAAAQAAAAEAAAABAAAAAQAAAAEAAAABAAAAAQAAAAEAAAABAAAAAQAAAAEAAAABAAAAAQAAAAEAAAABAAAAAQAAAAEAAAABAAAAAQAAAAEAAAABAAAAAQAAAAEAAAABAAAAAQAAAAEAAAABAAAAAQAAAAEAAAABAAAAAQAAAAEAAAABAAAAAQAAAAEAAAABAAAAAQAAAAEAAAABAAAAAQAAAAEAAAABAAAAAQAAAAEAAAABAAAAAQAAAAEAAAABAAAAAQAAAAEAAAABAAAAAQAAAAEAAAABAAAAAQAAAAEAAAABAAAAAQAAAAEAAAABAAAAAQAAAAEAAAABAAAAAQAAAAEAAAABAAAAAQAAAAEAAAABAAAAAQAAAAEAAAABAAAAAQAAAAEAAAABAAAAAQAAAAEAAAABAAAAAQAAAAEAAAABAAAAAQAAAAEAAAABAAAAAQAAAAEAAAABAAAAAQAAAAEAAAABAAAAAQAAAAEAAAABAAAAAQAAAAEAAAABAAAAAQAAAAEAAAABAAAAAQAAAAEAAAABAAAAAQAAAAEAAAABAAAAAQAAAAEAAAABAAAAAQAAAAEAAAABAAAAAQAAAAEAAAABAAAAAQAAAAEAAAABAAAAAQAAAAEAAAABAAAAAQAAAAEAAAABAAAAAQAAAAEAAAABAAAAAQAAAAEAAAABAAAAAQAAAAEAAAABAAAAAQAAAAEAAAABAAAAAQAAAAEAAAABAAAAAQAAAAEAAAABAAAAAQAAAAEAAAABAAAAAQAAAAEAAAABAAAAAQAAAAEAAAABAAAAAQAAAAEAAAABAAAAAQAAAAEAAAABAAAAAQAAAAEAAAABAAAAAQAAAAEAAAABAAAAAQAAAAEAAAABAAAAAQAAAAEAAAABAAAAAQAAAAEAAAABAAAAAQAAAAEAAAABAAAAAQAAAAEAAAABAAAAAQAAAAEAAAABAAAAAQAAAAEAAAABAAAAAQAAAAEAAAABAAAAAQAAAAEAAAABAAAAAQAAAAEAAAABAAAAAQAAAAEAAAABAAAAAQAAAAEAAAABAAAAAQAAAAEAAAABAAAAAQAAAAEAAAABAAAAAQAAAAEAAAABAAAAAQAAAAEAAAABAAAAAQAAAAEAAAABAAAAAQAAAAEAAAABAAAAAQAAAAEAAAABAAAAAQAAAAEAAAABAAAAAQAAAAEAAAABAAAAAQAAAAEAAAABAAAAAQAAAAEAAAABAAAAAQAAAAEAAAABAAAAAQAAAAEAAAABAAAAAQAAAAEAAAABAAAAAQAAAAEAAAABAAAAAQAAAAEAAAABAAAAAQAAAAEAAAABAAAAAQAAAAEAAAABAAAAAQAAAAEAAAABAAAAAQAAAAEAAAABAAAAAQAAAAEAAAABAAAAAQAAAAEAAAABAAAAAQAAAAEAAAABAAAAAQAAAAEAAAABAAAAAQAAAAEAAAABAAAAAQAAAAEAAAABAAAAAQAAAAEAAAABAAAAAQAAAAEAAAABAAAAAQAAAAEAAAABAAAAAQAAAAEAAAABAAAAAQAAAAEAAAABAAAAAQAAAAEAAAABAAAAAQAAAAEAAAABAAAAAQAAAAEAAAABAAAAAQAAAAEAAAABAAAAAQAAAAEAAAABAAAAAQAAAAEAAAABAAAAAQAAAAEAAAABAAAAAQAAAAEAAAABAAAAAQAAAAEAAAABAAAAAQAAAAEAAAABAAAAAQAAAAEAAAABAAAAAQAAAAEAAAABAAAAAQAAAAEAAAABAAAAAQAAAAEAAAABAAAAAQAAAAEAAAABAAAAAQAAAAEAAAABAAAAAQAAAAEAAAABAAAAAQAAAAEAAAABAAAAAQAAAAEAAAABAAAAAQAAAAEAAAABAAAAAQAAAAEAAAABAAAAAQAAAAEAAAABAAAAAQAAAAEAAAABAAAAAQAAAAEAAAABAAAAAQAAAAEAAAABAAAAAQAAAAEAAAABAAAAAQAAAAEAAAABAAAAAQAAAAEAAAABAAAAAQAAAAEAAAABAAAAAQAAAAEAAAABAAAAAQAAAAEAAAABAAAAAQAAAAEAAAABAAAAAQAAAAEAAAABAAAAAQAAAAEAAAABAAAAAQAAAAEAAAABAAAAAQAAAAEAAAABAAAAAQAAAAEAAAABAAAAAQAAAAEAAAABAAAAAQAAAAEAAAABAAAAAQAAAAEAAAABAAAAAQAAAAEAAAABAAAAAQAAAAEAAAABAAAAAQAAAAEAAAABAAAAAQAAAAEAAAABAAAAAQAAAAEAAAABAAAAAQAAAAEAAAABAAAAAQAAAAEAAAABAAAAAQAAAAEAAAABAAAAAQAAAAEAAAABAAAAAQAAAAEAAAABAAAAAQAAAAEAAAABAAAAAQAAAAEAAAABAAAAAQAAAAEAAAABAAAAAQAAAAEAAAABAAAAAQAAAAEAAAABAAAAAQAAAAEAAAABAAAAAQAAAAEAAAABAAAAAQAAAAEAAAABAAAAAQAAAAEAAAABAAAAAQAAAAEAAAABAAAAAQAAAAEAAAABAAAAAQAAAAEAAAABAAAAAQAAAAEAAAABAAAAAQAAAAEAAAABAAAAAQAAAAEAAAABAAAAAQAAAAEAAAABAAAAAQAAAAEAAAABAAAAAQAAAAEAAAABAAAAAQAAAAEAAAABAAAAAQAAAAEAAAABAAAAAQAAAAEAAAABAAAAAQAAAAEAAAABAAAAAQAAAAEAAAABAAAAAQAAAAEAAAABAAAAAQAAAAEAAAABAAAAAQAAAAEAAAABAAAAAQAAAAEAAAABAAAAAQAAAAEAAAABAAAAAQAAAAEAAAABAAAAAQAAAAEAAAABAAAAAQAAAAEAAAABAAAAAQAAAAEAAAABAAAAAQAAAAEAAAABAAAAAQAAAAEAAAABAAAAAQAAAAEAAAABAAAAAQAAAAEAAAABAAAAAQAAAAEAAAABAAAAAQAAAAEAAAABAAAAAQAAAAEAAAABAAAAAQAAAAEAAAABAAAAAQAAAAEAAAABAAAAAQAAAAEAAAABAAAAAQAAAAEAAAABAAAAAQAAAAEAAAABAAAAAQAAAAEAAAABAAAAAQAAAAEAAAABAAAAAQAAAAEAAAABAAAAAQAAAAEAAAABAAAAAQAAAAEAAAABAAAAAQAAAAEAAAABAAAAAQAAAAEAAAABAAAAAQAAAAEAAAABAAAAAQAAAAEAAAABAAAAAQAAAAEAAAABAAAAAQAAAAEAAAABAAAAAQAAAAEAAAABAAAAAQAAAAEAAAABAAAAAQAAAAEAAAABAAAAAQAAAAEAAAABAAAAAQAAAAEAAAABAAAAAQAAAAEAAAABAAAAAQAAAAEAAAABAAAAAQAAAAEAAAABAAAAAQAAAAEAAAABAAAAAQAAAAEAAAABAAAAAQAAAAEAAAABAAAAAQAAAAEAAAABAAAAAQAAAAEAAAABAAAAAQAAAAEAAAABAAAAAQAAAAEAAAABAAAAAQAAAAEAAAABAAAAAQAAAAEAAAABAAAAAQAAAAEAAAABAAAAAQAAAAEAAAABAAAAAQAAAAEAAAABAAAAAQAAAAEAAAABAAAAAQAAAAEAAAABAAAAAQAAAAEAAAABAAAAAQAAAAEAAAABAAAAAQAAAAEAAAABAAAAAQAAAAEAAAABAAAAAQAAAAEAAAABAAAAAQAAAAEAAAABAAAAAQAAAAEAAAABAAAAAQAAAAEAAAABAAAAAQAAAAEAAAABAAAAAQAAAAEAAAABAAAAAQAAAAEAAAABAAAAAQAAAAEAAAABAAAAAQAAAAEAAAABAAAAAQAAAAEAAAABAAAAAQAAAAEAAAABAAAAAQAAAAEAAAABAAAAAQAAAAEAAAABAAAAAQAAAAEAAAABAAAAAQAAAAEAAAABAAAAAQAAAAEAAAABAAAAAQAAAAEAAAABAAAAAQAAAAEAAAABAAAAAQAAAAEAAAABAAAAAQAAAAEAAAABAAAAAQAAAAEAAAABAAAAAQAAAAEAAAABAAAAAQAAAAEAAAABAAAAAQAAAAEAAAABAAAAAQAAAAEAAAABAAAAAQAAAAEAAAABAAAAAQAAAAEAAAABAAAAAQAAAAEAAAABAAAAAQAAAAEAAAABAAAAAQAAAAEAAAABAAAAAQAAAAEAAAABAAAAAQAAAAEAAAABAAAAAQAAAAEAAAABAAAAAQAAAAEAAAABAAAAAQAAAAEAAAABAAAAAQAAAAEAAAABAAAAAQAAAAEAAAABAAAAAQAAAAEAAAABAAAAAQAAAAEAAAABAAAAAQAAAAEAAAABAAAAAQAAAAEAAAABAAAAAQAAAAEAAAABAAAAAQAAAAEAAAABAAAAAQAAAAEAAAABAAAAAQAAAAEAAAABAAAAAQAAAAEAAAABAAAAAQAAAAEAAAABAAAAAQAAAAEAAAABAAAAAQAAAAEAAAABAAAAAQAAAAEAAAABAAAAAQAAAAEAAAABAAAAAQAAAAEAAAABAAAAAQAAAAEAAAABAAAAAQAAAAEAAAABAAAAAQAAAAEAAAABAAAAAQAAAAEAAAABAAAAAQAAAAEAAAABAAAAAQAAAAEAAAABAAAAAQAAAAEAAAABAAAAAQAAAAEAAAABAAAAAQAAAAEAAAABAAAAAQAAAAEAAAABAAAAAQAAAAEAAAABAAAAAQAAAAEAAAABAAAAAQAAAAEAAAABAAAAAQAAAAEAAAABAAAAAQAAAAEAAAABAAAAAQAAAAEAAAABAAAAAQAAAAEAAAABAAAAAQAAAAEAAAABAAAAAQAAAAEAAAABAAAAAQAAAAEAAAABAAAAAQAAAAEAAAABAAAAAQAAAAEAAAABAAAAAQAAAAEAAAABAAAAAQAAAAEAAAABAAAAAQAAAAEAAAABAAAAAQAAAAEAAAABAAAAAQAAAAEAAAABAAAAAQAAAAEAAAABAAAAAQAAAAEAAAABAAAAAQAAAAEAAAABAAAAAQAAAAEAAAABAAAAAQAAAAEAAAABAAAAAQAAAAEAAAABAAAAAQAAAAEAAAABAAAAAQAAAAEAAAABAAAAAQAAAAEAAAABAAAAAQAAAAEAAAABAAAAAQAAAAEAAAABAAAAAQAAAAEAAAABAAAAAQAAAAEAAAABAAAAAQAAAAEAAAABAAAAAQAAAAEAAAABAAAAAQAAAAEAAAABAAAAAQAAAAEAAAABAAAAAQAAAAEAAAABAAAAAQAAAAEAAAABAAAAAQAAAAEAAAABAAAAAQAAAAEAAAABAAAAAQAAAAEAAAABAAAAAQAAAAEAAAABAAAAAQAAAAEAAAABAAAAAQAAAAEAAAABAAAAAQAAAAEAAAABAAAAAQAAAAEAAAABAAAAAQAAAAEAAAABAAAAAQAAAAEAAAABAAAAAQAAAAEAAAABAAAAAQAAAAEAAAABAAAAAQAAAAEAAAABAAAAAQAAAAEAAAABAAAAAQAAAAEAAAABAAAAAQAAAAEAAAABAAAAAQAAAAEAAAABAAAAAQAAAAEAAAABAAAAAQAAAAEAAAABAAAAAQAAAAEAAAABAAAAAQAAAAEAAAABAAAAAQAAAAEAAAABAAAAAQAAAAEAAAABAAAAAQAAAAEAAAABAAAAAQAAAAEAAAABAAAAAQAAAAEAAAABAAAAAQAAAAEAAAABAAAAAQAAAAEAAAABAAAAAQAAAAEAAAABAAAAAQAAAAEAAAABAAAAAQAAAAEAAAABAAAAAQAAAAEAAAABAAAAAQAAAAEAAAABAAAAAQAAAAEAAAABAAAAAQAAAAEAAAABAAAAAQAAAAEAAAABAAAAAQAAAAEAAAABAAAAAQAAAAEAAAABAAAAAQAAAAEAAAABAAAAAQAAAAEAAAABAAAAAQAAAAEAAAABAAAAAQAAAAEAAAABAAAAAQAAAAEAAAABAAAAAQAAAAEAAAABAAAAAQAAAAEAAAABAAAAAQAAAAEAAAABAAAAAQAAAAEAAAABAAAAAQAAAAEAAAABAAAAAQAAAAEAAAABAAAAAQAAAAEAAAABAAAAAQAAAAEAAAABAAAAAQAAAAEAAAABAAAAAQAAAAEAAAABAAAAAQAAAAEAAAABAAAAAQAAAAEAAAABAAAAAQAAAAEAAAABAAAAAQAAAAEAAAABAAAAAQAAAAEAAAABAAAAAQAAAAEAAAABAAAAAQAAAAEAAAABAAAAAQAAAAEAAAABAAAAAQAAAAEAAAABAAAAAQAAAAEAAAABAAAAAQAAAAEAAAABAAAAAQAAAAEAAAABAAAAAQAAAAEAAAABAAAAAQAAAAEAAAABAAAAAQAAAAEAAAABAAAAAQAAAAEAAAABAAAAAQAAAAEAAAABAAAAAQAAAAEAAAABAAAAAQAAAAEAAAABAAAAAQAAAAEAAAABAAAAAQAAAAEAAAABAAAAAQAAAAEAAAABAAAAAQAAAAEAAAABAAAAAQAAAAEAAAABAAAAAQAAAAEAAAABAAAAAQAAAAEAAAABAAAAAQAAAAEAAAABAAAAAQAAAAEAAAABAAAAAQAAAAEAAAABAAAAAQAAAAEAAAABAAAAAQAAAAEAAAABAAAAAQAAAAEAAAABAAAAAQAAAAEAAAABAAAAAQAAAAEAAAABAAAAAQAAAAEAAAABAAAAAQAAAAEAAAABAAAAAQAAAAEAAAABAAAAAQAAAAEAAAABAAAAAQAAAAEAAAABAAAAAQAAAAEAAAABAAAAAQAAAAEAAAABAAAAAQAAAAEAAAABAAAAAQAAAAEAAAABAAAAAQAAAAEAAAABAAAAAQAAAAEAAAABAAAAAQAAAAEAAAABAAAAAQAAAAEAAAABAAAAAQAAAAEAAAABAAAAAQAAAAEAAAABAAAAAQAAAAEAAAABAAAAAQAAAAEAAAABAAAAAQAAAAEAAAABAAAAAQAAAAEAAAABAAAAAQAAAAEAAAABAAAAAQAAAAEAAAABAAAAAQAAAAEAAAABAAAAAQAAAAEAAAABAAAAAQAAAAEAAAABAAAAAQAAAAEAAAABAAAAAQAAAAEAAAABAAAAAQAAAAEAAAABAAAAAQAAAAEAAAABAAAAAQAAAAEAAAABAAAAAQAAAAEAAAABAAAAAQAAAAEAAAABAAAAAQAAAAEAAAABAAAAAQAAAAEAAAABAAAAAQAAAAEAAAABAAAAAQAAAAEAAAABAAAAAQAAAAEAAAABAAAAAQAAAAEAAAABAAAAAQAAAAEAAAABAAAAAQAAAAEAAAABAAAAAQAAAAEAAAABAAAAAQAAAAEAAAABAAAAAQAAAAEAAAABAAAAAQAAAAEAAAABAAAAAQAAAAEAAAABAAAAAQAAAAEAAAABAAAAAQAAAAEAAAABAAAAAQAAAAEAAAABAAAAAQAAAAEAAAABAAAAAQAAAAEAAAABAAAAAQAAAAEAAAABAAAAAQAAAAEAAAABAAAAAQAAAAEAAAABAAAAAQAAAAEAAAABAAAAAQAAAAEAAAABAAAAAQAAAAEAAAABAAAAAQAAAAEAAAABAAAAAQAAAAEAAAABAAAAAQAAAAEAAAABAAAAAQAAAAEAAAABAAAAAQAAAAEAAAABAAAAAQAAAAEAAAABAAAAAQAAAAAAAAAAAAAAAAAAAAAAAAAAAAAAAAAAAAAAAAAAAAAAAAAAAAAAAAAAAAAAAAAAAAAAAAAAAAAAAAAAAAAAAAADAAAAAwAAAAMAAAADAAAAAwAAAAMAAAADAAAAAwAAAAMAAAADAAAAAwAAAAMAAAADAAAAAwAAAAMAAAADAAAAAwAAAAMAAAAAAAAAAAAAAAIAAAADAAAAAwAAAAMAAAADAAAAAwAAAAMAAAADAAAAAwAAAAMAAAADAAAAAwAAAAMAAAADAAAAAwAAAAAAAAAAAAAAAAAAAAAAAAAAAAAAAAAAAAAAAAAAAAAAAAAAAAAAAAAAAAAAAAAAAAAAAAAAAAAAAAAAAAAAAAAAAAAAAAAAAAAAAAAAAAAAAAAAAAAAAAAAAAAAAAAAAAAAAAAAAAAAAAAAAAAAAAAAAAAAAAAAAAAAAAAAAAAAAAAAAAAAAAAAAAAAAAAAAAAAAAAAAAAAAAAAAAAAAAAAAAAAAAAAAAAAAAAAAAAAAAAAAAAAAAAAAAAAAAAAAAAAAAAAAAAAAAAAAAAAAAAAAAAAAAAAAAMAAAADAAAAAwAAAAMAAAADAAAAAwAAAAMAAAADAAAAAwAAAAMAAAADAAAAAwAAAAMAAAADAAAAAwAAAAMAAAADAAAAAwAAAAIAAAACAAAAAgAAAAIAAAACAAAAAgAAAAIAAAACAAAAAgAAAAIAAAACAAAAAgAAAAAAAAA=",
          "dtype": "i4"
         },
         "xaxis": "x",
         "yaxis": "y"
        },
        {
         "bingroup": "x",
         "hovertemplate": "dress_preference=no preference<br>cluster=%{x}<br>count=%{y}<extra></extra>",
         "legendgroup": "no preference",
         "marker": {
          "color": "#00cc96",
          "pattern": {
           "shape": ""
          }
         },
         "name": "no preference",
         "orientation": "v",
         "showlegend": true,
         "type": "histogram",
         "x": {
          "bdata": "AgAAAAIAAAACAAAAAgAAAAIAAAACAAAAAAAAAAAAAAAAAAAAAAAAAAAAAAAAAAAAAwAAAAMAAAADAAAAAwAAAAMAAAADAAAAAwAAAAMAAAADAAAAAwAAAAMAAAADAAAAAwAAAAMAAAADAAAAAwAAAAMAAAADAAAAAwAAAAMAAAADAAAAAwAAAAMAAAADAAAAAwAAAAMAAAADAAAAAwAAAAAAAAACAAAAAAAAAAAAAAAAAAAAAAAAAAAAAAAAAAAAAAAAAAAAAAAAAAAAAAAAAAAAAAAAAAAAAAAAAAAAAAAAAAAAAAAAAAAAAAAAAAAAAAAAAAAAAAAAAAAAAAAAAAAAAAAAAAAAAAAAAAAAAAADAAAAAwAAAAMAAAADAAAAAwAAAAMAAAAAAAAAAAAAAAAAAAAAAAAAAAAAAAAAAAAAAAAAAAAAAAAAAAAAAAAAAAAAAAAAAAAAAAAAAAAAAAAAAAAAAAAAAAAAAAAAAAAAAAAAAAAAAAAAAAAAAAAAAAAAAAAAAAAAAAAAAAAAAAMAAAADAAAAAwAAAAMAAAADAAAAAwAAAAMAAAADAAAAAwAAAAMAAAADAAAAAwAAAAMAAAADAAAAAwAAAAMAAAAAAAAAAAAAAAAAAAAAAAAAAAAAAAAAAAAAAAAAAAAAAAAAAAAAAAAAAAAAAAAAAAAAAAAAAAAAAAAAAAAAAAAAAAAAAAAAAAACAAAAAAAAAAIAAAACAAAAAgAAAAIAAAAAAAAAAAAAAAAAAAAAAAAAAAAAAAAAAAAAAAAAAAAAAAAAAAAAAAAAAwAAAAMAAAADAAAAAwAAAAMAAAADAAAAAwAAAAMAAAADAAAAAwAAAAMAAAADAAAAAAAAAAAAAAAAAAAAAAAAAAAAAAAAAAAAAAAAAAAAAAAAAAAAAAAAAAAAAAAAAAAAAAAAAAAAAAAAAAAAAAAAAAAAAAAAAAAAAAAAAAAAAAAAAAAAAAAAAAAAAAADAAAAAwAAAAMAAAADAAAAAwAAAAMAAAADAAAAAwAAAAMAAAADAAAAAwAAAAMAAAADAAAAAwAAAAMAAAADAAAAAwAAAAMAAAADAAAAAwAAAAMAAAADAAAAAwAAAAMAAAADAAAAAwAAAAMAAAAAAAAAAAAAAAAAAAACAAAAAgAAAAAAAAACAAAAAwAAAAMAAAACAAAAAAAAAAAAAAAAAAAAAwAAAAMAAAADAAAAAwAAAAMAAAADAAAAAAAAAAAAAAAAAAAAAwAAAAMAAAADAAAAAwAAAAMAAAADAAAAAwAAAAMAAAAAAAAAAAAAAAAAAAAAAAAAAAAAAAAAAAAAAAAAAAAAAAAAAAAAAAAAAAAAAAAAAAAAAAAAAAAAAAAAAAAAAAAAAAAAAAAAAAAAAAAAAAAAAAAAAAAAAAAAAAAAAAAAAAAAAAAAAAAAAAAAAAAAAAAAAAAAAAAAAAAAAAAAAAAAAAAAAAAAAAAAAAAAAAAAAAAAAAAAAAAAAAAAAAAAAAAAAAAAAAAAAAAAAAAAAAAAAAAAAAAAAAAAAAAAAAAAAAAAAAAAAAAAAAAAAAAAAAAAAAAAAAAAAAAAAAAAAAAAAAAAAAAAAAAAAAAAAAAAAAAAAAAAAAAAAAAAAAAAAAAAAAAAAAAAAAAAAAAAAAAAAAAAAAAAAAAAAAAAAAAAAAAAAAAAAAAAAAAAAAAAAAAAAAAAAAAAAAAAAAAAAAAAAAAAAAAAAAAAAAAAAAAAAAAAAAAAAAAAAAAAAAAAAAAAAAAAAAAAAAAAAAAAAAAAAAAAAAAAAAAAAAAAAAAAAAAAAAAAAAAAAAAAAAAAAAAAAAAAAAAAAAAAAAAAAAAAAAAAAAAAAAAAAAAAAAAAAAAAAAAAAAAAAAAAAAAAAAAAAAAAAAAAAAAAAAAAAAAAAAAAAAAAAAAAAAAAAAAAAAAAAAAAAAAAAAAAAAAAAAAAAAAAAAAAAAAAAAAAAAAAAAAAAAAAAAAAAAAAAAAAAAAAAAAAAAAAAAAAAAAAAAAAAAAAAAAAAAAAAAAAAAAAAAAAAAAAAAAAAAAAAAAAAAAAAAAAAAAAAAAAAAAAAAAAAAAAAAAAAAAAAAAAAAAAAAAAAAAAAAAAAAAAAAAAAAAAAAAAAAAAAAAAAAAAAAAAAwAAAAMAAAADAAAAAwAAAAMAAAADAAAAAwAAAAAAAAAAAAAAAwAAAAMAAAACAAAAAgAAAAIAAAACAAAAAgAAAAIAAAACAAAAAgAAAAIAAAACAAAAAAAAAAAAAAAAAAAAAwAAAAMAAAADAAAAAwAAAAAAAAADAAAAAwAAAAMAAAADAAAAAwAAAAMAAAADAAAAAwAAAAAAAAAAAAAAAAAAAAAAAAAAAAAAAAAAAAAAAAAAAAAAAAAAAAAAAAADAAAAAAAAAAAAAAADAAAAAAAAAAAAAAADAAAAAAAAAAAAAAAAAAAAAAAAAAMAAAADAAAAAwAAAAMAAAADAAAAAwAAAAMAAAADAAAAAAAAAAAAAAAAAAAAAAAAAAAAAAAAAAAAAAAAAAAAAAAAAAAAAAAAAAAAAAAAAAAAAAAAAAAAAAAAAAAAAAAAAAAAAAAAAAAAAAAAAAAAAAAAAAAAAAAAAAAAAAAAAAAAAAAAAAAAAAAAAAAAAAAAAAAAAAAAAAAAAAAAAAAAAAAAAAAAAAAAAAAAAAAAAAAAAAAAAAAAAAAAAAAAAAAAAAAAAAAAAAAAAAAAAAAAAAAAAAAAAAAAAAAAAAAAAAAAAAAAAAAAAAAAAAAAAAAAAAAAAAAAAAAAAAAAAAAAAAAAAAAAAAAAAAMAAAADAAAAAwAAAAMAAAAAAAAAAAAAAAAAAAAAAAAAAAAAAAAAAAAAAAAAAAAAAAAAAAAAAAAAAAAAAAAAAAAAAAAAAAAAAAAAAAAAAAAAAAAAAAAAAAAAAAAAAAAAAAAAAAAAAAAAAAAAAAAAAAAAAAAAAAAAAAAAAAAAAAAAAAAAAAAAAAAAAAAAAAAAAAAAAAAAAAAAAAAAAAAAAAAAAAAAAAAAAAAAAAAAAAAAAAAAAAAAAAAAAAAAAAAAAAAAAAAAAAAAAAAAAAAAAAAAAAAAAAAAAAAAAAAAAAAAAAAAAAAAAAAAAAAAAAAAAAAAAAADAAAAAAAAAAAAAAADAAAAAAAAAAAAAAADAAAAAwAAAAMAAAADAAAAAwAAAAMAAAADAAAAAwAAAAMAAAAAAAAAAAAAAAAAAAAAAAAAAAAAAAAAAAAAAAAAAAAAAAAAAAAAAAAAAAAAAAAAAAAAAAAAAAAAAAAAAAAAAAAAAAAAAAAAAAAAAAAAAAAAAAAAAAAAAAAAAAAAAAAAAAAAAAAAAAAAAAAAAAAAAAAAAAAAAAAAAAAAAAAAAAAAAAAAAAAAAAAAAAAAAAAAAAAAAAAAAAAAAAAAAAAAAAAAAwAAAAMAAAADAAAAAwAAAAMAAAADAAAAAwAAAAMAAAADAAAAAwAAAAMAAAADAAAAAwAAAAMAAAADAAAAAwAAAAMAAAADAAAAAwAAAAMAAAADAAAAAwAAAAMAAAADAAAAAwAAAAMAAAADAAAAAwAAAAMAAAADAAAAAwAAAAMAAAADAAAAAAAAAAAAAAADAAAAAAAAAAMAAAAAAAAAAwAAAAMAAAADAAAAAwAAAAIAAAACAAAAAAAAAAAAAAAAAAAAAAAAAAAAAAAAAAAAAAAAAAAAAAACAAAAAAAAAAAAAAAAAAAAAAAAAAAAAAACAAAAAgAAAAIAAAACAAAAAgAAAAIAAAACAAAAAgAAAAAAAAAAAAAAAAAAAAMAAAADAAAAAgAAAAIAAAAAAAAAAgAAAAIAAAACAAAAAgAAAAAAAAA=",
          "dtype": "i4"
         },
         "xaxis": "x",
         "yaxis": "y"
        },
        {
         "bingroup": "x",
         "hovertemplate": "dress_preference=formal<br>cluster=%{x}<br>count=%{y}<extra></extra>",
         "legendgroup": "formal",
         "marker": {
          "color": "#ab63fa",
          "pattern": {
           "shape": ""
          }
         },
         "name": "formal",
         "orientation": "v",
         "showlegend": true,
         "type": "histogram",
         "x": {
          "bdata": "AgAAAAIAAAACAAAAAgAAAAIAAAACAAAAAgAAAAIAAAACAAAAAgAAAAIAAAACAAAAAgAAAAIAAAACAAAAAgAAAAIAAAACAAAAAgAAAAIAAAACAAAAAgAAAAIAAAACAAAAAgAAAAIAAAACAAAAAgAAAAIAAAACAAAAAgAAAAIAAAACAAAAAgAAAAIAAAACAAAAAgAAAAIAAAACAAAAAgAAAAIAAAACAAAAAgAAAAIAAAACAAAAAgAAAAIAAAACAAAAAgAAAAIAAAACAAAAAgAAAAIAAAACAAAAAgAAAAIAAAACAAAAAgAAAAIAAAACAAAAAgAAAAIAAAACAAAAAgAAAAIAAAACAAAAAgAAAAIAAAACAAAAAgAAAAIAAAACAAAAAgAAAAIAAAACAAAAAgAAAAAAAAAAAAAAAgAAAAIAAAACAAAAAgAAAAAAAAAAAAAAAAAAAAAAAAAAAAAAAAAAAAMAAAADAAAAAwAAAAMAAAADAAAAAwAAAAAAAAAAAAAAAAAAAAAAAAAAAAAAAAAAAAIAAAACAAAAAgAAAAIAAAACAAAAAgAAAAIAAAACAAAAAwAAAAMAAAADAAAAAwAAAAAAAAAAAAAAAgAAAAIAAAACAAAAAwAAAAMAAAACAAAAAgAAAAIAAAACAAAAAgAAAAAAAAAAAAAAAAAAAAAAAAAAAAAAAAAAAAAAAAAAAAAAAAAAAAAAAAADAAAAAAAAAAAAAAACAAAAAwAAAAAAAAAAAAAAAAAAAAAAAAAAAAAAAAAAAAIAAAAAAAAAAAAAAAAAAAAAAAAAAAAAAAAAAAADAAAAAwAAAAMAAAADAAAAAwAAAAMAAAADAAAAAwAAAAAAAAAAAAAAAAAAAAAAAAAAAAAAAAAAAAAAAAAAAAAAAAAAAAAAAAAAAAAAAAAAAAAAAAAAAAAAAwAAAAMAAAADAAAAAwAAAAMAAAADAAAAAwAAAAMAAAADAAAAAwAAAAMAAAADAAAAAwAAAAMAAAADAAAAAwAAAAMAAAADAAAAAwAAAAMAAAADAAAAAwAAAAMAAAADAAAAAwAAAAMAAAADAAAAAwAAAAMAAAADAAAAAwAAAAMAAAADAAAAAAAAAAAAAAAAAAAAAAAAAAAAAAAAAAAAAAAAAAAAAAAAAAAAAAAAAAAAAAAAAAAAAAAAAAAAAAAAAAAAAAAAAAAAAAAAAAAAAAAAAAAAAAAAAAAAAwAAAAMAAAADAAAAAwAAAAMAAAADAAAAAwAAAAMAAAADAAAAAwAAAAIAAAACAAAAAgAAAAIAAAACAAAAAgAAAAAAAAAAAAAAAgAAAAIAAAACAAAAAgAAAAIAAAACAAAAAAAAAAAAAAACAAAAAgAAAAIAAAACAAAAAgAAAAIAAAACAAAAAgAAAAIAAAACAAAAAgAAAAIAAAACAAAAAgAAAAIAAAACAAAAAgAAAAIAAAACAAAAAgAAAAIAAAACAAAAAgAAAAIAAAACAAAAAgAAAAIAAAACAAAAAgAAAAIAAAACAAAAAgAAAAIAAAACAAAAAgAAAAIAAAACAAAAAgAAAAIAAAACAAAAAgAAAAIAAAACAAAAAgAAAAIAAAACAAAAAgAAAAIAAAACAAAAAgAAAAIAAAACAAAAAgAAAAIAAAACAAAAAgAAAAIAAAACAAAAAgAAAAIAAAACAAAAAgAAAAIAAAACAAAAAgAAAAIAAAACAAAAAQAAAAEAAAABAAAAAQAAAAEAAAABAAAAAQAAAAIAAAACAAAAAgAAAAIAAAACAAAAAgAAAAIAAAADAAAAAwAAAAMAAAADAAAAAwAAAAMAAAADAAAAAwAAAAMAAAADAAAAAgAAAAIAAAACAAAAAgAAAAIAAAACAAAAAgAAAAIAAAACAAAAAgAAAAIAAAACAAAAAgAAAAIAAAACAAAAAgAAAAIAAAACAAAAAgAAAAIAAAACAAAAAgAAAAIAAAACAAAAAgAAAAIAAAACAAAAAgAAAAIAAAACAAAAAgAAAAIAAAACAAAAAgAAAAIAAAACAAAAAgAAAAIAAAACAAAAAgAAAAIAAAACAAAAAgAAAAIAAAACAAAAAgAAAAIAAAACAAAAAgAAAAIAAAACAAAAAgAAAAIAAAACAAAAAgAAAAIAAAACAAAAAgAAAAIAAAACAAAAAgAAAAIAAAACAAAAAgAAAAIAAAACAAAAAgAAAAIAAAACAAAAAgAAAAIAAAACAAAAAgAAAAIAAAACAAAAAgAAAAIAAAACAAAAAgAAAAIAAAACAAAAAgAAAAIAAAACAAAAAgAAAAIAAAACAAAAAgAAAAIAAAACAAAAAgAAAAIAAAACAAAAAgAAAAIAAAACAAAAAgAAAAIAAAACAAAAAgAAAAIAAAADAAAAAwAAAAMAAAADAAAAAwAAAAMAAAADAAAAAwAAAAMAAAADAAAAAwAAAAIAAAAAAAAAAAAAAAIAAAAAAAAAAgAAAAIAAAACAAAAAgAAAAAAAAACAAAAAgAAAAIAAAACAAAAAgAAAAIAAAACAAAAAgAAAAIAAAACAAAAAgAAAAIAAAACAAAAAgAAAAIAAAACAAAAAgAAAAIAAAACAAAAAAAAAAAAAAAAAAAAAgAAAAIAAAACAAAAAgAAAAIAAAACAAAAAgAAAAIAAAACAAAAAAAAAAAAAAAAAAAAAAAAAAAAAAAAAAAAAAAAAAAAAAAAAAAAAAAAAAAAAAADAAAAAwAAAAMAAAADAAAAAwAAAAMAAAADAAAAAwAAAAMAAAADAAAAAAAAAAAAAAAAAAAAAAAAAAAAAAAAAAAAAAAAAAAAAAAAAAAAAAAAAAAAAAAAAAAAAAAAAAAAAAAAAAAAAgAAAAIAAAACAAAAAwAAAAMAAAADAAAAAwAAAAMAAAADAAAAAwAAAAMAAAADAAAAAwAAAAMAAAADAAAAAwAAAAMAAAADAAAAAwAAAAMAAAADAAAAAwAAAAMAAAADAAAAAwAAAAMAAAADAAAAAwAAAAMAAAADAAAAAwAAAAMAAAADAAAAAwAAAAMAAAADAAAAAwAAAAMAAAAAAAAAAgAAAAIAAAACAAAAAgAAAAIAAAACAAAAAgAAAAIAAAACAAAAAgAAAAIAAAAAAAAAAAAAAAIAAAACAAAAAAAAAAAAAAACAAAAAAAAAAIAAAACAAAAAgAAAAIAAAACAAAAAAAAAAAAAAAAAAAAAAAAAAAAAAAAAAAAAAAAAAAAAAAAAAAAAAAAAAAAAAAAAAAAAAAAAAAAAAAAAAAAAAAAAAAAAAACAAAAAgAAAAIAAAACAAAAAgAAAA==",
          "dtype": "i4"
         },
         "xaxis": "x",
         "yaxis": "y"
        }
       ],
       "layout": {
        "barmode": "stack",
        "legend": {
         "title": {
          "text": "dress_preference"
         },
         "tracegroupgap": 0
        },
        "template": {
         "data": {
          "bar": [
           {
            "error_x": {
             "color": "#2a3f5f"
            },
            "error_y": {
             "color": "#2a3f5f"
            },
            "marker": {
             "line": {
              "color": "#E5ECF6",
              "width": 0.5
             },
             "pattern": {
              "fillmode": "overlay",
              "size": 10,
              "solidity": 0.2
             }
            },
            "type": "bar"
           }
          ],
          "barpolar": [
           {
            "marker": {
             "line": {
              "color": "#E5ECF6",
              "width": 0.5
             },
             "pattern": {
              "fillmode": "overlay",
              "size": 10,
              "solidity": 0.2
             }
            },
            "type": "barpolar"
           }
          ],
          "carpet": [
           {
            "aaxis": {
             "endlinecolor": "#2a3f5f",
             "gridcolor": "white",
             "linecolor": "white",
             "minorgridcolor": "white",
             "startlinecolor": "#2a3f5f"
            },
            "baxis": {
             "endlinecolor": "#2a3f5f",
             "gridcolor": "white",
             "linecolor": "white",
             "minorgridcolor": "white",
             "startlinecolor": "#2a3f5f"
            },
            "type": "carpet"
           }
          ],
          "choropleth": [
           {
            "colorbar": {
             "outlinewidth": 0,
             "ticks": ""
            },
            "type": "choropleth"
           }
          ],
          "contour": [
           {
            "colorbar": {
             "outlinewidth": 0,
             "ticks": ""
            },
            "colorscale": [
             [
              0,
              "#0d0887"
             ],
             [
              0.1111111111111111,
              "#46039f"
             ],
             [
              0.2222222222222222,
              "#7201a8"
             ],
             [
              0.3333333333333333,
              "#9c179e"
             ],
             [
              0.4444444444444444,
              "#bd3786"
             ],
             [
              0.5555555555555556,
              "#d8576b"
             ],
             [
              0.6666666666666666,
              "#ed7953"
             ],
             [
              0.7777777777777778,
              "#fb9f3a"
             ],
             [
              0.8888888888888888,
              "#fdca26"
             ],
             [
              1,
              "#f0f921"
             ]
            ],
            "type": "contour"
           }
          ],
          "contourcarpet": [
           {
            "colorbar": {
             "outlinewidth": 0,
             "ticks": ""
            },
            "type": "contourcarpet"
           }
          ],
          "heatmap": [
           {
            "colorbar": {
             "outlinewidth": 0,
             "ticks": ""
            },
            "colorscale": [
             [
              0,
              "#0d0887"
             ],
             [
              0.1111111111111111,
              "#46039f"
             ],
             [
              0.2222222222222222,
              "#7201a8"
             ],
             [
              0.3333333333333333,
              "#9c179e"
             ],
             [
              0.4444444444444444,
              "#bd3786"
             ],
             [
              0.5555555555555556,
              "#d8576b"
             ],
             [
              0.6666666666666666,
              "#ed7953"
             ],
             [
              0.7777777777777778,
              "#fb9f3a"
             ],
             [
              0.8888888888888888,
              "#fdca26"
             ],
             [
              1,
              "#f0f921"
             ]
            ],
            "type": "heatmap"
           }
          ],
          "histogram": [
           {
            "marker": {
             "pattern": {
              "fillmode": "overlay",
              "size": 10,
              "solidity": 0.2
             }
            },
            "type": "histogram"
           }
          ],
          "histogram2d": [
           {
            "colorbar": {
             "outlinewidth": 0,
             "ticks": ""
            },
            "colorscale": [
             [
              0,
              "#0d0887"
             ],
             [
              0.1111111111111111,
              "#46039f"
             ],
             [
              0.2222222222222222,
              "#7201a8"
             ],
             [
              0.3333333333333333,
              "#9c179e"
             ],
             [
              0.4444444444444444,
              "#bd3786"
             ],
             [
              0.5555555555555556,
              "#d8576b"
             ],
             [
              0.6666666666666666,
              "#ed7953"
             ],
             [
              0.7777777777777778,
              "#fb9f3a"
             ],
             [
              0.8888888888888888,
              "#fdca26"
             ],
             [
              1,
              "#f0f921"
             ]
            ],
            "type": "histogram2d"
           }
          ],
          "histogram2dcontour": [
           {
            "colorbar": {
             "outlinewidth": 0,
             "ticks": ""
            },
            "colorscale": [
             [
              0,
              "#0d0887"
             ],
             [
              0.1111111111111111,
              "#46039f"
             ],
             [
              0.2222222222222222,
              "#7201a8"
             ],
             [
              0.3333333333333333,
              "#9c179e"
             ],
             [
              0.4444444444444444,
              "#bd3786"
             ],
             [
              0.5555555555555556,
              "#d8576b"
             ],
             [
              0.6666666666666666,
              "#ed7953"
             ],
             [
              0.7777777777777778,
              "#fb9f3a"
             ],
             [
              0.8888888888888888,
              "#fdca26"
             ],
             [
              1,
              "#f0f921"
             ]
            ],
            "type": "histogram2dcontour"
           }
          ],
          "mesh3d": [
           {
            "colorbar": {
             "outlinewidth": 0,
             "ticks": ""
            },
            "type": "mesh3d"
           }
          ],
          "parcoords": [
           {
            "line": {
             "colorbar": {
              "outlinewidth": 0,
              "ticks": ""
             }
            },
            "type": "parcoords"
           }
          ],
          "pie": [
           {
            "automargin": true,
            "type": "pie"
           }
          ],
          "scatter": [
           {
            "fillpattern": {
             "fillmode": "overlay",
             "size": 10,
             "solidity": 0.2
            },
            "type": "scatter"
           }
          ],
          "scatter3d": [
           {
            "line": {
             "colorbar": {
              "outlinewidth": 0,
              "ticks": ""
             }
            },
            "marker": {
             "colorbar": {
              "outlinewidth": 0,
              "ticks": ""
             }
            },
            "type": "scatter3d"
           }
          ],
          "scattercarpet": [
           {
            "marker": {
             "colorbar": {
              "outlinewidth": 0,
              "ticks": ""
             }
            },
            "type": "scattercarpet"
           }
          ],
          "scattergeo": [
           {
            "marker": {
             "colorbar": {
              "outlinewidth": 0,
              "ticks": ""
             }
            },
            "type": "scattergeo"
           }
          ],
          "scattergl": [
           {
            "marker": {
             "colorbar": {
              "outlinewidth": 0,
              "ticks": ""
             }
            },
            "type": "scattergl"
           }
          ],
          "scattermap": [
           {
            "marker": {
             "colorbar": {
              "outlinewidth": 0,
              "ticks": ""
             }
            },
            "type": "scattermap"
           }
          ],
          "scattermapbox": [
           {
            "marker": {
             "colorbar": {
              "outlinewidth": 0,
              "ticks": ""
             }
            },
            "type": "scattermapbox"
           }
          ],
          "scatterpolar": [
           {
            "marker": {
             "colorbar": {
              "outlinewidth": 0,
              "ticks": ""
             }
            },
            "type": "scatterpolar"
           }
          ],
          "scatterpolargl": [
           {
            "marker": {
             "colorbar": {
              "outlinewidth": 0,
              "ticks": ""
             }
            },
            "type": "scatterpolargl"
           }
          ],
          "scatterternary": [
           {
            "marker": {
             "colorbar": {
              "outlinewidth": 0,
              "ticks": ""
             }
            },
            "type": "scatterternary"
           }
          ],
          "surface": [
           {
            "colorbar": {
             "outlinewidth": 0,
             "ticks": ""
            },
            "colorscale": [
             [
              0,
              "#0d0887"
             ],
             [
              0.1111111111111111,
              "#46039f"
             ],
             [
              0.2222222222222222,
              "#7201a8"
             ],
             [
              0.3333333333333333,
              "#9c179e"
             ],
             [
              0.4444444444444444,
              "#bd3786"
             ],
             [
              0.5555555555555556,
              "#d8576b"
             ],
             [
              0.6666666666666666,
              "#ed7953"
             ],
             [
              0.7777777777777778,
              "#fb9f3a"
             ],
             [
              0.8888888888888888,
              "#fdca26"
             ],
             [
              1,
              "#f0f921"
             ]
            ],
            "type": "surface"
           }
          ],
          "table": [
           {
            "cells": {
             "fill": {
              "color": "#EBF0F8"
             },
             "line": {
              "color": "white"
             }
            },
            "header": {
             "fill": {
              "color": "#C8D4E3"
             },
             "line": {
              "color": "white"
             }
            },
            "type": "table"
           }
          ]
         },
         "layout": {
          "annotationdefaults": {
           "arrowcolor": "#2a3f5f",
           "arrowhead": 0,
           "arrowwidth": 1
          },
          "autotypenumbers": "strict",
          "coloraxis": {
           "colorbar": {
            "outlinewidth": 0,
            "ticks": ""
           }
          },
          "colorscale": {
           "diverging": [
            [
             0,
             "#8e0152"
            ],
            [
             0.1,
             "#c51b7d"
            ],
            [
             0.2,
             "#de77ae"
            ],
            [
             0.3,
             "#f1b6da"
            ],
            [
             0.4,
             "#fde0ef"
            ],
            [
             0.5,
             "#f7f7f7"
            ],
            [
             0.6,
             "#e6f5d0"
            ],
            [
             0.7,
             "#b8e186"
            ],
            [
             0.8,
             "#7fbc41"
            ],
            [
             0.9,
             "#4d9221"
            ],
            [
             1,
             "#276419"
            ]
           ],
           "sequential": [
            [
             0,
             "#0d0887"
            ],
            [
             0.1111111111111111,
             "#46039f"
            ],
            [
             0.2222222222222222,
             "#7201a8"
            ],
            [
             0.3333333333333333,
             "#9c179e"
            ],
            [
             0.4444444444444444,
             "#bd3786"
            ],
            [
             0.5555555555555556,
             "#d8576b"
            ],
            [
             0.6666666666666666,
             "#ed7953"
            ],
            [
             0.7777777777777778,
             "#fb9f3a"
            ],
            [
             0.8888888888888888,
             "#fdca26"
            ],
            [
             1,
             "#f0f921"
            ]
           ],
           "sequentialminus": [
            [
             0,
             "#0d0887"
            ],
            [
             0.1111111111111111,
             "#46039f"
            ],
            [
             0.2222222222222222,
             "#7201a8"
            ],
            [
             0.3333333333333333,
             "#9c179e"
            ],
            [
             0.4444444444444444,
             "#bd3786"
            ],
            [
             0.5555555555555556,
             "#d8576b"
            ],
            [
             0.6666666666666666,
             "#ed7953"
            ],
            [
             0.7777777777777778,
             "#fb9f3a"
            ],
            [
             0.8888888888888888,
             "#fdca26"
            ],
            [
             1,
             "#f0f921"
            ]
           ]
          },
          "colorway": [
           "#636efa",
           "#EF553B",
           "#00cc96",
           "#ab63fa",
           "#FFA15A",
           "#19d3f3",
           "#FF6692",
           "#B6E880",
           "#FF97FF",
           "#FECB52"
          ],
          "font": {
           "color": "#2a3f5f"
          },
          "geo": {
           "bgcolor": "white",
           "lakecolor": "white",
           "landcolor": "#E5ECF6",
           "showlakes": true,
           "showland": true,
           "subunitcolor": "white"
          },
          "hoverlabel": {
           "align": "left"
          },
          "hovermode": "closest",
          "mapbox": {
           "style": "light"
          },
          "paper_bgcolor": "white",
          "plot_bgcolor": "#E5ECF6",
          "polar": {
           "angularaxis": {
            "gridcolor": "white",
            "linecolor": "white",
            "ticks": ""
           },
           "bgcolor": "#E5ECF6",
           "radialaxis": {
            "gridcolor": "white",
            "linecolor": "white",
            "ticks": ""
           }
          },
          "scene": {
           "xaxis": {
            "backgroundcolor": "#E5ECF6",
            "gridcolor": "white",
            "gridwidth": 2,
            "linecolor": "white",
            "showbackground": true,
            "ticks": "",
            "zerolinecolor": "white"
           },
           "yaxis": {
            "backgroundcolor": "#E5ECF6",
            "gridcolor": "white",
            "gridwidth": 2,
            "linecolor": "white",
            "showbackground": true,
            "ticks": "",
            "zerolinecolor": "white"
           },
           "zaxis": {
            "backgroundcolor": "#E5ECF6",
            "gridcolor": "white",
            "gridwidth": 2,
            "linecolor": "white",
            "showbackground": true,
            "ticks": "",
            "zerolinecolor": "white"
           }
          },
          "shapedefaults": {
           "line": {
            "color": "#2a3f5f"
           }
          },
          "ternary": {
           "aaxis": {
            "gridcolor": "white",
            "linecolor": "white",
            "ticks": ""
           },
           "baxis": {
            "gridcolor": "white",
            "linecolor": "white",
            "ticks": ""
           },
           "bgcolor": "#E5ECF6",
           "caxis": {
            "gridcolor": "white",
            "linecolor": "white",
            "ticks": ""
           }
          },
          "title": {
           "x": 0.05
          },
          "xaxis": {
           "automargin": true,
           "gridcolor": "white",
           "linecolor": "white",
           "ticks": "",
           "title": {
            "standoff": 15
           },
           "zerolinecolor": "white",
           "zerolinewidth": 2
          },
          "yaxis": {
           "automargin": true,
           "gridcolor": "white",
           "linecolor": "white",
           "ticks": "",
           "title": {
            "standoff": 15
           },
           "zerolinecolor": "white",
           "zerolinewidth": 2
          }
         }
        },
        "title": {
         "text": "Stacked Bar Chart of Dress Preference by Cluster"
        },
        "xaxis": {
         "anchor": "y",
         "categoryarray": [
          0,
          1,
          2,
          3
         ],
         "categoryorder": "array",
         "domain": [
          0,
          1
         ],
         "title": {
          "text": "cluster"
         }
        },
        "yaxis": {
         "anchor": "x",
         "domain": [
          0,
          1
         ],
         "title": {
          "text": "count"
         }
        }
       }
      }
     },
     "metadata": {},
     "output_type": "display_data"
    },
    {
     "name": "stdout",
     "output_type": "stream",
     "text": [
      "shape: (4, 6)\n",
      "┌─────────┬───────────────┬──────────┬────────┬─────────┬──────┐\n",
      "│ cluster ┆ no preference ┆ informal ┆ formal ┆ elegant ┆ null │\n",
      "│ ---     ┆ ---           ┆ ---      ┆ ---    ┆ ---     ┆ ---  │\n",
      "│ i32     ┆ u32           ┆ u32      ┆ u32    ┆ u32     ┆ u32  │\n",
      "╞═════════╪═══════════════╪══════════╪════════╪═════════╪══════╡\n",
      "│ 2       ┆ 43            ┆ 608      ┆ 346    ┆ 0       ┆ 0    │\n",
      "│ 3       ┆ 193           ┆ 137      ┆ 131    ┆ 38      ┆ 40   │\n",
      "│ 1       ┆ 0             ┆ 1444     ┆ 7      ┆ 0       ┆ 0    │\n",
      "│ 0       ┆ 486           ┆ 474      ┆ 135    ┆ 40      ┆ 22   │\n",
      "└─────────┴───────────────┴──────────┴────────┴─────────┴──────┘\n"
     ]
    },
    {
     "name": "stderr",
     "output_type": "stream",
     "text": [
      "/var/folders/8x/9q78ljcd4v5_8_sj7ft_y7g00000gq/T/ipykernel_56430/3305994439.py:24: DeprecationWarning:\n",
      "\n",
      "`pl.count()` is deprecated. Please use `pl.len()` instead.\n",
      "\n",
      "/var/folders/8x/9q78ljcd4v5_8_sj7ft_y7g00000gq/T/ipykernel_56430/3305994439.py:22: DeprecationWarning:\n",
      "\n",
      "The argument `columns` for `DataFrame.pivot` is deprecated. It has been renamed to `on`.\n",
      "\n"
     ]
    }
   ],
   "source": [
    "# Group by cluster and dress preference, then count\n",
    "dress_data = final_user_df.select('cluster','dress_preference')\n",
    "#dress_cluster_agg = dress_data.group_by(['cluster', 'dress_preference']).len()\n",
    "# Convert to pandas\n",
    "dress_data_pd = final_user_df.to_pandas()\n",
    "\n",
    "# Create stacked bar chart\n",
    "fig = px.histogram(\n",
    "    dress_data_pd,\n",
    "    x=\"cluster\",                      # x-axis: clusters\n",
    "    color=\"dress_preference\",        # stacked segments: dress preference\n",
    "    barmode=\"stack\",                 # stack the bars\n",
    "    title=\"Stacked Bar Chart of Dress Preference by Cluster\",\n",
    "    category_orders={\"cluster\": sorted(dress_data_pd[\"cluster\"].unique())}\n",
    ")\n",
    "\n",
    "\n",
    "fig.show()\n",
    "\n",
    "# Table showing distribution\n",
    "dress_summary = (\n",
    "    dress_data\n",
    "    .group_by([\"cluster\", \"dress_preference\"])\n",
    "    .agg(pl.count())\n",
    "    .pivot(\n",
    "        values=\"count\",\n",
    "        index=\"cluster\",\n",
    "        columns=\"dress_preference\"\n",
    "        )\n",
    "    .fill_null(0)  # Optional: fill in missing values with 0\n",
    ")\n",
    "\n",
    "print(dress_summary)"
   ]
  },
  {
   "cell_type": "code",
   "execution_count": 18,
   "metadata": {},
   "outputs": [
    {
     "data": {
      "application/vnd.plotly.v1+json": {
       "config": {
        "plotlyServerURL": "https://plot.ly"
       },
       "data": [
        {
         "bingroup": "x",
         "hovertemplate": "dress_preference=%{x}<br>count=%{y}<extra></extra>",
         "legendgroup": "",
         "marker": {
          "color": "#636efa",
          "pattern": {
           "shape": ""
          }
         },
         "name": "",
         "orientation": "v",
         "showlegend": false,
         "texttemplate": "%{value}",
         "type": "histogram",
         "x": [
          "elegant",
          "elegant",
          "elegant",
          "elegant",
          "elegant",
          "elegant",
          "elegant",
          "elegant",
          "elegant",
          "elegant",
          "elegant",
          "elegant",
          "informal",
          "informal",
          "informal",
          "informal",
          "informal",
          "no preference",
          "no preference",
          "no preference",
          "no preference",
          "no preference",
          "no preference",
          "formal",
          "formal",
          "formal",
          "formal",
          "formal",
          "formal",
          "formal",
          "formal",
          "formal",
          "formal",
          "formal",
          "formal",
          "formal",
          "formal",
          "formal",
          "formal",
          "no preference",
          "no preference",
          "no preference",
          "no preference",
          "no preference",
          "no preference",
          "informal",
          "informal",
          "informal",
          "informal",
          "informal",
          "informal",
          "informal",
          "informal",
          "informal",
          "informal",
          "informal",
          "informal",
          "informal",
          "informal",
          "informal",
          "informal",
          "informal",
          "informal",
          "informal",
          "informal",
          "informal",
          "informal",
          "informal",
          "informal",
          "informal",
          "informal",
          "formal",
          "formal",
          "formal",
          "formal",
          "formal",
          "formal",
          "formal",
          "formal",
          "formal",
          "formal",
          "formal",
          "formal",
          "formal",
          "formal",
          "formal",
          "formal",
          "formal",
          "formal",
          "formal",
          "formal",
          "formal",
          "formal",
          "formal",
          "formal",
          "formal",
          "formal",
          "formal",
          "formal",
          "formal",
          "formal",
          "formal",
          "formal",
          "formal",
          "formal",
          "formal",
          "formal",
          "formal",
          "formal",
          "formal",
          "formal",
          "formal",
          "formal",
          "formal",
          "formal",
          "formal",
          "formal",
          "formal",
          "formal",
          "formal",
          "formal",
          "formal",
          "formal",
          "informal",
          "informal",
          "informal",
          "informal",
          "informal",
          "informal",
          "informal",
          "informal",
          "informal",
          "no preference",
          "no preference",
          "no preference",
          "no preference",
          "formal",
          "formal",
          "no preference",
          "no preference",
          "no preference",
          "no preference",
          "no preference",
          "no preference",
          "no preference",
          "no preference",
          "informal",
          "informal",
          "informal",
          "informal",
          null,
          null,
          null,
          "informal",
          "informal",
          "informal",
          "informal",
          "informal",
          "informal",
          "informal",
          "informal",
          "informal",
          "informal",
          "informal",
          "informal",
          "informal",
          "informal",
          "informal",
          "informal",
          "informal",
          "informal",
          "informal",
          "informal",
          "informal",
          "informal",
          "informal",
          "informal",
          "informal",
          "informal",
          "informal",
          "informal",
          "informal",
          "informal",
          "informal",
          "informal",
          "informal",
          "informal",
          "informal",
          "informal",
          "informal",
          "informal",
          "informal",
          "informal",
          "informal",
          "informal",
          "informal",
          "informal",
          "informal",
          "informal",
          "informal",
          "informal",
          "informal",
          "informal",
          "informal",
          "informal",
          "informal",
          "informal",
          "informal",
          "informal",
          "informal",
          "informal",
          "informal",
          "informal",
          "informal",
          "informal",
          "informal",
          "informal",
          "informal",
          "informal",
          "informal",
          "informal",
          "informal",
          "informal",
          "informal",
          "informal",
          "informal",
          "informal",
          "informal",
          "informal",
          "informal",
          "informal",
          "informal",
          "informal",
          "informal",
          "informal",
          "informal",
          "informal",
          "informal",
          "informal",
          "informal",
          "informal",
          "informal",
          "informal",
          "informal",
          "informal",
          "informal",
          "informal",
          "informal",
          "informal",
          "informal",
          "informal",
          "informal",
          "informal",
          "informal",
          "informal",
          "informal",
          "informal",
          "informal",
          "informal",
          "informal",
          "informal",
          "informal",
          "informal",
          "informal",
          "informal",
          "informal",
          "informal",
          "informal",
          "informal",
          "informal",
          "informal",
          "informal",
          "informal",
          "informal",
          "informal",
          "informal",
          "informal",
          "informal",
          "informal",
          "informal",
          "informal",
          "informal",
          "informal",
          "informal",
          "informal",
          "informal",
          "informal",
          "informal",
          "informal",
          "informal",
          "informal",
          "informal",
          "informal",
          "informal",
          "informal",
          "informal",
          "informal",
          "informal",
          "informal",
          "informal",
          "informal",
          "informal",
          "informal",
          "informal",
          "informal",
          "informal",
          "informal",
          "informal",
          "informal",
          "informal",
          "informal",
          "informal",
          "informal",
          "informal",
          "informal",
          "informal",
          "informal",
          "informal",
          "informal",
          "informal",
          "informal",
          "informal",
          "informal",
          "informal",
          "informal",
          "informal",
          "informal",
          "informal",
          "informal",
          "informal",
          "informal",
          "informal",
          "informal",
          "informal",
          "informal",
          "informal",
          "informal",
          "informal",
          "informal",
          "informal",
          "informal",
          "informal",
          "informal",
          "informal",
          "informal",
          "informal",
          "informal",
          "informal",
          "informal",
          "informal",
          "informal",
          "informal",
          "informal",
          "informal",
          "informal",
          "informal",
          "informal",
          "informal",
          "informal",
          "informal",
          "informal",
          "informal",
          "informal",
          "informal",
          "informal",
          "informal",
          "informal",
          "informal",
          "informal",
          "informal",
          "informal",
          "informal",
          "informal",
          "informal",
          "informal",
          "informal",
          "informal",
          "informal",
          "informal",
          "informal",
          "informal",
          "informal",
          "informal",
          "informal",
          "informal",
          "informal",
          "informal",
          "informal",
          "informal",
          "informal",
          "informal",
          "informal",
          "informal",
          "informal",
          "informal",
          "informal",
          "informal",
          "informal",
          "informal",
          "informal",
          "informal",
          "informal",
          "informal",
          "informal",
          "informal",
          "informal",
          "informal",
          "informal",
          "informal",
          "informal",
          "informal",
          "informal",
          "informal",
          "informal",
          "informal",
          "informal",
          "informal",
          "informal",
          "informal",
          "informal",
          "informal",
          "informal",
          "informal",
          "informal",
          "informal",
          "informal",
          "informal",
          "informal",
          "informal",
          "informal",
          "informal",
          "informal",
          "informal",
          "informal",
          "informal",
          "informal",
          "informal",
          "informal",
          "informal",
          "informal",
          "informal",
          "informal",
          "informal",
          "informal",
          "informal",
          "informal",
          "informal",
          "informal",
          "informal",
          "informal",
          "informal",
          "informal",
          "informal",
          "informal",
          "informal",
          "informal",
          "informal",
          "informal",
          "informal",
          "informal",
          "informal",
          "informal",
          "informal",
          "informal",
          "informal",
          "informal",
          "informal",
          "informal",
          "informal",
          "informal",
          "informal",
          "informal",
          "informal",
          "informal",
          "informal",
          "informal",
          "informal",
          "informal",
          "informal",
          "informal",
          "informal",
          "informal",
          "informal",
          "informal",
          "informal",
          "informal",
          "informal",
          "informal",
          "informal",
          "informal",
          "informal",
          "informal",
          "informal",
          "informal",
          "informal",
          "informal",
          "informal",
          "informal",
          "informal",
          "informal",
          "informal",
          "informal",
          "informal",
          "informal",
          "informal",
          "informal",
          "informal",
          "informal",
          "informal",
          "informal",
          "informal",
          "informal",
          "informal",
          "informal",
          "informal",
          "informal",
          "informal",
          "informal",
          "informal",
          "informal",
          "informal",
          "informal",
          "informal",
          "informal",
          "informal",
          "informal",
          "informal",
          "informal",
          "informal",
          "informal",
          "informal",
          "informal",
          "informal",
          "informal",
          "informal",
          "informal",
          "informal",
          "informal",
          "informal",
          "informal",
          "informal",
          "informal",
          "informal",
          "informal",
          "informal",
          "informal",
          "informal",
          "informal",
          "informal",
          "informal",
          "informal",
          "informal",
          "informal",
          "informal",
          "informal",
          "informal",
          "informal",
          "informal",
          "informal",
          "informal",
          "informal",
          "informal",
          "informal",
          "informal",
          "informal",
          "informal",
          "informal",
          "informal",
          "informal",
          "informal",
          "informal",
          "informal",
          "informal",
          "informal",
          "informal",
          "informal",
          "informal",
          "informal",
          "informal",
          "informal",
          "informal",
          "informal",
          "informal",
          "informal",
          "informal",
          "informal",
          "informal",
          "informal",
          "informal",
          "informal",
          "informal",
          "informal",
          "informal",
          "informal",
          "informal",
          "informal",
          "informal",
          "informal",
          "informal",
          "informal",
          "informal",
          "informal",
          "informal",
          "informal",
          "informal",
          "informal",
          "informal",
          "informal",
          "informal",
          "informal",
          "informal",
          "informal",
          "informal",
          "informal",
          "informal",
          "informal",
          "informal",
          "informal",
          "informal",
          "informal",
          "informal",
          "informal",
          "informal",
          "informal",
          "informal",
          "informal",
          "informal",
          "informal",
          "informal",
          "informal",
          "informal",
          "informal",
          "informal",
          "informal",
          "informal",
          "informal",
          "informal",
          "informal",
          "informal",
          "informal",
          "informal",
          "informal",
          "informal",
          "informal",
          "informal",
          "informal",
          "informal",
          "informal",
          "informal",
          "informal",
          "informal",
          "informal",
          "informal",
          "informal",
          "informal",
          "informal",
          "informal",
          "informal",
          "informal",
          "informal",
          "informal",
          "informal",
          "informal",
          "informal",
          "informal",
          "informal",
          "informal",
          "informal",
          "informal",
          "informal",
          "informal",
          "informal",
          "informal",
          "informal",
          "informal",
          "informal",
          "informal",
          "informal",
          "informal",
          "informal",
          "informal",
          "informal",
          "informal",
          "informal",
          "informal",
          "informal",
          "informal",
          "informal",
          "informal",
          "informal",
          "informal",
          "informal",
          "informal",
          "formal",
          "formal",
          "formal",
          "formal",
          "formal",
          "formal",
          "no preference",
          "no preference",
          "no preference",
          "no preference",
          "no preference",
          "no preference",
          "no preference",
          "no preference",
          "no preference",
          "no preference",
          "formal",
          "no preference",
          "no preference",
          "formal",
          "formal",
          "formal",
          "formal",
          "formal",
          "formal",
          "no preference",
          "no preference",
          "formal",
          "no preference",
          "no preference",
          "formal",
          "formal",
          "formal",
          "formal",
          "informal",
          "informal",
          "informal",
          "informal",
          "no preference",
          "no preference",
          "no preference",
          "no preference",
          "formal",
          "formal",
          "informal",
          "informal",
          "formal",
          "formal",
          "formal",
          "formal",
          "informal",
          "informal",
          "formal",
          "formal",
          "informal",
          "informal",
          "formal",
          "formal",
          "formal",
          "formal",
          "no preference",
          "no preference",
          "no preference",
          "no preference",
          "no preference",
          "no preference",
          "no preference",
          "no preference",
          "no preference",
          "no preference",
          "no preference",
          "no preference",
          "no preference",
          "no preference",
          "no preference",
          "no preference",
          "no preference",
          "no preference",
          "informal",
          "no preference",
          "no preference",
          "no preference",
          "no preference",
          "no preference",
          "no preference",
          "formal",
          "formal",
          "formal",
          "formal",
          "formal",
          "formal",
          "formal",
          "formal",
          "informal",
          "informal",
          "formal",
          "formal",
          "formal",
          "formal",
          "formal",
          "formal",
          "formal",
          "formal",
          "formal",
          "formal",
          "formal",
          "informal",
          "informal",
          "no preference",
          "no preference",
          "no preference",
          "no preference",
          "no preference",
          "no preference",
          "no preference",
          "no preference",
          "no preference",
          "no preference",
          "no preference",
          "no preference",
          "no preference",
          "no preference",
          "no preference",
          "no preference",
          "no preference",
          "no preference",
          "informal",
          "informal",
          "informal",
          "informal",
          "informal",
          "informal",
          "no preference",
          "no preference",
          "no preference",
          "no preference",
          "no preference",
          "no preference",
          "no preference",
          "no preference",
          "no preference",
          "no preference",
          "no preference",
          "no preference",
          "no preference",
          "no preference",
          "no preference",
          "no preference",
          "no preference",
          "no preference",
          "no preference",
          null,
          null,
          "no preference",
          null,
          null,
          null,
          null,
          "no preference",
          "no preference",
          "no preference",
          "no preference",
          "informal",
          "informal",
          "informal",
          "informal",
          "no preference",
          "no preference",
          "no preference",
          "no preference",
          "informal",
          "informal",
          "informal",
          "no preference",
          "no preference",
          "informal",
          "informal",
          "informal",
          "informal",
          "informal",
          "informal",
          "formal",
          "informal",
          "formal",
          "informal",
          "informal",
          "formal",
          "informal",
          "formal",
          "formal",
          "informal",
          "informal",
          "informal",
          "informal",
          "informal",
          "informal",
          "informal",
          "informal",
          "informal",
          null,
          null,
          "informal",
          "informal",
          null,
          null,
          null,
          null,
          "informal",
          null,
          null,
          null,
          null,
          null,
          null,
          "informal",
          "informal",
          "informal",
          null,
          null,
          null,
          null,
          "informal",
          "informal",
          "informal",
          null,
          null,
          "informal",
          "informal",
          "informal",
          null,
          null,
          null,
          null,
          "informal",
          "informal",
          "informal",
          "informal",
          "informal",
          "informal",
          "informal",
          "informal",
          "informal",
          "informal",
          "no preference",
          "no preference",
          "no preference",
          "no preference",
          "no preference",
          "no preference",
          "no preference",
          "no preference",
          "no preference",
          "no preference",
          "no preference",
          "no preference",
          "no preference",
          "no preference",
          "no preference",
          "no preference",
          "informal",
          "informal",
          "formal",
          "informal",
          "informal",
          "formal",
          "formal",
          "informal",
          "informal",
          "formal",
          "formal",
          "formal",
          "formal",
          "formal",
          "formal",
          "formal",
          "informal",
          "informal",
          "informal",
          "informal",
          "informal",
          "informal",
          "informal",
          "informal",
          "informal",
          "informal",
          "informal",
          "informal",
          "informal",
          "informal",
          "informal",
          "informal",
          "informal",
          "informal",
          "formal",
          "formal",
          "formal",
          "formal",
          "formal",
          "formal",
          "formal",
          "formal",
          "formal",
          "formal",
          "formal",
          "formal",
          "formal",
          "formal",
          "formal",
          "formal",
          "formal",
          "formal",
          "formal",
          "formal",
          "formal",
          "formal",
          "formal",
          "formal",
          "formal",
          "formal",
          "elegant",
          "elegant",
          "elegant",
          "elegant",
          "elegant",
          "elegant",
          "elegant",
          "elegant",
          "elegant",
          "elegant",
          "elegant",
          "elegant",
          "formal",
          "elegant",
          "elegant",
          "elegant",
          "formal",
          "formal",
          "formal",
          "formal",
          "formal",
          "formal",
          "formal",
          "formal",
          "formal",
          "formal",
          "formal",
          "formal",
          "formal",
          "informal",
          "informal",
          "informal",
          "informal",
          "informal",
          "informal",
          "informal",
          "informal",
          "formal",
          "formal",
          "formal",
          "formal",
          "formal",
          "formal",
          "formal",
          "formal",
          "formal",
          "formal",
          "formal",
          "formal",
          "formal",
          "formal",
          "formal",
          "formal",
          "formal",
          "formal",
          "formal",
          "formal",
          "formal",
          "formal",
          "formal",
          "formal",
          "formal",
          "formal",
          "formal",
          "formal",
          "formal",
          "formal",
          "formal",
          "formal",
          "formal",
          "formal",
          "formal",
          "formal",
          "formal",
          "formal",
          "formal",
          "formal",
          "formal",
          "informal",
          "informal",
          "informal",
          "informal",
          "informal",
          "informal",
          "informal",
          "informal",
          "informal",
          "informal",
          "informal",
          "informal",
          "informal",
          "informal",
          "elegant",
          "elegant",
          "elegant",
          "elegant",
          "elegant",
          "elegant",
          "elegant",
          "elegant",
          "no preference",
          "no preference",
          null,
          null,
          null,
          null,
          null,
          null,
          null,
          null,
          null,
          null,
          null,
          null,
          null,
          null,
          null,
          "informal",
          "informal",
          "informal",
          "informal",
          "informal",
          "informal",
          "informal",
          "informal",
          "informal",
          "informal",
          "no preference",
          "no preference",
          "no preference",
          "no preference",
          "no preference",
          "no preference",
          "no preference",
          "no preference",
          "no preference",
          "informal",
          "informal",
          "informal",
          "informal",
          "informal",
          "informal",
          "informal",
          "informal",
          "informal",
          "informal",
          "informal",
          "informal",
          "informal",
          "informal",
          "informal",
          "informal",
          "informal",
          "informal",
          "informal",
          "informal",
          "informal",
          "informal",
          "informal",
          "informal",
          "informal",
          "informal",
          "informal",
          "informal",
          "informal",
          "informal",
          "informal",
          "informal",
          "informal",
          "informal",
          "informal",
          "informal",
          "informal",
          "informal",
          "informal",
          "informal",
          "informal",
          "informal",
          "informal",
          "informal",
          "informal",
          "informal",
          "informal",
          "informal",
          "informal",
          "informal",
          "informal",
          "informal",
          "informal",
          "informal",
          "informal",
          "informal",
          "informal",
          "informal",
          "informal",
          "informal",
          "informal",
          "informal",
          "informal",
          "informal",
          "informal",
          "informal",
          "informal",
          "informal",
          "informal",
          "informal",
          "informal",
          "informal",
          "informal",
          "informal",
          "informal",
          "informal",
          "informal",
          "informal",
          "informal",
          "informal",
          "informal",
          "informal",
          "informal",
          "informal",
          "informal",
          "informal",
          "informal",
          "informal",
          "informal",
          "informal",
          "informal",
          "informal",
          "informal",
          "informal",
          "informal",
          "informal",
          "informal",
          "informal",
          "elegant",
          "elegant",
          "elegant",
          "informal",
          "no preference",
          "no preference",
          "no preference",
          "no preference",
          "no preference",
          "no preference",
          "no preference",
          "no preference",
          "no preference",
          "no preference",
          "no preference",
          "no preference",
          "no preference",
          "no preference",
          "informal",
          "informal",
          "informal",
          "informal",
          "informal",
          "informal",
          "informal",
          "informal",
          "informal",
          "informal",
          "informal",
          "informal",
          "no preference",
          "no preference",
          "no preference",
          "no preference",
          "no preference",
          "formal",
          "formal",
          "formal",
          "formal",
          "formal",
          "formal",
          "formal",
          "formal",
          "formal",
          "formal",
          "formal",
          "formal",
          "formal",
          "no preference",
          "formal",
          "formal",
          "formal",
          "formal",
          "formal",
          "formal",
          "formal",
          "formal",
          "formal",
          "formal",
          "informal",
          "informal",
          "no preference",
          "no preference",
          "no preference",
          "no preference",
          "no preference",
          "no preference",
          "no preference",
          "no preference",
          "no preference",
          "no preference",
          "no preference",
          "no preference",
          "no preference",
          "no preference",
          "no preference",
          "no preference",
          "no preference",
          "no preference",
          "no preference",
          "no preference",
          "no preference",
          "no preference",
          "formal",
          "formal",
          "formal",
          "formal",
          "formal",
          "formal",
          "formal",
          "formal",
          "formal",
          "formal",
          "formal",
          "formal",
          "formal",
          "formal",
          "formal",
          "formal",
          "no preference",
          "no preference",
          "no preference",
          "no preference",
          "no preference",
          "no preference",
          "no preference",
          "no preference",
          "no preference",
          "no preference",
          "informal",
          "informal",
          "informal",
          "informal",
          "no preference",
          "no preference",
          "informal",
          "informal",
          "informal",
          "informal",
          "no preference",
          "no preference",
          "informal",
          "informal",
          "no preference",
          "no preference",
          "no preference",
          "no preference",
          "informal",
          "informal",
          "no preference",
          "no preference",
          "informal",
          "informal",
          "informal",
          "informal",
          "no preference",
          "informal",
          "informal",
          "informal",
          "informal",
          "no preference",
          "no preference",
          "informal",
          "informal",
          "informal",
          "informal",
          "informal",
          "informal",
          "informal",
          "informal",
          "informal",
          "informal",
          "no preference",
          "no preference",
          "no preference",
          "no preference",
          "formal",
          "formal",
          "formal",
          "formal",
          "elegant",
          "elegant",
          "elegant",
          "elegant",
          "elegant",
          "elegant",
          "elegant",
          "elegant",
          "elegant",
          "elegant",
          "elegant",
          "elegant",
          "elegant",
          "elegant",
          "elegant",
          "elegant",
          "elegant",
          "elegant",
          "elegant",
          "elegant",
          "elegant",
          "elegant",
          "elegant",
          "elegant",
          "elegant",
          "elegant",
          "elegant",
          "elegant",
          "elegant",
          "elegant",
          "elegant",
          "elegant",
          "elegant",
          "elegant",
          "elegant",
          "elegant",
          "elegant",
          "elegant",
          "elegant",
          "elegant",
          "formal",
          "formal",
          "formal",
          "formal",
          "formal",
          "formal",
          "formal",
          "formal",
          "formal",
          "formal",
          "formal",
          "formal",
          "formal",
          "formal",
          "formal",
          "formal",
          "formal",
          "formal",
          "formal",
          "formal",
          "formal",
          "formal",
          "formal",
          "formal",
          "formal",
          "formal",
          "formal",
          "formal",
          "formal",
          "formal",
          "formal",
          "formal",
          "formal",
          "formal",
          "formal",
          "formal",
          "formal",
          "formal",
          "formal",
          "formal",
          "formal",
          "formal",
          "formal",
          "formal",
          "formal",
          "formal",
          "formal",
          "formal",
          "formal",
          "formal",
          "formal",
          "formal",
          "formal",
          "formal",
          "formal",
          "formal",
          "formal",
          "formal",
          "formal",
          "formal",
          "formal",
          "formal",
          "formal",
          "formal",
          "formal",
          "formal",
          "formal",
          "formal",
          "formal",
          "formal",
          "formal",
          "formal",
          "formal",
          "formal",
          "formal",
          "formal",
          "formal",
          "informal",
          "informal",
          "informal",
          "informal",
          "informal",
          "informal",
          "informal",
          "informal",
          "informal",
          "informal",
          "informal",
          "informal",
          "informal",
          "informal",
          "informal",
          "informal",
          "informal",
          "informal",
          "informal",
          "informal",
          "informal",
          "informal",
          "informal",
          "informal",
          "informal",
          "informal",
          "informal",
          "informal",
          "informal",
          "informal",
          "informal",
          "informal",
          "informal",
          "informal",
          "informal",
          "informal",
          "informal",
          "informal",
          "informal",
          "informal",
          "informal",
          "informal",
          "informal",
          "informal",
          "informal",
          "informal",
          "informal",
          "informal",
          "informal",
          "informal",
          "informal",
          "informal",
          "informal",
          "informal",
          "informal",
          "informal",
          "informal",
          "informal",
          "informal",
          "informal",
          "informal",
          "informal",
          "informal",
          "informal",
          "informal",
          "informal",
          "informal",
          "informal",
          "informal",
          "informal",
          "informal",
          "informal",
          "informal",
          "informal",
          "informal",
          "informal",
          "informal",
          "informal",
          "informal",
          "informal",
          "informal",
          "informal",
          "informal",
          "informal",
          "informal",
          "informal",
          "informal",
          "informal",
          "informal",
          "informal",
          "informal",
          "informal",
          "informal",
          "informal",
          "informal",
          "informal",
          "informal",
          "informal",
          "informal",
          "informal",
          "informal",
          "informal",
          "informal",
          "informal",
          "informal",
          "informal",
          "informal",
          "informal",
          "informal",
          "informal",
          "informal",
          "informal",
          "informal",
          "informal",
          "informal",
          "informal",
          "informal",
          "informal",
          "informal",
          "informal",
          "informal",
          "informal",
          "informal",
          "informal",
          "informal",
          "informal",
          "informal",
          "informal",
          "informal",
          "informal",
          "informal",
          "informal",
          "informal",
          "informal",
          "informal",
          "informal",
          "informal",
          "informal",
          "informal",
          "informal",
          "informal",
          "informal",
          "informal",
          "informal",
          "informal",
          "informal",
          "informal",
          "informal",
          "informal",
          "informal",
          "informal",
          "informal",
          "informal",
          "informal",
          "informal",
          "informal",
          "informal",
          "informal",
          "informal",
          "informal",
          "informal",
          "informal",
          "informal",
          "informal",
          "informal",
          "informal",
          "informal",
          "informal",
          "informal",
          "informal",
          "informal",
          "informal",
          "informal",
          "informal",
          "informal",
          "informal",
          "informal",
          "informal",
          "informal",
          "informal",
          "informal",
          "informal",
          "no preference",
          "no preference",
          "no preference",
          "formal",
          "formal",
          "formal",
          "informal",
          "formal",
          "informal",
          "informal",
          "formal",
          "formal",
          "formal",
          "informal",
          "informal",
          "formal",
          "formal",
          "formal",
          "informal",
          "informal",
          "informal",
          "informal",
          "informal",
          "informal",
          "informal",
          "informal",
          "informal",
          "informal",
          "informal",
          "informal",
          "formal",
          "formal",
          "formal",
          "formal",
          "formal",
          "formal",
          "formal",
          "formal",
          "formal",
          "formal",
          "formal",
          "formal",
          "formal",
          "formal",
          "formal",
          "formal",
          "formal",
          "formal",
          "formal",
          "formal",
          "informal",
          "informal",
          "informal",
          "informal",
          "formal",
          "formal",
          "formal",
          "formal",
          "formal",
          "formal",
          "formal",
          "formal",
          "formal",
          "formal",
          "informal",
          "informal",
          "formal",
          "formal",
          "formal",
          "formal",
          "formal",
          "formal",
          "formal",
          "formal",
          "formal",
          "formal",
          "formal",
          "formal",
          "formal",
          "formal",
          "formal",
          "formal",
          "formal",
          "formal",
          "formal",
          "formal",
          "informal",
          "informal",
          "formal",
          "formal",
          "formal",
          "formal",
          "formal",
          "formal",
          "formal",
          "formal",
          "formal",
          "formal",
          "informal",
          "informal",
          "formal",
          "formal",
          "formal",
          "formal",
          "formal",
          "formal",
          "formal",
          "formal",
          "formal",
          "formal",
          "informal",
          "informal",
          "informal",
          "informal",
          "informal",
          "informal",
          "formal",
          "formal",
          "formal",
          "formal",
          "formal",
          "formal",
          "formal",
          "formal",
          "formal",
          "formal",
          "formal",
          "formal",
          "formal",
          "formal",
          "formal",
          "formal",
          "formal",
          "formal",
          "formal",
          "formal",
          "informal",
          "informal",
          "no preference",
          "no preference",
          "no preference",
          "no preference",
          "no preference",
          "no preference",
          "no preference",
          "no preference",
          "no preference",
          "no preference",
          "no preference",
          "no preference",
          "no preference",
          "no preference",
          "no preference",
          "no preference",
          "no preference",
          "no preference",
          "no preference",
          "no preference",
          "no preference",
          "no preference",
          "no preference",
          "no preference",
          "no preference",
          "no preference",
          "no preference",
          "formal",
          "formal",
          "formal",
          "formal",
          "formal",
          "formal",
          "formal",
          "formal",
          "formal",
          "formal",
          "formal",
          "no preference",
          "no preference",
          "formal",
          "formal",
          "formal",
          "formal",
          "formal",
          "no preference",
          "formal",
          "formal",
          "formal",
          "no preference",
          "formal",
          "no preference",
          "formal",
          "formal",
          "no preference",
          "informal",
          "informal",
          "informal",
          "informal",
          "informal",
          "informal",
          "informal",
          "no preference",
          "no preference",
          "no preference",
          "no preference",
          "informal",
          "informal",
          "no preference",
          "no preference",
          "no preference",
          "no preference",
          "no preference",
          "no preference",
          "no preference",
          "no preference",
          "no preference",
          "no preference",
          "no preference",
          "no preference",
          "no preference",
          "no preference",
          "no preference",
          "no preference",
          "no preference",
          "no preference",
          "no preference",
          "no preference",
          "no preference",
          "no preference",
          "no preference",
          "no preference",
          "no preference",
          "no preference",
          "no preference",
          "no preference",
          "no preference",
          "no preference",
          "no preference",
          "no preference",
          "no preference",
          "no preference",
          "no preference",
          "no preference",
          "no preference",
          "no preference",
          "no preference",
          "no preference",
          "no preference",
          "no preference",
          "no preference",
          "no preference",
          "no preference",
          "no preference",
          "no preference",
          "no preference",
          "no preference",
          "no preference",
          "no preference",
          "no preference",
          "no preference",
          "no preference",
          "no preference",
          "no preference",
          "no preference",
          "no preference",
          "no preference",
          "no preference",
          "no preference",
          "no preference",
          "no preference",
          "no preference",
          "no preference",
          "no preference",
          "no preference",
          "no preference",
          "no preference",
          "no preference",
          "no preference",
          "no preference",
          "no preference",
          "no preference",
          "no preference",
          "no preference",
          "no preference",
          "no preference",
          "no preference",
          "no preference",
          "no preference",
          "no preference",
          "no preference",
          "no preference",
          "no preference",
          "no preference",
          "no preference",
          "no preference",
          "no preference",
          "no preference",
          "no preference",
          "no preference",
          "no preference",
          "no preference",
          "no preference",
          "no preference",
          "no preference",
          "no preference",
          "no preference",
          "no preference",
          "no preference",
          "no preference",
          "no preference",
          "no preference",
          "no preference",
          "no preference",
          "no preference",
          "no preference",
          "no preference",
          "no preference",
          "no preference",
          "no preference",
          "no preference",
          "no preference",
          "no preference",
          "no preference",
          "no preference",
          "no preference",
          "no preference",
          "no preference",
          "no preference",
          "no preference",
          "no preference",
          "no preference",
          "no preference",
          "no preference",
          "no preference",
          "no preference",
          "no preference",
          "no preference",
          "no preference",
          "no preference",
          "no preference",
          "no preference",
          "no preference",
          "no preference",
          "no preference",
          "no preference",
          "no preference",
          "no preference",
          "no preference",
          "no preference",
          "no preference",
          "no preference",
          "no preference",
          "no preference",
          "no preference",
          "no preference",
          "no preference",
          "no preference",
          "informal",
          "informal",
          "informal",
          "informal",
          "informal",
          "informal",
          "informal",
          "informal",
          "informal",
          "informal",
          "informal",
          "informal",
          "informal",
          "informal",
          "informal",
          "informal",
          "informal",
          "informal",
          "informal",
          "informal",
          "informal",
          "informal",
          "informal",
          "informal",
          "informal",
          "informal",
          "informal",
          "informal",
          "informal",
          "informal",
          "informal",
          "informal",
          "informal",
          "informal",
          "informal",
          "informal",
          "informal",
          "informal",
          "informal",
          "informal",
          "informal",
          "informal",
          "informal",
          "informal",
          "informal",
          "informal",
          "informal",
          "informal",
          "informal",
          "informal",
          "informal",
          "informal",
          "informal",
          "informal",
          "informal",
          "informal",
          "informal",
          "informal",
          "informal",
          "informal",
          "informal",
          "informal",
          "informal",
          "informal",
          "informal",
          "informal",
          "informal",
          "informal",
          "informal",
          "informal",
          "informal",
          "informal",
          "informal",
          "informal",
          "informal",
          "informal",
          "informal",
          "informal",
          "informal",
          "informal",
          "informal",
          "informal",
          "informal",
          "informal",
          "informal",
          "informal",
          "informal",
          "informal",
          "informal",
          "informal",
          "informal",
          "informal",
          "informal",
          "informal",
          "informal",
          "informal",
          "informal",
          "informal",
          "informal",
          "informal",
          "informal",
          "informal",
          "informal",
          "informal",
          "informal",
          "informal",
          "informal",
          "informal",
          "informal",
          "informal",
          "informal",
          "informal",
          "informal",
          "informal",
          "informal",
          "informal",
          "informal",
          "informal",
          "informal",
          "informal",
          "informal",
          "informal",
          "informal",
          "informal",
          "informal",
          "informal",
          "informal",
          "informal",
          "informal",
          "informal",
          "informal",
          "informal",
          "informal",
          "informal",
          "informal",
          "informal",
          "informal",
          "informal",
          "informal",
          "informal",
          "informal",
          "informal",
          "informal",
          "informal",
          "informal",
          "informal",
          "informal",
          "informal",
          "informal",
          "informal",
          "informal",
          "informal",
          "informal",
          "informal",
          "informal",
          "informal",
          "informal",
          "informal",
          "informal",
          "informal",
          "informal",
          "informal",
          "informal",
          "informal",
          "informal",
          "informal",
          "informal",
          "informal",
          "informal",
          "informal",
          "informal",
          "informal",
          "informal",
          "informal",
          "informal",
          "informal",
          "informal",
          "informal",
          "informal",
          "informal",
          "informal",
          "informal",
          "informal",
          "informal",
          "informal",
          "informal",
          "informal",
          "informal",
          "informal",
          "informal",
          "informal",
          "informal",
          "informal",
          "informal",
          "informal",
          "informal",
          "informal",
          "informal",
          "informal",
          "informal",
          "informal",
          "informal",
          "informal",
          "informal",
          "informal",
          "informal",
          "informal",
          "informal",
          "informal",
          "informal",
          "informal",
          "informal",
          "informal",
          "informal",
          "informal",
          "informal",
          "informal",
          "informal",
          "informal",
          "informal",
          "informal",
          "informal",
          "informal",
          "informal",
          "informal",
          "informal",
          "informal",
          "informal",
          "informal",
          "informal",
          "informal",
          "informal",
          "informal",
          "informal",
          "informal",
          "informal",
          "informal",
          "informal",
          "informal",
          "informal",
          "informal",
          "informal",
          "informal",
          "informal",
          "informal",
          "informal",
          "informal",
          "informal",
          "informal",
          "informal",
          "informal",
          "informal",
          "informal",
          "informal",
          "informal",
          "informal",
          "informal",
          "informal",
          "informal",
          "informal",
          "informal",
          "informal",
          "informal",
          "informal",
          "informal",
          "informal",
          "informal",
          "informal",
          "informal",
          "informal",
          "informal",
          "informal",
          "informal",
          "informal",
          "informal",
          "informal",
          "informal",
          "informal",
          "informal",
          "informal",
          "informal",
          "informal",
          "informal",
          "informal",
          "informal",
          "informal",
          "informal",
          "informal",
          "informal",
          "informal",
          "informal",
          "informal",
          "informal",
          "informal",
          "informal",
          "informal",
          "informal",
          "informal",
          "informal",
          "informal",
          "informal",
          "informal",
          "informal",
          "informal",
          "informal",
          "informal",
          "informal",
          "informal",
          "informal",
          "informal",
          "informal",
          "informal",
          "informal",
          "informal",
          "informal",
          "informal",
          "informal",
          "informal",
          "informal",
          "informal",
          "informal",
          "informal",
          "informal",
          "informal",
          "informal",
          "informal",
          "informal",
          "informal",
          "informal",
          "informal",
          "informal",
          "informal",
          "informal",
          "informal",
          "informal",
          "informal",
          "informal",
          "informal",
          "informal",
          "informal",
          "informal",
          "informal",
          "informal",
          "informal",
          "informal",
          "informal",
          "informal",
          "informal",
          "informal",
          "informal",
          "informal",
          "informal",
          "informal",
          "informal",
          "informal",
          "informal",
          "informal",
          "informal",
          "informal",
          "informal",
          "informal",
          "informal",
          "informal",
          "informal",
          "informal",
          "informal",
          "informal",
          "informal",
          "informal",
          "informal",
          "informal",
          "informal",
          "informal",
          "informal",
          "informal",
          "informal",
          "informal",
          "informal",
          "informal",
          "informal",
          "informal",
          "informal",
          "informal",
          "informal",
          "informal",
          "informal",
          "informal",
          "informal",
          "informal",
          "informal",
          "informal",
          "informal",
          "informal",
          "informal",
          "informal",
          "informal",
          "informal",
          "informal",
          "informal",
          "informal",
          "informal",
          "informal",
          "informal",
          "informal",
          "informal",
          "informal",
          "informal",
          "informal",
          "informal",
          "informal",
          "informal",
          "informal",
          "informal",
          "informal",
          "informal",
          "informal",
          "informal",
          "informal",
          "informal",
          "formal",
          "formal",
          "formal",
          "formal",
          "formal",
          "formal",
          "informal",
          "informal",
          "informal",
          "informal",
          "informal",
          "informal",
          "informal",
          "informal",
          "informal",
          "informal",
          "informal",
          "informal",
          "informal",
          "informal",
          "informal",
          "informal",
          "informal",
          "informal",
          "informal",
          "informal",
          "informal",
          "informal",
          "informal",
          "informal",
          "informal",
          "informal",
          "informal",
          "informal",
          "informal",
          "informal",
          "informal",
          "informal",
          "informal",
          "informal",
          "informal",
          "informal",
          "informal",
          "informal",
          "informal",
          "informal",
          "informal",
          "informal",
          "informal",
          "informal",
          "informal",
          "informal",
          "informal",
          "informal",
          "informal",
          "informal",
          "informal",
          "informal",
          "informal",
          "informal",
          "informal",
          "informal",
          "informal",
          "informal",
          "informal",
          "informal",
          "informal",
          "informal",
          "informal",
          "informal",
          "informal",
          "informal",
          "informal",
          "informal",
          "informal",
          "informal",
          "informal",
          "informal",
          "informal",
          "informal",
          "informal",
          "informal",
          "informal",
          "informal",
          "informal",
          "informal",
          "informal",
          "informal",
          "informal",
          "informal",
          "informal",
          "informal",
          "informal",
          "informal",
          "informal",
          "informal",
          "informal",
          "informal",
          "informal",
          "informal",
          "informal",
          "informal",
          "informal",
          "informal",
          "informal",
          "informal",
          "informal",
          "informal",
          "informal",
          "informal",
          "informal",
          "informal",
          "informal",
          "informal",
          "informal",
          "informal",
          "informal",
          "informal",
          "informal",
          "informal",
          "informal",
          "informal",
          "informal",
          "informal",
          "informal",
          "informal",
          "informal",
          "informal",
          "informal",
          "informal",
          "informal",
          "informal",
          "informal",
          "informal",
          "informal",
          "informal",
          "informal",
          "informal",
          "informal",
          "informal",
          "informal",
          "informal",
          "informal",
          "informal",
          "informal",
          "informal",
          "informal",
          "informal",
          "informal",
          "informal",
          "informal",
          "informal",
          "informal",
          "informal",
          "informal",
          "informal",
          "informal",
          "informal",
          "informal",
          "informal",
          "informal",
          "informal",
          "informal",
          "informal",
          "informal",
          "informal",
          "informal",
          "informal",
          "informal",
          "informal",
          "informal",
          "informal",
          "informal",
          "informal",
          "informal",
          "informal",
          "informal",
          "informal",
          "informal",
          "informal",
          "informal",
          "informal",
          "informal",
          "informal",
          "informal",
          "informal",
          "informal",
          "informal",
          "informal",
          "informal",
          "informal",
          "informal",
          "informal",
          "informal",
          "informal",
          "informal",
          "informal",
          "informal",
          "informal",
          "informal",
          "informal",
          "informal",
          "informal",
          "informal",
          "informal",
          "informal",
          "informal",
          "informal",
          "informal",
          "informal",
          "informal",
          "informal",
          "formal",
          "formal",
          "formal",
          "informal",
          "informal",
          "informal",
          "informal",
          "informal",
          "informal",
          "informal",
          "informal",
          "informal",
          "informal",
          "informal",
          "informal",
          "informal",
          "informal",
          "informal",
          "informal",
          "informal",
          "informal",
          "informal",
          "informal",
          "informal",
          "informal",
          "informal",
          "informal",
          "informal",
          "informal",
          "informal",
          "informal",
          "informal",
          "informal",
          "informal",
          "informal",
          "informal",
          "informal",
          "informal",
          "informal",
          "informal",
          "informal",
          "informal",
          "informal",
          "informal",
          "informal",
          "informal",
          "informal",
          "informal",
          "informal",
          "informal",
          "informal",
          "informal",
          "informal",
          "informal",
          "informal",
          "informal",
          "informal",
          "informal",
          "informal",
          "informal",
          "informal",
          "informal",
          "informal",
          "informal",
          "informal",
          "informal",
          "informal",
          "informal",
          "informal",
          "informal",
          "informal",
          "informal",
          "informal",
          "informal",
          "informal",
          "informal",
          "informal",
          "informal",
          "informal",
          "informal",
          "informal",
          "informal",
          "informal",
          "informal",
          "informal",
          "informal",
          "informal",
          "informal",
          "informal",
          "informal",
          "informal",
          "informal",
          "informal",
          "informal",
          "informal",
          "informal",
          "informal",
          "informal",
          "informal",
          "informal",
          "informal",
          "informal",
          "informal",
          "informal",
          "informal",
          "informal",
          "formal",
          "informal",
          "informal",
          "informal",
          "informal",
          "informal",
          "informal",
          "informal",
          "informal",
          "informal",
          "informal",
          "informal",
          "informal",
          "informal",
          "informal",
          "informal",
          "informal",
          "informal",
          "informal",
          "informal",
          "informal",
          "informal",
          "informal",
          "informal",
          "informal",
          "informal",
          "informal",
          "informal",
          "informal",
          "informal",
          "informal",
          "informal",
          "informal",
          "informal",
          "informal",
          "informal",
          "informal",
          "informal",
          "informal",
          "informal",
          "informal",
          "informal",
          "informal",
          "informal",
          "informal",
          "informal",
          "informal",
          "informal",
          "informal",
          "informal",
          "informal",
          "informal",
          "informal",
          "informal",
          "informal",
          "informal",
          "informal",
          "informal",
          "informal",
          "informal",
          "informal",
          "informal",
          "informal",
          "informal",
          "informal",
          "informal",
          "informal",
          "informal",
          "informal",
          "informal",
          "informal",
          "informal",
          "informal",
          "informal",
          "informal",
          "informal",
          "informal",
          "informal",
          "informal",
          "informal",
          "informal",
          "informal",
          "informal",
          "informal",
          "informal",
          "informal",
          "informal",
          "informal",
          "informal",
          "informal",
          "informal",
          "informal",
          "informal",
          "informal",
          "informal",
          "informal",
          "informal",
          "informal",
          "informal",
          "informal",
          "informal",
          "informal",
          "informal",
          "informal",
          "informal",
          "informal",
          "informal",
          "informal",
          "informal",
          "informal",
          "informal",
          "informal",
          "informal",
          "informal",
          "informal",
          "informal",
          "informal",
          "informal",
          "informal",
          "informal",
          "informal",
          "informal",
          "informal",
          "informal",
          "informal",
          "informal",
          "informal",
          "informal",
          "informal",
          "informal",
          "informal",
          "informal",
          "informal",
          "informal",
          "informal",
          "informal",
          "informal",
          "informal",
          "informal",
          "informal",
          "informal",
          "informal",
          "informal",
          "informal",
          "informal",
          "informal",
          "informal",
          "informal",
          "informal",
          "informal",
          "informal",
          "informal",
          "informal",
          "informal",
          "informal",
          "informal",
          "informal",
          "informal",
          "informal",
          "informal",
          "informal",
          "informal",
          "informal",
          "informal",
          "informal",
          "informal",
          "informal",
          "informal",
          "informal",
          "informal",
          "informal",
          "informal",
          "informal",
          "informal",
          "informal",
          "informal",
          "informal",
          "informal",
          "informal",
          "informal",
          "informal",
          "informal",
          "informal",
          "informal",
          "informal",
          "informal",
          "informal",
          "informal",
          "informal",
          "informal",
          "informal",
          "informal",
          "informal",
          "informal",
          "informal",
          "informal",
          "informal",
          "informal",
          "informal",
          "informal",
          "informal",
          "informal",
          "informal",
          "informal",
          "informal",
          "informal",
          "informal",
          "informal",
          "informal",
          "informal",
          "informal",
          "informal",
          "informal",
          "informal",
          "informal",
          "informal",
          "informal",
          "informal",
          "informal",
          "informal",
          "informal",
          "informal",
          "informal",
          "informal",
          "informal",
          "informal",
          "informal",
          "informal",
          "informal",
          "informal",
          "informal",
          "informal",
          "informal",
          "informal",
          "informal",
          "informal",
          "informal",
          "informal",
          "informal",
          "informal",
          "informal",
          "informal",
          "informal",
          "informal",
          "informal",
          "informal",
          "informal",
          "informal",
          "informal",
          "informal",
          "informal",
          "informal",
          "informal",
          "informal",
          "informal",
          "informal",
          "informal",
          "informal",
          "informal",
          "informal",
          "informal",
          "informal",
          "informal",
          "informal",
          "informal",
          "informal",
          "informal",
          "informal",
          "informal",
          "informal",
          "informal",
          "informal",
          "informal",
          "informal",
          "informal",
          "informal",
          "informal",
          "informal",
          "informal",
          "informal",
          "informal",
          "informal",
          "informal",
          "informal",
          "informal",
          "informal",
          "informal",
          "informal",
          "informal",
          "informal",
          "informal",
          "informal",
          "informal",
          "informal",
          "informal",
          "informal",
          "informal",
          "informal",
          "informal",
          "informal",
          "informal",
          "informal",
          "informal",
          "informal",
          "informal",
          "informal",
          "informal",
          "informal",
          "informal",
          "informal",
          "informal",
          "informal",
          "informal",
          "informal",
          "informal",
          "informal",
          "informal",
          "informal",
          "informal",
          "informal",
          "informal",
          "informal",
          "informal",
          "informal",
          "informal",
          "informal",
          "informal",
          "informal",
          "informal",
          "informal",
          "informal",
          "informal",
          "informal",
          "informal",
          "informal",
          "informal",
          "informal",
          "informal",
          "informal",
          "informal",
          "informal",
          "informal",
          "informal",
          "informal",
          "informal",
          "informal",
          "informal",
          "informal",
          "informal",
          "informal",
          "informal",
          "informal",
          "informal",
          "informal",
          "informal",
          "informal",
          "informal",
          "informal",
          "informal",
          "informal",
          "informal",
          "informal",
          "informal",
          "informal",
          "informal",
          "informal",
          "informal",
          "informal",
          "informal",
          "informal",
          "informal",
          "informal",
          "informal",
          "informal",
          "informal",
          "informal",
          "informal",
          "informal",
          "informal",
          "informal",
          "informal",
          "informal",
          "informal",
          "informal",
          "informal",
          "informal",
          "informal",
          "informal",
          "informal",
          "informal",
          "informal",
          "informal",
          "informal",
          "informal",
          "informal",
          "informal",
          "informal",
          "informal",
          "informal",
          "informal",
          "informal",
          "informal",
          "informal",
          "informal",
          "informal",
          "informal",
          "informal",
          "informal",
          "informal",
          "informal",
          "informal",
          "informal",
          "informal",
          "informal",
          "informal",
          "informal",
          "informal",
          "informal",
          "informal",
          "informal",
          "informal",
          "informal",
          "informal",
          "informal",
          "informal",
          "informal",
          "informal",
          "informal",
          "informal",
          "informal",
          "informal",
          "informal",
          "informal",
          "informal",
          "informal",
          "informal",
          "informal",
          "informal",
          "informal",
          "informal",
          "informal",
          "informal",
          "informal",
          "informal",
          "informal",
          "informal",
          "informal",
          "informal",
          "informal",
          "informal",
          "informal",
          "informal",
          "informal",
          "informal",
          "informal",
          "informal",
          "informal",
          "informal",
          "informal",
          "informal",
          "informal",
          "informal",
          "informal",
          "informal",
          "informal",
          "informal",
          "informal",
          "informal",
          "informal",
          "informal",
          "informal",
          "informal",
          "informal",
          "informal",
          "informal",
          "informal",
          "informal",
          "informal",
          "informal",
          "informal",
          "informal",
          "informal",
          "informal",
          "informal",
          "informal",
          "informal",
          "informal",
          "informal",
          "informal",
          "informal",
          "informal",
          "informal",
          "informal",
          "informal",
          "informal",
          "informal",
          "informal",
          "informal",
          "informal",
          "informal",
          "informal",
          "informal",
          "informal",
          "informal",
          "informal",
          "informal",
          "informal",
          "informal",
          "informal",
          "informal",
          "informal",
          "informal",
          "informal",
          "informal",
          "informal",
          "informal",
          "informal",
          "informal",
          "informal",
          "informal",
          "informal",
          "informal",
          "informal",
          "informal",
          "informal",
          "informal",
          "informal",
          "informal",
          "informal",
          "informal",
          "informal",
          "informal",
          "informal",
          "informal",
          "informal",
          "informal",
          "informal",
          "informal",
          "informal",
          "informal",
          "informal",
          "informal",
          "informal",
          "informal",
          "informal",
          "informal",
          "informal",
          "informal",
          "informal",
          "informal",
          "informal",
          "informal",
          "informal",
          "informal",
          "informal",
          "informal",
          "informal",
          "informal",
          "informal",
          "informal",
          "informal",
          "informal",
          "informal",
          "informal",
          "informal",
          "informal",
          "informal",
          "informal",
          "informal",
          "informal",
          "informal",
          "informal",
          "informal",
          "informal",
          "informal",
          "informal",
          "informal",
          "informal",
          "informal",
          "informal",
          "informal",
          "informal",
          "informal",
          "informal",
          "informal",
          "informal",
          "informal",
          "informal",
          "informal",
          "informal",
          "informal",
          "informal",
          "informal",
          "informal",
          "informal",
          "informal",
          "informal",
          "informal",
          "informal",
          "informal",
          "informal",
          "informal",
          "informal",
          "informal",
          "informal",
          "informal",
          "informal",
          "informal",
          "informal",
          "informal",
          "informal",
          "informal",
          "informal",
          "informal",
          "informal",
          "informal",
          "informal",
          "informal",
          "informal",
          "informal",
          "informal",
          "informal",
          "informal",
          "informal",
          "informal",
          "informal",
          "informal",
          "informal",
          "informal",
          "informal",
          "informal",
          "informal",
          "informal",
          "informal",
          "informal",
          "informal",
          "informal",
          "informal",
          "informal",
          "informal",
          "informal",
          "informal",
          "informal",
          "informal",
          "informal",
          "informal",
          "informal",
          "informal",
          "informal",
          "informal",
          "informal",
          "informal",
          "informal",
          "informal",
          "informal",
          "informal",
          "informal",
          "informal",
          "informal",
          "informal",
          "informal",
          "informal",
          "informal",
          "informal",
          "informal",
          "informal",
          "informal",
          "informal",
          "informal",
          "informal",
          "informal",
          "informal",
          "informal",
          "informal",
          "informal",
          "informal",
          "informal",
          "informal",
          "informal",
          "informal",
          "informal",
          "informal",
          "informal",
          "informal",
          "informal",
          "informal",
          "informal",
          "informal",
          "informal",
          "informal",
          "informal",
          "informal",
          "informal",
          "informal",
          "informal",
          "informal",
          "informal",
          "informal",
          "informal",
          "informal",
          "informal",
          "informal",
          "informal",
          "informal",
          "informal",
          "informal",
          "informal",
          "informal",
          "informal",
          "informal",
          "informal",
          "informal",
          "informal",
          "informal",
          "informal",
          "informal",
          "informal",
          "informal",
          "informal",
          "informal",
          "informal",
          "informal",
          "no preference",
          "no preference",
          "no preference",
          "no preference",
          "no preference",
          "no preference",
          "no preference",
          "informal",
          "informal",
          "informal",
          "informal",
          "formal",
          "informal",
          "informal",
          "formal",
          "informal",
          "informal",
          "formal",
          "informal",
          "informal",
          "formal",
          "informal",
          "informal",
          "informal",
          "informal",
          "formal",
          "informal",
          "informal",
          "formal",
          "no preference",
          "no preference",
          "no preference",
          "no preference",
          "no preference",
          "no preference",
          "no preference",
          "no preference",
          "no preference",
          "formal",
          "formal",
          "no preference",
          "no preference",
          "formal",
          "no preference",
          "no preference",
          "formal",
          "no preference",
          "formal",
          "formal",
          "formal",
          "formal",
          "formal",
          "formal",
          "informal",
          "informal",
          "informal",
          "informal",
          "informal",
          "informal",
          "informal",
          "informal",
          "informal",
          "informal",
          "informal",
          "informal",
          "informal",
          "informal",
          "informal",
          "informal",
          "informal",
          "informal",
          "no preference",
          "no preference",
          "formal",
          "formal",
          "formal",
          "no preference",
          null,
          null,
          null,
          null,
          null,
          null,
          null,
          null,
          null,
          null,
          null,
          null,
          "formal",
          "formal",
          "formal",
          "no preference",
          "no preference",
          "formal",
          "formal",
          "formal",
          "formal",
          "formal",
          "formal",
          "formal",
          "formal",
          "formal",
          "informal",
          "informal",
          "informal",
          "no preference",
          "no preference",
          "no preference",
          "no preference",
          "no preference",
          "no preference",
          "no preference",
          "no preference",
          "no preference",
          "no preference",
          "no preference",
          "informal",
          "informal",
          "informal",
          "informal",
          "formal",
          "informal",
          "formal",
          "informal",
          "formal",
          "informal",
          "formal",
          "informal",
          "informal",
          "formal",
          "informal",
          "informal",
          "formal",
          "informal",
          "informal",
          "formal",
          "no preference",
          "no preference",
          "no preference",
          "no preference",
          "informal",
          "formal",
          "no preference",
          "no preference",
          "formal",
          "no preference",
          "no preference",
          "formal",
          "no preference",
          "no preference",
          "formal",
          "no preference",
          "no preference",
          "no preference",
          "no preference",
          "no preference",
          "no preference",
          "no preference",
          "no preference",
          "no preference",
          "no preference",
          "no preference",
          "no preference",
          "no preference",
          "no preference",
          "no preference",
          "no preference",
          "no preference",
          "no preference",
          "no preference",
          "formal",
          "formal",
          "formal",
          "formal",
          "formal",
          "formal",
          "formal",
          "formal",
          "formal",
          "formal",
          "no preference",
          "no preference",
          "no preference",
          "no preference",
          "no preference",
          "no preference",
          "no preference",
          "no preference",
          "no preference",
          "no preference",
          "no preference",
          "no preference",
          "no preference",
          "no preference",
          "no preference",
          "no preference",
          "no preference",
          "no preference",
          "no preference",
          "no preference",
          "no preference",
          "no preference",
          "no preference",
          "no preference",
          "no preference",
          "no preference",
          "no preference",
          "no preference",
          "no preference",
          "formal",
          "no preference",
          "no preference",
          "formal",
          "formal",
          "no preference",
          "formal",
          "formal",
          "formal",
          "formal",
          "formal",
          "formal",
          "formal",
          "formal",
          "formal",
          "formal",
          "formal",
          "no preference",
          "no preference",
          "no preference",
          "no preference",
          "no preference",
          "no preference",
          "no preference",
          "no preference",
          "no preference",
          "no preference",
          "no preference",
          "no preference",
          "no preference",
          "no preference",
          "no preference",
          "no preference",
          "no preference",
          "no preference",
          "no preference",
          "no preference",
          "no preference",
          "no preference",
          "no preference",
          "no preference",
          "no preference",
          "no preference",
          "no preference",
          "no preference",
          "no preference",
          "no preference",
          "no preference",
          "no preference",
          "no preference",
          "no preference",
          "no preference",
          "no preference",
          "no preference",
          "no preference",
          "no preference",
          "no preference",
          "no preference",
          "no preference",
          "no preference",
          "no preference",
          "no preference",
          "no preference",
          "no preference",
          "no preference",
          "no preference",
          "no preference",
          "no preference",
          "no preference",
          "no preference",
          "no preference",
          "no preference",
          "no preference",
          "no preference",
          "no preference",
          "no preference",
          "no preference",
          "no preference",
          "no preference",
          "no preference",
          "no preference",
          "no preference",
          "no preference",
          "no preference",
          "no preference",
          "informal",
          "informal",
          "informal",
          "informal",
          "informal",
          "informal",
          "informal",
          "informal",
          "informal",
          "informal",
          "informal",
          "informal",
          "informal",
          "informal",
          "informal",
          "informal",
          "informal",
          "informal",
          "informal",
          "informal",
          "informal",
          "informal",
          "informal",
          "informal",
          "informal",
          "informal",
          "informal",
          "informal",
          "informal",
          "informal",
          "informal",
          "informal",
          "informal",
          "informal",
          "informal",
          "informal",
          "informal",
          "informal",
          "informal",
          "informal",
          "informal",
          "informal",
          "informal",
          "informal",
          "informal",
          "informal",
          "informal",
          "informal",
          "informal",
          "informal",
          "informal",
          "informal",
          "informal",
          "informal",
          "formal",
          "formal",
          "formal",
          "formal",
          "no preference",
          "no preference",
          "no preference",
          "no preference",
          "no preference",
          "no preference",
          "no preference",
          "no preference",
          "no preference",
          "no preference",
          "formal",
          "formal",
          "formal",
          "no preference",
          "formal",
          "formal",
          "formal",
          "formal",
          "formal",
          "formal",
          "formal",
          "no preference",
          "no preference",
          "formal",
          "formal",
          "formal",
          "formal",
          "no preference",
          "no preference",
          "formal",
          "no preference",
          "no preference",
          "formal",
          "no preference",
          "formal",
          "no preference",
          "no preference",
          "formal",
          "formal",
          "formal",
          "formal",
          "formal",
          "formal",
          "no preference",
          "no preference",
          "no preference",
          "formal",
          "formal",
          "formal",
          "formal",
          "no preference",
          "no preference",
          "formal",
          "formal",
          "formal",
          "formal",
          "no preference",
          "formal",
          "formal",
          "no preference",
          "formal",
          "formal",
          "no preference",
          "no preference",
          "no preference",
          "no preference",
          "no preference",
          "no preference",
          "no preference",
          "formal",
          "formal",
          "formal",
          "formal",
          "formal",
          "formal",
          "formal",
          "formal",
          "formal",
          "formal",
          "no preference",
          "no preference",
          "no preference",
          "no preference",
          "formal",
          "formal",
          "no preference",
          "no preference",
          "no preference",
          "no preference",
          "no preference",
          "no preference",
          "no preference",
          "no preference",
          "no preference",
          "no preference",
          "no preference",
          "no preference",
          "no preference",
          "no preference",
          "no preference",
          "no preference",
          "no preference",
          "no preference",
          "no preference",
          "no preference",
          "no preference",
          "no preference",
          "no preference",
          "no preference",
          "no preference",
          "no preference",
          "no preference",
          "no preference",
          "no preference",
          "no preference",
          "no preference",
          "no preference",
          "no preference",
          "no preference",
          "no preference",
          "no preference",
          "formal",
          "formal",
          "formal",
          "formal",
          "formal",
          "no preference",
          "no preference",
          "no preference",
          "no preference",
          "no preference",
          "no preference",
          "no preference",
          "no preference",
          "no preference",
          "no preference",
          "no preference",
          "no preference",
          "no preference",
          "no preference",
          "no preference",
          "no preference",
          "no preference",
          "informal",
          "informal",
          "informal",
          "informal",
          "informal",
          "informal",
          "informal",
          "informal",
          "informal",
          "informal",
          "informal",
          "informal",
          "informal",
          "informal",
          "informal",
          "informal",
          "informal",
          "informal",
          "formal",
          "formal",
          "formal",
          "formal",
          "formal",
          "formal",
          "formal",
          "formal",
          "informal",
          "informal",
          "informal",
          "informal",
          "informal",
          "informal",
          "formal",
          "informal",
          "informal",
          "informal",
          "informal",
          "formal",
          "formal",
          "formal",
          "formal",
          "formal",
          "no preference",
          "formal",
          "no preference",
          "formal",
          "no preference",
          "no preference",
          "formal",
          "no preference",
          "no preference",
          "formal",
          "formal",
          "no preference",
          "no preference",
          "no preference",
          "no preference",
          "formal",
          "formal",
          "formal",
          "formal",
          "formal",
          "no preference",
          "no preference",
          "no preference",
          "formal",
          "no preference",
          "no preference",
          "no preference",
          "no preference",
          "no preference",
          "no preference",
          "no preference",
          "no preference",
          "no preference",
          "no preference",
          "no preference",
          "no preference",
          "no preference",
          "no preference",
          "no preference",
          "no preference",
          "no preference",
          "no preference",
          "no preference",
          "no preference",
          "no preference",
          "no preference",
          "no preference",
          "no preference",
          "no preference",
          "no preference",
          "no preference",
          "no preference",
          "no preference",
          "no preference",
          "no preference",
          "no preference",
          "no preference",
          "no preference",
          "no preference",
          "no preference",
          "no preference",
          "formal",
          "formal",
          "no preference",
          "formal",
          "no preference",
          "formal",
          "no preference",
          "no preference",
          "formal",
          "no preference",
          null,
          null,
          null,
          null,
          "no preference",
          "no preference",
          "no preference",
          "no preference",
          "no preference",
          "no preference",
          "no preference",
          "no preference",
          "informal",
          "informal",
          "informal"
         ],
         "xaxis": "x",
         "yaxis": "y"
        }
       ],
       "layout": {
        "barmode": "relative",
        "legend": {
         "tracegroupgap": 0
        },
        "margin": {
         "t": 60
        },
        "template": {
         "data": {
          "bar": [
           {
            "error_x": {
             "color": "#2a3f5f"
            },
            "error_y": {
             "color": "#2a3f5f"
            },
            "marker": {
             "line": {
              "color": "#E5ECF6",
              "width": 0.5
             },
             "pattern": {
              "fillmode": "overlay",
              "size": 10,
              "solidity": 0.2
             }
            },
            "type": "bar"
           }
          ],
          "barpolar": [
           {
            "marker": {
             "line": {
              "color": "#E5ECF6",
              "width": 0.5
             },
             "pattern": {
              "fillmode": "overlay",
              "size": 10,
              "solidity": 0.2
             }
            },
            "type": "barpolar"
           }
          ],
          "carpet": [
           {
            "aaxis": {
             "endlinecolor": "#2a3f5f",
             "gridcolor": "white",
             "linecolor": "white",
             "minorgridcolor": "white",
             "startlinecolor": "#2a3f5f"
            },
            "baxis": {
             "endlinecolor": "#2a3f5f",
             "gridcolor": "white",
             "linecolor": "white",
             "minorgridcolor": "white",
             "startlinecolor": "#2a3f5f"
            },
            "type": "carpet"
           }
          ],
          "choropleth": [
           {
            "colorbar": {
             "outlinewidth": 0,
             "ticks": ""
            },
            "type": "choropleth"
           }
          ],
          "contour": [
           {
            "colorbar": {
             "outlinewidth": 0,
             "ticks": ""
            },
            "colorscale": [
             [
              0,
              "#0d0887"
             ],
             [
              0.1111111111111111,
              "#46039f"
             ],
             [
              0.2222222222222222,
              "#7201a8"
             ],
             [
              0.3333333333333333,
              "#9c179e"
             ],
             [
              0.4444444444444444,
              "#bd3786"
             ],
             [
              0.5555555555555556,
              "#d8576b"
             ],
             [
              0.6666666666666666,
              "#ed7953"
             ],
             [
              0.7777777777777778,
              "#fb9f3a"
             ],
             [
              0.8888888888888888,
              "#fdca26"
             ],
             [
              1,
              "#f0f921"
             ]
            ],
            "type": "contour"
           }
          ],
          "contourcarpet": [
           {
            "colorbar": {
             "outlinewidth": 0,
             "ticks": ""
            },
            "type": "contourcarpet"
           }
          ],
          "heatmap": [
           {
            "colorbar": {
             "outlinewidth": 0,
             "ticks": ""
            },
            "colorscale": [
             [
              0,
              "#0d0887"
             ],
             [
              0.1111111111111111,
              "#46039f"
             ],
             [
              0.2222222222222222,
              "#7201a8"
             ],
             [
              0.3333333333333333,
              "#9c179e"
             ],
             [
              0.4444444444444444,
              "#bd3786"
             ],
             [
              0.5555555555555556,
              "#d8576b"
             ],
             [
              0.6666666666666666,
              "#ed7953"
             ],
             [
              0.7777777777777778,
              "#fb9f3a"
             ],
             [
              0.8888888888888888,
              "#fdca26"
             ],
             [
              1,
              "#f0f921"
             ]
            ],
            "type": "heatmap"
           }
          ],
          "histogram": [
           {
            "marker": {
             "pattern": {
              "fillmode": "overlay",
              "size": 10,
              "solidity": 0.2
             }
            },
            "type": "histogram"
           }
          ],
          "histogram2d": [
           {
            "colorbar": {
             "outlinewidth": 0,
             "ticks": ""
            },
            "colorscale": [
             [
              0,
              "#0d0887"
             ],
             [
              0.1111111111111111,
              "#46039f"
             ],
             [
              0.2222222222222222,
              "#7201a8"
             ],
             [
              0.3333333333333333,
              "#9c179e"
             ],
             [
              0.4444444444444444,
              "#bd3786"
             ],
             [
              0.5555555555555556,
              "#d8576b"
             ],
             [
              0.6666666666666666,
              "#ed7953"
             ],
             [
              0.7777777777777778,
              "#fb9f3a"
             ],
             [
              0.8888888888888888,
              "#fdca26"
             ],
             [
              1,
              "#f0f921"
             ]
            ],
            "type": "histogram2d"
           }
          ],
          "histogram2dcontour": [
           {
            "colorbar": {
             "outlinewidth": 0,
             "ticks": ""
            },
            "colorscale": [
             [
              0,
              "#0d0887"
             ],
             [
              0.1111111111111111,
              "#46039f"
             ],
             [
              0.2222222222222222,
              "#7201a8"
             ],
             [
              0.3333333333333333,
              "#9c179e"
             ],
             [
              0.4444444444444444,
              "#bd3786"
             ],
             [
              0.5555555555555556,
              "#d8576b"
             ],
             [
              0.6666666666666666,
              "#ed7953"
             ],
             [
              0.7777777777777778,
              "#fb9f3a"
             ],
             [
              0.8888888888888888,
              "#fdca26"
             ],
             [
              1,
              "#f0f921"
             ]
            ],
            "type": "histogram2dcontour"
           }
          ],
          "mesh3d": [
           {
            "colorbar": {
             "outlinewidth": 0,
             "ticks": ""
            },
            "type": "mesh3d"
           }
          ],
          "parcoords": [
           {
            "line": {
             "colorbar": {
              "outlinewidth": 0,
              "ticks": ""
             }
            },
            "type": "parcoords"
           }
          ],
          "pie": [
           {
            "automargin": true,
            "type": "pie"
           }
          ],
          "scatter": [
           {
            "fillpattern": {
             "fillmode": "overlay",
             "size": 10,
             "solidity": 0.2
            },
            "type": "scatter"
           }
          ],
          "scatter3d": [
           {
            "line": {
             "colorbar": {
              "outlinewidth": 0,
              "ticks": ""
             }
            },
            "marker": {
             "colorbar": {
              "outlinewidth": 0,
              "ticks": ""
             }
            },
            "type": "scatter3d"
           }
          ],
          "scattercarpet": [
           {
            "marker": {
             "colorbar": {
              "outlinewidth": 0,
              "ticks": ""
             }
            },
            "type": "scattercarpet"
           }
          ],
          "scattergeo": [
           {
            "marker": {
             "colorbar": {
              "outlinewidth": 0,
              "ticks": ""
             }
            },
            "type": "scattergeo"
           }
          ],
          "scattergl": [
           {
            "marker": {
             "colorbar": {
              "outlinewidth": 0,
              "ticks": ""
             }
            },
            "type": "scattergl"
           }
          ],
          "scattermap": [
           {
            "marker": {
             "colorbar": {
              "outlinewidth": 0,
              "ticks": ""
             }
            },
            "type": "scattermap"
           }
          ],
          "scattermapbox": [
           {
            "marker": {
             "colorbar": {
              "outlinewidth": 0,
              "ticks": ""
             }
            },
            "type": "scattermapbox"
           }
          ],
          "scatterpolar": [
           {
            "marker": {
             "colorbar": {
              "outlinewidth": 0,
              "ticks": ""
             }
            },
            "type": "scatterpolar"
           }
          ],
          "scatterpolargl": [
           {
            "marker": {
             "colorbar": {
              "outlinewidth": 0,
              "ticks": ""
             }
            },
            "type": "scatterpolargl"
           }
          ],
          "scatterternary": [
           {
            "marker": {
             "colorbar": {
              "outlinewidth": 0,
              "ticks": ""
             }
            },
            "type": "scatterternary"
           }
          ],
          "surface": [
           {
            "colorbar": {
             "outlinewidth": 0,
             "ticks": ""
            },
            "colorscale": [
             [
              0,
              "#0d0887"
             ],
             [
              0.1111111111111111,
              "#46039f"
             ],
             [
              0.2222222222222222,
              "#7201a8"
             ],
             [
              0.3333333333333333,
              "#9c179e"
             ],
             [
              0.4444444444444444,
              "#bd3786"
             ],
             [
              0.5555555555555556,
              "#d8576b"
             ],
             [
              0.6666666666666666,
              "#ed7953"
             ],
             [
              0.7777777777777778,
              "#fb9f3a"
             ],
             [
              0.8888888888888888,
              "#fdca26"
             ],
             [
              1,
              "#f0f921"
             ]
            ],
            "type": "surface"
           }
          ],
          "table": [
           {
            "cells": {
             "fill": {
              "color": "#EBF0F8"
             },
             "line": {
              "color": "white"
             }
            },
            "header": {
             "fill": {
              "color": "#C8D4E3"
             },
             "line": {
              "color": "white"
             }
            },
            "type": "table"
           }
          ]
         },
         "layout": {
          "annotationdefaults": {
           "arrowcolor": "#2a3f5f",
           "arrowhead": 0,
           "arrowwidth": 1
          },
          "autotypenumbers": "strict",
          "coloraxis": {
           "colorbar": {
            "outlinewidth": 0,
            "ticks": ""
           }
          },
          "colorscale": {
           "diverging": [
            [
             0,
             "#8e0152"
            ],
            [
             0.1,
             "#c51b7d"
            ],
            [
             0.2,
             "#de77ae"
            ],
            [
             0.3,
             "#f1b6da"
            ],
            [
             0.4,
             "#fde0ef"
            ],
            [
             0.5,
             "#f7f7f7"
            ],
            [
             0.6,
             "#e6f5d0"
            ],
            [
             0.7,
             "#b8e186"
            ],
            [
             0.8,
             "#7fbc41"
            ],
            [
             0.9,
             "#4d9221"
            ],
            [
             1,
             "#276419"
            ]
           ],
           "sequential": [
            [
             0,
             "#0d0887"
            ],
            [
             0.1111111111111111,
             "#46039f"
            ],
            [
             0.2222222222222222,
             "#7201a8"
            ],
            [
             0.3333333333333333,
             "#9c179e"
            ],
            [
             0.4444444444444444,
             "#bd3786"
            ],
            [
             0.5555555555555556,
             "#d8576b"
            ],
            [
             0.6666666666666666,
             "#ed7953"
            ],
            [
             0.7777777777777778,
             "#fb9f3a"
            ],
            [
             0.8888888888888888,
             "#fdca26"
            ],
            [
             1,
             "#f0f921"
            ]
           ],
           "sequentialminus": [
            [
             0,
             "#0d0887"
            ],
            [
             0.1111111111111111,
             "#46039f"
            ],
            [
             0.2222222222222222,
             "#7201a8"
            ],
            [
             0.3333333333333333,
             "#9c179e"
            ],
            [
             0.4444444444444444,
             "#bd3786"
            ],
            [
             0.5555555555555556,
             "#d8576b"
            ],
            [
             0.6666666666666666,
             "#ed7953"
            ],
            [
             0.7777777777777778,
             "#fb9f3a"
            ],
            [
             0.8888888888888888,
             "#fdca26"
            ],
            [
             1,
             "#f0f921"
            ]
           ]
          },
          "colorway": [
           "#636efa",
           "#EF553B",
           "#00cc96",
           "#ab63fa",
           "#FFA15A",
           "#19d3f3",
           "#FF6692",
           "#B6E880",
           "#FF97FF",
           "#FECB52"
          ],
          "font": {
           "color": "#2a3f5f"
          },
          "geo": {
           "bgcolor": "white",
           "lakecolor": "white",
           "landcolor": "#E5ECF6",
           "showlakes": true,
           "showland": true,
           "subunitcolor": "white"
          },
          "hoverlabel": {
           "align": "left"
          },
          "hovermode": "closest",
          "mapbox": {
           "style": "light"
          },
          "paper_bgcolor": "white",
          "plot_bgcolor": "#E5ECF6",
          "polar": {
           "angularaxis": {
            "gridcolor": "white",
            "linecolor": "white",
            "ticks": ""
           },
           "bgcolor": "#E5ECF6",
           "radialaxis": {
            "gridcolor": "white",
            "linecolor": "white",
            "ticks": ""
           }
          },
          "scene": {
           "xaxis": {
            "backgroundcolor": "#E5ECF6",
            "gridcolor": "white",
            "gridwidth": 2,
            "linecolor": "white",
            "showbackground": true,
            "ticks": "",
            "zerolinecolor": "white"
           },
           "yaxis": {
            "backgroundcolor": "#E5ECF6",
            "gridcolor": "white",
            "gridwidth": 2,
            "linecolor": "white",
            "showbackground": true,
            "ticks": "",
            "zerolinecolor": "white"
           },
           "zaxis": {
            "backgroundcolor": "#E5ECF6",
            "gridcolor": "white",
            "gridwidth": 2,
            "linecolor": "white",
            "showbackground": true,
            "ticks": "",
            "zerolinecolor": "white"
           }
          },
          "shapedefaults": {
           "line": {
            "color": "#2a3f5f"
           }
          },
          "ternary": {
           "aaxis": {
            "gridcolor": "white",
            "linecolor": "white",
            "ticks": ""
           },
           "baxis": {
            "gridcolor": "white",
            "linecolor": "white",
            "ticks": ""
           },
           "bgcolor": "#E5ECF6",
           "caxis": {
            "gridcolor": "white",
            "linecolor": "white",
            "ticks": ""
           }
          },
          "title": {
           "x": 0.05
          },
          "xaxis": {
           "automargin": true,
           "gridcolor": "white",
           "linecolor": "white",
           "ticks": "",
           "title": {
            "standoff": 15
           },
           "zerolinecolor": "white",
           "zerolinewidth": 2
          },
          "yaxis": {
           "automargin": true,
           "gridcolor": "white",
           "linecolor": "white",
           "ticks": "",
           "title": {
            "standoff": 15
           },
           "zerolinecolor": "white",
           "zerolinewidth": 2
          }
         }
        },
        "xaxis": {
         "anchor": "y",
         "domain": [
          0,
          1
         ],
         "title": {
          "text": "dress_preference"
         }
        },
        "yaxis": {
         "anchor": "x",
         "domain": [
          0,
          1
         ],
         "title": {
          "text": "Count"
         }
        }
       }
      }
     },
     "metadata": {},
     "output_type": "display_data"
    }
   ],
   "source": [
    "fig = px.histogram(final_user_df, x='dress_preference', text_auto=True)\n",
    "fig.update_layout(yaxis_title='Count')\n",
    "fig.show()"
   ]
  },
  {
   "cell_type": "code",
   "execution_count": 19,
   "metadata": {},
   "outputs": [
    {
     "data": {
      "text/html": [
       "<div><style>\n",
       ".dataframe > thead > tr,\n",
       ".dataframe > tbody > tr {\n",
       "  text-align: right;\n",
       "  white-space: pre-wrap;\n",
       "}\n",
       "</style>\n",
       "<small>shape: (4, 2)</small><table border=\"1\" class=\"dataframe\"><thead><tr><th>cluster</th><th>n_users</th></tr><tr><td>i32</td><td>u32</td></tr></thead><tbody><tr><td>2</td><td>997</td></tr><tr><td>0</td><td>1157</td></tr><tr><td>1</td><td>1451</td></tr><tr><td>3</td><td>539</td></tr></tbody></table></div>"
      ],
      "text/plain": [
       "shape: (4, 2)\n",
       "┌─────────┬─────────┐\n",
       "│ cluster ┆ n_users │\n",
       "│ ---     ┆ ---     │\n",
       "│ i32     ┆ u32     │\n",
       "╞═════════╪═════════╡\n",
       "│ 2       ┆ 997     │\n",
       "│ 0       ┆ 1157    │\n",
       "│ 1       ┆ 1451    │\n",
       "│ 3       ┆ 539     │\n",
       "└─────────┴─────────┘"
      ]
     },
     "execution_count": 19,
     "metadata": {},
     "output_type": "execute_result"
    }
   ],
   "source": [
    "user_segment_summary = final_user_df.group_by('cluster').agg([\n",
    "    pl.len().alias('n_users')\n",
    "])\n",
    "\n",
    "user_segment_summary\n",
    "\n",
    "\n"
   ]
  },
  {
   "cell_type": "code",
   "execution_count": 20,
   "metadata": {},
   "outputs": [
    {
     "data": {
      "text/plain": [
       "[shape: (4, 2)\n",
       " ┌─────────┬──────────────┐\n",
       " │ cluster ┆ smoker_count │\n",
       " │ ---     ┆ ---          │\n",
       " │ i32     ┆ u32          │\n",
       " ╞═════════╪══════════════╡\n",
       " │ 0       ┆ 1157         │\n",
       " │ 3       ┆ 508          │\n",
       " │ 1       ┆ 1451         │\n",
       " │ 2       ┆ 997          │\n",
       " └─────────┴──────────────┘,\n",
       " shape: (4, 2)\n",
       " ┌─────────┬───────────────────┐\n",
       " │ cluster ┆ drink_level_count │\n",
       " │ ---     ┆ ---               │\n",
       " │ i32     ┆ u32               │\n",
       " ╞═════════╪═══════════════════╡\n",
       " │ 0       ┆ 1157              │\n",
       " │ 3       ┆ 539               │\n",
       " │ 1       ┆ 1451              │\n",
       " │ 2       ┆ 997               │\n",
       " └─────────┴───────────────────┘,\n",
       " shape: (4, 2)\n",
       " ┌─────────┬────────────────────────┐\n",
       " │ cluster ┆ dress_preference_count │\n",
       " │ ---     ┆ ---                    │\n",
       " │ i32     ┆ u32                    │\n",
       " ╞═════════╪════════════════════════╡\n",
       " │ 0       ┆ 1135                   │\n",
       " │ 3       ┆ 499                    │\n",
       " │ 1       ┆ 1451                   │\n",
       " │ 2       ┆ 997                    │\n",
       " └─────────┴────────────────────────┘,\n",
       " shape: (4, 2)\n",
       " ┌─────────┬────────────────┐\n",
       " │ cluster ┆ ambience_count │\n",
       " │ ---     ┆ ---            │\n",
       " │ i32     ┆ u32            │\n",
       " ╞═════════╪════════════════╡\n",
       " │ 3       ┆ 481            │\n",
       " │ 0       ┆ 1157           │\n",
       " │ 1       ┆ 1451           │\n",
       " │ 2       ┆ 997            │\n",
       " └─────────┴────────────────┘,\n",
       " shape: (4, 2)\n",
       " ┌─────────┬─────────────────┐\n",
       " │ cluster ┆ transport_count │\n",
       " │ ---     ┆ ---             │\n",
       " │ i32     ┆ u32             │\n",
       " ╞═════════╪═════════════════╡\n",
       " │ 0       ┆ 1156            │\n",
       " │ 3       ┆ 491             │\n",
       " │ 1       ┆ 1451            │\n",
       " │ 2       ┆ 989             │\n",
       " └─────────┴─────────────────┘,\n",
       " shape: (4, 2)\n",
       " ┌─────────┬──────────────────────┐\n",
       " │ cluster ┆ marital_status_count │\n",
       " │ ---     ┆ ---                  │\n",
       " │ i32     ┆ u32                  │\n",
       " ╞═════════╪══════════════════════╡\n",
       " │ 3       ┆ 499                  │\n",
       " │ 0       ┆ 1157                 │\n",
       " │ 1       ┆ 1451                 │\n",
       " │ 2       ┆ 997                  │\n",
       " └─────────┴──────────────────────┘,\n",
       " shape: (4, 2)\n",
       " ┌─────────┬─────────────┐\n",
       " │ cluster ┆ hijos_count │\n",
       " │ ---     ┆ ---         │\n",
       " │ i32     ┆ u32         │\n",
       " ╞═════════╪═════════════╡\n",
       " │ 3       ┆ 444         │\n",
       " │ 0       ┆ 1156        │\n",
       " │ 1       ┆ 1451        │\n",
       " │ 2       ┆ 987         │\n",
       " └─────────┴─────────────┘,\n",
       " shape: (4, 2)\n",
       " ┌─────────┬────────────────┐\n",
       " │ cluster ┆ interest_count │\n",
       " │ ---     ┆ ---            │\n",
       " │ i32     ┆ u32            │\n",
       " ╞═════════╪════════════════╡\n",
       " │ 3       ┆ 390            │\n",
       " │ 0       ┆ 996            │\n",
       " │ 1       ┆ 1451           │\n",
       " │ 2       ┆ 965            │\n",
       " └─────────┴────────────────┘,\n",
       " shape: (4, 2)\n",
       " ┌─────────┬───────────────────┐\n",
       " │ cluster ┆ personality_count │\n",
       " │ ---     ┆ ---               │\n",
       " │ i32     ┆ u32               │\n",
       " ╞═════════╪═══════════════════╡\n",
       " │ 0       ┆ 1157              │\n",
       " │ 3       ┆ 539               │\n",
       " │ 1       ┆ 1451              │\n",
       " │ 2       ┆ 997               │\n",
       " └─────────┴───────────────────┘,\n",
       " shape: (4, 2)\n",
       " ┌─────────┬────────────────┐\n",
       " │ cluster ┆ activity_count │\n",
       " │ ---     ┆ ---            │\n",
       " │ i32     ┆ u32            │\n",
       " ╞═════════╪════════════════╡\n",
       " │ 0       ┆ 1151           │\n",
       " │ 3       ┆ 499            │\n",
       " │ 1       ┆ 1451           │\n",
       " │ 2       ┆ 987            │\n",
       " └─────────┴────────────────┘,\n",
       " shape: (4, 2)\n",
       " ┌─────────┬──────────────┐\n",
       " │ cluster ┆ budget_count │\n",
       " │ ---     ┆ ---          │\n",
       " │ i32     ┆ u32          │\n",
       " ╞═════════╪══════════════╡\n",
       " │ 3       ┆ 480          │\n",
       " │ 0       ┆ 1157         │\n",
       " │ 1       ┆ 1451         │\n",
       " │ 2       ┆ 987          │\n",
       " └─────────┴──────────────┘,\n",
       " shape: (4, 2)\n",
       " ┌─────────┬──────────────┐\n",
       " │ cluster ┆ rating_count │\n",
       " │ ---     ┆ ---          │\n",
       " │ i32     ┆ u32          │\n",
       " ╞═════════╪══════════════╡\n",
       " │ 0       ┆ 1157         │\n",
       " │ 3       ┆ 539          │\n",
       " │ 1       ┆ 1451         │\n",
       " │ 2       ┆ 997          │\n",
       " └─────────┴──────────────┘,\n",
       " shape: (4, 2)\n",
       " ┌─────────┬───────────────────┐\n",
       " │ cluster ┆ food_rating_count │\n",
       " │ ---     ┆ ---               │\n",
       " │ i32     ┆ u32               │\n",
       " ╞═════════╪═══════════════════╡\n",
       " │ 0       ┆ 1157              │\n",
       " │ 3       ┆ 539               │\n",
       " │ 1       ┆ 1451              │\n",
       " │ 2       ┆ 997               │\n",
       " └─────────┴───────────────────┘,\n",
       " shape: (4, 2)\n",
       " ┌─────────┬──────────────────────┐\n",
       " │ cluster ┆ service_rating_count │\n",
       " │ ---     ┆ ---                  │\n",
       " │ i32     ┆ u32                  │\n",
       " ╞═════════╪══════════════════════╡\n",
       " │ 3       ┆ 539                  │\n",
       " │ 0       ┆ 1157                 │\n",
       " │ 1       ┆ 1451                 │\n",
       " │ 2       ┆ 997                  │\n",
       " └─────────┴──────────────────────┘]"
      ]
     },
     "execution_count": 20,
     "metadata": {},
     "output_type": "execute_result"
    }
   ],
   "source": [
    "# List of categorical columns\n",
    "categorical_columns = [\"smoker\", \"drink_level\", \"dress_preference\", \"ambience\", \"transport\",\n",
    "    \"marital_status\", \"hijos\", \"interest\", \"personality\", \"activity\", \"budget\", \"rating\",\n",
    "    \"food_rating\", \"service_rating\"]\n",
    "\n",
    "# Initialize list to store distributions\n",
    "category_distribution = []\n",
    "\n",
    "# For each categorical column, compute the distribution of values by cluster\n",
    "for col in categorical_columns:\n",
    "    distribution = final_user_df.group_by('cluster').agg(\n",
    "        [\n",
    "            pl.col(col).filter(pl.col(col).is_not_null()).count().alias(f'{col}_count')\n",
    "        ]\n",
    "    )\n",
    "    category_distribution.append(distribution)\n",
    "\n",
    "\n",
    "category_distribution"
   ]
  },
  {
   "cell_type": "markdown",
   "metadata": {},
   "source": [
    "## Resturants Clustering"
   ]
  },
  {
   "cell_type": "code",
   "execution_count": 21,
   "metadata": {},
   "outputs": [
    {
     "name": "stdout",
     "output_type": "stream",
     "text": [
      "901\n"
     ]
    },
    {
     "data": {
      "text/html": [
       "<div><style>\n",
       ".dataframe > thead > tr,\n",
       ".dataframe > tbody > tr {\n",
       "  text-align: right;\n",
       "  white-space: pre-wrap;\n",
       "}\n",
       "</style>\n",
       "<small>shape: (1, 26)</small><table border=\"1\" class=\"dataframe\"><thead><tr><th>placeID</th><th>latitude</th><th>longitude</th><th>the_geom_meter</th><th>name</th><th>address</th><th>city</th><th>state</th><th>country</th><th>fax</th><th>zip</th><th>alcohol</th><th>smoking_area</th><th>dress_code</th><th>accessibility</th><th>price</th><th>url</th><th>Rambience</th><th>franchise</th><th>area</th><th>other_services</th><th>Rpayment</th><th>Rcuisine</th><th>hours</th><th>days</th><th>parking_lot</th></tr><tr><td>u32</td><td>u32</td><td>u32</td><td>u32</td><td>u32</td><td>u32</td><td>u32</td><td>u32</td><td>u32</td><td>u32</td><td>u32</td><td>u32</td><td>u32</td><td>u32</td><td>u32</td><td>u32</td><td>u32</td><td>u32</td><td>u32</td><td>u32</td><td>u32</td><td>u32</td><td>u32</td><td>u32</td><td>u32</td><td>u32</td></tr></thead><tbody><tr><td>0</td><td>0</td><td>0</td><td>0</td><td>0</td><td>138</td><td>93</td><td>90</td><td>156</td><td>901</td><td>417</td><td>0</td><td>429</td><td>0</td><td>0</td><td>0</td><td>780</td><td>0</td><td>0</td><td>0</td><td>802</td><td>51</td><td>213</td><td>16</td><td>16</td><td>340</td></tr></tbody></table></div>"
      ],
      "text/plain": [
       "shape: (1, 26)\n",
       "┌─────────┬──────────┬───────────┬────────────────┬───┬──────────┬───────┬──────┬─────────────┐\n",
       "│ placeID ┆ latitude ┆ longitude ┆ the_geom_meter ┆ … ┆ Rcuisine ┆ hours ┆ days ┆ parking_lot │\n",
       "│ ---     ┆ ---      ┆ ---       ┆ ---            ┆   ┆ ---      ┆ ---   ┆ ---  ┆ ---         │\n",
       "│ u32     ┆ u32      ┆ u32       ┆ u32            ┆   ┆ u32      ┆ u32   ┆ u32  ┆ u32         │\n",
       "╞═════════╪══════════╪═══════════╪════════════════╪═══╪══════════╪═══════╪══════╪═════════════╡\n",
       "│ 0       ┆ 0        ┆ 0         ┆ 0              ┆ … ┆ 213      ┆ 16    ┆ 16   ┆ 340         │\n",
       "└─────────┴──────────┴───────────┴────────────────┴───┴──────────┴───────┴──────┴─────────────┘"
      ]
     },
     "execution_count": 21,
     "metadata": {},
     "output_type": "execute_result"
    }
   ],
   "source": [
    "restaurant_df = restaurant_df.with_columns([\n",
    "    pl.when(pl.col(col).cast(str).str.to_lowercase().is_in([\"?\", \"none\"]))\n",
    "    .then(None)\n",
    "    .otherwise(pl.col(col))\n",
    "    .alias(col)\n",
    "    for col in restaurant_df.columns\n",
    "])\n",
    "print(len(restaurant_df))\n",
    "restaurant_df.null_count()"
   ]
  },
  {
   "cell_type": "code",
   "execution_count": 22,
   "metadata": {},
   "outputs": [
    {
     "data": {
      "text/html": [
       "<div><style>\n",
       ".dataframe > thead > tr,\n",
       ".dataframe > tbody > tr {\n",
       "  text-align: right;\n",
       "  white-space: pre-wrap;\n",
       "}\n",
       "</style>\n",
       "<small>shape: (5, 30)</small><table border=\"1\" class=\"dataframe\"><thead><tr><th>userID</th><th>placeID</th><th>rating</th><th>food_rating</th><th>service_rating</th><th>latitude</th><th>longitude</th><th>the_geom_meter</th><th>name</th><th>address</th><th>city</th><th>state</th><th>country</th><th>fax</th><th>zip</th><th>alcohol</th><th>smoking_area</th><th>dress_code</th><th>accessibility</th><th>price</th><th>url</th><th>Rambience</th><th>franchise</th><th>area</th><th>other_services</th><th>Rpayment</th><th>Rcuisine</th><th>hours</th><th>days</th><th>parking_lot</th></tr><tr><td>str</td><td>i64</td><td>i64</td><td>i64</td><td>i64</td><td>f64</td><td>f64</td><td>str</td><td>str</td><td>str</td><td>str</td><td>str</td><td>str</td><td>str</td><td>str</td><td>str</td><td>str</td><td>str</td><td>str</td><td>str</td><td>str</td><td>str</td><td>str</td><td>str</td><td>str</td><td>str</td><td>str</td><td>str</td><td>str</td><td>str</td></tr></thead><tbody><tr><td>&quot;U1077&quot;</td><td>135085</td><td>2</td><td>2</td><td>2</td><td>22.150802</td><td>-100.98268</td><td>&quot;0101000020957F00009F823DA60948…</td><td>&quot;Tortas Locas Hipocampo&quot;</td><td>&quot;Venustiano Carranza 719 Centro&quot;</td><td>&quot;San Luis Potosi&quot;</td><td>&quot;SLP&quot;</td><td>&quot;Mexico&quot;</td><td>null</td><td>&quot;78000&quot;</td><td>&quot;No_Alcohol_Served&quot;</td><td>&quot;not permitted&quot;</td><td>&quot;informal&quot;</td><td>&quot;no_accessibility&quot;</td><td>&quot;medium&quot;</td><td>null</td><td>&quot;familiar&quot;</td><td>&quot;f&quot;</td><td>&quot;closed&quot;</td><td>null</td><td>&quot;cash&quot;</td><td>&quot;Fast_Food&quot;</td><td>&quot;00:00-00:00;&quot;</td><td>&quot;Mon;Tue;Wed;Thu;Fri;&quot;</td><td>&quot;public&quot;</td></tr><tr><td>&quot;U1077&quot;</td><td>135085</td><td>2</td><td>2</td><td>2</td><td>22.150802</td><td>-100.98268</td><td>&quot;0101000020957F00009F823DA60948…</td><td>&quot;Tortas Locas Hipocampo&quot;</td><td>&quot;Venustiano Carranza 719 Centro&quot;</td><td>&quot;San Luis Potosi&quot;</td><td>&quot;SLP&quot;</td><td>&quot;Mexico&quot;</td><td>null</td><td>&quot;78000&quot;</td><td>&quot;No_Alcohol_Served&quot;</td><td>&quot;not permitted&quot;</td><td>&quot;informal&quot;</td><td>&quot;no_accessibility&quot;</td><td>&quot;medium&quot;</td><td>null</td><td>&quot;familiar&quot;</td><td>&quot;f&quot;</td><td>&quot;closed&quot;</td><td>null</td><td>&quot;cash&quot;</td><td>&quot;Fast_Food&quot;</td><td>&quot;00:00-00:00;&quot;</td><td>&quot;Sat;&quot;</td><td>&quot;public&quot;</td></tr><tr><td>&quot;U1077&quot;</td><td>135085</td><td>2</td><td>2</td><td>2</td><td>22.150802</td><td>-100.98268</td><td>&quot;0101000020957F00009F823DA60948…</td><td>&quot;Tortas Locas Hipocampo&quot;</td><td>&quot;Venustiano Carranza 719 Centro&quot;</td><td>&quot;San Luis Potosi&quot;</td><td>&quot;SLP&quot;</td><td>&quot;Mexico&quot;</td><td>null</td><td>&quot;78000&quot;</td><td>&quot;No_Alcohol_Served&quot;</td><td>&quot;not permitted&quot;</td><td>&quot;informal&quot;</td><td>&quot;no_accessibility&quot;</td><td>&quot;medium&quot;</td><td>null</td><td>&quot;familiar&quot;</td><td>&quot;f&quot;</td><td>&quot;closed&quot;</td><td>null</td><td>&quot;cash&quot;</td><td>&quot;Fast_Food&quot;</td><td>&quot;00:00-00:00;&quot;</td><td>&quot;Sun;&quot;</td><td>&quot;public&quot;</td></tr><tr><td>&quot;U1077&quot;</td><td>135038</td><td>2</td><td>2</td><td>1</td><td>22.155651</td><td>-100.977767</td><td>&quot;0101000020957F0000506149736E47…</td><td>&quot;Restaurant la Chalita&quot;</td><td>&quot;Guajardo Sn San Luis Potosi Ce…</td><td>&quot;San Luis Potosi&quot;</td><td>&quot;SLP&quot;</td><td>&quot;Mexico&quot;</td><td>null</td><td>&quot;78000&quot;</td><td>&quot;No_Alcohol_Served&quot;</td><td>&quot;section&quot;</td><td>&quot;informal&quot;</td><td>&quot;no_accessibility&quot;</td><td>&quot;medium&quot;</td><td>null</td><td>&quot;familiar&quot;</td><td>&quot;f&quot;</td><td>&quot;closed&quot;</td><td>null</td><td>&quot;cash&quot;</td><td>null</td><td>&quot;08:00-17:00;&quot;</td><td>&quot;Mon;Tue;Wed;Thu;Fri;&quot;</td><td>null</td></tr><tr><td>&quot;U1077&quot;</td><td>135038</td><td>2</td><td>2</td><td>1</td><td>22.155651</td><td>-100.977767</td><td>&quot;0101000020957F0000506149736E47…</td><td>&quot;Restaurant la Chalita&quot;</td><td>&quot;Guajardo Sn San Luis Potosi Ce…</td><td>&quot;San Luis Potosi&quot;</td><td>&quot;SLP&quot;</td><td>&quot;Mexico&quot;</td><td>null</td><td>&quot;78000&quot;</td><td>&quot;No_Alcohol_Served&quot;</td><td>&quot;section&quot;</td><td>&quot;informal&quot;</td><td>&quot;no_accessibility&quot;</td><td>&quot;medium&quot;</td><td>null</td><td>&quot;familiar&quot;</td><td>&quot;f&quot;</td><td>&quot;closed&quot;</td><td>null</td><td>&quot;cash&quot;</td><td>null</td><td>&quot;08:00-17:00;&quot;</td><td>&quot;Sat;&quot;</td><td>null</td></tr></tbody></table></div>"
      ],
      "text/plain": [
       "shape: (5, 30)\n",
       "┌────────┬─────────┬────────┬─────────────┬───┬───────────┬─────────────┬─────────────┬────────────┐\n",
       "│ userID ┆ placeID ┆ rating ┆ food_rating ┆ … ┆ Rcuisine  ┆ hours       ┆ days        ┆ parking_lo │\n",
       "│ ---    ┆ ---     ┆ ---    ┆ ---         ┆   ┆ ---       ┆ ---         ┆ ---         ┆ t          │\n",
       "│ str    ┆ i64     ┆ i64    ┆ i64         ┆   ┆ str       ┆ str         ┆ str         ┆ ---        │\n",
       "│        ┆         ┆        ┆             ┆   ┆           ┆             ┆             ┆ str        │\n",
       "╞════════╪═════════╪════════╪═════════════╪═══╪═══════════╪═════════════╪═════════════╪════════════╡\n",
       "│ U1077  ┆ 135085  ┆ 2      ┆ 2           ┆ … ┆ Fast_Food ┆ 00:00-00:00 ┆ Mon;Tue;Wed ┆ public     │\n",
       "│        ┆         ┆        ┆             ┆   ┆           ┆ ;           ┆ ;Thu;Fri;   ┆            │\n",
       "│ U1077  ┆ 135085  ┆ 2      ┆ 2           ┆ … ┆ Fast_Food ┆ 00:00-00:00 ┆ Sat;        ┆ public     │\n",
       "│        ┆         ┆        ┆             ┆   ┆           ┆ ;           ┆             ┆            │\n",
       "│ U1077  ┆ 135085  ┆ 2      ┆ 2           ┆ … ┆ Fast_Food ┆ 00:00-00:00 ┆ Sun;        ┆ public     │\n",
       "│        ┆         ┆        ┆             ┆   ┆           ┆ ;           ┆             ┆            │\n",
       "│ U1077  ┆ 135038  ┆ 2      ┆ 2           ┆ … ┆ null      ┆ 08:00-17:00 ┆ Mon;Tue;Wed ┆ null       │\n",
       "│        ┆         ┆        ┆             ┆   ┆           ┆ ;           ┆ ;Thu;Fri;   ┆            │\n",
       "│ U1077  ┆ 135038  ┆ 2      ┆ 2           ┆ … ┆ null      ┆ 08:00-17:00 ┆ Sat;        ┆ null       │\n",
       "│        ┆         ┆        ┆             ┆   ┆           ┆ ;           ┆             ┆            │\n",
       "└────────┴─────────┴────────┴─────────────┴───┴───────────┴─────────────┴─────────────┴────────────┘"
      ]
     },
     "execution_count": 22,
     "metadata": {},
     "output_type": "execute_result"
    }
   ],
   "source": [
    "joined_rest_df = ratings.join(restaurant_df, on=\"placeID\", how=\"inner\")\n",
    "joined_rest_df.head()"
   ]
  },
  {
   "cell_type": "code",
   "execution_count": 23,
   "metadata": {},
   "outputs": [
    {
     "data": {
      "text/html": [
       "<div><style>\n",
       ".dataframe > thead > tr,\n",
       ".dataframe > tbody > tr {\n",
       "  text-align: right;\n",
       "  white-space: pre-wrap;\n",
       "}\n",
       "</style>\n",
       "<small>shape: (5, 16)</small><table border=\"1\" class=\"dataframe\"><thead><tr><th>userID</th><th>placeID</th><th>rating</th><th>food_rating</th><th>service_rating</th><th>name</th><th>country</th><th>alcohol</th><th>smoking_area</th><th>dress_code</th><th>accessibility</th><th>price</th><th>Rambience</th><th>franchise</th><th>Rcuisine</th><th>parking_lot</th></tr><tr><td>str</td><td>i64</td><td>i64</td><td>i64</td><td>i64</td><td>str</td><td>str</td><td>str</td><td>str</td><td>str</td><td>str</td><td>str</td><td>str</td><td>str</td><td>str</td><td>str</td></tr></thead><tbody><tr><td>&quot;U1077&quot;</td><td>135085</td><td>2</td><td>2</td><td>2</td><td>&quot;Tortas Locas Hipocampo&quot;</td><td>&quot;Mexico&quot;</td><td>&quot;No_Alcohol_Served&quot;</td><td>&quot;not permitted&quot;</td><td>&quot;informal&quot;</td><td>&quot;no_accessibility&quot;</td><td>&quot;medium&quot;</td><td>&quot;familiar&quot;</td><td>&quot;f&quot;</td><td>&quot;Fast_Food&quot;</td><td>&quot;public&quot;</td></tr><tr><td>&quot;U1077&quot;</td><td>135085</td><td>2</td><td>2</td><td>2</td><td>&quot;Tortas Locas Hipocampo&quot;</td><td>&quot;Mexico&quot;</td><td>&quot;No_Alcohol_Served&quot;</td><td>&quot;not permitted&quot;</td><td>&quot;informal&quot;</td><td>&quot;no_accessibility&quot;</td><td>&quot;medium&quot;</td><td>&quot;familiar&quot;</td><td>&quot;f&quot;</td><td>&quot;Fast_Food&quot;</td><td>&quot;public&quot;</td></tr><tr><td>&quot;U1077&quot;</td><td>135085</td><td>2</td><td>2</td><td>2</td><td>&quot;Tortas Locas Hipocampo&quot;</td><td>&quot;Mexico&quot;</td><td>&quot;No_Alcohol_Served&quot;</td><td>&quot;not permitted&quot;</td><td>&quot;informal&quot;</td><td>&quot;no_accessibility&quot;</td><td>&quot;medium&quot;</td><td>&quot;familiar&quot;</td><td>&quot;f&quot;</td><td>&quot;Fast_Food&quot;</td><td>&quot;public&quot;</td></tr><tr><td>&quot;U1077&quot;</td><td>135038</td><td>2</td><td>2</td><td>1</td><td>&quot;Restaurant la Chalita&quot;</td><td>&quot;Mexico&quot;</td><td>&quot;No_Alcohol_Served&quot;</td><td>&quot;section&quot;</td><td>&quot;informal&quot;</td><td>&quot;no_accessibility&quot;</td><td>&quot;medium&quot;</td><td>&quot;familiar&quot;</td><td>&quot;f&quot;</td><td>null</td><td>null</td></tr><tr><td>&quot;U1077&quot;</td><td>135038</td><td>2</td><td>2</td><td>1</td><td>&quot;Restaurant la Chalita&quot;</td><td>&quot;Mexico&quot;</td><td>&quot;No_Alcohol_Served&quot;</td><td>&quot;section&quot;</td><td>&quot;informal&quot;</td><td>&quot;no_accessibility&quot;</td><td>&quot;medium&quot;</td><td>&quot;familiar&quot;</td><td>&quot;f&quot;</td><td>null</td><td>null</td></tr></tbody></table></div>"
      ],
      "text/plain": [
       "shape: (5, 16)\n",
       "┌────────┬─────────┬────────┬─────────────┬───┬───────────┬───────────┬───────────┬─────────────┐\n",
       "│ userID ┆ placeID ┆ rating ┆ food_rating ┆ … ┆ Rambience ┆ franchise ┆ Rcuisine  ┆ parking_lot │\n",
       "│ ---    ┆ ---     ┆ ---    ┆ ---         ┆   ┆ ---       ┆ ---       ┆ ---       ┆ ---         │\n",
       "│ str    ┆ i64     ┆ i64    ┆ i64         ┆   ┆ str       ┆ str       ┆ str       ┆ str         │\n",
       "╞════════╪═════════╪════════╪═════════════╪═══╪═══════════╪═══════════╪═══════════╪═════════════╡\n",
       "│ U1077  ┆ 135085  ┆ 2      ┆ 2           ┆ … ┆ familiar  ┆ f         ┆ Fast_Food ┆ public      │\n",
       "│ U1077  ┆ 135085  ┆ 2      ┆ 2           ┆ … ┆ familiar  ┆ f         ┆ Fast_Food ┆ public      │\n",
       "│ U1077  ┆ 135085  ┆ 2      ┆ 2           ┆ … ┆ familiar  ┆ f         ┆ Fast_Food ┆ public      │\n",
       "│ U1077  ┆ 135038  ┆ 2      ┆ 2           ┆ … ┆ familiar  ┆ f         ┆ null      ┆ null        │\n",
       "│ U1077  ┆ 135038  ┆ 2      ┆ 2           ┆ … ┆ familiar  ┆ f         ┆ null      ┆ null        │\n",
       "└────────┴─────────┴────────┴─────────────┴───┴───────────┴───────────┴───────────┴─────────────┘"
      ]
     },
     "execution_count": 23,
     "metadata": {},
     "output_type": "execute_result"
    }
   ],
   "source": [
    "restaurant_data = joined_rest_df.drop([\"fax\", \"zip\", \"url\", \"Rpayment\",\"days\", \"area\", \"hours\", \"other_services\", \"Rpayment\", \"address\", \"city\", \"state\", \"the_geom_meter\", \"latitude\", \"longitude\"])\n",
    "restaurant_data.head()"
   ]
  },
  {
   "cell_type": "code",
   "execution_count": 24,
   "metadata": {},
   "outputs": [],
   "source": [
    "id_cols = restaurant_data.select([\"placeID\", \"userID\"])\n",
    "categorical_rest_cols = [\"alcohol\", \"smoking_area\", \"dress_code\", \"accessibility\", \"price\", \"Rambience\",\n",
    "    \"franchise\", \"Rcuisine\", \"parking_lot\", \"rating\",\n",
    "    \"food_rating\", \"service_rating\", \"name\", \"country\"\n",
    "]\n",
    "\n",
    "# One-hot encode\n",
    "restaurant_data_dummies = restaurant_data.to_dummies(columns=categorical_rest_cols)\n",
    "features_only = restaurant_data_dummies.drop([\"placeID\", \"userID\"])\n"
   ]
  },
  {
   "cell_type": "code",
   "execution_count": 25,
   "metadata": {},
   "outputs": [],
   "source": [
    "rest_df_pd = features_only.to_pandas()\n",
    "\n",
    "# Scale the data\n",
    "scaler = StandardScaler()\n",
    "rest_df_scaled = scaler.fit_transform(rest_df_pd)"
   ]
  },
  {
   "cell_type": "code",
   "execution_count": 26,
   "metadata": {},
   "outputs": [
    {
     "data": {
      "application/vnd.plotly.v1+json": {
       "config": {
        "plotlyServerURL": "https://plot.ly"
       },
       "data": [
        {
         "hovertemplate": "Number of Clusters=%{x}<br>Inertia=%{y}<extra></extra>",
         "legendgroup": "",
         "line": {
          "color": "#636efa",
          "dash": "solid"
         },
         "marker": {
          "symbol": "circle"
         },
         "mode": "lines+markers",
         "name": "",
         "orientation": "v",
         "showlegend": false,
         "type": "scatter",
         "x": {
          "bdata": "AQIDBAUGBwgJCg==",
          "dtype": "i1"
         },
         "xaxis": "x",
         "y": {
          "bdata": "9P///6MROEFEpOc1Xdk3QQKkhbkPSTdB8MZYSwrQNkGMCYP894w2QcwJS+ovTTZBic4g/0kqNkEI5d7k8K41QfTIQiBaSzVBJofCBGkFNUE=",
          "dtype": "f8"
         },
         "yaxis": "y"
        }
       ],
       "layout": {
        "legend": {
         "tracegroupgap": 0
        },
        "template": {
         "data": {
          "bar": [
           {
            "error_x": {
             "color": "#2a3f5f"
            },
            "error_y": {
             "color": "#2a3f5f"
            },
            "marker": {
             "line": {
              "color": "white",
              "width": 0.5
             },
             "pattern": {
              "fillmode": "overlay",
              "size": 10,
              "solidity": 0.2
             }
            },
            "type": "bar"
           }
          ],
          "barpolar": [
           {
            "marker": {
             "line": {
              "color": "white",
              "width": 0.5
             },
             "pattern": {
              "fillmode": "overlay",
              "size": 10,
              "solidity": 0.2
             }
            },
            "type": "barpolar"
           }
          ],
          "carpet": [
           {
            "aaxis": {
             "endlinecolor": "#2a3f5f",
             "gridcolor": "#C8D4E3",
             "linecolor": "#C8D4E3",
             "minorgridcolor": "#C8D4E3",
             "startlinecolor": "#2a3f5f"
            },
            "baxis": {
             "endlinecolor": "#2a3f5f",
             "gridcolor": "#C8D4E3",
             "linecolor": "#C8D4E3",
             "minorgridcolor": "#C8D4E3",
             "startlinecolor": "#2a3f5f"
            },
            "type": "carpet"
           }
          ],
          "choropleth": [
           {
            "colorbar": {
             "outlinewidth": 0,
             "ticks": ""
            },
            "type": "choropleth"
           }
          ],
          "contour": [
           {
            "colorbar": {
             "outlinewidth": 0,
             "ticks": ""
            },
            "colorscale": [
             [
              0,
              "#0d0887"
             ],
             [
              0.1111111111111111,
              "#46039f"
             ],
             [
              0.2222222222222222,
              "#7201a8"
             ],
             [
              0.3333333333333333,
              "#9c179e"
             ],
             [
              0.4444444444444444,
              "#bd3786"
             ],
             [
              0.5555555555555556,
              "#d8576b"
             ],
             [
              0.6666666666666666,
              "#ed7953"
             ],
             [
              0.7777777777777778,
              "#fb9f3a"
             ],
             [
              0.8888888888888888,
              "#fdca26"
             ],
             [
              1,
              "#f0f921"
             ]
            ],
            "type": "contour"
           }
          ],
          "contourcarpet": [
           {
            "colorbar": {
             "outlinewidth": 0,
             "ticks": ""
            },
            "type": "contourcarpet"
           }
          ],
          "heatmap": [
           {
            "colorbar": {
             "outlinewidth": 0,
             "ticks": ""
            },
            "colorscale": [
             [
              0,
              "#0d0887"
             ],
             [
              0.1111111111111111,
              "#46039f"
             ],
             [
              0.2222222222222222,
              "#7201a8"
             ],
             [
              0.3333333333333333,
              "#9c179e"
             ],
             [
              0.4444444444444444,
              "#bd3786"
             ],
             [
              0.5555555555555556,
              "#d8576b"
             ],
             [
              0.6666666666666666,
              "#ed7953"
             ],
             [
              0.7777777777777778,
              "#fb9f3a"
             ],
             [
              0.8888888888888888,
              "#fdca26"
             ],
             [
              1,
              "#f0f921"
             ]
            ],
            "type": "heatmap"
           }
          ],
          "histogram": [
           {
            "marker": {
             "pattern": {
              "fillmode": "overlay",
              "size": 10,
              "solidity": 0.2
             }
            },
            "type": "histogram"
           }
          ],
          "histogram2d": [
           {
            "colorbar": {
             "outlinewidth": 0,
             "ticks": ""
            },
            "colorscale": [
             [
              0,
              "#0d0887"
             ],
             [
              0.1111111111111111,
              "#46039f"
             ],
             [
              0.2222222222222222,
              "#7201a8"
             ],
             [
              0.3333333333333333,
              "#9c179e"
             ],
             [
              0.4444444444444444,
              "#bd3786"
             ],
             [
              0.5555555555555556,
              "#d8576b"
             ],
             [
              0.6666666666666666,
              "#ed7953"
             ],
             [
              0.7777777777777778,
              "#fb9f3a"
             ],
             [
              0.8888888888888888,
              "#fdca26"
             ],
             [
              1,
              "#f0f921"
             ]
            ],
            "type": "histogram2d"
           }
          ],
          "histogram2dcontour": [
           {
            "colorbar": {
             "outlinewidth": 0,
             "ticks": ""
            },
            "colorscale": [
             [
              0,
              "#0d0887"
             ],
             [
              0.1111111111111111,
              "#46039f"
             ],
             [
              0.2222222222222222,
              "#7201a8"
             ],
             [
              0.3333333333333333,
              "#9c179e"
             ],
             [
              0.4444444444444444,
              "#bd3786"
             ],
             [
              0.5555555555555556,
              "#d8576b"
             ],
             [
              0.6666666666666666,
              "#ed7953"
             ],
             [
              0.7777777777777778,
              "#fb9f3a"
             ],
             [
              0.8888888888888888,
              "#fdca26"
             ],
             [
              1,
              "#f0f921"
             ]
            ],
            "type": "histogram2dcontour"
           }
          ],
          "mesh3d": [
           {
            "colorbar": {
             "outlinewidth": 0,
             "ticks": ""
            },
            "type": "mesh3d"
           }
          ],
          "parcoords": [
           {
            "line": {
             "colorbar": {
              "outlinewidth": 0,
              "ticks": ""
             }
            },
            "type": "parcoords"
           }
          ],
          "pie": [
           {
            "automargin": true,
            "type": "pie"
           }
          ],
          "scatter": [
           {
            "fillpattern": {
             "fillmode": "overlay",
             "size": 10,
             "solidity": 0.2
            },
            "type": "scatter"
           }
          ],
          "scatter3d": [
           {
            "line": {
             "colorbar": {
              "outlinewidth": 0,
              "ticks": ""
             }
            },
            "marker": {
             "colorbar": {
              "outlinewidth": 0,
              "ticks": ""
             }
            },
            "type": "scatter3d"
           }
          ],
          "scattercarpet": [
           {
            "marker": {
             "colorbar": {
              "outlinewidth": 0,
              "ticks": ""
             }
            },
            "type": "scattercarpet"
           }
          ],
          "scattergeo": [
           {
            "marker": {
             "colorbar": {
              "outlinewidth": 0,
              "ticks": ""
             }
            },
            "type": "scattergeo"
           }
          ],
          "scattergl": [
           {
            "marker": {
             "colorbar": {
              "outlinewidth": 0,
              "ticks": ""
             }
            },
            "type": "scattergl"
           }
          ],
          "scattermap": [
           {
            "marker": {
             "colorbar": {
              "outlinewidth": 0,
              "ticks": ""
             }
            },
            "type": "scattermap"
           }
          ],
          "scattermapbox": [
           {
            "marker": {
             "colorbar": {
              "outlinewidth": 0,
              "ticks": ""
             }
            },
            "type": "scattermapbox"
           }
          ],
          "scatterpolar": [
           {
            "marker": {
             "colorbar": {
              "outlinewidth": 0,
              "ticks": ""
             }
            },
            "type": "scatterpolar"
           }
          ],
          "scatterpolargl": [
           {
            "marker": {
             "colorbar": {
              "outlinewidth": 0,
              "ticks": ""
             }
            },
            "type": "scatterpolargl"
           }
          ],
          "scatterternary": [
           {
            "marker": {
             "colorbar": {
              "outlinewidth": 0,
              "ticks": ""
             }
            },
            "type": "scatterternary"
           }
          ],
          "surface": [
           {
            "colorbar": {
             "outlinewidth": 0,
             "ticks": ""
            },
            "colorscale": [
             [
              0,
              "#0d0887"
             ],
             [
              0.1111111111111111,
              "#46039f"
             ],
             [
              0.2222222222222222,
              "#7201a8"
             ],
             [
              0.3333333333333333,
              "#9c179e"
             ],
             [
              0.4444444444444444,
              "#bd3786"
             ],
             [
              0.5555555555555556,
              "#d8576b"
             ],
             [
              0.6666666666666666,
              "#ed7953"
             ],
             [
              0.7777777777777778,
              "#fb9f3a"
             ],
             [
              0.8888888888888888,
              "#fdca26"
             ],
             [
              1,
              "#f0f921"
             ]
            ],
            "type": "surface"
           }
          ],
          "table": [
           {
            "cells": {
             "fill": {
              "color": "#EBF0F8"
             },
             "line": {
              "color": "white"
             }
            },
            "header": {
             "fill": {
              "color": "#C8D4E3"
             },
             "line": {
              "color": "white"
             }
            },
            "type": "table"
           }
          ]
         },
         "layout": {
          "annotationdefaults": {
           "arrowcolor": "#2a3f5f",
           "arrowhead": 0,
           "arrowwidth": 1
          },
          "autotypenumbers": "strict",
          "coloraxis": {
           "colorbar": {
            "outlinewidth": 0,
            "ticks": ""
           }
          },
          "colorscale": {
           "diverging": [
            [
             0,
             "#8e0152"
            ],
            [
             0.1,
             "#c51b7d"
            ],
            [
             0.2,
             "#de77ae"
            ],
            [
             0.3,
             "#f1b6da"
            ],
            [
             0.4,
             "#fde0ef"
            ],
            [
             0.5,
             "#f7f7f7"
            ],
            [
             0.6,
             "#e6f5d0"
            ],
            [
             0.7,
             "#b8e186"
            ],
            [
             0.8,
             "#7fbc41"
            ],
            [
             0.9,
             "#4d9221"
            ],
            [
             1,
             "#276419"
            ]
           ],
           "sequential": [
            [
             0,
             "#0d0887"
            ],
            [
             0.1111111111111111,
             "#46039f"
            ],
            [
             0.2222222222222222,
             "#7201a8"
            ],
            [
             0.3333333333333333,
             "#9c179e"
            ],
            [
             0.4444444444444444,
             "#bd3786"
            ],
            [
             0.5555555555555556,
             "#d8576b"
            ],
            [
             0.6666666666666666,
             "#ed7953"
            ],
            [
             0.7777777777777778,
             "#fb9f3a"
            ],
            [
             0.8888888888888888,
             "#fdca26"
            ],
            [
             1,
             "#f0f921"
            ]
           ],
           "sequentialminus": [
            [
             0,
             "#0d0887"
            ],
            [
             0.1111111111111111,
             "#46039f"
            ],
            [
             0.2222222222222222,
             "#7201a8"
            ],
            [
             0.3333333333333333,
             "#9c179e"
            ],
            [
             0.4444444444444444,
             "#bd3786"
            ],
            [
             0.5555555555555556,
             "#d8576b"
            ],
            [
             0.6666666666666666,
             "#ed7953"
            ],
            [
             0.7777777777777778,
             "#fb9f3a"
            ],
            [
             0.8888888888888888,
             "#fdca26"
            ],
            [
             1,
             "#f0f921"
            ]
           ]
          },
          "colorway": [
           "#636efa",
           "#EF553B",
           "#00cc96",
           "#ab63fa",
           "#FFA15A",
           "#19d3f3",
           "#FF6692",
           "#B6E880",
           "#FF97FF",
           "#FECB52"
          ],
          "font": {
           "color": "#2a3f5f"
          },
          "geo": {
           "bgcolor": "white",
           "lakecolor": "white",
           "landcolor": "white",
           "showlakes": true,
           "showland": true,
           "subunitcolor": "#C8D4E3"
          },
          "hoverlabel": {
           "align": "left"
          },
          "hovermode": "closest",
          "mapbox": {
           "style": "light"
          },
          "paper_bgcolor": "white",
          "plot_bgcolor": "white",
          "polar": {
           "angularaxis": {
            "gridcolor": "#EBF0F8",
            "linecolor": "#EBF0F8",
            "ticks": ""
           },
           "bgcolor": "white",
           "radialaxis": {
            "gridcolor": "#EBF0F8",
            "linecolor": "#EBF0F8",
            "ticks": ""
           }
          },
          "scene": {
           "xaxis": {
            "backgroundcolor": "white",
            "gridcolor": "#DFE8F3",
            "gridwidth": 2,
            "linecolor": "#EBF0F8",
            "showbackground": true,
            "ticks": "",
            "zerolinecolor": "#EBF0F8"
           },
           "yaxis": {
            "backgroundcolor": "white",
            "gridcolor": "#DFE8F3",
            "gridwidth": 2,
            "linecolor": "#EBF0F8",
            "showbackground": true,
            "ticks": "",
            "zerolinecolor": "#EBF0F8"
           },
           "zaxis": {
            "backgroundcolor": "white",
            "gridcolor": "#DFE8F3",
            "gridwidth": 2,
            "linecolor": "#EBF0F8",
            "showbackground": true,
            "ticks": "",
            "zerolinecolor": "#EBF0F8"
           }
          },
          "shapedefaults": {
           "line": {
            "color": "#2a3f5f"
           }
          },
          "ternary": {
           "aaxis": {
            "gridcolor": "#DFE8F3",
            "linecolor": "#A2B1C6",
            "ticks": ""
           },
           "baxis": {
            "gridcolor": "#DFE8F3",
            "linecolor": "#A2B1C6",
            "ticks": ""
           },
           "bgcolor": "white",
           "caxis": {
            "gridcolor": "#DFE8F3",
            "linecolor": "#A2B1C6",
            "ticks": ""
           }
          },
          "title": {
           "x": 0.05
          },
          "xaxis": {
           "automargin": true,
           "gridcolor": "#EBF0F8",
           "linecolor": "#EBF0F8",
           "ticks": "",
           "title": {
            "standoff": 15
           },
           "zerolinecolor": "#EBF0F8",
           "zerolinewidth": 2
          },
          "yaxis": {
           "automargin": true,
           "gridcolor": "#EBF0F8",
           "linecolor": "#EBF0F8",
           "ticks": "",
           "title": {
            "standoff": 15
           },
           "zerolinecolor": "#EBF0F8",
           "zerolinewidth": 2
          }
         }
        },
        "title": {
         "text": "Elbow Method for Optimal k"
        },
        "xaxis": {
         "anchor": "y",
         "domain": [
          0,
          1
         ],
         "dtick": 1,
         "title": {
          "text": "Number of Clusters"
         }
        },
        "yaxis": {
         "anchor": "x",
         "domain": [
          0,
          1
         ],
         "title": {
          "text": "Inertia"
         }
        }
       }
      }
     },
     "metadata": {},
     "output_type": "display_data"
    }
   ],
   "source": [
    "# Calculate inertia for k from 1 to 10\n",
    "inertia = []\n",
    "k_range = range(1, 11)\n",
    "\n",
    "for k in k_range:\n",
    "    kmeans = KMeans(n_clusters=k, random_state=42)\n",
    "    kmeans.fit(rest_df_scaled)\n",
    "    inertia.append(kmeans.inertia_)\n",
    "\n",
    "# Create a DataFrame for Plotly\n",
    "elbow_df = pd.DataFrame({\n",
    "    \"k\": list(k_range),\n",
    "    \"inertia\": inertia\n",
    "})\n",
    "\n",
    "# Create interactive elbow plot\n",
    "fig = px.line(elbow_df, x=\"k\", y=\"inertia\", markers=True,\n",
    "              title=\"Elbow Method for Optimal k\",\n",
    "              labels={\"k\": \"Number of Clusters\", \"inertia\": \"Inertia\"})\n",
    "\n",
    "fig.update_layout(xaxis=dict(dtick=1), template=\"plotly_white\")\n",
    "fig.show()"
   ]
  },
  {
   "cell_type": "code",
   "execution_count": 27,
   "metadata": {},
   "outputs": [],
   "source": [
    "num_clusters = 8\n",
    "kmeans = KMeans(n_clusters=num_clusters, random_state=42)\n",
    "clusters = kmeans.fit_predict(rest_df_scaled)\n",
    "\n",
    "# Add cluster labels to the original Polars DataFrame\n",
    "final_rest_df = restaurant_data.with_columns(pl.Series(\"cluster\", clusters))\n"
   ]
  },
  {
   "cell_type": "code",
   "execution_count": 28,
   "metadata": {},
   "outputs": [
    {
     "data": {
      "application/vnd.plotly.v1+json": {
       "config": {
        "plotlyServerURL": "https://plot.ly"
       },
       "data": [
        {
         "bingroup": "x",
         "hovertemplate": "cluster=%{x}<br>count=%{y}<extra></extra>",
         "legendgroup": "",
         "marker": {
          "color": "#636efa",
          "pattern": {
           "shape": ""
          }
         },
         "name": "",
         "orientation": "v",
         "showlegend": false,
         "type": "histogram",
         "x": {
          "bdata": "BQAAAAUAAAAFAAAABQAAAAUAAAAFAAAAAgAAAAIAAAACAAAABgAAAAYAAAAGAAAABwAAAAcAAAAHAAAABwAAAAcAAAAHAAAABwAAAAcAAAAHAAAAAgAAAAIAAAACAAAAAgAAAAIAAAACAAAAAgAAAAIAAAACAAAAAgAAAAIAAAACAAAABwAAAAcAAAAHAAAABwAAAAcAAAAHAAAABwAAAAcAAAAHAAAABwAAAAcAAAAHAAAABwAAAAcAAAAHAAAAAgAAAAIAAAACAAAAAgAAAAIAAAACAAAABwAAAAcAAAAHAAAABwAAAAcAAAAHAAAABwAAAAcAAAAHAAAAAgAAAAIAAAACAAAABwAAAAcAAAAHAAAAAgAAAAIAAAACAAAAAgAAAAIAAAACAAAABwAAAAcAAAAHAAAAAgAAAAIAAAACAAAABwAAAAcAAAAHAAAABwAAAAcAAAAHAAAABwAAAAcAAAAHAAAAAgAAAAIAAAACAAAABwAAAAcAAAAHAAAABwAAAAcAAAAHAAAABwAAAAcAAAAHAAAABwAAAAcAAAAHAAAAAgAAAAIAAAACAAAABwAAAAcAAAAHAAAABwAAAAcAAAAHAAAABwAAAAcAAAAHAAAABwAAAAcAAAAHAAAABwAAAAcAAAAHAAAABQAAAAUAAAAFAAAAAgAAAAIAAAACAAAAAgAAAAIAAAACAAAAAgAAAAcAAAAHAAAABwAAAAcAAAAHAAAABwAAAAIAAAACAAAAAgAAAAIAAAACAAAAAgAAAAIAAAACAAAAAgAAAAIAAAACAAAAAgAAAAIAAAACAAAAAgAAAAUAAAAFAAAABQAAAAcAAAAHAAAABwAAAAIAAAACAAAAAgAAAAIAAAACAAAAAgAAAAcAAAAHAAAABwAAAAIAAAACAAAAAgAAAAIAAAACAAAAAgAAAAIAAAACAAAAAgAAAAUAAAAFAAAABQAAAAcAAAAHAAAABwAAAAcAAAAHAAAABwAAAAcAAAAHAAAABwAAAAcAAAAHAAAABwAAAAIAAAACAAAAAgAAAAUAAAAFAAAABQAAAAUAAAAFAAAABQAAAAUAAAAFAAAABQAAAAUAAAAFAAAABQAAAAUAAAAFAAAABQAAAAUAAAAFAAAABQAAAAUAAAAFAAAABQAAAAUAAAAFAAAABQAAAAcAAAAHAAAABwAAAAcAAAAHAAAABwAAAAcAAAAHAAAABwAAAAcAAAAHAAAABwAAAAIAAAACAAAAAgAAAAcAAAAHAAAABwAAAAcAAAAHAAAABwAAAAcAAAAHAAAABwAAAAcAAAAHAAAABwAAAAIAAAACAAAAAgAAAAIAAAACAAAAAgAAAAcAAAAHAAAABwAAAAIAAAACAAAAAgAAAAIAAAACAAAAAgAAAAIAAAACAAAAAgAAAAIAAAACAAAAAgAAAAIAAAACAAAAAgAAAAIAAAACAAAAAgAAAAYAAAAGAAAABgAAAAYAAAAGAAAABgAAAAYAAAAGAAAABgAAAAYAAAAGAAAABgAAAAYAAAAGAAAABgAAAAUAAAAFAAAABQAAAAUAAAAFAAAABQAAAAAAAAAAAAAAAAAAAAAAAAAAAAAAAAAAAAAAAAAAAAAAAAAAAAAAAAAAAAAAAAAAAAUAAAAFAAAABQAAAAUAAAAFAAAABQAAAAUAAAAFAAAABQAAAAUAAAAFAAAABQAAAAYAAAAGAAAABgAAAAYAAAAGAAAABgAAAAYAAAAGAAAABgAAAAYAAAAGAAAABgAAAAUAAAAFAAAABQAAAAUAAAAFAAAABQAAAAUAAAAFAAAABQAAAAUAAAAFAAAABQAAAAUAAAAFAAAABQAAAAUAAAAFAAAABQAAAAUAAAAFAAAABQAAAAcAAAAHAAAABwAAAAcAAAAHAAAABwAAAAcAAAAHAAAABwAAAAcAAAAHAAAABwAAAAcAAAAHAAAABwAAAAcAAAAHAAAABwAAAAUAAAAFAAAABQAAAAUAAAAFAAAABQAAAAAAAAAAAAAAAAAAAAAAAAAAAAAAAAAAAAAAAAAAAAAAAAAAAAUAAAAFAAAABQAAAAUAAAAFAAAABQAAAAUAAAAFAAAABQAAAAUAAAAFAAAABQAAAAUAAAAFAAAABQAAAAUAAAAFAAAABQAAAAUAAAAFAAAABQAAAAUAAAAFAAAABQAAAAUAAAAFAAAABQAAAAUAAAAFAAAABQAAAAUAAAAFAAAABQAAAAUAAAAFAAAABQAAAAUAAAAFAAAABQAAAAUAAAAFAAAABQAAAAIAAAACAAAAAgAAAAUAAAAFAAAABQAAAAUAAAAFAAAABQAAAAUAAAAFAAAABQAAAAUAAAAFAAAABQAAAAUAAAAFAAAABQAAAAIAAAAAAAAAAgAAAAIAAAAAAAAAAgAAAAIAAAAAAAAAAgAAAAIAAAAAAAAAAgAAAAYAAAAGAAAABgAAAAQAAAAEAAAABAAAAAQAAAAEAAAABAAAAAQAAAAEAAAABAAAAAQAAAAEAAAABAAAAAIAAAACAAAAAgAAAAAAAAAAAAAAAAAAAAAAAAAAAAAAAAAAAAQAAAAEAAAABAAAAAQAAAAEAAAABAAAAAQAAAAEAAAABAAAAAQAAAAEAAAABAAAAAUAAAAFAAAABQAAAAEAAAABAAAAAQAAAAEAAAABAAAAAQAAAAEAAAABAAAAAQAAAAIAAAACAAAAAgAAAAIAAAACAAAAAgAAAAEAAAABAAAAAQAAAAEAAAABAAAAAQAAAAEAAAABAAAAAQAAAAIAAAACAAAAAgAAAAYAAAAGAAAABgAAAAUAAAAFAAAABQAAAAIAAAACAAAAAgAAAAYAAAAGAAAABgAAAAUAAAAFAAAABQAAAAUAAAAFAAAABQAAAAUAAAAFAAAABQAAAAUAAAAFAAAABQAAAAUAAAAFAAAABQAAAAYAAAAGAAAABgAAAAUAAAAFAAAABQAAAAIAAAACAAAAAgAAAAIAAAACAAAAAgAAAAIAAAACAAAAAgAAAAUAAAAFAAAABQAAAAUAAAAFAAAABQAAAAUAAAAFAAAABQAAAAUAAAAFAAAABQAAAAUAAAAFAAAABQAAAAUAAAAFAAAABQAAAAUAAAAFAAAABQAAAAUAAAAFAAAABQAAAAUAAAAFAAAABQAAAAUAAAAFAAAABQAAAAEAAAABAAAAAQAAAAEAAAABAAAAAQAAAAEAAAABAAAAAQAAAAUAAAAFAAAABQAAAAUAAAAFAAAABQAAAAIAAAACAAAAAgAAAAYAAAAGAAAABgAAAAUAAAAFAAAABQAAAAUAAAAFAAAABQAAAAUAAAAFAAAABQAAAAUAAAAFAAAABQAAAAIAAAACAAAAAgAAAAIAAAACAAAAAgAAAAIAAAAAAAAAAgAAAAIAAAAAAAAAAgAAAAIAAAAAAAAAAgAAAAIAAAAAAAAAAgAAAAUAAAAFAAAABQAAAAUAAAAFAAAABQAAAAUAAAAFAAAABQAAAAUAAAAFAAAABQAAAAUAAAAFAAAABQAAAAUAAAAFAAAABQAAAAAAAAAAAAAAAAAAAAYAAAAGAAAABgAAAAEAAAABAAAAAQAAAAEAAAABAAAAAQAAAAEAAAABAAAAAQAAAAUAAAAFAAAABQAAAAUAAAAFAAAABQAAAAUAAAAFAAAABQAAAAUAAAAFAAAABQAAAAUAAAAFAAAABQAAAAUAAAAFAAAABQAAAAUAAAAFAAAABQAAAAUAAAAFAAAABQAAAAUAAAAFAAAABQAAAAEAAAABAAAAAQAAAAEAAAABAAAAAQAAAAEAAAABAAAAAQAAAAIAAAACAAAAAgAAAAYAAAAGAAAABgAAAAIAAAACAAAAAgAAAAIAAAACAAAAAgAAAAIAAAACAAAAAgAAAAUAAAAFAAAABQAAAAIAAAACAAAAAgAAAAcAAAAHAAAABwAAAAcAAAAHAAAABwAAAAIAAAACAAAAAgAAAAIAAAACAAAAAgAAAAIAAAACAAAAAgAAAAcAAAAHAAAABwAAAAcAAAAHAAAABwAAAAcAAAAHAAAABwAAAAcAAAAHAAAABwAAAAIAAAACAAAAAgAAAAIAAAACAAAAAgAAAAcAAAAHAAAABwAAAAcAAAAHAAAABwAAAAcAAAAHAAAABwAAAAcAAAAHAAAABwAAAAIAAAACAAAAAgAAAAIAAAACAAAAAgAAAAcAAAAHAAAABwAAAAcAAAAHAAAABwAAAAcAAAAHAAAABwAAAAcAAAAHAAAABwAAAAcAAAAHAAAABwAAAAIAAAACAAAAAgAAAAIAAAACAAAAAgAAAAIAAAACAAAAAgAAAAIAAAACAAAAAgAAAAcAAAAHAAAABwAAAAcAAAAHAAAABwAAAAcAAAAHAAAABwAAAAcAAAAHAAAABwAAAAIAAAACAAAAAgAAAAYAAAAGAAAABgAAAAIAAAAAAAAAAgAAAAIAAAAAAAAAAgAAAAIAAAAAAAAAAgAAAAIAAAAAAAAAAgAAAAQAAAAEAAAABAAAAAQAAAAEAAAABAAAAAQAAAAEAAAABAAAAAQAAAAEAAAABAAAAAYAAAAGAAAABgAAAAUAAAAFAAAABQAAAAIAAAACAAAAAgAAAAIAAAACAAAAAgAAAAIAAAACAAAAAgAAAAYAAAAGAAAABgAAAAIAAAACAAAAAgAAAAIAAAACAAAAAgAAAAIAAAACAAAAAgAAAAIAAAAFAAAABQAAAAUAAAAFAAAABQAAAAUAAAAFAAAABQAAAAUAAAAFAAAABQAAAAUAAAAFAAAABQAAAAUAAAAFAAAABQAAAAUAAAAFAAAABQAAAAUAAAAFAAAABQAAAAUAAAAFAAAABQAAAAUAAAAFAAAABQAAAAUAAAAFAAAABQAAAAUAAAABAAAAAQAAAAEAAAABAAAAAQAAAAEAAAABAAAAAQAAAAEAAAAFAAAABQAAAAUAAAACAAAAAgAAAAIAAAACAAAAAgAAAAIAAAAFAAAABQAAAAUAAAAGAAAABgAAAAYAAAAFAAAABQAAAAUAAAAGAAAABgAAAAYAAAACAAAAAgAAAAIAAAACAAAAAgAAAAIAAAAFAAAABQAAAAUAAAAAAAAAAAAAAAAAAAAFAAAABQAAAAUAAAAGAAAABgAAAAYAAAAGAAAABgAAAAYAAAAGAAAABgAAAAYAAAAGAAAABgAAAAYAAAAGAAAABgAAAAYAAAAGAAAABgAAAAYAAAAGAAAABgAAAAYAAAAGAAAABgAAAAYAAAAFAAAABQAAAAUAAAAGAAAABgAAAAYAAAAGAAAABgAAAAYAAAAGAAAABgAAAAYAAAAGAAAABgAAAAYAAAAGAAAABgAAAAYAAAAGAAAABgAAAAYAAAAGAAAABgAAAAYAAAAGAAAABgAAAAYAAAAFAAAABQAAAAUAAAAFAAAABQAAAAUAAAAFAAAABQAAAAUAAAACAAAAAgAAAAIAAAACAAAAAgAAAAIAAAACAAAAAgAAAAIAAAACAAAAAgAAAAIAAAAGAAAABgAAAAYAAAAAAAAAAAAAAAAAAAAAAAAAAAAAAAAAAAAAAAAAAAAAAAAAAAAAAAAAAAAAAAAAAAAFAAAABQAAAAUAAAAFAAAABQAAAAUAAAAFAAAABQAAAAUAAAAGAAAABgAAAAYAAAACAAAAAgAAAAIAAAAAAAAAAAAAAAAAAAAAAAAAAAAAAAAAAAAAAAAAAAAAAAAAAAAAAAAAAAAAAAAAAAAFAAAABQAAAAUAAAAFAAAABQAAAAUAAAAFAAAABQAAAAUAAAAFAAAABQAAAAUAAAAFAAAABQAAAAUAAAAFAAAABQAAAAUAAAACAAAAAgAAAAIAAAAGAAAABgAAAAYAAAAEAAAABAAAAAQAAAAEAAAABAAAAAQAAAAEAAAABAAAAAQAAAAEAAAABAAAAAQAAAACAAAAAgAAAAIAAAACAAAAAgAAAAIAAAACAAAAAgAAAAIAAAAFAAAABQAAAAUAAAAAAAAAAAAAAAAAAAAFAAAABQAAAAUAAAAFAAAABQAAAAUAAAAAAAAAAAAAAAAAAAAFAAAABQAAAAUAAAAFAAAABQAAAAUAAAAAAAAAAAAAAAAAAAAFAAAABQAAAAUAAAAFAAAABQAAAAUAAAAAAAAAAAAAAAAAAAAFAAAABQAAAAUAAAAGAAAABgAAAAYAAAACAAAAAgAAAAIAAAACAAAABgAAAAYAAAAGAAAABgAAAAYAAAAGAAAABgAAAAYAAAAGAAAABgAAAAYAAAAGAAAABgAAAAYAAAAGAAAABgAAAAYAAAAGAAAABgAAAAYAAAAGAAAABQAAAAUAAAAFAAAABgAAAAYAAAAGAAAAAAAAAAAAAAAAAAAABQAAAAUAAAAFAAAABQAAAAUAAAAFAAAABQAAAAUAAAAFAAAAAgAAAAIAAAACAAAABQAAAAUAAAAFAAAABQAAAAUAAAAFAAAABQAAAAUAAAAFAAAABQAAAAUAAAAFAAAABQAAAAUAAAAFAAAAAAAAAAAAAAAAAAAAAAAAAAAAAAAAAAAAAAAAAAAAAAAAAAAAAAAAAAAAAAAAAAAABgAAAAYAAAAGAAAABgAAAAYAAAAGAAAABQAAAAUAAAAFAAAABQAAAAUAAAAFAAAABgAAAAYAAAAGAAAAAgAAAAIAAAACAAAAAgAAAAIAAAACAAAAAgAAAAIAAAACAAAAAgAAAAIAAAACAAAAAgAAAAIAAAACAAAAAgAAAAIAAAACAAAAAgAAAAIAAAACAAAABQAAAAUAAAAFAAAABQAAAAUAAAAFAAAABQAAAAUAAAAFAAAABQAAAAUAAAAFAAAABQAAAAUAAAAFAAAABQAAAAUAAAAFAAAABgAAAAYAAAAGAAAABgAAAAYAAAAGAAAABgAAAAYAAAAGAAAABgAAAAYAAAAGAAAABQAAAAUAAAAFAAAAAgAAAAIAAAACAAAAAgAAAAIAAAACAAAAAgAAAAIAAAACAAAAAgAAAAIAAAACAAAAAgAAAAIAAAACAAAAAgAAAAIAAAACAAAABgAAAAYAAAAGAAAABgAAAAYAAAAGAAAABgAAAAYAAAAGAAAABgAAAAYAAAAGAAAABgAAAAYAAAAGAAAABgAAAAYAAAAGAAAAAgAAAAIAAAACAAAAAgAAAAIAAAACAAAAAAAAAAAAAAAAAAAAAAAAAAAAAAAAAAAAAAAAAAAAAAAAAAAAAAAAAAAAAAAAAAAAAgAAAAIAAAACAAAAAgAAAAIAAAACAAAABQAAAAUAAAAFAAAAAAAAAAAAAAAAAAAAAAAAAAAAAAAAAAAAAAAAAAAAAAAAAAAAAAAAAAAAAAAAAAAABQAAAAUAAAAFAAAABQAAAAUAAAAFAAAABQAAAAUAAAAFAAAABQAAAAUAAAAFAAAABgAAAAYAAAAGAAAABgAAAAYAAAAGAAAABgAAAAYAAAAGAAAABQAAAAUAAAAFAAAABQAAAAUAAAAFAAAABQAAAAUAAAAFAAAABQAAAAUAAAAFAAAAAAAAAAAAAAAAAAAABgAAAAYAAAAGAAAABgAAAAYAAAAGAAAABQAAAAUAAAAFAAAAAgAAAAIAAAACAAAABgAAAAYAAAAGAAAABgAAAAYAAAAGAAAAAgAAAAIAAAACAAAABQAAAAUAAAAFAAAABQAAAAUAAAAFAAAABQAAAAUAAAAFAAAABQAAAAUAAAAFAAAABQAAAAUAAAAFAAAABQAAAAUAAAAFAAAABQAAAAUAAAAFAAAABQAAAAUAAAAFAAAAAAAAAAAAAAAAAAAAAAAAAAAAAAAAAAAAAAAAAAAAAAAAAAAAAAAAAAAAAAAAAAAABQAAAAUAAAAFAAAABQAAAAUAAAAFAAAABQAAAAUAAAAFAAAABQAAAAUAAAAFAAAABQAAAAUAAAAFAAAABQAAAAUAAAAFAAAABQAAAAUAAAAFAAAABQAAAAUAAAAFAAAABQAAAAUAAAAFAAAABgAAAAYAAAAGAAAABgAAAAYAAAAGAAAABgAAAAYAAAAGAAAABQAAAAUAAAAFAAAAAgAAAAIAAAACAAAAAgAAAAIAAAACAAAABQAAAAUAAAAFAAAABQAAAAUAAAAFAAAABQAAAAUAAAAFAAAAAAAAAAAAAAAAAAAAAAAAAAAAAAAAAAAAAAAAAAAAAAAAAAAAAAAAAAAAAAAAAAAAAAAAAAAAAAAAAAAAAAAAAAAAAAAAAAAAAAAAAAAAAAAAAAAAAAAAAAAAAAAAAAAABgAAAAYAAAAGAAAABgAAAAYAAAAGAAAABgAAAAYAAAAGAAAAAAAAAAAAAAAAAAAABgAAAAYAAAAGAAAABgAAAAYAAAAGAAAABgAAAAYAAAAGAAAABgAAAAYAAAAGAAAABQAAAAUAAAAFAAAAAgAAAAIAAAACAAAAAgAAAAIAAAACAAAAAgAAAAIAAAACAAAAAgAAAAIAAAACAAAAAgAAAAIAAAACAAAAAgAAAAIAAAACAAAAAgAAAAIAAAACAAAABQAAAAUAAAAFAAAABQAAAAUAAAAFAAAABQAAAAUAAAAFAAAABQAAAAUAAAAFAAAAAgAAAAIAAAACAAAAAgAAAAIAAAACAAAABgAAAAYAAAAGAAAAAgAAAAIAAAACAAAABQAAAAUAAAAFAAAABQAAAAUAAAAFAAAABQAAAAUAAAAFAAAABQAAAAUAAAAFAAAABQAAAAUAAAAFAAAAAAAAAAAAAAAAAAAAAAAAAAAAAAAAAAAAAAAAAAAAAAAAAAAABQAAAAUAAAAFAAAAAgAAAAIAAAACAAAAAgAAAAIAAAACAAAABQAAAAUAAAAFAAAABQAAAAUAAAAFAAAABQAAAAUAAAAFAAAABQAAAAUAAAAFAAAABgAAAAYAAAAGAAAABQAAAAUAAAAFAAAAAAAAAAAAAAAAAAAABQAAAAUAAAAFAAAABQAAAAUAAAAFAAAABQAAAAUAAAAFAAAABQAAAAUAAAAFAAAAAAAAAAAAAAAAAAAAAAAAAAAAAAAAAAAAAAAAAAAAAAAAAAAABQAAAAUAAAAFAAAABQAAAAUAAAAFAAAABQAAAAUAAAAFAAAABgAAAAYAAAAGAAAABgAAAAYAAAAGAAAABQAAAAUAAAAFAAAABQAAAAUAAAAFAAAABQAAAAUAAAAFAAAABQAAAAUAAAAFAAAABQAAAAUAAAAFAAAABQAAAAUAAAAFAAAABQAAAAUAAAAFAAAABQAAAAUAAAAFAAAABQAAAAUAAAAFAAAABQAAAAUAAAAFAAAABQAAAAUAAAAFAAAAAgAAAAIAAAACAAAABgAAAAYAAAAGAAAABgAAAAYAAAAGAAAABgAAAAYAAAAGAAAABgAAAAYAAAAGAAAAAAAAAAAAAAAAAAAAAAAAAAAAAAAAAAAAAAAAAAAAAAAAAAAABgAAAAYAAAAGAAAABgAAAAYAAAAGAAAABgAAAAYAAAAGAAAAAgAAAAIAAAACAAAAAgAAAAIAAAACAAAAAgAAAAIAAAACAAAAAgAAAAIAAAACAAAAAgAAAAIAAAACAAAAAgAAAAIAAAACAAAABgAAAAYAAAAGAAAABgAAAAYAAAAGAAAABQAAAAUAAAAFAAAAAAAAAAAAAAAAAAAAAAAAAAAAAAAAAAAAAAAAAAAAAAAAAAAAAgAAAAIAAAACAAAAAAAAAAAAAAAAAAAAAAAAAAAAAAAAAAAAAAAAAAAAAAAAAAAAAAAAAAAAAAAAAAAAAgAAAAIAAAACAAAAAgAAAAIAAAACAAAAAgAAAAIAAAACAAAABQAAAAUAAAAFAAAABQAAAAUAAAAFAAAABQAAAAUAAAAFAAAABQAAAAUAAAAFAAAABQAAAAUAAAAFAAAABQAAAAUAAAAFAAAABQAAAAUAAAAFAAAABQAAAAUAAAAFAAAABQAAAAUAAAAFAAAABQAAAAUAAAAFAAAABQAAAAUAAAAFAAAABQAAAAUAAAAFAAAABQAAAAUAAAAFAAAABQAAAAUAAAAFAAAAAAAAAAAAAAAAAAAABQAAAAUAAAAFAAAABgAAAAYAAAAGAAAABgAAAAYAAAAGAAAABgAAAAYAAAAGAAAABQAAAAUAAAAFAAAABQAAAAUAAAAFAAAABQAAAAUAAAAFAAAABQAAAAUAAAAFAAAABQAAAAUAAAAFAAAAAAAAAAAAAAAAAAAAAAAAAAAAAAAAAAAAAAAAAAAAAAAAAAAAAAAAAAAAAAAAAAAABgAAAAYAAAAGAAAABgAAAAYAAAAGAAAABgAAAAYAAAAGAAAABgAAAAYAAAAGAAAABgAAAAYAAAAGAAAABgAAAAYAAAAGAAAABgAAAAYAAAAGAAAAAAAAAAAAAAAAAAAAAAAAAAAAAAAAAAAAAAAAAAAAAAAAAAAAAAAAAAAAAAAAAAAAAgAAAAIAAAACAAAAAAAAAAAAAAAAAAAAAAAAAAAAAAAAAAAAAAAAAAAAAAAAAAAAAAAAAAAAAAAAAAAABQAAAAUAAAAFAAAABQAAAAUAAAAFAAAABQAAAAUAAAAFAAAABQAAAAUAAAAFAAAABQAAAAUAAAAFAAAABQAAAAUAAAAFAAAABQAAAAUAAAAFAAAABQAAAAUAAAAFAAAABQAAAAUAAAAFAAAAAAAAAAAAAAAAAAAABQAAAAUAAAAFAAAABQAAAAUAAAAFAAAABQAAAAUAAAAFAAAABQAAAAUAAAAFAAAABQAAAAUAAAAFAAAAAgAAAAIAAAACAAAAAgAAAAIAAAACAAAAAgAAAAYAAAAGAAAABgAAAAIAAAACAAAAAgAAAAIAAAACAAAAAgAAAAYAAAAGAAAABgAAAAUAAAAFAAAABQAAAAAAAAAAAAAAAAAAAAYAAAAGAAAABgAAAAYAAAAGAAAABgAAAAYAAAAGAAAABgAAAAUAAAAFAAAABQAAAAUAAAAFAAAABQAAAAUAAAAFAAAABQAAAAUAAAAFAAAABQAAAAUAAAAFAAAABQAAAAUAAAAFAAAABQAAAAUAAAAFAAAABQAAAAUAAAAFAAAABQAAAAUAAAAFAAAABQAAAAUAAAAFAAAABQAAAAUAAAAFAAAABQAAAAUAAAAFAAAABQAAAAUAAAAFAAAABQAAAAAAAAAAAAAAAAAAAAYAAAAGAAAABgAAAAYAAAAGAAAABgAAAAYAAAAGAAAABgAAAAYAAAAGAAAABgAAAAUAAAAFAAAABQAAAAIAAAACAAAAAgAAAAUAAAAFAAAABQAAAAUAAAAFAAAABQAAAAYAAAAGAAAABgAAAAYAAAAGAAAABgAAAAYAAAAGAAAABgAAAAYAAAAGAAAABgAAAAIAAAACAAAAAgAAAAAAAAAAAAAAAAAAAAAAAAAAAAAAAAAAAAAAAAAAAAAAAAAAAAUAAAAFAAAABQAAAAUAAAAFAAAABQAAAAUAAAAFAAAABQAAAAUAAAAFAAAABQAAAAUAAAAFAAAABQAAAAUAAAAFAAAABQAAAAUAAAAFAAAABQAAAAUAAAAFAAAABQAAAAUAAAAFAAAABQAAAAUAAAAFAAAABQAAAAYAAAAGAAAABgAAAAYAAAAGAAAABgAAAAYAAAAGAAAABgAAAAYAAAAGAAAABgAAAAUAAAAFAAAABQAAAAUAAAAFAAAABQAAAAUAAAAFAAAABQAAAAUAAAAFAAAABQAAAAUAAAAFAAAABQAAAAUAAAAFAAAABQAAAAUAAAAFAAAABQAAAAUAAAAFAAAABQAAAAUAAAAFAAAABQAAAAUAAAAFAAAABQAAAAYAAAAGAAAABgAAAAIAAAACAAAAAgAAAAIAAAACAAAAAgAAAAIAAAACAAAAAgAAAAIAAAACAAAAAgAAAAIAAAACAAAAAgAAAAIAAAACAAAAAgAAAAUAAAAFAAAABQAAAAYAAAAGAAAABgAAAAYAAAAGAAAABgAAAAYAAAAGAAAABgAAAAEAAAABAAAAAQAAAAEAAAABAAAAAQAAAAEAAAABAAAAAQAAAAEAAAABAAAAAQAAAAUAAAAFAAAABQAAAAUAAAAFAAAABQAAAAUAAAAFAAAABQAAAAUAAAAFAAAABQAAAAUAAAAFAAAABQAAAAUAAAAFAAAABQAAAAUAAAAFAAAABQAAAAAAAAAAAAAAAAAAAAYAAAAGAAAABgAAAAAAAAAAAAAAAAAAAAAAAAAAAAAAAAAAAAAAAAAAAAAAAAAAAAIAAAACAAAAAgAAAAUAAAAFAAAABQAAAAUAAAAFAAAABQAAAAUAAAAFAAAABQAAAAUAAAAFAAAABQAAAAUAAAAFAAAABQAAAAUAAAAFAAAABQAAAAUAAAAFAAAABQAAAAUAAAAFAAAABQAAAAUAAAAFAAAABQAAAAUAAAAFAAAABQAAAAUAAAAFAAAABQAAAAUAAAAFAAAABQAAAAIAAAACAAAAAgAAAAAAAAAAAAAAAAAAAAIAAAACAAAAAgAAAAUAAAAFAAAABQAAAAUAAAAFAAAABQAAAAUAAAAFAAAABQAAAAUAAAAFAAAABQAAAAYAAAAGAAAABgAAAAUAAAAFAAAABQAAAAUAAAAFAAAABQAAAAIAAAACAAAAAgAAAAIAAAACAAAAAgAAAAIAAAACAAAAAgAAAAIAAAACAAAAAgAAAAIAAAACAAAAAgAAAAIAAAACAAAAAgAAAAYAAAAGAAAABgAAAAYAAAAGAAAABgAAAAYAAAAGAAAABgAAAAYAAAAGAAAABgAAAAUAAAAFAAAABQAAAAYAAAAGAAAABgAAAAYAAAAGAAAABgAAAAYAAAAGAAAABgAAAAYAAAAGAAAABgAAAAIAAAACAAAAAgAAAAYAAAAGAAAABgAAAAYAAAAGAAAABgAAAAIAAAACAAAAAgAAAAUAAAAFAAAABQAAAAUAAAAFAAAABQAAAAUAAAAFAAAABQAAAAUAAAAFAAAABQAAAAUAAAAFAAAABQAAAAIAAAACAAAAAgAAAAAAAAAAAAAAAAAAAAAAAAAAAAAAAAAAAAAAAAAAAAAAAAAAAAUAAAAFAAAABQAAAAUAAAAFAAAABQAAAAUAAAAFAAAABQAAAAUAAAAFAAAABQAAAAAAAAAAAAAAAAAAAAAAAAAAAAAAAAAAAAAAAAAAAAAAAAAAAAUAAAAFAAAABQAAAAIAAAACAAAAAgAAAAIAAAACAAAAAgAAAAIAAAACAAAAAgAAAAIAAAACAAAAAgAAAAIAAAACAAAAAgAAAAIAAAACAAAAAgAAAAYAAAAGAAAABgAAAAYAAAAGAAAABgAAAAYAAAAGAAAABgAAAAUAAAAFAAAABQAAAAUAAAAFAAAABQAAAAUAAAAFAAAABQAAAAAAAAAAAAAAAAAAAAAAAAAAAAAAAAAAAAAAAAAAAAAAAAAAAAAAAAAAAAAAAAAAAAIAAAACAAAAAgAAAAAAAAAAAAAAAAAAAAAAAAAAAAAAAAAAAAAAAAAAAAAAAAAAAAAAAAAAAAAAAAAAAAUAAAAFAAAABQAAAAUAAAAFAAAABQAAAAUAAAAFAAAABQAAAAUAAAAFAAAABQAAAAUAAAAFAAAABQAAAAUAAAAFAAAABQAAAAUAAAAFAAAABQAAAAUAAAAFAAAABQAAAAUAAAAFAAAABQAAAAUAAAAFAAAABQAAAAIAAAACAAAAAgAAAAUAAAAFAAAABQAAAAUAAAAFAAAABQAAAAUAAAAFAAAABQAAAAUAAAAFAAAABQAAAAIAAAACAAAAAgAAAAAAAAAAAAAAAAAAAAUAAAAFAAAABQAAAAUAAAAFAAAABQAAAAYAAAAGAAAABgAAAAYAAAAGAAAABgAAAAUAAAAFAAAABQAAAAUAAAAFAAAABQAAAAUAAAAFAAAABQAAAAUAAAAFAAAABQAAAAIAAAACAAAAAgAAAAAAAAAAAAAAAAAAAAAAAAAAAAAAAAAAAAAAAAAAAAAAAAAAAAIAAAACAAAAAgAAAAUAAAAFAAAABQAAAAIAAAACAAAAAgAAAAAAAAAAAAAAAAAAAAUAAAAFAAAABQAAAAUAAAAFAAAABQAAAAUAAAAFAAAABQAAAAUAAAAFAAAABQAAAAUAAAAFAAAABQAAAAUAAAAFAAAABQAAAAUAAAAFAAAABQAAAAUAAAAFAAAABQAAAAYAAAAGAAAABgAAAAIAAAACAAAAAgAAAAYAAAAGAAAABgAAAAYAAAAGAAAABgAAAAYAAAAGAAAABgAAAAIAAAACAAAAAgAAAAIAAAACAAAAAgAAAAYAAAAGAAAABgAAAAUAAAAFAAAABQAAAAUAAAAFAAAABQAAAAUAAAAFAAAABQAAAAUAAAAFAAAABQAAAAUAAAAFAAAABQAAAAUAAAAFAAAABQAAAAUAAAAFAAAABQAAAAEAAAABAAAAAQAAAAEAAAABAAAAAQAAAAEAAAABAAAAAQAAAAEAAAABAAAAAQAAAAYAAAAGAAAABgAAAAYAAAAGAAAABgAAAAYAAAAGAAAABgAAAAYAAAAGAAAABgAAAAUAAAAFAAAABQAAAAUAAAAFAAAABQAAAAUAAAAFAAAABQAAAAUAAAAFAAAABQAAAAUAAAAFAAAABQAAAAUAAAAFAAAABQAAAAUAAAAFAAAABQAAAAYAAAAGAAAABgAAAAYAAAAGAAAABgAAAAUAAAAFAAAABQAAAAYAAAAGAAAABgAAAAYAAAAGAAAABgAAAAYAAAAGAAAABgAAAAYAAAAGAAAABgAAAAYAAAAGAAAABgAAAAYAAAAGAAAABgAAAAUAAAAFAAAABQAAAAIAAAACAAAAAgAAAAUAAAAFAAAABQAAAAAAAAAAAAAAAAAAAAYAAAAGAAAABgAAAAYAAAAGAAAABgAAAAYAAAAGAAAABgAAAAYAAAAGAAAABgAAAAIAAAACAAAAAgAAAAIAAAACAAAAAgAAAAIAAAACAAAAAgAAAAIAAAACAAAAAgAAAAIAAAACAAAAAgAAAAIAAAACAAAAAgAAAAYAAAAGAAAABgAAAAYAAAAGAAAABgAAAAYAAAAGAAAABgAAAAYAAAAGAAAABgAAAAUAAAAFAAAABQAAAAUAAAAFAAAABQAAAAUAAAAFAAAABQAAAAUAAAAFAAAABQAAAAUAAAAFAAAABQAAAAUAAAAFAAAABQAAAAUAAAAFAAAABQAAAAYAAAAGAAAABgAAAAYAAAAGAAAABgAAAAYAAAAGAAAABgAAAAYAAAAGAAAABgAAAAAAAAAAAAAAAAAAAAAAAAAAAAAAAAAAAAAAAAAAAAAAAAAAAAAAAAAAAAAAAAAAAAAAAAAAAAAAAAAAAAAAAAAAAAAAAAAAAAAAAAAAAAAAAAAAAAAAAAAAAAAAAAAAAAIAAAACAAAAAgAAAAUAAAAFAAAABQAAAAUAAAAFAAAABQAAAAUAAAAFAAAABQAAAAYAAAAGAAAABgAAAAYAAAAGAAAABgAAAAUAAAAFAAAABQAAAAUAAAAFAAAABQAAAAUAAAAFAAAABQAAAAUAAAAFAAAABQAAAAYAAAAGAAAABgAAAAYAAAAGAAAABgAAAAIAAAACAAAAAgAAAAUAAAAFAAAABQAAAAUAAAAFAAAABQAAAAUAAAAFAAAABQAAAAUAAAAFAAAABQAAAAUAAAAFAAAABQAAAAUAAAAFAAAABQAAAAUAAAAFAAAABQAAAAIAAAACAAAAAgAAAAUAAAAFAAAABQAAAAUAAAAFAAAABQAAAAUAAAAFAAAABQAAAAUAAAAFAAAABQAAAAUAAAAFAAAABQAAAAUAAAAFAAAABQAAAAEAAAABAAAAAQAAAAEAAAABAAAAAQAAAAEAAAABAAAAAQAAAAEAAAABAAAAAQAAAAUAAAAFAAAABQAAAAYAAAAGAAAABgAAAAYAAAAGAAAABgAAAAYAAAAGAAAABgAAAAYAAAAGAAAABgAAAAYAAAAGAAAABgAAAAYAAAAGAAAABgAAAAYAAAAGAAAABgAAAAYAAAAGAAAABgAAAAUAAAAFAAAABQAAAAUAAAAFAAAABQAAAAUAAAAFAAAABQAAAAUAAAAFAAAABQAAAAAAAAAAAAAAAAAAAAIAAAACAAAAAgAAAAIAAAACAAAAAgAAAAUAAAAFAAAABQAAAAUAAAAFAAAABQAAAAUAAAAFAAAABQAAAAUAAAAFAAAABQAAAAUAAAAFAAAABQAAAAUAAAAFAAAABQAAAAEAAAABAAAAAQAAAAYAAAAGAAAABgAAAAYAAAAGAAAABgAAAAYAAAAGAAAABgAAAAYAAAAGAAAABgAAAAIAAAACAAAAAgAAAAAAAAAAAAAAAAAAAAAAAAAAAAAAAAAAAAAAAAAAAAAAAAAAAAIAAAACAAAAAgAAAAAAAAAAAAAAAAAAAAIAAAACAAAAAgAAAAIAAAACAAAAAgAAAAIAAAACAAAAAgAAAAIAAAACAAAAAgAAAAYAAAAGAAAABgAAAAUAAAAFAAAABQAAAAAAAAAAAAAAAAAAAAUAAAAFAAAABQAAAAUAAAAFAAAABQAAAAIAAAACAAAAAgAAAAAAAAAAAAAAAAAAAAAAAAAAAAAAAAAAAAAAAAAAAAAAAAAAAAIAAAACAAAAAgAAAAIAAAACAAAAAgAAAAIAAAACAAAAAgAAAAUAAAAFAAAABQAAAAYAAAAGAAAABgAAAAYAAAAGAAAABgAAAAYAAAAGAAAABgAAAAYAAAAGAAAABgAAAAIAAAACAAAAAgAAAAUAAAAFAAAABQAAAAIAAAACAAAAAgAAAAIAAAACAAAAAgAAAAIAAAACAAAAAgAAAAIAAAACAAAAAgAAAAIAAAACAAAAAgAAAAIAAAACAAAAAgAAAAYAAAAGAAAABgAAAAUAAAAFAAAABQAAAAUAAAAFAAAABQAAAAUAAAAFAAAABQAAAAUAAAAFAAAABQAAAAEAAAABAAAAAQAAAAEAAAABAAAAAQAAAAEAAAABAAAAAQAAAAEAAAABAAAAAQAAAAUAAAAFAAAABQAAAAUAAAAFAAAABQAAAAUAAAAFAAAABQAAAAYAAAAGAAAABgAAAAcAAAAHAAAABwAAAAcAAAAHAAAABwAAAAcAAAAHAAAABwAAAAcAAAAHAAAABwAAAAcAAAAHAAAABwAAAAcAAAAHAAAABwAAAAEAAAABAAAAAQAAAAEAAAABAAAAAQAAAAEAAAABAAAAAQAAAAEAAAABAAAAAQAAAAEAAAABAAAAAQAAAAEAAAABAAAAAQAAAAEAAAABAAAAAQAAAAEAAAABAAAAAQAAAAEAAAABAAAAAQAAAAEAAAABAAAAAQAAAAYAAAAGAAAABgAAAAIAAAACAAAAAgAAAAIAAAACAAAAAgAAAAIAAAACAAAAAgAAAAIAAAACAAAAAgAAAAIAAAACAAAAAgAAAAIAAAACAAAAAgAAAAYAAAAGAAAABgAAAAIAAAACAAAAAgAAAAIAAAACAAAAAgAAAAYAAAAGAAAABgAAAAUAAAAFAAAABQAAAAUAAAAFAAAABQAAAAUAAAAFAAAABQAAAAUAAAAFAAAABQAAAAUAAAAFAAAABQAAAAUAAAAFAAAABQAAAAIAAAACAAAAAgAAAAUAAAAFAAAABQAAAAYAAAAGAAAABgAAAAYAAAAGAAAABgAAAAYAAAAGAAAABgAAAAYAAAAGAAAABgAAAAYAAAAGAAAABgAAAAYAAAAGAAAABgAAAAYAAAAGAAAABgAAAAYAAAAGAAAABgAAAAYAAAAGAAAABgAAAAYAAAAGAAAABgAAAAUAAAAFAAAABQAAAAAAAAAAAAAAAAAAAAUAAAAFAAAABQAAAAUAAAAFAAAABQAAAAAAAAAAAAAAAAAAAAUAAAAFAAAABQAAAAUAAAAFAAAABQAAAAAAAAAAAAAAAAAAAAUAAAAFAAAABQAAAAUAAAAFAAAABQAAAAAAAAAAAAAAAAAAAAUAAAAFAAAABQAAAAUAAAAFAAAABQAAAAUAAAAFAAAABQAAAAUAAAAFAAAABQAAAAEAAAABAAAAAQAAAAEAAAABAAAAAQAAAAEAAAABAAAAAQAAAAEAAAABAAAAAQAAAAEAAAABAAAAAQAAAAYAAAAGAAAABgAAAAYAAAAGAAAABgAAAAYAAAAGAAAABgAAAAYAAAAGAAAABgAAAAYAAAAGAAAABgAAAAYAAAAGAAAABgAAAAIAAAACAAAAAgAAAAIAAAACAAAAAgAAAAAAAAAAAAAAAAAAAAAAAAAAAAAAAAAAAAAAAAAAAAAAAAAAAAAAAAAAAAAAAAAAAAEAAAABAAAAAQAAAAEAAAABAAAAAQAAAAEAAAABAAAAAQAAAAEAAAABAAAAAQAAAAcAAAAHAAAABwAAAAcAAAAHAAAABwAAAAcAAAAHAAAABwAAAAcAAAAHAAAABwAAAAcAAAAHAAAABwAAAAUAAAAFAAAABQAAAAUAAAAFAAAABQAAAAUAAAAFAAAABQAAAAIAAAACAAAAAgAAAAYAAAAGAAAABgAAAAYAAAAGAAAABgAAAAIAAAACAAAAAgAAAAAAAAAAAAAAAAAAAAAAAAAAAAAAAAAAAAAAAAAAAAAAAAAAAAAAAAAAAAAAAAAAAAUAAAAFAAAABQAAAAYAAAAGAAAABgAAAAAAAAAAAAAAAAAAAAIAAAACAAAAAgAAAAIAAAACAAAAAgAAAAcAAAAHAAAABwAAAAUAAAAFAAAABQAAAAEAAAABAAAAAQAAAAIAAAACAAAAAgAAAAUAAAAFAAAABQAAAAUAAAAFAAAABQAAAAIAAAACAAAAAgAAAAUAAAAFAAAABQAAAAUAAAAFAAAABQAAAAUAAAAFAAAABQAAAAUAAAAFAAAABQAAAAUAAAAFAAAABQAAAAUAAAAFAAAABQAAAAUAAAAFAAAABQAAAAUAAAAFAAAABQAAAAUAAAAFAAAABQAAAAUAAAAFAAAABQAAAAUAAAAFAAAABQAAAAUAAAAFAAAABQAAAAIAAAACAAAAAgAAAAIAAAACAAAAAgAAAAAAAAAAAAAAAAAAAAAAAAAAAAAAAAAAAAAAAAAAAAAAAAAAAAYAAAAGAAAABgAAAAUAAAAFAAAABQAAAAUAAAAFAAAABQAAAAUAAAAFAAAABQAAAAUAAAAFAAAABQAAAAIAAAACAAAAAgAAAAUAAAAFAAAABQAAAAYAAAAGAAAABgAAAAYAAAAGAAAABgAAAAAAAAAAAAAAAAAAAAUAAAAFAAAABQAAAAUAAAAFAAAABQAAAAUAAAAFAAAABQAAAAIAAAACAAAAAgAAAAIAAAACAAAAAgAAAAIAAAACAAAAAgAAAAIAAAACAAAAAgAAAAIAAAACAAAAAgAAAAIAAAACAAAAAgAAAAIAAAACAAAAAgAAAAYAAAAGAAAABgAAAAYAAAAGAAAABgAAAAYAAAAGAAAABgAAAAYAAAAGAAAABgAAAAIAAAACAAAAAgAAAAIAAAACAAAAAgAAAAIAAAACAAAAAgAAAAIAAAACAAAAAgAAAAIAAAACAAAAAgAAAAIAAAACAAAAAgAAAAYAAAAGAAAABgAAAAUAAAAFAAAABQAAAAUAAAAFAAAABQAAAAUAAAAFAAAABQAAAAUAAAAFAAAABQAAAAUAAAAFAAAABQAAAAUAAAAFAAAABQAAAAYAAAAGAAAABgAAAAYAAAAGAAAABgAAAAYAAAAGAAAABgAAAAYAAAAGAAAABgAAAAIAAAACAAAAAgAAAAUAAAAFAAAABQAAAAUAAAAFAAAABQAAAAUAAAAFAAAABQAAAAIAAAACAAAAAgAAAAUAAAAFAAAABQAAAAUAAAAFAAAABQAAAAUAAAAFAAAABQAAAAUAAAAFAAAABQAAAAUAAAAFAAAABQAAAAUAAAAFAAAABQAAAAUAAAAFAAAABQAAAAUAAAAFAAAABQAAAAUAAAAFAAAABQAAAAUAAAAFAAAABQAAAAUAAAAFAAAABQAAAAAAAAAAAAAAAAAAAAEAAAABAAAAAQAAAAEAAAABAAAAAQAAAAEAAAABAAAAAQAAAAEAAAABAAAAAQAAAAEAAAABAAAAAQAAAAYAAAAGAAAABgAAAAYAAAAGAAAABgAAAAIAAAACAAAAAgAAAAIAAAACAAAAAgAAAAAAAAAAAAAAAAAAAAAAAAAAAAAAAAAAAAAAAAAAAAAAAAAAAAUAAAAFAAAABQAAAAcAAAAHAAAABwAAAAYAAAAGAAAABgAAAAYAAAAGAAAABgAAAAAAAAAAAAAAAAAAAAIAAAAAAAAAAgAAAAIAAAAAAAAAAgAAAAIAAAAAAAAAAgAAAAIAAAAAAAAAAgAAAAIAAAACAAAAAgAAAAIAAAACAAAAAgAAAAYAAAAGAAAABgAAAAIAAAACAAAAAgAAAAAAAAAAAAAAAAAAAAAAAAAAAAAAAAAAAAAAAAAAAAAAAAAAAAYAAAAGAAAABgAAAAUAAAAFAAAABQAAAAUAAAAFAAAABQAAAAUAAAAFAAAABQAAAAUAAAAFAAAABQAAAAUAAAAFAAAABQAAAAUAAAAFAAAABQAAAAUAAAAFAAAABQAAAAIAAAACAAAAAgAAAAIAAAACAAAAAgAAAAIAAAACAAAAAgAAAAIAAAACAAAAAgAAAAIAAAACAAAAAgAAAAIAAAACAAAAAgAAAAIAAAACAAAAAgAAAAYAAAAGAAAABgAAAAUAAAAFAAAABQAAAAYAAAAGAAAABgAAAAYAAAAGAAAABgAAAAYAAAAGAAAABgAAAAEAAAABAAAAAQAAAAEAAAABAAAAAQAAAAEAAAABAAAAAQAAAAEAAAABAAAAAQAAAAEAAAABAAAAAQAAAAYAAAAGAAAABgAAAAUAAAAFAAAABQAAAAIAAAACAAAAAgAAAAUAAAAFAAAABQAAAAUAAAAFAAAABQAAAAUAAAAFAAAABQAAAAUAAAAFAAAABQAAAAIAAAACAAAAAgAAAAIAAAACAAAAAgAAAAIAAAACAAAAAgAAAAIAAAACAAAAAgAAAAIAAAACAAAAAgAAAAIAAAACAAAAAgAAAAIAAAACAAAAAgAAAAYAAAAGAAAABgAAAAIAAAACAAAAAgAAAAIAAAACAAAAAgAAAAIAAAACAAAAAgAAAAIAAAACAAAAAgAAAAUAAAAFAAAABQAAAAUAAAAFAAAABQAAAAUAAAAFAAAABQAAAAUAAAAFAAAABQAAAAUAAAAFAAAABQAAAAUAAAAFAAAABQAAAAYAAAAGAAAABgAAAAYAAAAGAAAABgAAAAYAAAAGAAAABgAAAAYAAAAGAAAABgAAAAEAAAABAAAAAQAAAAEAAAABAAAAAQAAAAEAAAABAAAAAQAAAAEAAAABAAAAAQAAAAYAAAAGAAAABgAAAAUAAAAFAAAABQAAAAUAAAAFAAAABQAAAAUAAAAFAAAABQAAAAUAAAAFAAAABQAAAAIAAAACAAAAAgAAAAIAAAACAAAAAgAAAAIAAAACAAAAAgAAAAIAAAACAAAAAgAAAAIAAAACAAAAAgAAAAIAAAACAAAAAgAAAAEAAAABAAAAAQAAAAEAAAABAAAAAQAAAAEAAAABAAAAAQAAAAEAAAABAAAAAQAAAAEAAAABAAAAAQAAAAUAAAAFAAAABQAAAAAAAAAAAAAAAAAAAAUAAAAFAAAABQAAAAUAAAAFAAAABQAAAAUAAAAFAAAABQAAAAUAAAAFAAAABQAAAAUAAAAFAAAABQAAAAIAAAACAAAAAgAAAAIAAAACAAAAAgAAAAUAAAAFAAAABQAAAAUAAAAFAAAABQAAAAYAAAAGAAAABgAAAAYAAAAGAAAABgAAAAYAAAAGAAAABgAAAAYAAAAGAAAABgAAAAUAAAAFAAAABQAAAAUAAAAFAAAABQAAAAUAAAAFAAAABQAAAAcAAAAHAAAABwAAAAcAAAAHAAAABwAAAAcAAAAHAAAABwAAAAcAAAAHAAAABwAAAAcAAAAHAAAABwAAAAcAAAAHAAAABwAAAAcAAAAHAAAABwAAAAcAAAAHAAAABwAAAAcAAAAHAAAABwAAAAcAAAAHAAAABwAAAAcAAAAHAAAABwAAAAYAAAAGAAAABgAAAAUAAAAFAAAABQAAAAUAAAAFAAAABQAAAAUAAAAFAAAABQAAAAUAAAAFAAAABQAAAAcAAAAHAAAABwAAAAcAAAAHAAAABwAAAAcAAAAHAAAABwAAAAcAAAAHAAAABwAAAAcAAAAHAAAABwAAAAcAAAAHAAAABwAAAAUAAAAFAAAABQAAAAUAAAAFAAAABQAAAAUAAAAFAAAABQAAAAUAAAAFAAAABQAAAAUAAAAFAAAABQAAAAUAAAAFAAAABQAAAAUAAAAFAAAABQAAAAUAAAAFAAAABQAAAAAAAAAAAAAAAAAAAAAAAAAAAAAAAAAAAAAAAAAAAAAAAAAAAAAAAAAAAAAAAAAAAAAAAAAAAAAAAAAAAAAAAAAAAAAAAAAAAAAAAAAAAAAAAAAAAAYAAAAGAAAABgAAAAYAAAAGAAAABgAAAAYAAAAGAAAABgAAAAYAAAAGAAAABgAAAAYAAAAGAAAABgAAAAYAAAAGAAAABgAAAAYAAAAGAAAABgAAAAYAAAAGAAAABgAAAAUAAAAFAAAABQAAAAUAAAAFAAAABQAAAAUAAAAFAAAABQAAAAUAAAAFAAAABQAAAAUAAAAFAAAABQAAAAUAAAAFAAAABQAAAAcAAAAHAAAABwAAAAcAAAAHAAAABwAAAAcAAAAHAAAABwAAAAcAAAAHAAAABwAAAAcAAAAHAAAABwAAAAcAAAAHAAAABwAAAAUAAAAFAAAABQAAAAUAAAAFAAAABQAAAAIAAAACAAAAAgAAAAAAAAAAAAAAAAAAAAAAAAAAAAAAAAAAAAAAAAAAAAAAAAAAAAAAAAAAAAAAAAAAAAIAAAACAAAAAgAAAAUAAAAFAAAABQAAAAUAAAAFAAAABQAAAAcAAAAHAAAABwAAAAYAAAAGAAAABgAAAAYAAAAGAAAABgAAAAIAAAACAAAAAgAAAAUAAAAFAAAABQAAAAUAAAAFAAAABQAAAAUAAAAFAAAABQAAAAUAAAAFAAAABQAAAAUAAAAFAAAABQAAAAIAAAACAAAAAgAAAAUAAAAFAAAABQAAAAUAAAAFAAAABQAAAAYAAAAGAAAABgAAAAUAAAAFAAAABQAAAAUAAAAFAAAABQAAAAUAAAAFAAAABQAAAAUAAAAFAAAABQAAAAUAAAAFAAAABQAAAAUAAAAFAAAABQAAAAYAAAAGAAAABgAAAAEAAAABAAAAAQAAAAEAAAABAAAAAQAAAAEAAAABAAAAAQAAAAEAAAABAAAAAQAAAAEAAAABAAAAAQAAAAAAAAAAAAAAAAAAAAAAAAAAAAAAAAAAAAAAAAAAAAAAAAAAAAIAAAACAAAAAgAAAAIAAAACAAAAAgAAAAIAAAACAAAAAgAAAAYAAAAGAAAABgAAAAIAAAACAAAAAgAAAAIAAAACAAAAAgAAAAUAAAAFAAAABQAAAAUAAAAFAAAABQAAAAEAAAABAAAAAQAAAAEAAAABAAAAAQAAAAEAAAABAAAAAQAAAAIAAAACAAAAAgAAAAYAAAAGAAAABgAAAAIAAAACAAAAAgAAAAEAAAABAAAAAQAAAAEAAAABAAAAAQAAAAEAAAABAAAAAQAAAAYAAAAGAAAABgAAAAIAAAACAAAAAgAAAAIAAAACAAAAAgAAAAUAAAAFAAAABQAAAAUAAAAFAAAABQAAAAIAAAACAAAAAgAAAAIAAAACAAAAAgAAAAYAAAAGAAAABgAAAAYAAAAGAAAABgAAAAYAAAAGAAAABgAAAAYAAAAGAAAABgAAAAUAAAAFAAAABQAAAAAAAAAAAAAAAAAAAAAAAAAAAAAAAAAAAAAAAAAAAAAAAAAAAAAAAAAAAAAAAAAAAAAAAAAAAAAAAAAAAAYAAAAGAAAABgAAAAUAAAAFAAAABQAAAAIAAAACAAAAAgAAAAIAAAACAAAAAgAAAAIAAAACAAAAAgAAAAIAAAACAAAAAgAAAAIAAAACAAAAAgAAAAIAAAACAAAAAgAAAAYAAAAGAAAABgAAAAUAAAAFAAAABQAAAAYAAAAGAAAABgAAAAYAAAAGAAAABgAAAAYAAAAGAAAABgAAAAYAAAAGAAAABgAAAAYAAAAGAAAABgAAAAYAAAAGAAAABgAAAAUAAAAFAAAABQAAAAUAAAAFAAAABQAAAAUAAAAFAAAABQAAAAUAAAAFAAAABQAAAAUAAAAFAAAABQAAAAUAAAAFAAAABQAAAAUAAAAFAAAABQAAAAEAAAABAAAAAQAAAAEAAAABAAAAAQAAAAEAAAABAAAAAQAAAAEAAAABAAAAAQAAAAAAAAAAAAAAAAAAAAEAAAABAAAAAQAAAAEAAAABAAAAAQAAAAEAAAABAAAAAQAAAAIAAAACAAAAAgAAAAUAAAAFAAAABQAAAAUAAAAFAAAABQAAAAUAAAAFAAAABQAAAAUAAAAFAAAABQAAAAUAAAAFAAAABQAAAAUAAAAFAAAABQAAAAUAAAAFAAAABQAAAAUAAAAFAAAABQAAAAcAAAAHAAAABwAAAAUAAAAFAAAABQAAAAUAAAAFAAAABQAAAAUAAAAFAAAABQAAAAIAAAACAAAAAgAAAAUAAAAFAAAABQAAAAUAAAAFAAAABQAAAAUAAAAFAAAABQAAAAUAAAAFAAAABQAAAAUAAAAFAAAABQAAAAUAAAAFAAAABQAAAAUAAAAFAAAABQAAAAUAAAAFAAAABQAAAAUAAAAFAAAABQAAAAUAAAAFAAAABQAAAAIAAAACAAAAAgAAAAUAAAAFAAAABQAAAAUAAAAFAAAABQAAAAcAAAAHAAAABwAAAAUAAAAFAAAABQAAAAUAAAAFAAAABQAAAAIAAAACAAAAAgAAAAIAAAACAAAAAgAAAAUAAAAFAAAABQAAAAUAAAAFAAAABQAAAAUAAAAFAAAABQAAAAIAAAACAAAAAgAAAAUAAAAFAAAABQAAAAUAAAAFAAAABQAAAAcAAAAHAAAABwAAAAAAAAAAAAAAAAAAAAAAAAAAAAAAAAAAAAAAAAAAAAAAAAAAAAUAAAAFAAAABQAAAAUAAAAFAAAABQAAAAUAAAAFAAAABQAAAAIAAAACAAAAAgAAAAUAAAAFAAAABQAAAAUAAAAFAAAABQAAAAUAAAAFAAAABQAAAAUAAAAFAAAABQAAAAUAAAAFAAAABQAAAAYAAAAGAAAABgAAAAYAAAAGAAAABgAAAAYAAAAGAAAABgAAAAYAAAAGAAAABgAAAAUAAAAFAAAABQAAAAUAAAAFAAAABQAAAAUAAAAFAAAABQAAAAUAAAAFAAAABQAAAAUAAAAFAAAABQAAAAUAAAAFAAAABQAAAAYAAAAGAAAABgAAAAYAAAAGAAAABgAAAAYAAAAGAAAABgAAAAYAAAAGAAAABgAAAAUAAAAFAAAABQAAAAUAAAAFAAAABQAAAAUAAAAFAAAABQAAAAUAAAAFAAAABQAAAAUAAAAFAAAABQAAAAUAAAAFAAAABQAAAAUAAAAFAAAABQAAAAUAAAAFAAAABQAAAAIAAAACAAAAAgAAAAIAAAACAAAAAgAAAAIAAAACAAAAAgAAAAIAAAACAAAAAgAAAAIAAAACAAAAAgAAAAIAAAACAAAAAgAAAAYAAAAGAAAABgAAAAYAAAAGAAAABgAAAAUAAAAFAAAABQAAAAAAAAAAAAAAAAAAAAAAAAAAAAAAAAAAAAAAAAAAAAAAAAAAAAUAAAAFAAAABQAAAAEAAAABAAAAAQAAAAEAAAABAAAAAQAAAAEAAAABAAAAAQAAAAEAAAABAAAAAQAAAAUAAAAFAAAABQAAAAUAAAAFAAAABQAAAAUAAAAFAAAABQAAAAUAAAAFAAAABQAAAAYAAAAGAAAABgAAAAYAAAAGAAAABgAAAAYAAAAGAAAABgAAAAYAAAAGAAAABgAAAAUAAAAFAAAABQAAAAUAAAAFAAAABQAAAAYAAAAGAAAABgAAAAYAAAAGAAAABgAAAAYAAAAGAAAABgAAAAIAAAACAAAAAgAAAAIAAAACAAAAAgAAAAIAAAACAAAAAgAAAAIAAAACAAAAAgAAAAIAAAACAAAAAgAAAAIAAAACAAAAAgAAAAYAAAAGAAAABgAAAAYAAAAGAAAABgAAAAUAAAAFAAAABQAAAAUAAAAFAAAABQAAAAUAAAAFAAAABQAAAAUAAAAFAAAABQAAAAUAAAAFAAAABQAAAAIAAAACAAAAAgAAAAIAAAACAAAAAgAAAAUAAAAFAAAABQAAAAIAAAACAAAAAgAAAAYAAAAGAAAABgAAAAIAAAACAAAAAgAAAAIAAAACAAAAAgAAAAUAAAAFAAAABQAAAAIAAAACAAAAAgAAAAYAAAAGAAAABgAAAAUAAAAFAAAABQAAAAUAAAAFAAAABQAAAAUAAAAFAAAABQAAAAUAAAAFAAAABQAAAAUAAAAFAAAABQAAAAUAAAAFAAAABQAAAAUAAAAFAAAABQAAAAUAAAAFAAAABQAAAAUAAAAFAAAABQAAAAYAAAAGAAAABgAAAAYAAAAGAAAABgAAAAEAAAABAAAAAQAAAAEAAAABAAAAAQAAAAEAAAABAAAAAQAAAAEAAAABAAAAAQAAAAYAAAAGAAAABgAAAAYAAAAGAAAABgAAAAYAAAAGAAAABgAAAAYAAAAGAAAABgAAAAUAAAAFAAAABQAAAAUAAAAFAAAABQAAAAUAAAAFAAAABQAAAAUAAAAFAAAABQAAAAUAAAAFAAAABQAAAAUAAAAFAAAABQAAAAIAAAACAAAAAgAAAAYAAAAGAAAABgAAAAYAAAAGAAAABgAAAAIAAAACAAAAAgAAAAIAAAACAAAAAgAAAAYAAAAGAAAABgAAAAYAAAAGAAAABgAAAAYAAAAGAAAABgAAAAYAAAAGAAAABgAAAAAAAAAAAAAAAAAAAAAAAAAAAAAAAAAAAAAAAAAAAAAAAAAAAAAAAAAAAAAAAAAAAAUAAAAFAAAABQAAAAUAAAAFAAAABQAAAAUAAAAFAAAABQAAAAUAAAAFAAAABQAAAAIAAAACAAAAAgAAAAIAAAACAAAAAgAAAAIAAAACAAAAAgAAAAIAAAACAAAAAgAAAAUAAAAFAAAABQAAAAUAAAAFAAAABQAAAAUAAAAFAAAABQAAAAUAAAAFAAAABQAAAAAAAAAAAAAAAAAAAAUAAAAFAAAABQAAAAUAAAAFAAAABQAAAAAAAAAAAAAAAAAAAAUAAAAFAAAABQAAAAUAAAAFAAAABQAAAAAAAAAAAAAAAAAAAAUAAAAFAAAABQAAAAUAAAAFAAAABQAAAAAAAAAAAAAAAAAAAAUAAAAFAAAABQAAAAUAAAAFAAAABQAAAAUAAAAFAAAABQAAAAUAAAAFAAAABQAAAAUAAAAFAAAABQAAAAUAAAAFAAAABQAAAAUAAAAFAAAABQAAAAUAAAAFAAAABQAAAAUAAAAFAAAABQAAAAIAAAACAAAAAgAAAAUAAAAFAAAABQAAAAIAAAACAAAAAgAAAAIAAAACAAAAAgAAAAIAAAACAAAAAgAAAAIAAAACAAAAAgAAAAIAAAACAAAAAgAAAAIAAAACAAAAAgAAAAAAAAAAAAAAAAAAAAAAAAAAAAAAAAAAAAAAAAAAAAAAAAAAAAAAAAAAAAAAAAAAAAUAAAAFAAAABQAAAAUAAAAFAAAABQAAAAEAAAABAAAAAQAAAAEAAAABAAAAAQAAAAEAAAABAAAAAQAAAAEAAAABAAAAAQAAAAYAAAAGAAAABgAAAAYAAAAGAAAABgAAAAYAAAAGAAAABgAAAAYAAAAGAAAABgAAAAIAAAACAAAAAgAAAAUAAAAFAAAABQAAAAUAAAAFAAAABQAAAAUAAAAFAAAABQAAAAUAAAAFAAAABQAAAAUAAAAFAAAABQAAAAUAAAAFAAAABQAAAAUAAAAFAAAABQAAAAUAAAAFAAAABQAAAAYAAAAGAAAABgAAAAYAAAAGAAAABgAAAAIAAAACAAAAAgAAAAAAAAAAAAAAAAAAAAAAAAAAAAAAAAAAAAAAAAAAAAAAAAAAAAAAAAAAAAAAAAAAAAAAAAAAAAAAAAAAAAAAAAAAAAAAAAAAAAAAAAAAAAAAAAAAAAAAAAAAAAAAAAAAAAYAAAAGAAAABgAAAAYAAAAGAAAABgAAAAYAAAAGAAAABgAAAAYAAAAGAAAABgAAAAYAAAAGAAAABgAAAAYAAAAGAAAABgAAAAYAAAAGAAAABgAAAAYAAAAGAAAABgAAAAIAAAACAAAAAgAAAAUAAAAFAAAABQAAAAIAAAACAAAAAgAAAAUAAAAFAAAABQAAAAUAAAAFAAAABQAAAAUAAAAFAAAABQAAAAUAAAAFAAAABQAAAAUAAAAFAAAABQAAAAUAAAAFAAAABQAAAAUAAAAFAAAABQAAAAUAAAAFAAAABQAAAAUAAAAFAAAABQAAAAUAAAAFAAAABQAAAAUAAAAFAAAABQAAAAUAAAAFAAAABQAAAAIAAAACAAAAAgAAAAYAAAAGAAAABgAAAAIAAAACAAAAAgAAAAUAAAAFAAAABQAAAAUAAAAFAAAABQAAAAUAAAAFAAAABQAAAAUAAAAFAAAABQAAAAUAAAAFAAAABQAAAAUAAAAFAAAABQAAAAUAAAAFAAAABQAAAAYAAAAGAAAABgAAAAYAAAAGAAAABgAAAAYAAAAGAAAABgAAAAYAAAAGAAAABgAAAAYAAAAGAAAABgAAAAYAAAAGAAAABgAAAAYAAAAGAAAABgAAAAYAAAAGAAAABgAAAAYAAAAGAAAABgAAAAIAAAACAAAAAgAAAAIAAAACAAAAAgAAAAIAAAACAAAAAgAAAAIAAAACAAAAAgAAAAIAAAACAAAAAgAAAAIAAAACAAAAAgAAAAIAAAACAAAAAgAAAAIAAAACAAAAAgAAAAIAAAACAAAAAgAAAAEAAAABAAAAAQAAAAIAAAACAAAAAgAAAAYAAAAGAAAABgAAAAYAAAAGAAAABgAAAAIAAAACAAAAAgAAAAIAAAACAAAAAgAAAAUAAAAFAAAABQAAAAUAAAAFAAAABQAAAAUAAAAFAAAABQAAAAUAAAAFAAAABQAAAAUAAAAFAAAABQAAAAUAAAAFAAAABQAAAAUAAAAFAAAABQAAAAUAAAAFAAAABQAAAAUAAAAFAAAABQAAAAUAAAAFAAAABQAAAAUAAAAFAAAABQAAAAUAAAAFAAAABQAAAAIAAAACAAAAAgAAAAYAAAAGAAAABgAAAAIAAAACAAAAAgAAAAIAAAACAAAAAgAAAAUAAAAFAAAABQAAAAUAAAAFAAAABQAAAAYAAAAGAAAABgAAAAYAAAAGAAAABgAAAAAAAAAAAAAAAAAAAAAAAAAAAAAAAAAAAAAAAAAAAAAAAAAAAAUAAAAFAAAABQAAAAAAAAAAAAAAAAAAAAUAAAAFAAAABQAAAAUAAAAFAAAABQAAAAAAAAAAAAAAAAAAAAUAAAAFAAAABQAAAAUAAAAFAAAABQAAAAAAAAAAAAAAAAAAAAUAAAAFAAAABQAAAAUAAAAFAAAABQAAAAAAAAAAAAAAAAAAAAUAAAAFAAAABQAAAAEAAAABAAAAAQAAAAIAAAACAAAAAgAAAAYAAAAGAAAABgAAAAEAAAABAAAAAQAAAAUAAAAFAAAABQAAAAIAAAACAAAAAgAAAAIAAAACAAAAAgAAAAIAAAACAAAAAgAAAAUAAAAFAAAABQAAAAUAAAAFAAAABQAAAAUAAAAFAAAABQAAAAUAAAAFAAAABQAAAAUAAAAFAAAABQAAAAUAAAAFAAAABQAAAAUAAAAFAAAABQAAAAcAAAAHAAAABwAAAAcAAAAHAAAABwAAAAcAAAAHAAAABwAAAAcAAAAHAAAABwAAAAcAAAAHAAAABwAAAAAAAAAAAAAAAAAAAAAAAAAAAAAAAAAAAAAAAAAAAAAAAAAAAAEAAAABAAAAAQAAAAEAAAABAAAAAQAAAAEAAAABAAAAAQAAAAEAAAABAAAAAQAAAAEAAAABAAAAAQAAAAEAAAABAAAAAQAAAAIAAAACAAAAAgAAAAUAAAAFAAAABQAAAAUAAAAFAAAABQAAAAUAAAAFAAAABQAAAAUAAAAFAAAABQAAAAAAAAAAAAAAAAAAAAAAAAAAAAAAAAAAAAAAAAAAAAAAAAAAAAAAAAAAAAAAAAAAAAUAAAAFAAAABQAAAAUAAAAFAAAABQAAAAUAAAAFAAAABQAAAAUAAAAFAAAABQAAAAYAAAAGAAAABgAAAAYAAAAGAAAABgAAAAYAAAAGAAAABgAAAAYAAAAGAAAABgAAAAUAAAAFAAAABQAAAAAAAAAAAAAAAAAAAAAAAAAAAAAAAAAAAAAAAAAAAAAAAAAAAAEAAAABAAAAAQAAAAEAAAABAAAAAQAAAAEAAAABAAAAAQAAAAEAAAABAAAAAQAAAAEAAAABAAAAAQAAAAUAAAAFAAAABQAAAAEAAAABAAAAAQAAAAAAAAAAAAAAAAAAAAUAAAAFAAAABQAAAAYAAAAGAAAABgAAAAYAAAAGAAAABgAAAAUAAAAFAAAABQAAAAUAAAAFAAAABQAAAAUAAAAFAAAABQAAAAAAAAAAAAAAAAAAAAAAAAAAAAAAAAAAAAAAAAAAAAAAAAAAAAYAAAAGAAAABgAAAAYAAAAGAAAABgAAAAYAAAAGAAAABgAAAAYAAAAGAAAABgAAAAEAAAABAAAAAQAAAAAAAAAAAAAAAAAAAAAAAAAAAAAAAAAAAAAAAAAAAAAAAAAAAAEAAAABAAAAAQAAAAIAAAACAAAAAgAAAAYAAAAGAAAABgAAAAAAAAAAAAAAAAAAAAIAAAACAAAAAgAAAAIAAAACAAAAAgAAAAEAAAABAAAAAQAAAAEAAAABAAAAAQAAAAEAAAABAAAAAQAAAAEAAAABAAAAAQAAAAEAAAABAAAAAQAAAAUAAAAFAAAABQAAAAUAAAAFAAAABQAAAAUAAAAFAAAABQAAAAYAAAAGAAAABgAAAAYAAAAGAAAABgAAAAYAAAAGAAAABgAAAAYAAAAGAAAABgAAAAYAAAAGAAAABgAAAAYAAAAGAAAABgAAAAIAAAACAAAAAgAAAAIAAAACAAAAAgAAAAUAAAAFAAAABQAAAAUAAAAFAAAABQAAAAUAAAAFAAAABQAAAAUAAAAFAAAABQAAAAUAAAAFAAAABQAAAAUAAAAFAAAABQAAAAIAAAACAAAAAgAAAAIAAAACAAAAAgAAAAAAAAAAAAAAAAAAAAIAAAACAAAAAgAAAAIAAAACAAAAAgAAAAUAAAAFAAAABQAAAAUAAAAFAAAABQAAAAcAAAAHAAAABwAAAAcAAAAHAAAABwAAAAcAAAAHAAAABwAAAAcAAAAHAAAABwAAAAcAAAAHAAAABwAAAAIAAAACAAAAAgAAAAIAAAACAAAAAgAAAAIAAAACAAAAAgAAAAIAAAACAAAAAgAAAAUAAAAFAAAABQAAAAUAAAAFAAAABQAAAAUAAAAFAAAABQAAAAUAAAAFAAAABQAAAAUAAAAFAAAABQAAAAUAAAAFAAAABQAAAAUAAAAFAAAABQAAAAUAAAAFAAAABQAAAAUAAAAFAAAABQAAAAcAAAAHAAAABwAAAAcAAAAHAAAABwAAAAcAAAAHAAAABwAAAAcAAAAHAAAABwAAAAcAAAAHAAAABwAAAAcAAAAHAAAABwAAAAIAAAACAAAAAgAAAAIAAAACAAAAAgAAAAUAAAAFAAAABQAAAAUAAAAFAAAABQAAAAUAAAAFAAAABQAAAAUAAAAFAAAABQAAAAUAAAAFAAAABQAAAAUAAAAFAAAABQAAAAUAAAAFAAAABQAAAAEAAAABAAAAAQAAAAUAAAAFAAAABQAAAAIAAAACAAAAAgAAAAIAAAACAAAAAgAAAAIAAAACAAAAAgAAAAIAAAACAAAAAgAAAAIAAAACAAAAAgAAAAIAAAACAAAAAgAAAAIAAAACAAAAAgAAAAAAAAAAAAAAAAAAAAAAAAAAAAAAAAAAAAAAAAAAAAAAAAAAAAAAAAAAAAAAAAAAAAIAAAACAAAAAgAAAAEAAAABAAAAAQAAAAYAAAAGAAAABgAAAAUAAAAFAAAABQAAAAUAAAAFAAAABQAAAAUAAAAFAAAABQAAAAUAAAAFAAAABQAAAAUAAAAFAAAABQAAAAUAAAAFAAAABQAAAAUAAAAFAAAABQAAAAUAAAAFAAAABQAAAAIAAAACAAAAAgAAAAAAAAAAAAAAAAAAAAUAAAAFAAAABQAAAAUAAAAFAAAABQAAAAUAAAAFAAAABQAAAAUAAAAFAAAABQAAAAIAAAACAAAAAgAAAAUAAAAFAAAABQAAAAIAAAACAAAAAgAAAAYAAAAGAAAABgAAAAIAAAACAAAAAgAAAAEAAAABAAAAAQAAAAEAAAABAAAAAQAAAAEAAAABAAAAAQAAAAEAAAABAAAAAQAAAAEAAAABAAAAAQAAAAEAAAABAAAAAQAAAAIAAAACAAAAAgAAAAYAAAAGAAAABgAAAAEAAAABAAAAAQAAAAUAAAAFAAAABQAAAAIAAAACAAAAAgAAAAIAAAACAAAAAgAAAAEAAAABAAAAAQAAAAEAAAABAAAAAQAAAAEAAAABAAAAAQAAAAEAAAABAAAAAQAAAAYAAAAGAAAABgAAAAYAAAAGAAAABgAAAAYAAAAGAAAABgAAAAEAAAABAAAAAQAAAAEAAAABAAAAAQAAAAIAAAACAAAAAgAAAAEAAAABAAAAAQAAAAAAAAAAAAAAAAAAAAcAAAAHAAAABwAAAAcAAAAHAAAABwAAAAcAAAAHAAAABwAAAAcAAAAHAAAABwAAAAcAAAAHAAAABwAAAAcAAAAHAAAABwAAAAUAAAAFAAAABQAAAAIAAAACAAAAAgAAAAUAAAAFAAAABQAAAAEAAAABAAAAAQAAAAEAAAABAAAAAQAAAAEAAAABAAAAAQAAAAEAAAABAAAAAQAAAAEAAAABAAAAAQAAAAUAAAAFAAAABQAAAAUAAAAFAAAABQAAAAUAAAAFAAAABQAAAAUAAAAFAAAABQAAAAAAAAAAAAAAAAAAAAIAAAACAAAAAgAAAAUAAAAFAAAABQAAAAUAAAAFAAAABQAAAAIAAAACAAAAAgAAAAIAAAACAAAAAgAAAAIAAAACAAAAAgAAAAIAAAACAAAAAgAAAAIAAAACAAAAAgAAAAIAAAACAAAAAgAAAAYAAAAGAAAABgAAAAAAAAAAAAAAAAAAAAIAAAACAAAAAgAAAAUAAAAFAAAABQAAAAUAAAAFAAAABQAAAAUAAAAFAAAABQAAAAUAAAAFAAAABQAAAAUAAAAFAAAABQAAAAUAAAAFAAAABQAAAAUAAAAFAAAABQAAAAUAAAAFAAAABQAAAAUAAAAFAAAABQAAAAEAAAABAAAAAQAAAAUAAAAFAAAABQAAAAUAAAAFAAAABQAAAAIAAAACAAAAAgAAAAYAAAAGAAAABgAAAAYAAAAGAAAABgAAAAYAAAAGAAAABgAAAAYAAAAGAAAABgAAAAYAAAAGAAAABgAAAAIAAAACAAAAAgAAAAIAAAACAAAAAgAAAAIAAAACAAAAAgAAAAIAAAACAAAAAgAAAAIAAAACAAAAAgAAAAAAAAAAAAAAAAAAAAAAAAAAAAAAAAAAAAAAAAAAAAAAAAAAAAAAAAAAAAAAAAAAAAEAAAABAAAAAQAAAAIAAAACAAAAAgAAAAIAAAACAAAAAgAAAAUAAAAFAAAABQAAAAUAAAAFAAAABQAAAAAAAAAAAAAAAAAAAAYAAAAGAAAABgAAAAYAAAAGAAAABgAAAAYAAAAGAAAABgAAAAYAAAAGAAAABgAAAAYAAAAGAAAABgAAAAYAAAAGAAAABgAAAAUAAAAFAAAABQAAAAAAAAAAAAAAAAAAAAAAAAAAAAAAAAAAAAAAAAAAAAAAAAAAAAAAAAAAAAAAAAAAAAUAAAAFAAAABQAAAAUAAAAFAAAABQAAAAUAAAAFAAAABQAAAAUAAAAFAAAABQAAAAYAAAAGAAAABgAAAAUAAAAFAAAABQAAAAUAAAAFAAAABQAAAAUAAAAFAAAABQAAAAUAAAAFAAAABQAAAAEAAAABAAAAAQAAAAUAAAAFAAAABQAAAAUAAAAFAAAABQAAAAUAAAAFAAAABQAAAAUAAAAFAAAABQAAAAUAAAAFAAAABQAAAAEAAAABAAAAAQAAAAcAAAAHAAAABwAAAAcAAAAHAAAABwAAAAcAAAAHAAAABwAAAAcAAAAHAAAABwAAAAcAAAAHAAAABwAAAAUAAAAFAAAABQAAAAUAAAAFAAAABQAAAAUAAAAFAAAABQAAAAUAAAAFAAAABQAAAAUAAAAFAAAABQAAAAUAAAAFAAAABQAAAAUAAAAFAAAABQAAAAUAAAAFAAAABQAAAAUAAAAFAAAABQAAAAUAAAAFAAAABQAAAAUAAAAFAAAABQAAAAEAAAABAAAAAQAAAAEAAAABAAAAAQAAAAEAAAABAAAAAQAAAAIAAAACAAAAAgAAAAIAAAACAAAAAgAAAAYAAAAGAAAABgAAAAMAAAADAAAAAwAAAAMAAAADAAAAAwAAAAMAAAADAAAAAwAAAAMAAAADAAAAAwAAAAIAAAACAAAAAgAAAAIAAAACAAAAAgAAAAIAAAACAAAAAgAAAAIAAAACAAAAAgAAAAIAAAACAAAAAgAAAAIAAAACAAAAAgAAAAIAAAACAAAAAgAAAAIAAAACAAAAAgAAAAIAAAACAAAAAgAAAAIAAAACAAAAAgAAAAYAAAAGAAAABgAAAAAAAAAAAAAAAAAAAAAAAAAAAAAAAAAAAAAAAAAAAAAAAAAAAAAAAAAAAAAAAAAAAAYAAAAGAAAABgAAAAYAAAAGAAAABgAAAAYAAAAGAAAABgAAAAYAAAAGAAAABgAAAAIAAAACAAAAAgAAAAcAAAAHAAAABwAAAAcAAAAHAAAABwAAAAcAAAAHAAAABwAAAAcAAAAHAAAABwAAAAcAAAAHAAAABwAAAAcAAAAHAAAABwAAAAYAAAAGAAAABgAAAAUAAAAFAAAABQAAAAUAAAAFAAAABQAAAAUAAAAFAAAABQAAAAUAAAAFAAAABQAAAAAAAAAAAAAAAAAAAAIAAAACAAAAAgAAAAIAAAACAAAAAgAAAAIAAAACAAAAAgAAAAIAAAACAAAAAgAAAAIAAAACAAAAAgAAAAIAAAACAAAAAgAAAAUAAAAFAAAABQAAAAUAAAAFAAAABQAAAAUAAAAFAAAABQAAAAIAAAACAAAAAgAAAAIAAAACAAAAAgAAAAAAAAAAAAAAAAAAAAAAAAAAAAAAAAAAAAAAAAAAAAAAAAAAAAEAAAABAAAAAQAAAAEAAAABAAAAAQAAAAEAAAABAAAAAQAAAAEAAAABAAAAAQAAAAEAAAABAAAAAQAAAAAAAAAAAAAAAAAAAAMAAAADAAAAAwAAAAMAAAADAAAAAwAAAAMAAAADAAAAAwAAAAMAAAADAAAAAwAAAAYAAAAGAAAABgAAAAYAAAAGAAAABgAAAAIAAAACAAAAAgAAAAIAAAACAAAAAgAAAAAAAAAAAAAAAAAAAAUAAAAFAAAABQAAAAMAAAADAAAAAwAAAAMAAAADAAAAAwAAAAMAAAADAAAAAwAAAAMAAAADAAAAAwAAAAAAAAAAAAAAAAAAAAAAAAAAAAAAAAAAAAAAAAAAAAAAAAAAAAAAAAAAAAAAAAAAAAMAAAADAAAAAwAAAAMAAAADAAAAAwAAAAMAAAADAAAAAwAAAAMAAAADAAAAAwAAAAcAAAAHAAAABwAAAAcAAAAHAAAABwAAAAcAAAAHAAAABwAAAAcAAAAHAAAABwAAAAcAAAAHAAAABwAAAAcAAAAHAAAABwAAAAIAAAACAAAAAgAAAAIAAAACAAAAAgAAAAIAAAACAAAAAgAAAAIAAAACAAAAAgAAAAIAAAACAAAAAgAAAAEAAAABAAAAAQAAAAIAAAACAAAAAgAAAAIAAAACAAAAAgAAAAIAAAACAAAAAgAAAAIAAAACAAAAAgAAAAIAAAACAAAAAgAAAAAAAAAAAAAAAAAAAAAAAAAAAAAAAAAAAAAAAAAAAAAAAAAAAAUAAAAFAAAABQAAAAUAAAAFAAAABQAAAAIAAAACAAAAAgAAAAUAAAAFAAAABQAAAAUAAAAFAAAABQAAAAUAAAAFAAAABQAAAAUAAAAFAAAABQAAAAUAAAAFAAAABQAAAAUAAAAFAAAABQAAAAIAAAACAAAAAgAAAAIAAAACAAAAAgAAAAEAAAABAAAAAQAAAAEAAAABAAAAAQAAAAEAAAABAAAAAQAAAAEAAAABAAAAAQAAAAEAAAABAAAAAQAAAAMAAAADAAAAAwAAAAMAAAADAAAAAwAAAAMAAAADAAAAAwAAAAMAAAADAAAAAwAAAAIAAAACAAAAAgAAAAAAAAAAAAAAAAAAAAAAAAAAAAAAAAAAAAAAAAAAAAAAAAAAAAAAAAAAAAAAAAAAAAAAAAAAAAAAAAAAAAAAAAAAAAAAAAAAAAYAAAAGAAAABgAAAAYAAAAGAAAABgAAAAYAAAAGAAAABgAAAAYAAAAGAAAABgAAAAYAAAAGAAAABgAAAAEAAAABAAAAAQAAAAEAAAABAAAAAQAAAAEAAAABAAAAAQAAAAEAAAABAAAAAQAAAAEAAAABAAAAAQAAAAAAAAAAAAAAAAAAAAIAAAACAAAAAgAAAAYAAAAGAAAABgAAAAYAAAAGAAAABgAAAAUAAAAFAAAABQAAAAUAAAAFAAAABQAAAAUAAAAFAAAABQAAAAUAAAAFAAAABQAAAAUAAAAFAAAABQAAAAUAAAAFAAAABQAAAAUAAAAFAAAABQAAAAUAAAAFAAAABQAAAAIAAAACAAAAAgAAAAIAAAACAAAAAgAAAAIAAAACAAAAAgAAAAIAAAACAAAAAgAAAAIAAAACAAAAAgAAAAIAAAACAAAAAgAAAAIAAAACAAAAAgAAAAYAAAAGAAAABgAAAAYAAAAGAAAABgAAAAYAAAAGAAAABgAAAAYAAAAGAAAABgAAAAUAAAAFAAAABQAAAAUAAAAFAAAABQAAAAUAAAAFAAAABQAAAAEAAAABAAAAAQAAAAAAAAAAAAAAAAAAAAAAAAAAAAAAAAAAAAAAAAAAAAAAAAAAAAIAAAACAAAAAgAAAAIAAAACAAAAAgAAAAIAAAACAAAAAgAAAAUAAAAFAAAABQAAAAUAAAAFAAAABQAAAAUAAAAFAAAABQAAAAMAAAADAAAAAwAAAAMAAAADAAAAAwAAAAMAAAADAAAAAwAAAAMAAAADAAAAAwAAAAIAAAACAAAAAgAAAAIAAAACAAAAAgAAAAIAAAACAAAAAgAAAAIAAAACAAAAAgAAAAIAAAACAAAAAgAAAAIAAAACAAAAAgAAAAIAAAACAAAAAgAAAAIAAAACAAAAAgAAAAIAAAACAAAAAgAAAAIAAAACAAAAAgAAAAIAAAACAAAAAgAAAAIAAAACAAAAAgAAAAYAAAAGAAAABgAAAAEAAAABAAAAAQAAAAEAAAABAAAAAQAAAAEAAAABAAAAAQAAAAEAAAABAAAAAQAAAAEAAAABAAAAAQAAAAUAAAAFAAAABQAAAAYAAAAGAAAABgAAAAYAAAAGAAAABgAAAAUAAAAFAAAABQAAAAAAAAAAAAAAAAAAAAUAAAAFAAAABQAAAAUAAAAFAAAABQAAAAAAAAAAAAAAAAAAAAUAAAAFAAAABQAAAAUAAAAFAAAABQAAAAAAAAAAAAAAAAAAAAUAAAAFAAAABQAAAAUAAAAFAAAABQAAAAAAAAAAAAAAAAAAAAUAAAAFAAAABQAAAAIAAAACAAAAAgAAAAYAAAAGAAAABgAAAAUAAAAFAAAABQAAAAUAAAAFAAAABQAAAAUAAAAFAAAABQAAAAUAAAAFAAAABQAAAAUAAAAFAAAABQAAAAUAAAAFAAAABQAAAAUAAAAFAAAABQAAAAUAAAAFAAAABQAAAAIAAAACAAAAAgAAAAIAAAACAAAAAgAAAAYAAAAGAAAABgAAAAAAAAAAAAAAAAAAAAAAAAAAAAAAAAAAAAAAAAAAAAAAAAAAAAEAAAABAAAAAQAAAAYAAAAGAAAABgAAAAMAAAADAAAAAwAAAAMAAAADAAAAAwAAAAMAAAADAAAAAwAAAAMAAAADAAAAAwAAAAEAAAABAAAAAQAAAAEAAAABAAAAAQAAAAIAAAACAAAAAgAAAAIAAAACAAAAAgAAAAIAAAACAAAAAgAAAAIAAAACAAAAAgAAAAIAAAACAAAAAgAAAAIAAAACAAAAAgAAAAYAAAAGAAAABgAAAAYAAAAGAAAABgAAAAYAAAAGAAAABgAAAAYAAAAGAAAABgAAAAYAAAAGAAAABgAAAAMAAAADAAAAAwAAAAMAAAADAAAAAwAAAAMAAAADAAAAAwAAAAMAAAADAAAAAwAAAAIAAAACAAAAAgAAAAIAAAACAAAAAgAAAAUAAAAFAAAABQAAAAUAAAAFAAAABQAAAAUAAAAFAAAABQAAAAUAAAAFAAAABQAAAAUAAAAFAAAABQAAAAIAAAACAAAAAgAAAAIAAAACAAAAAgAAAAIAAAACAAAAAgAAAAUAAAAFAAAABQAAAAAAAAAAAAAAAAAAAAIAAAACAAAAAgAAAAAAAAAAAAAAAAAAAAAAAAAAAAAAAAAAAAAAAAAAAAAAAAAAAAAAAAAAAAAAAAAAAAYAAAAGAAAABgAAAAYAAAAGAAAABgAAAAIAAAACAAAAAgAAAAAAAAAAAAAAAAAAAAAAAAAAAAAAAAAAAAAAAAAAAAAAAAAAAAUAAAAFAAAABQAAAAUAAAAFAAAABQAAAAUAAAAFAAAABQAAAAIAAAACAAAAAgAAAAUAAAAFAAAABQAAAAUAAAAFAAAABQAAAAcAAAAHAAAABwAAAAAAAAAAAAAAAAAAAAUAAAAFAAAABQAAAAAAAAAAAAAAAAAAAAAAAAAAAAAAAAAAAAAAAAAAAAAAAAAAAAUAAAAFAAAABQAAAAUAAAAFAAAABQAAAAUAAAAFAAAABQAAAAUAAAAFAAAABQAAAAEAAAABAAAAAQAAAAMAAAADAAAAAwAAAAMAAAADAAAAAwAAAAMAAAADAAAAAwAAAAMAAAADAAAAAwAAAAIAAAACAAAAAgAAAAIAAAACAAAAAgAAAAIAAAACAAAAAgAAAAIAAAACAAAAAgAAAAIAAAACAAAAAgAAAAIAAAACAAAAAgAAAAIAAAACAAAAAgAAAAYAAAAGAAAABgAAAAUAAAAFAAAABQAAAAUAAAAFAAAABQAAAAUAAAAFAAAABQAAAAUAAAAFAAAABQAAAAEAAAABAAAAAQAAAAEAAAABAAAAAQAAAAEAAAABAAAAAQAAAAEAAAABAAAAAQAAAAEAAAABAAAAAQAAAAEAAAABAAAAAQAAAAIAAAACAAAAAgAAAAUAAAAFAAAABQAAAAUAAAAFAAAABQAAAAUAAAAFAAAABQAAAAUAAAAFAAAABQAAAAUAAAAFAAAABQAAAAUAAAAFAAAABQAAAAUAAAAFAAAABQAAAAUAAAAFAAAABQAAAAEAAAABAAAAAQAAAAEAAAABAAAAAQAAAAEAAAABAAAAAQAAAAEAAAABAAAAAQAAAAEAAAABAAAAAQAAAAIAAAACAAAAAgAAAAIAAAACAAAAAgAAAAIAAAACAAAAAgAAAAIAAAACAAAAAgAAAAIAAAACAAAAAgAAAAIAAAACAAAAAgAAAAAAAAAAAAAAAAAAAAAAAAAAAAAAAAAAAAAAAAAAAAAAAAAAAAAAAAAAAAAAAAAAAAYAAAAGAAAABgAAAAYAAAAGAAAABgAAAAUAAAAFAAAABQAAAAUAAAAFAAAABQAAAAUAAAAFAAAABQAAAAUAAAAFAAAABQAAAAAAAAAAAAAAAAAAAAUAAAAFAAAABQAAAAUAAAAFAAAABQAAAAAAAAAAAAAAAAAAAAUAAAAFAAAABQAAAAUAAAAFAAAABQAAAAAAAAAAAAAAAAAAAAUAAAAFAAAABQAAAAUAAAAFAAAABQAAAAAAAAAAAAAAAAAAAAUAAAAFAAAABQAAAAIAAAACAAAAAgAAAAAAAAAAAAAAAAAAAAAAAAAAAAAAAAAAAAAAAAAAAAAAAAAAAAAAAAAAAAAAAAAAAAUAAAAFAAAABQAAAAUAAAAFAAAABQAAAAUAAAAFAAAABQAAAAUAAAAFAAAABQAAAAUAAAAFAAAABQAAAAEAAAABAAAAAQAAAAAAAAAAAAAAAAAAAAYAAAAGAAAABgAAAAYAAAAGAAAABgAAAAYAAAAGAAAABgAAAAIAAAACAAAAAgAAAAIAAAACAAAAAgAAAAIAAAACAAAAAgAAAAIAAAACAAAAAgAAAAIAAAACAAAAAgAAAAIAAAACAAAAAgAAAAIAAAACAAAAAgAAAAEAAAABAAAAAQAAAAEAAAABAAAAAQAAAAEAAAABAAAAAQAAAAEAAAABAAAAAQAAAAEAAAABAAAAAQAAAAUAAAAFAAAABQAAAAUAAAAFAAAABQAAAAUAAAAFAAAABQAAAAUAAAAFAAAABQAAAAUAAAAFAAAABQAAAAUAAAAFAAAABQAAAAYAAAAGAAAABgAAAAYAAAAGAAAABgAAAAYAAAAGAAAABgAAAAUAAAAFAAAABQAAAAYAAAAGAAAABgAAAAYAAAAGAAAABgAAAAYAAAAGAAAABgAAAAYAAAAGAAAABgAAAAYAAAAGAAAABgAAAAYAAAAGAAAABgAAAAYAAAAGAAAABgAAAAYAAAAGAAAABgAAAAAAAAAAAAAAAAAAAAAAAAAAAAAAAAAAAAAAAAAAAAAAAAAAAAcAAAAHAAAABwAAAAcAAAAHAAAABwAAAAcAAAAHAAAABwAAAAcAAAAHAAAABwAAAAcAAAAHAAAABwAAAAcAAAAHAAAABwAAAAUAAAAFAAAABQAAAAUAAAAFAAAABQAAAAUAAAAFAAAABQAAAAUAAAAFAAAABQAAAAUAAAAFAAAABQAAAAUAAAAFAAAABQAAAAUAAAAFAAAABQAAAAIAAAACAAAAAgAAAAIAAAACAAAAAgAAAAEAAAABAAAAAQAAAAEAAAABAAAAAQAAAAEAAAABAAAAAQAAAAEAAAABAAAAAQAAAAEAAAABAAAAAQAAAAIAAAACAAAAAgAAAAIAAAACAAAAAgAAAAIAAAACAAAAAgAAAAIAAAACAAAAAgAAAAIAAAACAAAAAgAAAAEAAAABAAAAAQAAAAYAAAAGAAAABgAAAAYAAAAGAAAABgAAAAYAAAAGAAAABgAAAAYAAAAGAAAABgAAAAUAAAAFAAAABQAAAAUAAAAFAAAABQAAAAUAAAAFAAAABQAAAAUAAAAFAAAABQAAAAUAAAAFAAAABQAAAAUAAAAFAAAABQAAAAAAAAAAAAAAAAAAAAAAAAAAAAAAAAAAAAAAAAAAAAAAAAAAAAIAAAACAAAAAgAAAAIAAAACAAAAAgAAAAIAAAACAAAAAgAAAAIAAAACAAAAAgAAAAIAAAACAAAAAgAAAAAAAAAAAAAAAAAAAAIAAAACAAAAAgAAAAIAAAACAAAAAgAAAAIAAAACAAAAAgAAAAIAAAACAAAAAgAAAAIAAAACAAAAAgAAAAAAAAAAAAAAAAAAAAAAAAAAAAAAAAAAAAAAAAAAAAAAAAAAAAAAAAAAAAAAAAAAAAAAAAAAAAAAAAAAAAAAAAAAAAAAAAAAAAAAAAAAAAAAAAAAAAYAAAAGAAAABgAAAAYAAAAGAAAABgAAAAYAAAAGAAAABgAAAAYAAAAGAAAABgAAAAcAAAAHAAAABwAAAAcAAAAHAAAABwAAAAcAAAAHAAAABwAAAAcAAAAHAAAABwAAAAcAAAAHAAAABwAAAAcAAAAHAAAABwAAAAUAAAAFAAAABQAAAAAAAAAAAAAAAAAAAAUAAAAFAAAABQAAAAUAAAAFAAAABQAAAAAAAAAAAAAAAAAAAAUAAAAFAAAABQAAAAUAAAAFAAAABQAAAAAAAAAAAAAAAAAAAAUAAAAFAAAABQAAAAUAAAAFAAAABQAAAAAAAAAAAAAAAAAAAAUAAAAFAAAABQAAAAcAAAAHAAAABwAAAAcAAAAHAAAABwAAAAcAAAAHAAAABwAAAAcAAAAHAAAABwAAAAcAAAAHAAAABwAAAAAAAAAAAAAAAAAAAAUAAAAFAAAABQAAAAUAAAAFAAAABQAAAAUAAAAFAAAABQAAAAUAAAAFAAAABQAAAAUAAAAFAAAABQAAAAAAAAAAAAAAAAAAAAUAAAAFAAAABQAAAAUAAAAFAAAABQAAAAAAAAAAAAAAAAAAAAUAAAAFAAAABQAAAAUAAAAFAAAABQAAAAAAAAAAAAAAAAAAAAUAAAAFAAAABQAAAAUAAAAFAAAABQAAAAAAAAAAAAAAAAAAAAUAAAAFAAAABQAAAAUAAAAFAAAABQAAAAUAAAAFAAAABQAAAAUAAAAFAAAABQAAAAIAAAACAAAAAgAAAAIAAAACAAAAAgAAAAUAAAAFAAAABQAAAAAAAAAAAAAAAAAAAAAAAAAAAAAAAAAAAAAAAAAAAAAAAAAAAAUAAAAFAAAABQAAAAUAAAAFAAAABQAAAAUAAAAFAAAABQAAAAUAAAAFAAAABQAAAAUAAAAFAAAABQAAAAUAAAAFAAAABQAAAAUAAAAFAAAABQAAAAUAAAAFAAAABQAAAAUAAAAFAAAABQAAAAUAAAAFAAAABQAAAAcAAAAHAAAABwAAAAIAAAACAAAAAgAAAAcAAAAHAAAABwAAAAAAAAAAAAAAAAAAAAAAAAAAAAAAAAAAAAAAAAAAAAAAAAAAAAAAAAAAAAAAAAAAAAIAAAACAAAAAgAAAAEAAAABAAAAAQAAAAYAAAAGAAAABgAAAAIAAAACAAAAAgAAAAcAAAAHAAAABwAAAAcAAAAHAAAABwAAAAcAAAAHAAAABwAAAAcAAAAHAAAABwAAAAcAAAAHAAAABwAAAAcAAAAHAAAABwAAAAcAAAAHAAAABwAAAAIAAAACAAAAAgAAAAcAAAAHAAAABwAAAAIAAAACAAAAAgAAAAIAAAACAAAAAgAAAAIAAAACAAAAAgAAAAIAAAACAAAAAgAAAAcAAAAHAAAABwAAAAIAAAACAAAAAgAAAAcAAAAHAAAABwAAAAcAAAAHAAAABwAAAAIAAAACAAAAAgAAAAIAAAACAAAAAgAAAAIAAAACAAAAAgAAAAcAAAAHAAAABwAAAAIAAAACAAAAAgAAAAcAAAAHAAAABwAAAAcAAAAHAAAABwAAAAcAAAAHAAAABwAAAAIAAAACAAAAAgAAAAIAAAACAAAAAgAAAAIAAAACAAAAAgAAAAIAAAACAAAAAgAAAAIAAAACAAAAAgAAAAIAAAACAAAAAgAAAAIAAAACAAAAAgAAAAIAAAACAAAAAgAAAAcAAAAHAAAABwAAAAcAAAAHAAAABwAAAAIAAAACAAAAAgAAAAIAAAACAAAAAgAAAAIAAAACAAAAAgAAAAIAAAACAAAAAgAAAAIAAAACAAAAAgAAAAIAAAACAAAAAgAAAAIAAAACAAAAAgAAAAIAAAACAAAAAgAAAAIAAAACAAAAAgAAAAIAAAACAAAAAgAAAAIAAAACAAAAAgAAAAIAAAACAAAAAgAAAAIAAAACAAAAAgAAAAcAAAAHAAAABwAAAAcAAAAHAAAABwAAAAIAAAACAAAAAgAAAAcAAAAHAAAABwAAAAUAAAAFAAAABQAAAAcAAAAHAAAABwAAAAIAAAACAAAAAgAAAAIAAAACAAAAAgAAAAIAAAACAAAAAgAAAAIAAAACAAAAAgAAAAcAAAAHAAAABwAAAAcAAAAHAAAABwAAAAcAAAAHAAAABwAAAAcAAAAHAAAABwAAAAIAAAACAAAAAgAAAAIAAAACAAAAAgAAAA==",
          "dtype": "i4"
         },
         "xaxis": "x",
         "yaxis": "y"
        }
       ],
       "layout": {
        "barmode": "relative",
        "legend": {
         "tracegroupgap": 0
        },
        "template": {
         "data": {
          "bar": [
           {
            "error_x": {
             "color": "#2a3f5f"
            },
            "error_y": {
             "color": "#2a3f5f"
            },
            "marker": {
             "line": {
              "color": "#E5ECF6",
              "width": 0.5
             },
             "pattern": {
              "fillmode": "overlay",
              "size": 10,
              "solidity": 0.2
             }
            },
            "type": "bar"
           }
          ],
          "barpolar": [
           {
            "marker": {
             "line": {
              "color": "#E5ECF6",
              "width": 0.5
             },
             "pattern": {
              "fillmode": "overlay",
              "size": 10,
              "solidity": 0.2
             }
            },
            "type": "barpolar"
           }
          ],
          "carpet": [
           {
            "aaxis": {
             "endlinecolor": "#2a3f5f",
             "gridcolor": "white",
             "linecolor": "white",
             "minorgridcolor": "white",
             "startlinecolor": "#2a3f5f"
            },
            "baxis": {
             "endlinecolor": "#2a3f5f",
             "gridcolor": "white",
             "linecolor": "white",
             "minorgridcolor": "white",
             "startlinecolor": "#2a3f5f"
            },
            "type": "carpet"
           }
          ],
          "choropleth": [
           {
            "colorbar": {
             "outlinewidth": 0,
             "ticks": ""
            },
            "type": "choropleth"
           }
          ],
          "contour": [
           {
            "colorbar": {
             "outlinewidth": 0,
             "ticks": ""
            },
            "colorscale": [
             [
              0,
              "#0d0887"
             ],
             [
              0.1111111111111111,
              "#46039f"
             ],
             [
              0.2222222222222222,
              "#7201a8"
             ],
             [
              0.3333333333333333,
              "#9c179e"
             ],
             [
              0.4444444444444444,
              "#bd3786"
             ],
             [
              0.5555555555555556,
              "#d8576b"
             ],
             [
              0.6666666666666666,
              "#ed7953"
             ],
             [
              0.7777777777777778,
              "#fb9f3a"
             ],
             [
              0.8888888888888888,
              "#fdca26"
             ],
             [
              1,
              "#f0f921"
             ]
            ],
            "type": "contour"
           }
          ],
          "contourcarpet": [
           {
            "colorbar": {
             "outlinewidth": 0,
             "ticks": ""
            },
            "type": "contourcarpet"
           }
          ],
          "heatmap": [
           {
            "colorbar": {
             "outlinewidth": 0,
             "ticks": ""
            },
            "colorscale": [
             [
              0,
              "#0d0887"
             ],
             [
              0.1111111111111111,
              "#46039f"
             ],
             [
              0.2222222222222222,
              "#7201a8"
             ],
             [
              0.3333333333333333,
              "#9c179e"
             ],
             [
              0.4444444444444444,
              "#bd3786"
             ],
             [
              0.5555555555555556,
              "#d8576b"
             ],
             [
              0.6666666666666666,
              "#ed7953"
             ],
             [
              0.7777777777777778,
              "#fb9f3a"
             ],
             [
              0.8888888888888888,
              "#fdca26"
             ],
             [
              1,
              "#f0f921"
             ]
            ],
            "type": "heatmap"
           }
          ],
          "histogram": [
           {
            "marker": {
             "pattern": {
              "fillmode": "overlay",
              "size": 10,
              "solidity": 0.2
             }
            },
            "type": "histogram"
           }
          ],
          "histogram2d": [
           {
            "colorbar": {
             "outlinewidth": 0,
             "ticks": ""
            },
            "colorscale": [
             [
              0,
              "#0d0887"
             ],
             [
              0.1111111111111111,
              "#46039f"
             ],
             [
              0.2222222222222222,
              "#7201a8"
             ],
             [
              0.3333333333333333,
              "#9c179e"
             ],
             [
              0.4444444444444444,
              "#bd3786"
             ],
             [
              0.5555555555555556,
              "#d8576b"
             ],
             [
              0.6666666666666666,
              "#ed7953"
             ],
             [
              0.7777777777777778,
              "#fb9f3a"
             ],
             [
              0.8888888888888888,
              "#fdca26"
             ],
             [
              1,
              "#f0f921"
             ]
            ],
            "type": "histogram2d"
           }
          ],
          "histogram2dcontour": [
           {
            "colorbar": {
             "outlinewidth": 0,
             "ticks": ""
            },
            "colorscale": [
             [
              0,
              "#0d0887"
             ],
             [
              0.1111111111111111,
              "#46039f"
             ],
             [
              0.2222222222222222,
              "#7201a8"
             ],
             [
              0.3333333333333333,
              "#9c179e"
             ],
             [
              0.4444444444444444,
              "#bd3786"
             ],
             [
              0.5555555555555556,
              "#d8576b"
             ],
             [
              0.6666666666666666,
              "#ed7953"
             ],
             [
              0.7777777777777778,
              "#fb9f3a"
             ],
             [
              0.8888888888888888,
              "#fdca26"
             ],
             [
              1,
              "#f0f921"
             ]
            ],
            "type": "histogram2dcontour"
           }
          ],
          "mesh3d": [
           {
            "colorbar": {
             "outlinewidth": 0,
             "ticks": ""
            },
            "type": "mesh3d"
           }
          ],
          "parcoords": [
           {
            "line": {
             "colorbar": {
              "outlinewidth": 0,
              "ticks": ""
             }
            },
            "type": "parcoords"
           }
          ],
          "pie": [
           {
            "automargin": true,
            "type": "pie"
           }
          ],
          "scatter": [
           {
            "fillpattern": {
             "fillmode": "overlay",
             "size": 10,
             "solidity": 0.2
            },
            "type": "scatter"
           }
          ],
          "scatter3d": [
           {
            "line": {
             "colorbar": {
              "outlinewidth": 0,
              "ticks": ""
             }
            },
            "marker": {
             "colorbar": {
              "outlinewidth": 0,
              "ticks": ""
             }
            },
            "type": "scatter3d"
           }
          ],
          "scattercarpet": [
           {
            "marker": {
             "colorbar": {
              "outlinewidth": 0,
              "ticks": ""
             }
            },
            "type": "scattercarpet"
           }
          ],
          "scattergeo": [
           {
            "marker": {
             "colorbar": {
              "outlinewidth": 0,
              "ticks": ""
             }
            },
            "type": "scattergeo"
           }
          ],
          "scattergl": [
           {
            "marker": {
             "colorbar": {
              "outlinewidth": 0,
              "ticks": ""
             }
            },
            "type": "scattergl"
           }
          ],
          "scattermap": [
           {
            "marker": {
             "colorbar": {
              "outlinewidth": 0,
              "ticks": ""
             }
            },
            "type": "scattermap"
           }
          ],
          "scattermapbox": [
           {
            "marker": {
             "colorbar": {
              "outlinewidth": 0,
              "ticks": ""
             }
            },
            "type": "scattermapbox"
           }
          ],
          "scatterpolar": [
           {
            "marker": {
             "colorbar": {
              "outlinewidth": 0,
              "ticks": ""
             }
            },
            "type": "scatterpolar"
           }
          ],
          "scatterpolargl": [
           {
            "marker": {
             "colorbar": {
              "outlinewidth": 0,
              "ticks": ""
             }
            },
            "type": "scatterpolargl"
           }
          ],
          "scatterternary": [
           {
            "marker": {
             "colorbar": {
              "outlinewidth": 0,
              "ticks": ""
             }
            },
            "type": "scatterternary"
           }
          ],
          "surface": [
           {
            "colorbar": {
             "outlinewidth": 0,
             "ticks": ""
            },
            "colorscale": [
             [
              0,
              "#0d0887"
             ],
             [
              0.1111111111111111,
              "#46039f"
             ],
             [
              0.2222222222222222,
              "#7201a8"
             ],
             [
              0.3333333333333333,
              "#9c179e"
             ],
             [
              0.4444444444444444,
              "#bd3786"
             ],
             [
              0.5555555555555556,
              "#d8576b"
             ],
             [
              0.6666666666666666,
              "#ed7953"
             ],
             [
              0.7777777777777778,
              "#fb9f3a"
             ],
             [
              0.8888888888888888,
              "#fdca26"
             ],
             [
              1,
              "#f0f921"
             ]
            ],
            "type": "surface"
           }
          ],
          "table": [
           {
            "cells": {
             "fill": {
              "color": "#EBF0F8"
             },
             "line": {
              "color": "white"
             }
            },
            "header": {
             "fill": {
              "color": "#C8D4E3"
             },
             "line": {
              "color": "white"
             }
            },
            "type": "table"
           }
          ]
         },
         "layout": {
          "annotationdefaults": {
           "arrowcolor": "#2a3f5f",
           "arrowhead": 0,
           "arrowwidth": 1
          },
          "autotypenumbers": "strict",
          "coloraxis": {
           "colorbar": {
            "outlinewidth": 0,
            "ticks": ""
           }
          },
          "colorscale": {
           "diverging": [
            [
             0,
             "#8e0152"
            ],
            [
             0.1,
             "#c51b7d"
            ],
            [
             0.2,
             "#de77ae"
            ],
            [
             0.3,
             "#f1b6da"
            ],
            [
             0.4,
             "#fde0ef"
            ],
            [
             0.5,
             "#f7f7f7"
            ],
            [
             0.6,
             "#e6f5d0"
            ],
            [
             0.7,
             "#b8e186"
            ],
            [
             0.8,
             "#7fbc41"
            ],
            [
             0.9,
             "#4d9221"
            ],
            [
             1,
             "#276419"
            ]
           ],
           "sequential": [
            [
             0,
             "#0d0887"
            ],
            [
             0.1111111111111111,
             "#46039f"
            ],
            [
             0.2222222222222222,
             "#7201a8"
            ],
            [
             0.3333333333333333,
             "#9c179e"
            ],
            [
             0.4444444444444444,
             "#bd3786"
            ],
            [
             0.5555555555555556,
             "#d8576b"
            ],
            [
             0.6666666666666666,
             "#ed7953"
            ],
            [
             0.7777777777777778,
             "#fb9f3a"
            ],
            [
             0.8888888888888888,
             "#fdca26"
            ],
            [
             1,
             "#f0f921"
            ]
           ],
           "sequentialminus": [
            [
             0,
             "#0d0887"
            ],
            [
             0.1111111111111111,
             "#46039f"
            ],
            [
             0.2222222222222222,
             "#7201a8"
            ],
            [
             0.3333333333333333,
             "#9c179e"
            ],
            [
             0.4444444444444444,
             "#bd3786"
            ],
            [
             0.5555555555555556,
             "#d8576b"
            ],
            [
             0.6666666666666666,
             "#ed7953"
            ],
            [
             0.7777777777777778,
             "#fb9f3a"
            ],
            [
             0.8888888888888888,
             "#fdca26"
            ],
            [
             1,
             "#f0f921"
            ]
           ]
          },
          "colorway": [
           "#636efa",
           "#EF553B",
           "#00cc96",
           "#ab63fa",
           "#FFA15A",
           "#19d3f3",
           "#FF6692",
           "#B6E880",
           "#FF97FF",
           "#FECB52"
          ],
          "font": {
           "color": "#2a3f5f"
          },
          "geo": {
           "bgcolor": "white",
           "lakecolor": "white",
           "landcolor": "#E5ECF6",
           "showlakes": true,
           "showland": true,
           "subunitcolor": "white"
          },
          "hoverlabel": {
           "align": "left"
          },
          "hovermode": "closest",
          "mapbox": {
           "style": "light"
          },
          "paper_bgcolor": "white",
          "plot_bgcolor": "#E5ECF6",
          "polar": {
           "angularaxis": {
            "gridcolor": "white",
            "linecolor": "white",
            "ticks": ""
           },
           "bgcolor": "#E5ECF6",
           "radialaxis": {
            "gridcolor": "white",
            "linecolor": "white",
            "ticks": ""
           }
          },
          "scene": {
           "xaxis": {
            "backgroundcolor": "#E5ECF6",
            "gridcolor": "white",
            "gridwidth": 2,
            "linecolor": "white",
            "showbackground": true,
            "ticks": "",
            "zerolinecolor": "white"
           },
           "yaxis": {
            "backgroundcolor": "#E5ECF6",
            "gridcolor": "white",
            "gridwidth": 2,
            "linecolor": "white",
            "showbackground": true,
            "ticks": "",
            "zerolinecolor": "white"
           },
           "zaxis": {
            "backgroundcolor": "#E5ECF6",
            "gridcolor": "white",
            "gridwidth": 2,
            "linecolor": "white",
            "showbackground": true,
            "ticks": "",
            "zerolinecolor": "white"
           }
          },
          "shapedefaults": {
           "line": {
            "color": "#2a3f5f"
           }
          },
          "ternary": {
           "aaxis": {
            "gridcolor": "white",
            "linecolor": "white",
            "ticks": ""
           },
           "baxis": {
            "gridcolor": "white",
            "linecolor": "white",
            "ticks": ""
           },
           "bgcolor": "#E5ECF6",
           "caxis": {
            "gridcolor": "white",
            "linecolor": "white",
            "ticks": ""
           }
          },
          "title": {
           "x": 0.05
          },
          "xaxis": {
           "automargin": true,
           "gridcolor": "white",
           "linecolor": "white",
           "ticks": "",
           "title": {
            "standoff": 15
           },
           "zerolinecolor": "white",
           "zerolinewidth": 2
          },
          "yaxis": {
           "automargin": true,
           "gridcolor": "white",
           "linecolor": "white",
           "ticks": "",
           "title": {
            "standoff": 15
           },
           "zerolinecolor": "white",
           "zerolinewidth": 2
          }
         }
        },
        "title": {
         "text": "Restaurant Count by Cluster Segment"
        },
        "xaxis": {
         "anchor": "y",
         "domain": [
          0,
          1
         ],
         "title": {
          "text": "cluster"
         }
        },
        "yaxis": {
         "anchor": "x",
         "domain": [
          0,
          1
         ],
         "title": {
          "text": "count"
         }
        }
       }
      }
     },
     "metadata": {},
     "output_type": "display_data"
    }
   ],
   "source": [
    "fig = px.histogram(final_rest_df, x=\"cluster\", title=\"Restaurant Count by Cluster Segment\")\n",
    "fig.show()"
   ]
  },
  {
   "cell_type": "code",
   "execution_count": 29,
   "metadata": {},
   "outputs": [
    {
     "data": {
      "text/html": [
       "<div><style>\n",
       ".dataframe > thead > tr,\n",
       ".dataframe > tbody > tr {\n",
       "  text-align: right;\n",
       "  white-space: pre-wrap;\n",
       "}\n",
       "</style>\n",
       "<small>shape: (8, 2)</small><table border=\"1\" class=\"dataframe\"><thead><tr><th>cluster</th><th>n_users</th></tr><tr><td>i32</td><td>u32</td></tr></thead><tbody><tr><td>3</td><td>108</td></tr><tr><td>6</td><td>1302</td></tr><tr><td>2</td><td>1710</td></tr><tr><td>5</td><td>2937</td></tr><tr><td>1</td><td>612</td></tr><tr><td>7</td><td>573</td></tr><tr><td>4</td><td>48</td></tr><tr><td>0</td><td>1012</td></tr></tbody></table></div>"
      ],
      "text/plain": [
       "shape: (8, 2)\n",
       "┌─────────┬─────────┐\n",
       "│ cluster ┆ n_users │\n",
       "│ ---     ┆ ---     │\n",
       "│ i32     ┆ u32     │\n",
       "╞═════════╪═════════╡\n",
       "│ 3       ┆ 108     │\n",
       "│ 6       ┆ 1302    │\n",
       "│ 2       ┆ 1710    │\n",
       "│ 5       ┆ 2937    │\n",
       "│ 1       ┆ 612     │\n",
       "│ 7       ┆ 573     │\n",
       "│ 4       ┆ 48      │\n",
       "│ 0       ┆ 1012    │\n",
       "└─────────┴─────────┘"
      ]
     },
     "execution_count": 29,
     "metadata": {},
     "output_type": "execute_result"
    }
   ],
   "source": [
    "rest_segment_summary = final_rest_df.group_by('cluster').agg([\n",
    "    pl.len().alias('n_users')\n",
    "])\n",
    "\n",
    "rest_segment_summary"
   ]
  },
  {
   "cell_type": "code",
   "execution_count": 30,
   "metadata": {},
   "outputs": [
    {
     "data": {
      "text/html": [
       "<div><style>\n",
       ".dataframe > thead > tr,\n",
       ".dataframe > tbody > tr {\n",
       "  text-align: right;\n",
       "  white-space: pre-wrap;\n",
       "}\n",
       "</style>\n",
       "<small>shape: (5, 20)</small><table border=\"1\" class=\"dataframe\"><thead><tr><th>userID</th><th>placeID</th><th>rating</th><th>food_rating</th><th>service_rating</th><th>smoker</th><th>drink_level</th><th>dress_preference</th><th>ambience</th><th>transport</th><th>marital_status</th><th>hijos</th><th>birth_year</th><th>interest</th><th>personality</th><th>activity</th><th>weight</th><th>budget</th><th>height</th><th>cluster</th></tr><tr><td>str</td><td>i64</td><td>i64</td><td>i64</td><td>i64</td><td>str</td><td>str</td><td>str</td><td>str</td><td>str</td><td>str</td><td>str</td><td>i64</td><td>str</td><td>str</td><td>str</td><td>i64</td><td>str</td><td>f64</td><td>i32</td></tr></thead><tbody><tr><td>&quot;U1077&quot;</td><td>135085</td><td>2</td><td>2</td><td>2</td><td>&quot;false&quot;</td><td>&quot;social drinker&quot;</td><td>&quot;elegant&quot;</td><td>&quot;family&quot;</td><td>&quot;public&quot;</td><td>&quot;married&quot;</td><td>&quot;kids&quot;</td><td>1987</td><td>&quot;technology&quot;</td><td>&quot;thrifty-protector&quot;</td><td>&quot;student&quot;</td><td>65</td><td>&quot;medium&quot;</td><td>1.71</td><td>3</td></tr><tr><td>&quot;U1077&quot;</td><td>135085</td><td>2</td><td>2</td><td>2</td><td>&quot;false&quot;</td><td>&quot;social drinker&quot;</td><td>&quot;elegant&quot;</td><td>&quot;family&quot;</td><td>&quot;public&quot;</td><td>&quot;married&quot;</td><td>&quot;kids&quot;</td><td>1987</td><td>&quot;technology&quot;</td><td>&quot;thrifty-protector&quot;</td><td>&quot;student&quot;</td><td>65</td><td>&quot;medium&quot;</td><td>1.71</td><td>3</td></tr><tr><td>&quot;U1077&quot;</td><td>135085</td><td>2</td><td>2</td><td>2</td><td>&quot;false&quot;</td><td>&quot;social drinker&quot;</td><td>&quot;elegant&quot;</td><td>&quot;family&quot;</td><td>&quot;public&quot;</td><td>&quot;married&quot;</td><td>&quot;kids&quot;</td><td>1987</td><td>&quot;technology&quot;</td><td>&quot;thrifty-protector&quot;</td><td>&quot;student&quot;</td><td>65</td><td>&quot;medium&quot;</td><td>1.71</td><td>3</td></tr><tr><td>&quot;U1077&quot;</td><td>135038</td><td>2</td><td>2</td><td>1</td><td>&quot;false&quot;</td><td>&quot;social drinker&quot;</td><td>&quot;elegant&quot;</td><td>&quot;family&quot;</td><td>&quot;public&quot;</td><td>&quot;married&quot;</td><td>&quot;kids&quot;</td><td>1987</td><td>&quot;technology&quot;</td><td>&quot;thrifty-protector&quot;</td><td>&quot;student&quot;</td><td>65</td><td>&quot;medium&quot;</td><td>1.71</td><td>3</td></tr><tr><td>&quot;U1077&quot;</td><td>135038</td><td>2</td><td>2</td><td>1</td><td>&quot;false&quot;</td><td>&quot;social drinker&quot;</td><td>&quot;elegant&quot;</td><td>&quot;family&quot;</td><td>&quot;public&quot;</td><td>&quot;married&quot;</td><td>&quot;kids&quot;</td><td>1987</td><td>&quot;technology&quot;</td><td>&quot;thrifty-protector&quot;</td><td>&quot;student&quot;</td><td>65</td><td>&quot;medium&quot;</td><td>1.71</td><td>3</td></tr></tbody></table></div>"
      ],
      "text/plain": [
       "shape: (5, 20)\n",
       "┌────────┬─────────┬────────┬─────────────┬───┬────────┬────────┬────────┬─────────┐\n",
       "│ userID ┆ placeID ┆ rating ┆ food_rating ┆ … ┆ weight ┆ budget ┆ height ┆ cluster │\n",
       "│ ---    ┆ ---     ┆ ---    ┆ ---         ┆   ┆ ---    ┆ ---    ┆ ---    ┆ ---     │\n",
       "│ str    ┆ i64     ┆ i64    ┆ i64         ┆   ┆ i64    ┆ str    ┆ f64    ┆ i32     │\n",
       "╞════════╪═════════╪════════╪═════════════╪═══╪════════╪════════╪════════╪═════════╡\n",
       "│ U1077  ┆ 135085  ┆ 2      ┆ 2           ┆ … ┆ 65     ┆ medium ┆ 1.71   ┆ 3       │\n",
       "│ U1077  ┆ 135085  ┆ 2      ┆ 2           ┆ … ┆ 65     ┆ medium ┆ 1.71   ┆ 3       │\n",
       "│ U1077  ┆ 135085  ┆ 2      ┆ 2           ┆ … ┆ 65     ┆ medium ┆ 1.71   ┆ 3       │\n",
       "│ U1077  ┆ 135038  ┆ 2      ┆ 2           ┆ … ┆ 65     ┆ medium ┆ 1.71   ┆ 3       │\n",
       "│ U1077  ┆ 135038  ┆ 2      ┆ 2           ┆ … ┆ 65     ┆ medium ┆ 1.71   ┆ 3       │\n",
       "└────────┴─────────┴────────┴─────────────┴───┴────────┴────────┴────────┴─────────┘"
      ]
     },
     "execution_count": 30,
     "metadata": {},
     "output_type": "execute_result"
    }
   ],
   "source": [
    "final_user_df.head()"
   ]
  },
  {
   "cell_type": "code",
   "execution_count": 31,
   "metadata": {},
   "outputs": [
    {
     "data": {
      "text/html": [
       "<div><style>\n",
       ".dataframe > thead > tr,\n",
       ".dataframe > tbody > tr {\n",
       "  text-align: right;\n",
       "  white-space: pre-wrap;\n",
       "}\n",
       "</style>\n",
       "<small>shape: (5, 17)</small><table border=\"1\" class=\"dataframe\"><thead><tr><th>userID</th><th>placeID</th><th>rating</th><th>food_rating</th><th>service_rating</th><th>name</th><th>country</th><th>alcohol</th><th>smoking_area</th><th>dress_code</th><th>accessibility</th><th>price</th><th>Rambience</th><th>franchise</th><th>Rcuisine</th><th>parking_lot</th><th>cluster</th></tr><tr><td>str</td><td>i64</td><td>i64</td><td>i64</td><td>i64</td><td>str</td><td>str</td><td>str</td><td>str</td><td>str</td><td>str</td><td>str</td><td>str</td><td>str</td><td>str</td><td>str</td><td>i32</td></tr></thead><tbody><tr><td>&quot;U1077&quot;</td><td>135085</td><td>2</td><td>2</td><td>2</td><td>&quot;Tortas Locas Hipocampo&quot;</td><td>&quot;Mexico&quot;</td><td>&quot;No_Alcohol_Served&quot;</td><td>&quot;not permitted&quot;</td><td>&quot;informal&quot;</td><td>&quot;no_accessibility&quot;</td><td>&quot;medium&quot;</td><td>&quot;familiar&quot;</td><td>&quot;f&quot;</td><td>&quot;Fast_Food&quot;</td><td>&quot;public&quot;</td><td>5</td></tr><tr><td>&quot;U1077&quot;</td><td>135085</td><td>2</td><td>2</td><td>2</td><td>&quot;Tortas Locas Hipocampo&quot;</td><td>&quot;Mexico&quot;</td><td>&quot;No_Alcohol_Served&quot;</td><td>&quot;not permitted&quot;</td><td>&quot;informal&quot;</td><td>&quot;no_accessibility&quot;</td><td>&quot;medium&quot;</td><td>&quot;familiar&quot;</td><td>&quot;f&quot;</td><td>&quot;Fast_Food&quot;</td><td>&quot;public&quot;</td><td>5</td></tr><tr><td>&quot;U1077&quot;</td><td>135085</td><td>2</td><td>2</td><td>2</td><td>&quot;Tortas Locas Hipocampo&quot;</td><td>&quot;Mexico&quot;</td><td>&quot;No_Alcohol_Served&quot;</td><td>&quot;not permitted&quot;</td><td>&quot;informal&quot;</td><td>&quot;no_accessibility&quot;</td><td>&quot;medium&quot;</td><td>&quot;familiar&quot;</td><td>&quot;f&quot;</td><td>&quot;Fast_Food&quot;</td><td>&quot;public&quot;</td><td>5</td></tr><tr><td>&quot;U1077&quot;</td><td>135038</td><td>2</td><td>2</td><td>1</td><td>&quot;Restaurant la Chalita&quot;</td><td>&quot;Mexico&quot;</td><td>&quot;No_Alcohol_Served&quot;</td><td>&quot;section&quot;</td><td>&quot;informal&quot;</td><td>&quot;no_accessibility&quot;</td><td>&quot;medium&quot;</td><td>&quot;familiar&quot;</td><td>&quot;f&quot;</td><td>null</td><td>null</td><td>5</td></tr><tr><td>&quot;U1077&quot;</td><td>135038</td><td>2</td><td>2</td><td>1</td><td>&quot;Restaurant la Chalita&quot;</td><td>&quot;Mexico&quot;</td><td>&quot;No_Alcohol_Served&quot;</td><td>&quot;section&quot;</td><td>&quot;informal&quot;</td><td>&quot;no_accessibility&quot;</td><td>&quot;medium&quot;</td><td>&quot;familiar&quot;</td><td>&quot;f&quot;</td><td>null</td><td>null</td><td>5</td></tr></tbody></table></div>"
      ],
      "text/plain": [
       "shape: (5, 17)\n",
       "┌────────┬─────────┬────────┬─────────────┬───┬───────────┬───────────┬─────────────┬─────────┐\n",
       "│ userID ┆ placeID ┆ rating ┆ food_rating ┆ … ┆ franchise ┆ Rcuisine  ┆ parking_lot ┆ cluster │\n",
       "│ ---    ┆ ---     ┆ ---    ┆ ---         ┆   ┆ ---       ┆ ---       ┆ ---         ┆ ---     │\n",
       "│ str    ┆ i64     ┆ i64    ┆ i64         ┆   ┆ str       ┆ str       ┆ str         ┆ i32     │\n",
       "╞════════╪═════════╪════════╪═════════════╪═══╪═══════════╪═══════════╪═════════════╪═════════╡\n",
       "│ U1077  ┆ 135085  ┆ 2      ┆ 2           ┆ … ┆ f         ┆ Fast_Food ┆ public      ┆ 5       │\n",
       "│ U1077  ┆ 135085  ┆ 2      ┆ 2           ┆ … ┆ f         ┆ Fast_Food ┆ public      ┆ 5       │\n",
       "│ U1077  ┆ 135085  ┆ 2      ┆ 2           ┆ … ┆ f         ┆ Fast_Food ┆ public      ┆ 5       │\n",
       "│ U1077  ┆ 135038  ┆ 2      ┆ 2           ┆ … ┆ f         ┆ null      ┆ null        ┆ 5       │\n",
       "│ U1077  ┆ 135038  ┆ 2      ┆ 2           ┆ … ┆ f         ┆ null      ┆ null        ┆ 5       │\n",
       "└────────┴─────────┴────────┴─────────────┴───┴───────────┴───────────┴─────────────┴─────────┘"
      ]
     },
     "execution_count": 31,
     "metadata": {},
     "output_type": "execute_result"
    }
   ],
   "source": [
    "final_rest_df.head()"
   ]
  },
  {
   "cell_type": "code",
   "execution_count": 32,
   "metadata": {},
   "outputs": [],
   "source": [
    "final_user_df = final_user_df.rename({\"cluster\": \"user_cluster\"})\n",
    "final_rest_df = final_rest_df.rename({\"cluster\": \"restaurant_cluster\"})\n",
    "\n",
    "# Join on userID and placeID to link ratings with both cluster labels\n",
    "user_rest_cluster_df = final_user_df.join(\n",
    "    final_rest_df,\n",
    "    on=[\"userID\", \"placeID\"],\n",
    "    how=\"inner\",\n",
    "    coalesce=True\n",
    ")"
   ]
  },
  {
   "cell_type": "code",
   "execution_count": 34,
   "metadata": {},
   "outputs": [
    {
     "data": {
      "text/html": [
       "<div><style>\n",
       ".dataframe > thead > tr,\n",
       ".dataframe > tbody > tr {\n",
       "  text-align: right;\n",
       "  white-space: pre-wrap;\n",
       "}\n",
       "</style>\n",
       "<small>shape: (31_559, 32)</small><table border=\"1\" class=\"dataframe\"><thead><tr><th>userID</th><th>placeID</th><th>rating</th><th>food_rating</th><th>service_rating</th><th>smoker</th><th>drink_level</th><th>dress_preference</th><th>ambience</th><th>transport</th><th>marital_status</th><th>hijos</th><th>birth_year</th><th>interest</th><th>personality</th><th>activity</th><th>weight</th><th>budget</th><th>height</th><th>user_cluster</th><th>name</th><th>country</th><th>alcohol</th><th>smoking_area</th><th>dress_code</th><th>accessibility</th><th>price</th><th>Rambience</th><th>franchise</th><th>Rcuisine</th><th>parking_lot</th><th>restaurant_cluster</th></tr><tr><td>str</td><td>i64</td><td>i64</td><td>i64</td><td>i64</td><td>str</td><td>str</td><td>str</td><td>str</td><td>str</td><td>str</td><td>str</td><td>i64</td><td>str</td><td>str</td><td>str</td><td>i64</td><td>str</td><td>f64</td><td>i32</td><td>str</td><td>str</td><td>str</td><td>str</td><td>str</td><td>str</td><td>str</td><td>str</td><td>str</td><td>str</td><td>str</td><td>i32</td></tr></thead><tbody><tr><td>&quot;U1077&quot;</td><td>135085</td><td>2</td><td>2</td><td>2</td><td>&quot;false&quot;</td><td>&quot;social drinker&quot;</td><td>&quot;elegant&quot;</td><td>&quot;family&quot;</td><td>&quot;public&quot;</td><td>&quot;married&quot;</td><td>&quot;kids&quot;</td><td>1987</td><td>&quot;technology&quot;</td><td>&quot;thrifty-protector&quot;</td><td>&quot;student&quot;</td><td>65</td><td>&quot;medium&quot;</td><td>1.71</td><td>3</td><td>&quot;Tortas Locas Hipocampo&quot;</td><td>&quot;Mexico&quot;</td><td>&quot;No_Alcohol_Served&quot;</td><td>&quot;not permitted&quot;</td><td>&quot;informal&quot;</td><td>&quot;no_accessibility&quot;</td><td>&quot;medium&quot;</td><td>&quot;familiar&quot;</td><td>&quot;f&quot;</td><td>&quot;Fast_Food&quot;</td><td>&quot;public&quot;</td><td>5</td></tr><tr><td>&quot;U1077&quot;</td><td>135085</td><td>2</td><td>2</td><td>2</td><td>&quot;false&quot;</td><td>&quot;social drinker&quot;</td><td>&quot;elegant&quot;</td><td>&quot;family&quot;</td><td>&quot;public&quot;</td><td>&quot;married&quot;</td><td>&quot;kids&quot;</td><td>1987</td><td>&quot;technology&quot;</td><td>&quot;thrifty-protector&quot;</td><td>&quot;student&quot;</td><td>65</td><td>&quot;medium&quot;</td><td>1.71</td><td>3</td><td>&quot;Tortas Locas Hipocampo&quot;</td><td>&quot;Mexico&quot;</td><td>&quot;No_Alcohol_Served&quot;</td><td>&quot;not permitted&quot;</td><td>&quot;informal&quot;</td><td>&quot;no_accessibility&quot;</td><td>&quot;medium&quot;</td><td>&quot;familiar&quot;</td><td>&quot;f&quot;</td><td>&quot;Fast_Food&quot;</td><td>&quot;public&quot;</td><td>5</td></tr><tr><td>&quot;U1077&quot;</td><td>135085</td><td>2</td><td>2</td><td>2</td><td>&quot;false&quot;</td><td>&quot;social drinker&quot;</td><td>&quot;elegant&quot;</td><td>&quot;family&quot;</td><td>&quot;public&quot;</td><td>&quot;married&quot;</td><td>&quot;kids&quot;</td><td>1987</td><td>&quot;technology&quot;</td><td>&quot;thrifty-protector&quot;</td><td>&quot;student&quot;</td><td>65</td><td>&quot;medium&quot;</td><td>1.71</td><td>3</td><td>&quot;Tortas Locas Hipocampo&quot;</td><td>&quot;Mexico&quot;</td><td>&quot;No_Alcohol_Served&quot;</td><td>&quot;not permitted&quot;</td><td>&quot;informal&quot;</td><td>&quot;no_accessibility&quot;</td><td>&quot;medium&quot;</td><td>&quot;familiar&quot;</td><td>&quot;f&quot;</td><td>&quot;Fast_Food&quot;</td><td>&quot;public&quot;</td><td>5</td></tr><tr><td>&quot;U1077&quot;</td><td>135085</td><td>2</td><td>2</td><td>2</td><td>&quot;false&quot;</td><td>&quot;social drinker&quot;</td><td>&quot;elegant&quot;</td><td>&quot;family&quot;</td><td>&quot;public&quot;</td><td>&quot;married&quot;</td><td>&quot;kids&quot;</td><td>1987</td><td>&quot;technology&quot;</td><td>&quot;thrifty-protector&quot;</td><td>&quot;student&quot;</td><td>65</td><td>&quot;medium&quot;</td><td>1.71</td><td>3</td><td>&quot;Tortas Locas Hipocampo&quot;</td><td>&quot;Mexico&quot;</td><td>&quot;No_Alcohol_Served&quot;</td><td>&quot;not permitted&quot;</td><td>&quot;informal&quot;</td><td>&quot;no_accessibility&quot;</td><td>&quot;medium&quot;</td><td>&quot;familiar&quot;</td><td>&quot;f&quot;</td><td>&quot;Fast_Food&quot;</td><td>&quot;public&quot;</td><td>5</td></tr><tr><td>&quot;U1077&quot;</td><td>135085</td><td>2</td><td>2</td><td>2</td><td>&quot;false&quot;</td><td>&quot;social drinker&quot;</td><td>&quot;elegant&quot;</td><td>&quot;family&quot;</td><td>&quot;public&quot;</td><td>&quot;married&quot;</td><td>&quot;kids&quot;</td><td>1987</td><td>&quot;technology&quot;</td><td>&quot;thrifty-protector&quot;</td><td>&quot;student&quot;</td><td>65</td><td>&quot;medium&quot;</td><td>1.71</td><td>3</td><td>&quot;Tortas Locas Hipocampo&quot;</td><td>&quot;Mexico&quot;</td><td>&quot;No_Alcohol_Served&quot;</td><td>&quot;not permitted&quot;</td><td>&quot;informal&quot;</td><td>&quot;no_accessibility&quot;</td><td>&quot;medium&quot;</td><td>&quot;familiar&quot;</td><td>&quot;f&quot;</td><td>&quot;Fast_Food&quot;</td><td>&quot;public&quot;</td><td>5</td></tr><tr><td>&hellip;</td><td>&hellip;</td><td>&hellip;</td><td>&hellip;</td><td>&hellip;</td><td>&hellip;</td><td>&hellip;</td><td>&hellip;</td><td>&hellip;</td><td>&hellip;</td><td>&hellip;</td><td>&hellip;</td><td>&hellip;</td><td>&hellip;</td><td>&hellip;</td><td>&hellip;</td><td>&hellip;</td><td>&hellip;</td><td>&hellip;</td><td>&hellip;</td><td>&hellip;</td><td>&hellip;</td><td>&hellip;</td><td>&hellip;</td><td>&hellip;</td><td>&hellip;</td><td>&hellip;</td><td>&hellip;</td><td>&hellip;</td><td>&hellip;</td><td>&hellip;</td><td>&hellip;</td></tr><tr><td>&quot;U1068&quot;</td><td>132594</td><td>1</td><td>1</td><td>1</td><td>&quot;false&quot;</td><td>&quot;casual drinker&quot;</td><td>&quot;informal&quot;</td><td>&quot;friends&quot;</td><td>&quot;public&quot;</td><td>&quot;single&quot;</td><td>&quot;independent&quot;</td><td>1988</td><td>&quot;technology&quot;</td><td>&quot;thrifty-protector&quot;</td><td>&quot;student&quot;</td><td>72</td><td>&quot;low&quot;</td><td>1.57</td><td>2</td><td>&quot;tacos de barbacoa enfrente del…</td><td>null</td><td>&quot;No_Alcohol_Served&quot;</td><td>&quot;not permitted&quot;</td><td>&quot;informal&quot;</td><td>&quot;completely&quot;</td><td>&quot;low&quot;</td><td>&quot;familiar&quot;</td><td>&quot;f&quot;</td><td>&quot;Mexican&quot;</td><td>&quot;public&quot;</td><td>2</td></tr><tr><td>&quot;U1068&quot;</td><td>132594</td><td>1</td><td>1</td><td>1</td><td>&quot;false&quot;</td><td>&quot;casual drinker&quot;</td><td>&quot;informal&quot;</td><td>&quot;friends&quot;</td><td>&quot;public&quot;</td><td>&quot;single&quot;</td><td>&quot;independent&quot;</td><td>1988</td><td>&quot;technology&quot;</td><td>&quot;thrifty-protector&quot;</td><td>&quot;student&quot;</td><td>72</td><td>&quot;low&quot;</td><td>1.57</td><td>2</td><td>&quot;tacos de barbacoa enfrente del…</td><td>null</td><td>&quot;No_Alcohol_Served&quot;</td><td>&quot;not permitted&quot;</td><td>&quot;informal&quot;</td><td>&quot;completely&quot;</td><td>&quot;low&quot;</td><td>&quot;familiar&quot;</td><td>&quot;f&quot;</td><td>&quot;Mexican&quot;</td><td>&quot;public&quot;</td><td>2</td></tr><tr><td>&quot;U1068&quot;</td><td>132660</td><td>0</td><td>0</td><td>0</td><td>&quot;false&quot;</td><td>&quot;casual drinker&quot;</td><td>&quot;informal&quot;</td><td>&quot;friends&quot;</td><td>&quot;public&quot;</td><td>&quot;single&quot;</td><td>&quot;independent&quot;</td><td>1988</td><td>&quot;technology&quot;</td><td>&quot;thrifty-protector&quot;</td><td>&quot;student&quot;</td><td>72</td><td>&quot;low&quot;</td><td>1.57</td><td>0</td><td>&quot;carnitas mata calle Emilio Por…</td><td>null</td><td>&quot;No_Alcohol_Served&quot;</td><td>null</td><td>&quot;informal&quot;</td><td>&quot;completely&quot;</td><td>&quot;low&quot;</td><td>&quot;familiar&quot;</td><td>&quot;f&quot;</td><td>null</td><td>null</td><td>2</td></tr><tr><td>&quot;U1068&quot;</td><td>132660</td><td>0</td><td>0</td><td>0</td><td>&quot;false&quot;</td><td>&quot;casual drinker&quot;</td><td>&quot;informal&quot;</td><td>&quot;friends&quot;</td><td>&quot;public&quot;</td><td>&quot;single&quot;</td><td>&quot;independent&quot;</td><td>1988</td><td>&quot;technology&quot;</td><td>&quot;thrifty-protector&quot;</td><td>&quot;student&quot;</td><td>72</td><td>&quot;low&quot;</td><td>1.57</td><td>0</td><td>&quot;carnitas mata calle Emilio Por…</td><td>null</td><td>&quot;No_Alcohol_Served&quot;</td><td>null</td><td>&quot;informal&quot;</td><td>&quot;completely&quot;</td><td>&quot;low&quot;</td><td>&quot;familiar&quot;</td><td>&quot;f&quot;</td><td>null</td><td>null</td><td>2</td></tr><tr><td>&quot;U1068&quot;</td><td>132660</td><td>0</td><td>0</td><td>0</td><td>&quot;false&quot;</td><td>&quot;casual drinker&quot;</td><td>&quot;informal&quot;</td><td>&quot;friends&quot;</td><td>&quot;public&quot;</td><td>&quot;single&quot;</td><td>&quot;independent&quot;</td><td>1988</td><td>&quot;technology&quot;</td><td>&quot;thrifty-protector&quot;</td><td>&quot;student&quot;</td><td>72</td><td>&quot;low&quot;</td><td>1.57</td><td>0</td><td>&quot;carnitas mata calle Emilio Por…</td><td>null</td><td>&quot;No_Alcohol_Served&quot;</td><td>null</td><td>&quot;informal&quot;</td><td>&quot;completely&quot;</td><td>&quot;low&quot;</td><td>&quot;familiar&quot;</td><td>&quot;f&quot;</td><td>null</td><td>null</td><td>2</td></tr></tbody></table></div>"
      ],
      "text/plain": [
       "shape: (31_559, 32)\n",
       "┌────────┬─────────┬────────┬─────────────┬───┬───────────┬───────────┬─────────────┬──────────────┐\n",
       "│ userID ┆ placeID ┆ rating ┆ food_rating ┆ … ┆ franchise ┆ Rcuisine  ┆ parking_lot ┆ restaurant_c │\n",
       "│ ---    ┆ ---     ┆ ---    ┆ ---         ┆   ┆ ---       ┆ ---       ┆ ---         ┆ luster       │\n",
       "│ str    ┆ i64     ┆ i64    ┆ i64         ┆   ┆ str       ┆ str       ┆ str         ┆ ---          │\n",
       "│        ┆         ┆        ┆             ┆   ┆           ┆           ┆             ┆ i32          │\n",
       "╞════════╪═════════╪════════╪═════════════╪═══╪═══════════╪═══════════╪═════════════╪══════════════╡\n",
       "│ U1077  ┆ 135085  ┆ 2      ┆ 2           ┆ … ┆ f         ┆ Fast_Food ┆ public      ┆ 5            │\n",
       "│ U1077  ┆ 135085  ┆ 2      ┆ 2           ┆ … ┆ f         ┆ Fast_Food ┆ public      ┆ 5            │\n",
       "│ U1077  ┆ 135085  ┆ 2      ┆ 2           ┆ … ┆ f         ┆ Fast_Food ┆ public      ┆ 5            │\n",
       "│ U1077  ┆ 135085  ┆ 2      ┆ 2           ┆ … ┆ f         ┆ Fast_Food ┆ public      ┆ 5            │\n",
       "│ U1077  ┆ 135085  ┆ 2      ┆ 2           ┆ … ┆ f         ┆ Fast_Food ┆ public      ┆ 5            │\n",
       "│ …      ┆ …       ┆ …      ┆ …           ┆ … ┆ …         ┆ …         ┆ …           ┆ …            │\n",
       "│ U1068  ┆ 132594  ┆ 1      ┆ 1           ┆ … ┆ f         ┆ Mexican   ┆ public      ┆ 2            │\n",
       "│ U1068  ┆ 132594  ┆ 1      ┆ 1           ┆ … ┆ f         ┆ Mexican   ┆ public      ┆ 2            │\n",
       "│ U1068  ┆ 132660  ┆ 0      ┆ 0           ┆ … ┆ f         ┆ null      ┆ null        ┆ 2            │\n",
       "│ U1068  ┆ 132660  ┆ 0      ┆ 0           ┆ … ┆ f         ┆ null      ┆ null        ┆ 2            │\n",
       "│ U1068  ┆ 132660  ┆ 0      ┆ 0           ┆ … ┆ f         ┆ null      ┆ null        ┆ 2            │\n",
       "└────────┴─────────┴────────┴─────────────┴───┴───────────┴───────────┴─────────────┴──────────────┘"
      ]
     },
     "execution_count": 34,
     "metadata": {},
     "output_type": "execute_result"
    }
   ],
   "source": [
    "user_rest_cluster_df = user_rest_cluster_df.drop([\"rating_right\", \"food_rating_right\", \"service_rating_right\"])\n",
    "\n",
    "user_rest_cluster_df"
   ]
  },
  {
   "cell_type": "markdown",
   "metadata": {},
   "source": [
    "## Classification"
   ]
  },
  {
   "cell_type": "code",
   "execution_count": 36,
   "metadata": {},
   "outputs": [
    {
     "data": {
      "text/plain": [
       "0.9106435565131975"
      ]
     },
     "execution_count": 36,
     "metadata": {},
     "output_type": "execute_result"
    }
   ],
   "source": [
    "user_rest_cluster_df[\"rating\"].mean()"
   ]
  },
  {
   "cell_type": "code",
   "execution_count": 37,
   "metadata": {},
   "outputs": [
    {
     "data": {
      "text/plain": [
       "<bound method Series.value_counts of shape: (31_559,)\n",
       "Series: 'rating' [i64]\n",
       "[\n",
       "\t2\n",
       "\t2\n",
       "\t2\n",
       "\t2\n",
       "\t2\n",
       "\t…\n",
       "\t1\n",
       "\t1\n",
       "\t0\n",
       "\t0\n",
       "\t0\n",
       "]>"
      ]
     },
     "execution_count": 37,
     "metadata": {},
     "output_type": "execute_result"
    }
   ],
   "source": [
    "user_rest_cluster_df[\"rating\"].value_counts"
   ]
  },
  {
   "cell_type": "code",
   "execution_count": 42,
   "metadata": {},
   "outputs": [],
   "source": [
    "df_pl = user_rest_cluster_df.clone()\n",
    "\n",
    "# Step 2: Binary classification target\n",
    "df_pl = df_pl.with_columns([\n",
    "    (pl.col(\"rating\") >= 2).cast(pl.Int8).alias(\"binary_rating\")\n",
    "])\n",
    "\n"
   ]
  },
  {
   "cell_type": "code",
   "execution_count": 43,
   "metadata": {},
   "outputs": [],
   "source": [
    "drop_cols = [\n",
    "    \"userID\", \"placeID\", \"rating\", \"name\", \"country\",\n",
    "    \"binary_rating\"  # exclude from features\n",
    "]\n",
    "feature_cols = [col for col in df_pl.columns if col not in drop_cols]\n",
    "\n",
    "# Step 4: Convert to Pandas for sklearn\n",
    "df_pd = df_pl.select(feature_cols + [\"binary_rating\"]).to_pandas()\n",
    "\n",
    "# Step 5: Drop rows with missing values\n",
    "df_pd = df_pd.dropna()"
   ]
  },
  {
   "cell_type": "code",
   "execution_count": 44,
   "metadata": {},
   "outputs": [],
   "source": [
    "X = df_pd.drop(columns=\"binary_rating\")\n",
    "y = df_pd[\"binary_rating\"]\n",
    "\n",
    "# Step 7: Identify categorical and numeric features\n",
    "categorical_cols = X.select_dtypes(include=[\"object\"]).columns.tolist()\n",
    "numeric_cols = X.select_dtypes(include=[\"int64\", \"float64\"]).columns.tolist()\n",
    "\n",
    "# Step 8: Preprocessing\n",
    "preprocessor = ColumnTransformer([\n",
    "    (\"num\", StandardScaler(), numeric_cols),\n",
    "    (\"cat\", OneHotEncoder(handle_unknown=\"ignore\", sparse_output=False), categorical_cols)\n",
    "])"
   ]
  },
  {
   "cell_type": "code",
   "execution_count": 45,
   "metadata": {},
   "outputs": [],
   "source": [
    "# Step 9: Build and train pipeline\n",
    "pipeline = Pipeline([\n",
    "    (\"preprocessor\", preprocessor),\n",
    "    (\"classifier\", LogisticRegression(max_iter=1000))\n",
    "])\n",
    "\n",
    "# Step 10: Train/test split and fit\n",
    "X_train, X_test, y_train, y_test = train_test_split(X, y, test_size=0.2, random_state=42)\n",
    "pipeline.fit(X_train, y_train)\n",
    "\n",
    "# Step 11: Evaluation\n",
    "y_pred = pipeline.predict(X_test)\n",
    "y_proba = pipeline.predict_proba(X_test)[:, 1]\n"
   ]
  },
  {
   "cell_type": "code",
   "execution_count": 46,
   "metadata": {},
   "outputs": [
    {
     "name": "stdout",
     "output_type": "stream",
     "text": [
      "Confusion Matrix:\n",
      "[[1158   27]\n",
      " [  19  830]]\n",
      "\n",
      "Classification Report:\n",
      "              precision    recall  f1-score   support\n",
      "\n",
      "           0       0.98      0.98      0.98      1185\n",
      "           1       0.97      0.98      0.97       849\n",
      "\n",
      "    accuracy                           0.98      2034\n",
      "   macro avg       0.98      0.98      0.98      2034\n",
      "weighted avg       0.98      0.98      0.98      2034\n",
      "\n"
     ]
    }
   ],
   "source": [
    "print(\"Confusion Matrix:\")\n",
    "print(confusion_matrix(y_test, y_pred))\n",
    "\n",
    "print(\"\\nClassification Report:\")\n",
    "print(classification_report(y_test, y_pred))"
   ]
  },
  {
   "cell_type": "code",
   "execution_count": 50,
   "metadata": {},
   "outputs": [
    {
     "data": {
      "image/png": "[encoded data removed]",
      "text/plain": [
       "<Figure size 640x480 with 2 Axes>"
      ]
     },
     "metadata": {},
     "output_type": "display_data"
    }
   ],
   "source": [
    "# Plot confusion matrix \n",
    "cm = confusion_matrix(y_test, y_pred)\n",
    "disp = ConfusionMatrixDisplay(confusion_matrix=cm)\n",
    "disp.plot(cmap=plt.cm.Blues)\n",
    "plt.title(\"Confusion Matrix\")\n",
    "plt.show()"
   ]
  },
  {
   "cell_type": "code",
   "execution_count": 52,
   "metadata": {},
   "outputs": [],
   "source": [
    "\n",
    "# Step 1: Get the trained logistic regression model\n",
    "logreg = pipeline.named_steps[\"classifier\"]\n",
    "\n",
    "# Step 2: Get feature names after transformation\n",
    "# This is important because we one-hot encoded categorical columns\n",
    "preprocessor = pipeline.named_steps[\"preprocessor\"]\n",
    "\n",
    "# Get numeric feature names\n",
    "numeric_features = preprocessor.transformers_[0][2]\n",
    "\n",
    "# Get categorical feature names from the encoder\n",
    "categorical_encoder = preprocessor.transformers_[1][1]\n",
    "categorical_feature_names = preprocessor.transformers_[1][2]\n",
    "encoded_cat_names = categorical_encoder.get_feature_names_out(categorical_feature_names)\n",
    "\n",
    "# Combine all feature names\n",
    "all_feature_names = np.concatenate([numeric_features, encoded_cat_names])\n",
    "\n",
    "# Step 3: Get coefficients and align with feature names\n",
    "coefficients = logreg.coef_[0]\n",
    "\n",
    "# Step 4: Create a DataFrame for easy viewing\n",
    "feature_importance_df = pd.DataFrame({\n",
    "    \"Feature\": all_feature_names,\n",
    "    \"Coefficient\": coefficients,\n",
    "    \"Absolute Importance\": np.abs(coefficients)\n",
    "}).sort_values(by=\"Absolute Importance\", ascending=False)\n",
    "\n"
   ]
  },
  {
   "cell_type": "code",
   "execution_count": 53,
   "metadata": {},
   "outputs": [
    {
     "data": {
      "text/html": [
       "<div>\n",
       "<style scoped>\n",
       "    .dataframe tbody tr th:only-of-type {\n",
       "        vertical-align: middle;\n",
       "    }\n",
       "\n",
       "    .dataframe tbody tr th {\n",
       "        vertical-align: top;\n",
       "    }\n",
       "\n",
       "    .dataframe thead th {\n",
       "        text-align: right;\n",
       "    }\n",
       "</style>\n",
       "<table border=\"1\" class=\"dataframe\">\n",
       "  <thead>\n",
       "    <tr style=\"text-align: right;\">\n",
       "      <th></th>\n",
       "      <th>Feature</th>\n",
       "      <th>Coefficient</th>\n",
       "      <th>Absolute Importance</th>\n",
       "    </tr>\n",
       "  </thead>\n",
       "  <tbody>\n",
       "    <tr>\n",
       "      <th>10</th>\n",
       "      <td>dress_preference_elegant</td>\n",
       "      <td>3.983613</td>\n",
       "      <td>3.983613</td>\n",
       "    </tr>\n",
       "    <tr>\n",
       "      <th>42</th>\n",
       "      <td>smoking_area_not permitted</td>\n",
       "      <td>-3.723107</td>\n",
       "      <td>3.723107</td>\n",
       "    </tr>\n",
       "    <tr>\n",
       "      <th>1</th>\n",
       "      <td>service_rating</td>\n",
       "      <td>3.343022</td>\n",
       "      <td>3.343022</td>\n",
       "    </tr>\n",
       "    <tr>\n",
       "      <th>16</th>\n",
       "      <td>ambience_solitary</td>\n",
       "      <td>-3.316672</td>\n",
       "      <td>3.316672</td>\n",
       "    </tr>\n",
       "    <tr>\n",
       "      <th>20</th>\n",
       "      <td>marital_status_married</td>\n",
       "      <td>-3.210808</td>\n",
       "      <td>3.210808</td>\n",
       "    </tr>\n",
       "    <tr>\n",
       "      <th>75</th>\n",
       "      <td>parking_lot_valet parking</td>\n",
       "      <td>-3.150785</td>\n",
       "      <td>3.150785</td>\n",
       "    </tr>\n",
       "    <tr>\n",
       "      <th>68</th>\n",
       "      <td>Rcuisine_Japanese</td>\n",
       "      <td>-3.150785</td>\n",
       "      <td>3.150785</td>\n",
       "    </tr>\n",
       "    <tr>\n",
       "      <th>67</th>\n",
       "      <td>Rcuisine_Italian</td>\n",
       "      <td>-2.892728</td>\n",
       "      <td>2.892728</td>\n",
       "    </tr>\n",
       "    <tr>\n",
       "      <th>26</th>\n",
       "      <td>interest_retro</td>\n",
       "      <td>-2.862358</td>\n",
       "      <td>2.862358</td>\n",
       "    </tr>\n",
       "    <tr>\n",
       "      <th>44</th>\n",
       "      <td>smoking_area_section</td>\n",
       "      <td>2.853341</td>\n",
       "      <td>2.853341</td>\n",
       "    </tr>\n",
       "    <tr>\n",
       "      <th>25</th>\n",
       "      <td>interest_eco-friendly</td>\n",
       "      <td>2.726456</td>\n",
       "      <td>2.726456</td>\n",
       "    </tr>\n",
       "    <tr>\n",
       "      <th>0</th>\n",
       "      <td>food_rating</td>\n",
       "      <td>2.529258</td>\n",
       "      <td>2.529258</td>\n",
       "    </tr>\n",
       "    <tr>\n",
       "      <th>38</th>\n",
       "      <td>budget_medium</td>\n",
       "      <td>2.451854</td>\n",
       "      <td>2.451854</td>\n",
       "    </tr>\n",
       "    <tr>\n",
       "      <th>22</th>\n",
       "      <td>marital_status_widow</td>\n",
       "      <td>2.301381</td>\n",
       "      <td>2.301381</td>\n",
       "    </tr>\n",
       "    <tr>\n",
       "      <th>11</th>\n",
       "      <td>dress_preference_formal</td>\n",
       "      <td>-2.297285</td>\n",
       "      <td>2.297285</td>\n",
       "    </tr>\n",
       "  </tbody>\n",
       "</table>\n",
       "</div>"
      ],
      "text/plain": [
       "                       Feature  Coefficient  Absolute Importance\n",
       "10    dress_preference_elegant     3.983613             3.983613\n",
       "42  smoking_area_not permitted    -3.723107             3.723107\n",
       "1               service_rating     3.343022             3.343022\n",
       "16           ambience_solitary    -3.316672             3.316672\n",
       "20      marital_status_married    -3.210808             3.210808\n",
       "75   parking_lot_valet parking    -3.150785             3.150785\n",
       "68           Rcuisine_Japanese    -3.150785             3.150785\n",
       "67            Rcuisine_Italian    -2.892728             2.892728\n",
       "26              interest_retro    -2.862358             2.862358\n",
       "44        smoking_area_section     2.853341             2.853341\n",
       "25       interest_eco-friendly     2.726456             2.726456\n",
       "0                  food_rating     2.529258             2.529258\n",
       "38               budget_medium     2.451854             2.451854\n",
       "22        marital_status_widow     2.301381             2.301381\n",
       "11     dress_preference_formal    -2.297285             2.297285"
      ]
     },
     "execution_count": 53,
     "metadata": {},
     "output_type": "execute_result"
    }
   ],
   "source": [
    "# Display top features\n",
    "feature_importance_df.head(15)"
   ]
  },
  {
   "cell_type": "code",
   "execution_count": 54,
   "metadata": {},
   "outputs": [
    {
     "data": {
      "image/png": "[encoded data removed]",
      "text/plain": [
       "<Figure size 1000x600 with 1 Axes>"
      ]
     },
     "metadata": {},
     "output_type": "display_data"
    }
   ],
   "source": [
    "# Plotting feature importance\n",
    "plt.figure(figsize=(10, 6))\n",
    "plt.barh(feature_importance_df[\"Feature\"][:15], feature_importance_df[\"Absolute Importance\"][:15])\n",
    "plt.xlabel(\"Absolute Coefficient Value\")\n",
    "plt.title(\"Top 15 Feature Importances\")\n",
    "plt.gca().invert_yaxis()\n",
    "plt.show()"
   ]
  },
  {
   "cell_type": "code",
   "execution_count": null,
   "metadata": {},
   "outputs": [],
   "source": []
  }
 ],
 "metadata": {
  "kernelspec": {
   "display_name": "Python 3",
   "language": "python",
   "name": "python3"
  },
  "language_info": {
   "codemirror_mode": {
    "name": "ipython",
    "version": 3
   },
   "file_extension": ".py",
   "mimetype": "text/x-python",
   "name": "python",
   "nbconvert_exporter": "python",
   "pygments_lexer": "ipython3",
   "version": "3.9.6"
  }
 },
 "nbformat": 4,
 "nbformat_minor": 2
}
