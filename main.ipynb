{
 "cells": [
  {
   "cell_type": "markdown",
   "metadata": {},
   "source": [
    "# Group Project\n",
    "## NAMES"
   ]
  },
  {
   "cell_type": "code",
   "execution_count": 2,
   "metadata": {},
   "outputs": [],
   "source": [
    "import polars as pl\n",
    "import plotly.express as px\n",
    "from sklearn.pipeline import Pipeline\n",
    "from sklearn.preprocessing import StandardScaler\n",
    "from sklearn.cluster import KMeans\n",
    "from sklearn.model_selection import train_test_split\n",
    "from sklearn.preprocessing import LabelEncoder, OneHotEncoder\n",
    "from sklearn.compose import ColumnTransformer\n",
    "from sklearn.pipeline import Pipeline\n",
    "from sklearn.linear_model import LogisticRegression\n",
    "from sklearn.ensemble import RandomForestClassifier\n",
    "from sklearn.discriminant_analysis import LinearDiscriminantAnalysis\n",
    "from sklearn.metrics import confusion_matrix, accuracy_score"
   ]
  },
  {
   "cell_type": "markdown",
   "metadata": {},
   "source": [
    "## Data Prep"
   ]
  },
  {
   "cell_type": "code",
   "execution_count": 6,
   "metadata": {},
   "outputs": [],
   "source": [
    "#reading in restaurant specific data\n",
    "restaurant_accepts = pl.read_csv('chefmozaccepts.csv')\n",
    "restaurant_cuisine = pl.read_csv('chefmozcuisine.csv')\n",
    "restaurant_hours = pl.read_csv('chefmozhours4.csv')\n",
    "restaurant_parking = pl.read_csv('chefmozparking.csv')\n",
    "restaurant_geo = pl.read_csv('geoplaces2.csv')\n",
    "\n",
    "#reading in user specific data\n",
    "user_cuisine = pl.read_csv('usercuisine.csv')\n",
    "user_payment = pl.read_csv('userpayment.csv')\n",
    "user_profile = pl.read_csv('userprofile.csv')\n",
    "\n",
    "#reading in rating data\n",
    "ratings = pl.read_csv('rating_final.csv')"
   ]
  },
  {
   "cell_type": "code",
   "execution_count": 9,
   "metadata": {},
   "outputs": [
    {
     "name": "stdout",
     "output_type": "stream",
     "text": [
      "shape: (901, 26)\n",
      "┌─────────┬───────────┬────────────┬────────────┬───┬──────────┬───────────┬───────────┬───────────┐\n",
      "│ placeID ┆ latitude  ┆ longitude  ┆ the_geom_m ┆ … ┆ Rcuisine ┆ hours     ┆ days      ┆ parking_l │\n",
      "│ ---     ┆ ---       ┆ ---        ┆ eter       ┆   ┆ ---      ┆ ---       ┆ ---       ┆ ot        │\n",
      "│ i64     ┆ f64       ┆ f64        ┆ ---        ┆   ┆ str      ┆ str       ┆ str       ┆ ---       │\n",
      "│         ┆           ┆            ┆ str        ┆   ┆          ┆           ┆           ┆ str       │\n",
      "╞═════════╪═══════════╪════════════╪════════════╪═══╪══════════╪═══════════╪═══════════╪═══════════╡\n",
      "│ 134999  ┆ 18.915421 ┆ -99.184871 ┆ 0101000020 ┆ … ┆ Japanese ┆ 11:00-21: ┆ Mon;Tue;W ┆ none      │\n",
      "│         ┆           ┆            ┆ 957F000088 ┆   ┆          ┆ 00;       ┆ ed;Thu;Fr ┆           │\n",
      "│         ┆           ┆            ┆ 568DE35671 ┆   ┆          ┆           ┆ i;        ┆           │\n",
      "│         ┆           ┆            ┆ …          ┆   ┆          ┆           ┆           ┆           │\n",
      "│ 134999  ┆ 18.915421 ┆ -99.184871 ┆ 0101000020 ┆ … ┆ Japanese ┆ 11:00-21: ┆ Sat;      ┆ none      │\n",
      "│         ┆           ┆            ┆ 957F000088 ┆   ┆          ┆ 00;       ┆           ┆           │\n",
      "│         ┆           ┆            ┆ 568DE35671 ┆   ┆          ┆           ┆           ┆           │\n",
      "│         ┆           ┆            ┆ …          ┆   ┆          ┆           ┆           ┆           │\n",
      "│ 134999  ┆ 18.915421 ┆ -99.184871 ┆ 0101000020 ┆ … ┆ Japanese ┆ 11:00-21: ┆ Sun;      ┆ none      │\n",
      "│         ┆           ┆            ┆ 957F000088 ┆   ┆          ┆ 00;       ┆           ┆           │\n",
      "│         ┆           ┆            ┆ 568DE35671 ┆   ┆          ┆           ┆           ┆           │\n",
      "│         ┆           ┆            ┆ …          ┆   ┆          ┆           ┆           ┆           │\n",
      "│ 132825  ┆ 22.147392 ┆ -100.98309 ┆ 0101000020 ┆ … ┆ Mexican  ┆ 09:00-12: ┆ Mon;Tue;W ┆ none      │\n",
      "│         ┆           ┆ 2          ┆ 957F00001A ┆   ┆          ┆ 00;       ┆ ed;Thu;Fr ┆           │\n",
      "│         ┆           ┆            ┆ D016568C48 ┆   ┆          ┆           ┆ i;        ┆           │\n",
      "│         ┆           ┆            ┆ …          ┆   ┆          ┆           ┆           ┆           │\n",
      "│ 132825  ┆ 22.147392 ┆ -100.98309 ┆ 0101000020 ┆ … ┆ Mexican  ┆ 09:00-12: ┆ Sat;      ┆ none      │\n",
      "│         ┆           ┆ 2          ┆ 957F00001A ┆   ┆          ┆ 00;       ┆           ┆           │\n",
      "│         ┆           ┆            ┆ D016568C48 ┆   ┆          ┆           ┆           ┆           │\n",
      "│         ┆           ┆            ┆ …          ┆   ┆          ┆           ┆           ┆           │\n",
      "│ …       ┆ …         ┆ …          ┆ …          ┆ … ┆ …        ┆ …         ┆ …         ┆ …         │\n",
      "│ 135019  ┆ 18.875011 ┆ -99.159422 ┆ 0101000020 ┆ … ┆ Bar      ┆ 00:00-00: ┆ Sat;      ┆ none      │\n",
      "│         ┆           ┆            ┆ 957F0000B4 ┆   ┆          ┆ 00;       ┆           ┆           │\n",
      "│         ┆           ┆            ┆ 9B2E5C6E78 ┆   ┆          ┆           ┆           ┆           │\n",
      "│         ┆           ┆            ┆ …          ┆   ┆          ┆           ┆           ┆           │\n",
      "│ 135019  ┆ 18.875011 ┆ -99.159422 ┆ 0101000020 ┆ … ┆ Bar      ┆ 00:00-00: ┆ Sun;      ┆ none      │\n",
      "│         ┆           ┆            ┆ 957F0000B4 ┆   ┆          ┆ 00;       ┆           ┆           │\n",
      "│         ┆           ┆            ┆ 9B2E5C6E78 ┆   ┆          ┆           ┆           ┆           │\n",
      "│         ┆           ┆            ┆ …          ┆   ┆          ┆           ┆           ┆           │\n",
      "│ 132877  ┆ 22.135364 ┆ -100.93494 ┆ 0101000020 ┆ … ┆ null     ┆ 00:00-23: ┆ Mon;Tue;W ┆ none      │\n",
      "│         ┆           ┆ 8          ┆ 957F000090 ┆   ┆          ┆ 30;       ┆ ed;Thu;Fr ┆           │\n",
      "│         ┆           ┆            ┆ 735015B84B ┆   ┆          ┆           ┆ i;        ┆           │\n",
      "│         ┆           ┆            ┆ …          ┆   ┆          ┆           ┆           ┆           │\n",
      "│ 132877  ┆ 22.135364 ┆ -100.93494 ┆ 0101000020 ┆ … ┆ null     ┆ 00:00-23: ┆ Sat;      ┆ none      │\n",
      "│         ┆           ┆ 8          ┆ 957F000090 ┆   ┆          ┆ 30;       ┆           ┆           │\n",
      "│         ┆           ┆            ┆ 735015B84B ┆   ┆          ┆           ┆           ┆           │\n",
      "│         ┆           ┆            ┆ …          ┆   ┆          ┆           ┆           ┆           │\n",
      "│ 132877  ┆ 22.135364 ┆ -100.93494 ┆ 0101000020 ┆ … ┆ null     ┆ 00:00-23: ┆ Sun;      ┆ none      │\n",
      "│         ┆           ┆ 8          ┆ 957F000090 ┆   ┆          ┆ 30;       ┆           ┆           │\n",
      "│         ┆           ┆            ┆ 735015B84B ┆   ┆          ┆           ┆           ┆           │\n",
      "│         ┆           ┆            ┆ …          ┆   ┆          ┆           ┆           ┆           │\n",
      "└─────────┴───────────┴────────────┴────────────┴───┴──────────┴───────────┴───────────┴───────────┘\n",
      "shape: (416, 21)\n",
      "┌────────┬───────────┬─────────────┬────────┬───┬────────┬────────┬────────────────┬───────────────┐\n",
      "│ userID ┆ latitude  ┆ longitude   ┆ smoker ┆ … ┆ budget ┆ height ┆ Rcuisine       ┆ Upayment      │\n",
      "│ ---    ┆ ---       ┆ ---         ┆ ---    ┆   ┆ ---    ┆ ---    ┆ ---            ┆ ---           │\n",
      "│ str    ┆ f64       ┆ f64         ┆ str    ┆   ┆ str    ┆ f64    ┆ str            ┆ str           │\n",
      "╞════════╪═══════════╪═════════════╪════════╪═══╪════════╪════════╪════════════════╪═══════════════╡\n",
      "│ U1001  ┆ 22.139997 ┆ -100.978803 ┆ false  ┆ … ┆ medium ┆ 1.77   ┆ American       ┆ cash          │\n",
      "│ U1002  ┆ 22.150087 ┆ -100.983325 ┆ false  ┆ … ┆ low    ┆ 1.87   ┆ Mexican        ┆ cash          │\n",
      "│ U1003  ┆ 22.119847 ┆ -100.946527 ┆ false  ┆ … ┆ low    ┆ 1.69   ┆ Mexican        ┆ cash          │\n",
      "│ U1004  ┆ 18.867    ┆ -99.183     ┆ false  ┆ … ┆ medium ┆ 1.53   ┆ Bakery         ┆ cash          │\n",
      "│ U1004  ┆ 18.867    ┆ -99.183     ┆ false  ┆ … ┆ medium ┆ 1.53   ┆ Bakery         ┆ bank_debit_ca │\n",
      "│        ┆           ┆             ┆        ┆   ┆        ┆        ┆                ┆ rds           │\n",
      "│ …      ┆ …         ┆ …           ┆ …      ┆ … ┆ …      ┆ …      ┆ …              ┆ …             │\n",
      "│ U1135  ┆ 22.170396 ┆ -100.949936 ┆ false  ┆ … ┆ low    ┆ 1.54   ┆ Southern       ┆ cash          │\n",
      "│ U1135  ┆ 22.170396 ┆ -100.949936 ┆ false  ┆ … ┆ low    ┆ 1.54   ┆ Dessert-Ice_Cr ┆ cash          │\n",
      "│        ┆           ┆             ┆        ┆   ┆        ┆        ┆ eam            ┆               │\n",
      "│ U1136  ┆ 22.149607 ┆ -100.997235 ┆ true   ┆ … ┆ low    ┆ 1.6    ┆ Mexican        ┆ cash          │\n",
      "│ U1137  ┆ 22.144803 ┆ -100.944623 ┆ false  ┆ … ┆ low    ┆ 1.78   ┆ Mexican        ┆ cash          │\n",
      "│ U1138  ┆ 22.152884 ┆ -100.939663 ┆ false  ┆ … ┆ medium ┆ 1.55   ┆ Pizzeria       ┆ cash          │\n",
      "└────────┴───────────┴─────────────┴────────┴───┴────────┴────────┴────────────────┴───────────────┘\n"
     ]
    }
   ],
   "source": [
    "#joining all restaurant data frames by 'placeID'\n",
    "restaurant_df = (\n",
    "    restaurant_geo\n",
    "    .join(restaurant_accepts, on=\"placeID\", how=\"left\")\n",
    "    .join(restaurant_cuisine, on=\"placeID\", how=\"left\")\n",
    "    .join(restaurant_hours, on=\"placeID\", how=\"left\")\n",
    "    .join(restaurant_parking, on=\"placeID\", how=\"left\")\n",
    ")\n",
    "print(restaurant_df)\n",
    "\n",
    "#joining all user data frames by 'userID'\n",
    "user_df = (\n",
    "    user_profile\n",
    "    .join(user_cuisine, on=\"userID\", how=\"left\")\n",
    "    .join(user_payment, on=\"userID\", how=\"left\")\n",
    ")\n",
    "print(user_df)"
   ]
  },
  {
   "cell_type": "code",
   "execution_count": 11,
   "metadata": {},
   "outputs": [
    {
     "name": "stdout",
     "output_type": "stream",
     "text": [
      "shape: (901, 26)\n",
      "┌─────────┬───────────┬────────────┬────────────┬───┬──────────┬───────────┬───────────┬───────────┐\n",
      "│ placeID ┆ latitude  ┆ longitude  ┆ the_geom_m ┆ … ┆ Rcuisine ┆ hours     ┆ days      ┆ parking_l │\n",
      "│ ---     ┆ ---       ┆ ---        ┆ eter       ┆   ┆ ---      ┆ ---       ┆ ---       ┆ ot        │\n",
      "│ i64     ┆ f64       ┆ f64        ┆ ---        ┆   ┆ str      ┆ str       ┆ str       ┆ ---       │\n",
      "│         ┆           ┆            ┆ str        ┆   ┆          ┆           ┆           ┆ str       │\n",
      "╞═════════╪═══════════╪════════════╪════════════╪═══╪══════════╪═══════════╪═══════════╪═══════════╡\n",
      "│ 134999  ┆ 18.915421 ┆ -99.184871 ┆ 0101000020 ┆ … ┆ Japanese ┆ 11:00-21: ┆ Mon;Tue;W ┆ none      │\n",
      "│         ┆           ┆            ┆ 957F000088 ┆   ┆          ┆ 00;       ┆ ed;Thu;Fr ┆           │\n",
      "│         ┆           ┆            ┆ 568DE35671 ┆   ┆          ┆           ┆ i;        ┆           │\n",
      "│         ┆           ┆            ┆ …          ┆   ┆          ┆           ┆           ┆           │\n",
      "│ 134999  ┆ 18.915421 ┆ -99.184871 ┆ 0101000020 ┆ … ┆ Japanese ┆ 11:00-21: ┆ Sat;      ┆ none      │\n",
      "│         ┆           ┆            ┆ 957F000088 ┆   ┆          ┆ 00;       ┆           ┆           │\n",
      "│         ┆           ┆            ┆ 568DE35671 ┆   ┆          ┆           ┆           ┆           │\n",
      "│         ┆           ┆            ┆ …          ┆   ┆          ┆           ┆           ┆           │\n",
      "│ 134999  ┆ 18.915421 ┆ -99.184871 ┆ 0101000020 ┆ … ┆ Japanese ┆ 11:00-21: ┆ Sun;      ┆ none      │\n",
      "│         ┆           ┆            ┆ 957F000088 ┆   ┆          ┆ 00;       ┆           ┆           │\n",
      "│         ┆           ┆            ┆ 568DE35671 ┆   ┆          ┆           ┆           ┆           │\n",
      "│         ┆           ┆            ┆ …          ┆   ┆          ┆           ┆           ┆           │\n",
      "│ 132825  ┆ 22.147392 ┆ -100.98309 ┆ 0101000020 ┆ … ┆ Mexican  ┆ 09:00-12: ┆ Mon;Tue;W ┆ none      │\n",
      "│         ┆           ┆ 2          ┆ 957F00001A ┆   ┆          ┆ 00;       ┆ ed;Thu;Fr ┆           │\n",
      "│         ┆           ┆            ┆ D016568C48 ┆   ┆          ┆           ┆ i;        ┆           │\n",
      "│         ┆           ┆            ┆ …          ┆   ┆          ┆           ┆           ┆           │\n",
      "│ 132825  ┆ 22.147392 ┆ -100.98309 ┆ 0101000020 ┆ … ┆ Mexican  ┆ 09:00-12: ┆ Sat;      ┆ none      │\n",
      "│         ┆           ┆ 2          ┆ 957F00001A ┆   ┆          ┆ 00;       ┆           ┆           │\n",
      "│         ┆           ┆            ┆ D016568C48 ┆   ┆          ┆           ┆           ┆           │\n",
      "│         ┆           ┆            ┆ …          ┆   ┆          ┆           ┆           ┆           │\n",
      "│ …       ┆ …         ┆ …          ┆ …          ┆ … ┆ …        ┆ …         ┆ …         ┆ …         │\n",
      "│ 135019  ┆ 18.875011 ┆ -99.159422 ┆ 0101000020 ┆ … ┆ Bar      ┆ 00:00-00: ┆ Sat;      ┆ none      │\n",
      "│         ┆           ┆            ┆ 957F0000B4 ┆   ┆          ┆ 00;       ┆           ┆           │\n",
      "│         ┆           ┆            ┆ 9B2E5C6E78 ┆   ┆          ┆           ┆           ┆           │\n",
      "│         ┆           ┆            ┆ …          ┆   ┆          ┆           ┆           ┆           │\n",
      "│ 135019  ┆ 18.875011 ┆ -99.159422 ┆ 0101000020 ┆ … ┆ Bar      ┆ 00:00-00: ┆ Sun;      ┆ none      │\n",
      "│         ┆           ┆            ┆ 957F0000B4 ┆   ┆          ┆ 00;       ┆           ┆           │\n",
      "│         ┆           ┆            ┆ 9B2E5C6E78 ┆   ┆          ┆           ┆           ┆           │\n",
      "│         ┆           ┆            ┆ …          ┆   ┆          ┆           ┆           ┆           │\n",
      "│ 132877  ┆ 22.135364 ┆ -100.93494 ┆ 0101000020 ┆ … ┆ null     ┆ 00:00-23: ┆ Mon;Tue;W ┆ none      │\n",
      "│         ┆           ┆ 8          ┆ 957F000090 ┆   ┆          ┆ 30;       ┆ ed;Thu;Fr ┆           │\n",
      "│         ┆           ┆            ┆ 735015B84B ┆   ┆          ┆           ┆ i;        ┆           │\n",
      "│         ┆           ┆            ┆ …          ┆   ┆          ┆           ┆           ┆           │\n",
      "│ 132877  ┆ 22.135364 ┆ -100.93494 ┆ 0101000020 ┆ … ┆ null     ┆ 00:00-23: ┆ Sat;      ┆ none      │\n",
      "│         ┆           ┆ 8          ┆ 957F000090 ┆   ┆          ┆ 30;       ┆           ┆           │\n",
      "│         ┆           ┆            ┆ 735015B84B ┆   ┆          ┆           ┆           ┆           │\n",
      "│         ┆           ┆            ┆ …          ┆   ┆          ┆           ┆           ┆           │\n",
      "│ 132877  ┆ 22.135364 ┆ -100.93494 ┆ 0101000020 ┆ … ┆ null     ┆ 00:00-23: ┆ Sun;      ┆ none      │\n",
      "│         ┆           ┆ 8          ┆ 957F000090 ┆   ┆          ┆ 30;       ┆           ┆           │\n",
      "│         ┆           ┆            ┆ 735015B84B ┆   ┆          ┆           ┆           ┆           │\n",
      "│         ┆           ┆            ┆ …          ┆   ┆          ┆           ┆           ┆           │\n",
      "└─────────┴───────────┴────────────┴────────────┴───┴──────────┴───────────┴───────────┴───────────┘\n",
      "['placeID', 'latitude', 'longitude', 'the_geom_meter', 'name', 'address', 'city', 'state', 'country', 'fax', 'zip', 'alcohol', 'smoking_area', 'dress_code', 'accessibility', 'price', 'url', 'Rambience', 'franchise', 'area', 'other_services', 'Rpayment', 'Rcuisine', 'hours', 'days', 'parking_lot']\n"
     ]
    }
   ],
   "source": [
    "\n",
    "print(restaurant_df)\n",
    "print(restaurant_df.columns)"
   ]
  },
  {
   "cell_type": "code",
   "execution_count": 12,
   "metadata": {},
   "outputs": [
    {
     "name": "stdout",
     "output_type": "stream",
     "text": [
      "shape: (416, 21)\n",
      "┌────────┬───────────┬─────────────┬────────┬───┬────────┬────────┬────────────────┬───────────────┐\n",
      "│ userID ┆ latitude  ┆ longitude   ┆ smoker ┆ … ┆ budget ┆ height ┆ Rcuisine       ┆ Upayment      │\n",
      "│ ---    ┆ ---       ┆ ---         ┆ ---    ┆   ┆ ---    ┆ ---    ┆ ---            ┆ ---           │\n",
      "│ str    ┆ f64       ┆ f64         ┆ str    ┆   ┆ str    ┆ f64    ┆ str            ┆ str           │\n",
      "╞════════╪═══════════╪═════════════╪════════╪═══╪════════╪════════╪════════════════╪═══════════════╡\n",
      "│ U1001  ┆ 22.139997 ┆ -100.978803 ┆ false  ┆ … ┆ medium ┆ 1.77   ┆ American       ┆ cash          │\n",
      "│ U1002  ┆ 22.150087 ┆ -100.983325 ┆ false  ┆ … ┆ low    ┆ 1.87   ┆ Mexican        ┆ cash          │\n",
      "│ U1003  ┆ 22.119847 ┆ -100.946527 ┆ false  ┆ … ┆ low    ┆ 1.69   ┆ Mexican        ┆ cash          │\n",
      "│ U1004  ┆ 18.867    ┆ -99.183     ┆ false  ┆ … ┆ medium ┆ 1.53   ┆ Bakery         ┆ cash          │\n",
      "│ U1004  ┆ 18.867    ┆ -99.183     ┆ false  ┆ … ┆ medium ┆ 1.53   ┆ Bakery         ┆ bank_debit_ca │\n",
      "│        ┆           ┆             ┆        ┆   ┆        ┆        ┆                ┆ rds           │\n",
      "│ …      ┆ …         ┆ …           ┆ …      ┆ … ┆ …      ┆ …      ┆ …              ┆ …             │\n",
      "│ U1135  ┆ 22.170396 ┆ -100.949936 ┆ false  ┆ … ┆ low    ┆ 1.54   ┆ Southern       ┆ cash          │\n",
      "│ U1135  ┆ 22.170396 ┆ -100.949936 ┆ false  ┆ … ┆ low    ┆ 1.54   ┆ Dessert-Ice_Cr ┆ cash          │\n",
      "│        ┆           ┆             ┆        ┆   ┆        ┆        ┆ eam            ┆               │\n",
      "│ U1136  ┆ 22.149607 ┆ -100.997235 ┆ true   ┆ … ┆ low    ┆ 1.6    ┆ Mexican        ┆ cash          │\n",
      "│ U1137  ┆ 22.144803 ┆ -100.944623 ┆ false  ┆ … ┆ low    ┆ 1.78   ┆ Mexican        ┆ cash          │\n",
      "│ U1138  ┆ 22.152884 ┆ -100.939663 ┆ false  ┆ … ┆ medium ┆ 1.55   ┆ Pizzeria       ┆ cash          │\n",
      "└────────┴───────────┴─────────────┴────────┴───┴────────┴────────┴────────────────┴───────────────┘\n",
      "['userID', 'latitude', 'longitude', 'smoker', 'drink_level', 'dress_preference', 'ambience', 'transport', 'marital_status', 'hijos', 'birth_year', 'interest', 'personality', 'religion', 'activity', 'color', 'weight', 'budget', 'height', 'Rcuisine', 'Upayment']\n"
     ]
    }
   ],
   "source": [
    "print(user_df)\n",
    "print(user_df.columns)"
   ]
  },
  {
   "cell_type": "markdown",
   "metadata": {},
   "source": [
    "## Model creation"
   ]
  },
  {
   "cell_type": "code",
   "execution_count": 3,
   "metadata": {},
   "outputs": [],
   "source": [
    "# Create K-Means Clustering Pipeline\n",
    "def create_pipeline(num_clusters, random_seed=42):\n",
    "    \"\"\"\n",
    "    Creates a machine learning pipeline with a scaler and KMeans.\n",
    "    \"\"\"\n",
    "    pipeline = Pipeline([\n",
    "        ('scaler', StandardScaler()),\n",
    "        ('kmeans', KMeans(n_clusters=num_clusters, random_state=random_seed))\n",
    "    ])\n",
    "    return pipeline\n",
    "\n",
    "# Determining Optimal Clusters with the Elbow Method\n",
    "def calculate_totwithinss(ratings_df, k):\n",
    "    \"\"\"\n",
    "    Fits a KMeans pipeline and returns the total within-cluster sum of squares.\n",
    "    \"\"\"\n",
    "    kmeans_pipeline = create_pipeline(k, random_seed=10)\n",
    "    # Convert Polars DataFrame to NumPy array\n",
    "    ratings_np = ratings_df.to_numpy()\n",
    "    kmeans_pipeline.fit(ratings_np)\n",
    "    return kmeans_pipeline['kmeans'].inertia_"
   ]
  },
  {
   "cell_type": "code",
   "execution_count": null,
   "metadata": {},
   "outputs": [],
   "source": [
    "# Evaluate for k \n",
    "k_values = range(1, 10)\n",
    "totwithinss_values = [calculate_totwithinss(ratings_df, k) for k in k_values]\n",
    "\n",
    "# Create a DataFrame for results\n",
    "kmeans_results = pl.DataFrame({\n",
    "    'num_clusters': k_values,\n",
    "    'tot_withinss': totwithinss_values\n",
    "})\n"
   ]
  },
  {
   "cell_type": "code",
   "execution_count": null,
   "metadata": {},
   "outputs": [],
   "source": [
    "# Plot the elbow method using Plotly Express\n",
    "elbow_plot = px.line(\n",
    "    data_frame=kmeans_results.to_pandas(),\n",
    "    x='num_clusters',\n",
    "    y='tot_withinss',\n",
    "    markers=True,\n",
    "    labels={\n",
    "        'num_clusters': 'Number of Clusters',\n",
    "        'tot_withinss': 'Total Within SS'\n",
    "    },\n",
    "    title='Elbow Method for Optimal k'\n",
    ")\n",
    "\n",
    "elbow_plot.show()"
   ]
  },
  {
   "cell_type": "code",
   "execution_count": null,
   "metadata": {},
   "outputs": [],
   "source": [
    "# Final K-Means Clustering\n",
    "# Choose the number of clusters based on the elbow method\n",
    "optimal_k = 2\n",
    "\n",
    "# Create and fit the final pipeline\n",
    "rating_kmeans_pipeline = create_pipeline(optimal_k)\n",
    "rating_kmeans_pipeline.fit(ratings_df.to_numpy())\n",
    "\n",
    "# Add cluster labels back to Polars DataFrame (1-indexed and categorical)\n",
    "rating_with_clusters = ratings_df.with_columns(\n",
    "    pl.Series(\n",
    "        name=\"segment_number\",\n",
    "        values=(rating_kmeans_pipeline['kmeans'].labels_ + 1).astype(str)\n",
    "    ).cast(pl.Categorical)\n",
    ")\n",
    "\n",
    "# Show the results\n",
    "print(rating_with_clusters.head())"
   ]
  },
  {
   "cell_type": "code",
   "execution_count": null,
   "metadata": {},
   "outputs": [],
   "source": [
    "# Calculate summary statistics for each segment\n",
    "# Segment Analysis\n",
    "segment_summary = rating_with_clusters.group_by('rating').agg(\n",
    "    [\n",
    "        pl.mean('rating').alias('mean_rating'),\n",
    "        pl.mean('food_rating').alias('mean_food_rating'),\n",
    "        pl.mean('service_rating').alias('mean_service_rating'),\n",
    "        pl.len().alias('n')\n",
    "    ]\n",
    ")\n",
    "\n",
    "segment_summary"
   ]
  },
  {
   "cell_type": "markdown",
   "metadata": {},
   "source": [
    "## Model Selection"
   ]
  },
  {
   "cell_type": "code",
   "execution_count": null,
   "metadata": {},
   "outputs": [],
   "source": [
    "# Convert Polars to Pandas\n",
    "customer_data_transformed_df = customer_data_transformed.to_pandas()\n",
    "\n",
    "# Encode target variable\n",
    "label_encoder = LabelEncoder()\n",
    "customer_data_transformed_df['made_purchase'] = label_encoder.fit_transform(\n",
    "    customer_data_transformed_df['made_purchase']\n",
    ")"
   ]
  },
  {
   "cell_type": "code",
   "execution_count": null,
   "metadata": {},
   "outputs": [],
   "source": [
    "# Define predictors and target\n",
    "features = ['most_recent_transaction', 'log_number_of_transactions', 'log_total_revenue']\n",
    "target = 'made_purchase'\n",
    "\n",
    "# Preprocessing\n",
    "categorical_features = []\n",
    "numeric_features = features\n",
    "\n",
    "preprocessor = ColumnTransformer(\n",
    "    transformers=[\n",
    "        ('num', 'passthrough', numeric_features),\n",
    "        ('cat', OneHotEncoder(), categorical_features)\n",
    "    ]\n",
    ")"
   ]
  },
  {
   "cell_type": "code",
   "execution_count": null,
   "metadata": {},
   "outputs": [],
   "source": [
    "# --- Split Data ---\n",
    "train, test = train_test_split(customer_data_transformed_df, test_size=0.3, random_state=101)\n",
    "\n",
    "# --- Define Models ---\n",
    "models = {\n",
    "    'Linear Discriminant Analysis': LinearDiscriminantAnalysis(),\n",
    "    'Logistic Regression': LogisticRegression(max_iter=1000, solver='liblinear'),\n",
    "    'Random Forest': RandomForestClassifier(n_estimators=100, random_state=101),\n",
    "    # 'XGBoost': XGBClassifier(use_label_encoder=False, eval_metric='mlogloss', random_state=101)\n",
    "}"
   ]
  },
  {
   "cell_type": "code",
   "execution_count": null,
   "metadata": {},
   "outputs": [],
   "source": [
    "accuracy_scores = {}\n",
    "\n",
    "# --- Train and Evaluate Models ---\n",
    "for model_name, model in models.items():\n",
    "    pipeline = Pipeline(steps=[\n",
    "        ('preprocessor', preprocessor),\n",
    "        ('classifier', model)\n",
    "    ])\n",
    "    \n",
    "    pipeline.fit(train[features], train[target])\n",
    "    test['pred_purchase'] = pipeline.predict(test[features])\n",
    "    \n",
    "    # Metrics\n",
    "    target_names = [str(name) for name in label_encoder.classes_]\n",
    "    conf_matrix = confusion_matrix(test[target], test['pred_purchase'])\n",
    "    accuracy = accuracy_score(test[target], test['pred_purchase'])\n",
    "    accuracy_scores[model_name] = accuracy\n",
    "\n",
    "    print(f\"\\nModel: {model_name}\")\n",
    "    print(\"Confusion Matrix:\\n\", conf_matrix)\n",
    "    print(\"Accuracy:\", accuracy)"
   ]
  },
  {
   "cell_type": "code",
   "execution_count": null,
   "metadata": {},
   "outputs": [],
   "source": [
    "# --- Select Best Model ---\n",
    "best_model_name = max(accuracy_scores, key=accuracy_scores.get)\n",
    "best_accuracy_score = accuracy_scores[best_model_name]\n",
    "best_model = models[best_model_name]\n",
    "\n",
    "print(f\"\\n✅ Best Model: {best_model_name} (Accuracy: {best_accuracy_score:.4f})\")\n",
    "\n",
    "# --- Retrain Best Model and Predict Probabilities ---\n",
    "best_model_pipeline = Pipeline(steps=[\n",
    "    ('preprocessor', preprocessor),\n",
    "    ('classifier', best_model)\n",
    "])\n",
    "best_model_pipeline.fit(train[features], train[target])"
   ]
  },
  {
   "cell_type": "code",
   "execution_count": null,
   "metadata": {},
   "outputs": [],
   "source": [
    "# Predictions\n",
    "predicted_outcome = best_model_pipeline.predict(test[features])\n",
    "predicted_prob = best_model_pipeline.predict_proba(test[features])[:, 1]\n",
    "\n",
    "# Add to test set\n",
    "test['pred_purchase'] = predicted_outcome\n",
    "test['pred_probability'] = predicted_prob"
   ]
  },
  {
   "cell_type": "code",
   "execution_count": null,
   "metadata": {},
   "outputs": [],
   "source": [
    "# Convert back to Polars DataFrame\n",
    "customer_test = pl.DataFrame(test)\n",
    "\n",
    "# View the first few rows\n",
    "print(customer_test.head())"
   ]
  },
  {
   "cell_type": "code",
   "execution_count": null,
   "metadata": {},
   "outputs": [],
   "source": []
  },
  {
   "cell_type": "code",
   "execution_count": null,
   "metadata": {},
   "outputs": [],
   "source": []
  },
  {
   "cell_type": "code",
   "execution_count": null,
   "metadata": {},
   "outputs": [],
   "source": []
  }
 ],
 "metadata": {
  "kernelspec": {
   "display_name": "Python 3",
   "language": "python",
   "name": "python3"
  },
  "language_info": {
   "codemirror_mode": {
    "name": "ipython",
    "version": 3
   },
   "file_extension": ".py",
   "mimetype": "text/x-python",
   "name": "python",
   "nbconvert_exporter": "python",
   "pygments_lexer": "ipython3",
   "version": "3.9.6"
  }
 },
 "nbformat": 4,
 "nbformat_minor": 2
}
